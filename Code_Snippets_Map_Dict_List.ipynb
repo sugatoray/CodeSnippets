{
  "nbformat": 4,
  "nbformat_minor": 0,
  "metadata": {
    "colab": {
      "name": "Code_Snippets_Map_Dict_List.ipynb",
      "version": "0.3.2",
      "provenance": [],
      "collapsed_sections": [],
      "include_colab_link": true
    },
    "kernelspec": {
      "name": "python3",
      "display_name": "Python 3"
    }
  },
  "cells": [
    {
      "cell_type": "markdown",
      "metadata": {
        "id": "view-in-github",
        "colab_type": "text"
      },
      "source": [
        "<a href=\"https://colab.research.google.com/github/sugatoray/CodeSnippets/blob/master/Code_Snippets_Map_Dict_List.ipynb\" target=\"_parent\"><img src=\"https://colab.research.google.com/assets/colab-badge.svg\" alt=\"Open In Colab\"/></a>"
      ]
    },
    {
      "cell_type": "code",
      "metadata": {
        "id": "4Vt1BPkgBDFX",
        "colab_type": "code",
        "colab": {}
      },
      "source": [
        "import numpy as np\n",
        "import pandas as pd\n",
        "import matplotlib.pyplot as plt\n",
        "\n",
        "from sklearn.model_selection import train_test_split\n",
        "from sklearn.model_selection import KFold # K-Fold validation\n",
        "\n",
        "# PCA related\n",
        "from sklearn.decomposition import PCA\n",
        "from sklearn.preprocessing import StandardScaler\n",
        "\n",
        "import os, time, json\n",
        "\n",
        "# progressbar\n",
        "from tqdm import tqdm, tqdm_notebook, tnrange\n",
        "\n",
        "%matplotlib inline\n",
        "%config InlineBackend.figure_format = 'svg' # 'svg', 'retina'\n",
        "plt.style.use('seaborn-white')"
      ],
      "execution_count": 0,
      "outputs": []
    },
    {
      "cell_type": "markdown",
      "metadata": {
        "id": "guAoIIuZBefa",
        "colab_type": "text"
      },
      "source": [
        "# Map"
      ]
    },
    {
      "cell_type": "code",
      "metadata": {
        "id": "O2Bqzv9OBbbV",
        "colab_type": "code",
        "colab": {
          "base_uri": "https://localhost:8080/",
          "height": 35
        },
        "outputId": "fd579193-b340-4305-82ee-d92f987f5e44"
      },
      "source": [
        "def pwr(x,n=2):\n",
        "    return x**n\n",
        "list(map(lambda x: pwr(x,n=2), [1,2,3,4,5]))"
      ],
      "execution_count": 2,
      "outputs": [
        {
          "output_type": "execute_result",
          "data": {
            "text/plain": [
              "[1, 4, 9, 16, 25]"
            ]
          },
          "metadata": {
            "tags": []
          },
          "execution_count": 2
        }
      ]
    },
    {
      "cell_type": "markdown",
      "metadata": {
        "id": "p_yzgCO3BoH1",
        "colab_type": "text"
      },
      "source": [
        "# Dict"
      ]
    },
    {
      "cell_type": "markdown",
      "metadata": {
        "id": "pvRx2tvBBrVi",
        "colab_type": "text"
      },
      "source": [
        "## Make a dict from two lists"
      ]
    },
    {
      "cell_type": "code",
      "metadata": {
        "id": "J2Vc5BN_BmAU",
        "colab_type": "code",
        "colab": {
          "base_uri": "https://localhost:8080/",
          "height": 35
        },
        "outputId": "3291c0b9-6c49-4c9f-b4d8-f7ddd9bc963c"
      },
      "source": [
        "keys = np.arange(8)\n",
        "values = np.arange(1,9)*50\n",
        "dict(zip(keys, values))"
      ],
      "execution_count": 3,
      "outputs": [
        {
          "output_type": "execute_result",
          "data": {
            "text/plain": [
              "{0: 50, 1: 100, 2: 150, 3: 200, 4: 250, 5: 300, 6: 350, 7: 400}"
            ]
          },
          "metadata": {
            "tags": []
          },
          "execution_count": 3
        }
      ]
    },
    {
      "cell_type": "code",
      "metadata": {
        "id": "VRs1GPrXBzGN",
        "colab_type": "code",
        "colab": {}
      },
      "source": [
        ""
      ],
      "execution_count": 0,
      "outputs": []
    }
  ]
}