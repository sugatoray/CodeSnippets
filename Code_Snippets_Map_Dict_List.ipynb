{
  "nbformat": 4,
  "nbformat_minor": 0,
  "metadata": {
    "colab": {
      "name": "Code_Snippets_Map_Dict_List.ipynb",
      "version": "0.3.2",
      "provenance": [],
      "collapsed_sections": [
        "0lc7-gdEKmXs",
        "m3YUJ9EGKq0u"
      ],
      "toc_visible": true,
      "include_colab_link": true
    },
    "kernelspec": {
      "name": "python3",
      "display_name": "Python 3"
    }
  },
  "cells": [
    {
      "cell_type": "markdown",
      "metadata": {
        "id": "view-in-github",
        "colab_type": "text"
      },
      "source": [
        "<a href=\"https://colab.research.google.com/github/sugatoray/CodeSnippets/blob/master/Code_Snippets_Map_Dict_List.ipynb\" target=\"_parent\"><img src=\"https://colab.research.google.com/assets/colab-badge.svg\" alt=\"Open In Colab\"/></a>"
      ]
    },
    {
      "cell_type": "code",
      "metadata": {
        "id": "4Vt1BPkgBDFX",
        "colab_type": "code",
        "colab": {}
      },
      "source": [
        "import numpy as np\n",
        "import pandas as pd\n",
        "import matplotlib.pyplot as plt\n",
        "\n",
        "from sklearn.model_selection import train_test_split\n",
        "from sklearn.model_selection import KFold # K-Fold validation\n",
        "\n",
        "# PCA related\n",
        "from sklearn.decomposition import PCA\n",
        "from sklearn.preprocessing import StandardScaler\n",
        "\n",
        "import os, time, json\n",
        "\n",
        "# progressbar\n",
        "from tqdm import tqdm, tqdm_notebook, tnrange\n",
        "\n",
        "%matplotlib inline\n",
        "%config InlineBackend.figure_format = 'svg' # 'svg', 'retina'\n",
        "plt.style.use('seaborn-white')"
      ],
      "execution_count": 0,
      "outputs": []
    },
    {
      "cell_type": "markdown",
      "metadata": {
        "id": "guAoIIuZBefa",
        "colab_type": "text"
      },
      "source": [
        "# Map"
      ]
    },
    {
      "cell_type": "code",
      "metadata": {
        "id": "O2Bqzv9OBbbV",
        "colab_type": "code",
        "colab": {
          "base_uri": "https://localhost:8080/",
          "height": 35
        },
        "outputId": "fd579193-b340-4305-82ee-d92f987f5e44"
      },
      "source": [
        "def pwr(x,n=2):\n",
        "    return x**n\n",
        "list(map(lambda x: pwr(x,n=2), [1,2,3,4,5]))"
      ],
      "execution_count": 2,
      "outputs": [
        {
          "output_type": "execute_result",
          "data": {
            "text/plain": [
              "[1, 4, 9, 16, 25]"
            ]
          },
          "metadata": {
            "tags": []
          },
          "execution_count": 2
        }
      ]
    },
    {
      "cell_type": "markdown",
      "metadata": {
        "id": "p_yzgCO3BoH1",
        "colab_type": "text"
      },
      "source": [
        "# Dict"
      ]
    },
    {
      "cell_type": "markdown",
      "metadata": {
        "id": "pvRx2tvBBrVi",
        "colab_type": "text"
      },
      "source": [
        "## Make a dict from two lists"
      ]
    },
    {
      "cell_type": "code",
      "metadata": {
        "id": "J2Vc5BN_BmAU",
        "colab_type": "code",
        "colab": {
          "base_uri": "https://localhost:8080/",
          "height": 35
        },
        "outputId": "3291c0b9-6c49-4c9f-b4d8-f7ddd9bc963c"
      },
      "source": [
        "keys = np.arange(8)\n",
        "values = np.arange(1,9)*50\n",
        "dict(zip(keys, values))"
      ],
      "execution_count": 3,
      "outputs": [
        {
          "output_type": "execute_result",
          "data": {
            "text/plain": [
              "{0: 50, 1: 100, 2: 150, 3: 200, 4: 250, 5: 300, 6: 350, 7: 400}"
            ]
          },
          "metadata": {
            "tags": []
          },
          "execution_count": 3
        }
      ]
    },
    {
      "cell_type": "markdown",
      "metadata": {
        "id": "52zo-GmypClD",
        "colab_type": "text"
      },
      "source": [
        "# Pandas"
      ]
    },
    {
      "cell_type": "markdown",
      "metadata": {
        "id": "ApBymx5GpHyV",
        "colab_type": "text"
      },
      "source": [
        "## DataFrame Methods"
      ]
    },
    {
      "cell_type": "code",
      "metadata": {
        "id": "VRs1GPrXBzGN",
        "colab_type": "code",
        "colab": {}
      },
      "source": [
        "x = np.arange(100)**2\n",
        "df = pd.DataFrame(x)"
      ],
      "execution_count": 0,
      "outputs": []
    },
    {
      "cell_type": "markdown",
      "metadata": {
        "id": "yNYf1CrXqFMK",
        "colab_type": "text"
      },
      "source": [
        "### DataFrame.head()\n",
        "\n",
        "This shows top 5 rows of the dataframe. If you would like to see top 10 rows, do the following:  \n",
        "```python\n",
        "df.head(10)\n",
        "```"
      ]
    },
    {
      "cell_type": "markdown",
      "metadata": {
        "id": "2ks4nuUupmTK",
        "colab_type": "text"
      },
      "source": [
        "### DataFrame.describe()\n",
        "\n",
        "This generates a descriptive statistics output of the dataframe."
      ]
    },
    {
      "cell_type": "code",
      "metadata": {
        "id": "HlAde-eVpYZ2",
        "colab_type": "code",
        "colab": {}
      },
      "source": [
        "df.describe()"
      ],
      "execution_count": 0,
      "outputs": []
    },
    {
      "cell_type": "markdown",
      "metadata": {
        "id": "dTz4QjSkqc1f",
        "colab_type": "text"
      },
      "source": [
        "### DataFrame.stack() and .unstack()\n",
        "\n",
        "These methods stack and unstack a dataframe as shown below."
      ]
    },
    {
      "cell_type": "markdown",
      "metadata": {
        "id": "6uvtaCMDqqfL",
        "colab_type": "text"
      },
      "source": [
        "#### `stack()`"
      ]
    },
    {
      "cell_type": "markdown",
      "metadata": {
        "id": "hcd0M7fcqtiC",
        "colab_type": "text"
      },
      "source": [
        "#### `unstack()`"
      ]
    },
    {
      "cell_type": "markdown",
      "metadata": {
        "id": "0lc7-gdEKmXs",
        "colab_type": "text"
      },
      "source": [
        "#### `crosstab()`"
      ]
    },
    {
      "cell_type": "markdown",
      "metadata": {
        "id": "L5THqQtiLmMh",
        "colab_type": "text"
      },
      "source": [
        "Create dataframe for crosstab."
      ]
    },
    {
      "cell_type": "code",
      "metadata": {
        "id": "qH6XWhRJqpSH",
        "colab_type": "code",
        "colab": {
          "base_uri": "https://localhost:8080/",
          "height": 480
        },
        "outputId": "8677c9a2-2100-4591-f6a6-efe691fc7285"
      },
      "source": [
        "def _create_df():\n",
        "    \"\"\"\n",
        "    This dataframe will be used to create a crosstab\n",
        "    \"\"\"\n",
        "    B = np.array(list('abracadabra'))\n",
        "    A = np.arange(len(B))\n",
        "    AB = list()\n",
        "    for i in range(20):\n",
        "        a = np.random.randint(1,10)\n",
        "        b = np.random.randint(1,10)\n",
        "        AB += [(a,b)]\n",
        "    AB = np.unique(np.array(AB), axis=0)\n",
        "    AB = np.unique(np.array(list(zip(A[AB[:,0]], B[AB[:,1]]))), axis=0)\n",
        "    AB_df = pd.DataFrame({'ID': AB[:,0], 'Label': AB[:,1]})\n",
        "    return AB_df\n",
        "\n",
        "AB_df = _create_df()\n",
        "AB_df"
      ],
      "execution_count": 147,
      "outputs": [
        {
          "output_type": "execute_result",
          "data": {
            "text/html": [
              "<div>\n",
              "<style scoped>\n",
              "    .dataframe tbody tr th:only-of-type {\n",
              "        vertical-align: middle;\n",
              "    }\n",
              "\n",
              "    .dataframe tbody tr th {\n",
              "        vertical-align: top;\n",
              "    }\n",
              "\n",
              "    .dataframe thead th {\n",
              "        text-align: right;\n",
              "    }\n",
              "</style>\n",
              "<table border=\"1\" class=\"dataframe\">\n",
              "  <thead>\n",
              "    <tr style=\"text-align: right;\">\n",
              "      <th></th>\n",
              "      <th>ID</th>\n",
              "      <th>Label</th>\n",
              "    </tr>\n",
              "  </thead>\n",
              "  <tbody>\n",
              "    <tr>\n",
              "      <th>0</th>\n",
              "      <td>1</td>\n",
              "      <td>b</td>\n",
              "    </tr>\n",
              "    <tr>\n",
              "      <th>1</th>\n",
              "      <td>2</td>\n",
              "      <td>a</td>\n",
              "    </tr>\n",
              "    <tr>\n",
              "      <th>2</th>\n",
              "      <td>2</td>\n",
              "      <td>b</td>\n",
              "    </tr>\n",
              "    <tr>\n",
              "      <th>3</th>\n",
              "      <td>2</td>\n",
              "      <td>d</td>\n",
              "    </tr>\n",
              "    <tr>\n",
              "      <th>4</th>\n",
              "      <td>2</td>\n",
              "      <td>r</td>\n",
              "    </tr>\n",
              "    <tr>\n",
              "      <th>5</th>\n",
              "      <td>3</td>\n",
              "      <td>a</td>\n",
              "    </tr>\n",
              "    <tr>\n",
              "      <th>6</th>\n",
              "      <td>3</td>\n",
              "      <td>r</td>\n",
              "    </tr>\n",
              "    <tr>\n",
              "      <th>7</th>\n",
              "      <td>4</td>\n",
              "      <td>a</td>\n",
              "    </tr>\n",
              "    <tr>\n",
              "      <th>8</th>\n",
              "      <td>4</td>\n",
              "      <td>d</td>\n",
              "    </tr>\n",
              "    <tr>\n",
              "      <th>9</th>\n",
              "      <td>6</td>\n",
              "      <td>a</td>\n",
              "    </tr>\n",
              "    <tr>\n",
              "      <th>10</th>\n",
              "      <td>7</td>\n",
              "      <td>c</td>\n",
              "    </tr>\n",
              "    <tr>\n",
              "      <th>11</th>\n",
              "      <td>8</td>\n",
              "      <td>a</td>\n",
              "    </tr>\n",
              "    <tr>\n",
              "      <th>12</th>\n",
              "      <td>8</td>\n",
              "      <td>c</td>\n",
              "    </tr>\n",
              "    <tr>\n",
              "      <th>13</th>\n",
              "      <td>9</td>\n",
              "      <td>b</td>\n",
              "    </tr>\n",
              "  </tbody>\n",
              "</table>\n",
              "</div>"
            ],
            "text/plain": [
              "   ID Label\n",
              "0   1     b\n",
              "1   2     a\n",
              "2   2     b\n",
              "3   2     d\n",
              "4   2     r\n",
              "5   3     a\n",
              "6   3     r\n",
              "7   4     a\n",
              "8   4     d\n",
              "9   6     a\n",
              "10  7     c\n",
              "11  8     a\n",
              "12  8     c\n",
              "13  9     b"
            ]
          },
          "metadata": {
            "tags": []
          },
          "execution_count": 147
        }
      ]
    },
    {
      "cell_type": "markdown",
      "metadata": {
        "id": "ABNc_wJLLr0D",
        "colab_type": "text"
      },
      "source": [
        "Make a crosstab."
      ]
    },
    {
      "cell_type": "code",
      "metadata": {
        "id": "a0UEDiGU2iL0",
        "colab_type": "code",
        "colab": {
          "base_uri": "https://localhost:8080/",
          "height": 326
        },
        "outputId": "e2ebcb6c-789f-4825-836a-44e0f8149b07"
      },
      "source": [
        "AB_crosstab = pd.crosstab(AB_df['ID'], AB_df['Label']).reindex()\n",
        "AB_crosstab"
      ],
      "execution_count": 148,
      "outputs": [
        {
          "output_type": "execute_result",
          "data": {
            "text/html": [
              "<div>\n",
              "<style scoped>\n",
              "    .dataframe tbody tr th:only-of-type {\n",
              "        vertical-align: middle;\n",
              "    }\n",
              "\n",
              "    .dataframe tbody tr th {\n",
              "        vertical-align: top;\n",
              "    }\n",
              "\n",
              "    .dataframe thead th {\n",
              "        text-align: right;\n",
              "    }\n",
              "</style>\n",
              "<table border=\"1\" class=\"dataframe\">\n",
              "  <thead>\n",
              "    <tr style=\"text-align: right;\">\n",
              "      <th>Label</th>\n",
              "      <th>a</th>\n",
              "      <th>b</th>\n",
              "      <th>c</th>\n",
              "      <th>d</th>\n",
              "      <th>r</th>\n",
              "    </tr>\n",
              "    <tr>\n",
              "      <th>ID</th>\n",
              "      <th></th>\n",
              "      <th></th>\n",
              "      <th></th>\n",
              "      <th></th>\n",
              "      <th></th>\n",
              "    </tr>\n",
              "  </thead>\n",
              "  <tbody>\n",
              "    <tr>\n",
              "      <th>1</th>\n",
              "      <td>0</td>\n",
              "      <td>1</td>\n",
              "      <td>0</td>\n",
              "      <td>0</td>\n",
              "      <td>0</td>\n",
              "    </tr>\n",
              "    <tr>\n",
              "      <th>2</th>\n",
              "      <td>1</td>\n",
              "      <td>1</td>\n",
              "      <td>0</td>\n",
              "      <td>1</td>\n",
              "      <td>1</td>\n",
              "    </tr>\n",
              "    <tr>\n",
              "      <th>3</th>\n",
              "      <td>1</td>\n",
              "      <td>0</td>\n",
              "      <td>0</td>\n",
              "      <td>0</td>\n",
              "      <td>1</td>\n",
              "    </tr>\n",
              "    <tr>\n",
              "      <th>4</th>\n",
              "      <td>1</td>\n",
              "      <td>0</td>\n",
              "      <td>0</td>\n",
              "      <td>1</td>\n",
              "      <td>0</td>\n",
              "    </tr>\n",
              "    <tr>\n",
              "      <th>6</th>\n",
              "      <td>1</td>\n",
              "      <td>0</td>\n",
              "      <td>0</td>\n",
              "      <td>0</td>\n",
              "      <td>0</td>\n",
              "    </tr>\n",
              "    <tr>\n",
              "      <th>7</th>\n",
              "      <td>0</td>\n",
              "      <td>0</td>\n",
              "      <td>1</td>\n",
              "      <td>0</td>\n",
              "      <td>0</td>\n",
              "    </tr>\n",
              "    <tr>\n",
              "      <th>8</th>\n",
              "      <td>1</td>\n",
              "      <td>0</td>\n",
              "      <td>1</td>\n",
              "      <td>0</td>\n",
              "      <td>0</td>\n",
              "    </tr>\n",
              "    <tr>\n",
              "      <th>9</th>\n",
              "      <td>0</td>\n",
              "      <td>1</td>\n",
              "      <td>0</td>\n",
              "      <td>0</td>\n",
              "      <td>0</td>\n",
              "    </tr>\n",
              "  </tbody>\n",
              "</table>\n",
              "</div>"
            ],
            "text/plain": [
              "Label  a  b  c  d  r\n",
              "ID                  \n",
              "1      0  1  0  0  0\n",
              "2      1  1  0  1  1\n",
              "3      1  0  0  0  1\n",
              "4      1  0  0  1  0\n",
              "6      1  0  0  0  0\n",
              "7      0  0  1  0  0\n",
              "8      1  0  1  0  0\n",
              "9      0  1  0  0  0"
            ]
          },
          "metadata": {
            "tags": []
          },
          "execution_count": 148
        }
      ]
    },
    {
      "cell_type": "markdown",
      "metadata": {
        "id": "m3YUJ9EGKq0u",
        "colab_type": "text"
      },
      "source": [
        "##### Inversion of Crosstab: Retreive Original DataFrame\n",
        "\n",
        "Retrieve original dataframe from the crosstab."
      ]
    },
    {
      "cell_type": "code",
      "metadata": {
        "id": "-BiGwHGiEgwT",
        "colab_type": "code",
        "colab": {
          "base_uri": "https://localhost:8080/",
          "height": 480
        },
        "outputId": "c376f22b-4069-4276-c78d-9beae2dc8f23"
      },
      "source": [
        "def invert_crosstab(crosstab_df, asDataFrame = True):\n",
        "    row_labels = crosstab_df.index\n",
        "    column_labels = crosstab_df.columns\n",
        "    crosstab_array = crosstab_df.to_numpy()\n",
        "    accumulator = list()\n",
        "    for i, row_label in enumerate(row_labels):\n",
        "        row_array = crosstab_array[i,:]\n",
        "        for column_label in column_labels[row_array.astype(bool)]:\n",
        "            accumulator.append((row_label, column_label))    \n",
        "\n",
        "    accumulator = np.array(accumulator)\n",
        "    accumulator_df = pd.DataFrame(accumulator, columns = [row_labels.name, column_labels.name])\n",
        "    if asDataFrame:\n",
        "        return accumulator_df\n",
        "    else:\n",
        "        return accumulator\n",
        "    \n",
        "accumulator_df = invert_crosstab(crosstab_df = AB_crosstab, asDataFrame = True)\n",
        "accumulator_df"
      ],
      "execution_count": 149,
      "outputs": [
        {
          "output_type": "execute_result",
          "data": {
            "text/html": [
              "<div>\n",
              "<style scoped>\n",
              "    .dataframe tbody tr th:only-of-type {\n",
              "        vertical-align: middle;\n",
              "    }\n",
              "\n",
              "    .dataframe tbody tr th {\n",
              "        vertical-align: top;\n",
              "    }\n",
              "\n",
              "    .dataframe thead th {\n",
              "        text-align: right;\n",
              "    }\n",
              "</style>\n",
              "<table border=\"1\" class=\"dataframe\">\n",
              "  <thead>\n",
              "    <tr style=\"text-align: right;\">\n",
              "      <th></th>\n",
              "      <th>ID</th>\n",
              "      <th>Label</th>\n",
              "    </tr>\n",
              "  </thead>\n",
              "  <tbody>\n",
              "    <tr>\n",
              "      <th>0</th>\n",
              "      <td>1</td>\n",
              "      <td>b</td>\n",
              "    </tr>\n",
              "    <tr>\n",
              "      <th>1</th>\n",
              "      <td>2</td>\n",
              "      <td>a</td>\n",
              "    </tr>\n",
              "    <tr>\n",
              "      <th>2</th>\n",
              "      <td>2</td>\n",
              "      <td>b</td>\n",
              "    </tr>\n",
              "    <tr>\n",
              "      <th>3</th>\n",
              "      <td>2</td>\n",
              "      <td>d</td>\n",
              "    </tr>\n",
              "    <tr>\n",
              "      <th>4</th>\n",
              "      <td>2</td>\n",
              "      <td>r</td>\n",
              "    </tr>\n",
              "    <tr>\n",
              "      <th>5</th>\n",
              "      <td>3</td>\n",
              "      <td>a</td>\n",
              "    </tr>\n",
              "    <tr>\n",
              "      <th>6</th>\n",
              "      <td>3</td>\n",
              "      <td>r</td>\n",
              "    </tr>\n",
              "    <tr>\n",
              "      <th>7</th>\n",
              "      <td>4</td>\n",
              "      <td>a</td>\n",
              "    </tr>\n",
              "    <tr>\n",
              "      <th>8</th>\n",
              "      <td>4</td>\n",
              "      <td>d</td>\n",
              "    </tr>\n",
              "    <tr>\n",
              "      <th>9</th>\n",
              "      <td>6</td>\n",
              "      <td>a</td>\n",
              "    </tr>\n",
              "    <tr>\n",
              "      <th>10</th>\n",
              "      <td>7</td>\n",
              "      <td>c</td>\n",
              "    </tr>\n",
              "    <tr>\n",
              "      <th>11</th>\n",
              "      <td>8</td>\n",
              "      <td>a</td>\n",
              "    </tr>\n",
              "    <tr>\n",
              "      <th>12</th>\n",
              "      <td>8</td>\n",
              "      <td>c</td>\n",
              "    </tr>\n",
              "    <tr>\n",
              "      <th>13</th>\n",
              "      <td>9</td>\n",
              "      <td>b</td>\n",
              "    </tr>\n",
              "  </tbody>\n",
              "</table>\n",
              "</div>"
            ],
            "text/plain": [
              "   ID Label\n",
              "0   1     b\n",
              "1   2     a\n",
              "2   2     b\n",
              "3   2     d\n",
              "4   2     r\n",
              "5   3     a\n",
              "6   3     r\n",
              "7   4     a\n",
              "8   4     d\n",
              "9   6     a\n",
              "10  7     c\n",
              "11  8     a\n",
              "12  8     c\n",
              "13  9     b"
            ]
          },
          "metadata": {
            "tags": []
          },
          "execution_count": 149
        }
      ]
    },
    {
      "cell_type": "markdown",
      "metadata": {
        "id": "jjwAOoTaL8bb",
        "colab_type": "text"
      },
      "source": [
        "Assert if **retrieved** == **original**."
      ]
    },
    {
      "cell_type": "code",
      "metadata": {
        "id": "UfA1slwnMFKV",
        "colab_type": "code",
        "colab": {
          "base_uri": "https://localhost:8080/",
          "height": 35
        },
        "outputId": "e6d972e2-5ae4-4b18-ae0d-bc9f8059a943"
      },
      "source": [
        "np.alltrue(AB_df == accumulator_df)"
      ],
      "execution_count": 153,
      "outputs": [
        {
          "output_type": "execute_result",
          "data": {
            "text/plain": [
              "True"
            ]
          },
          "metadata": {
            "tags": []
          },
          "execution_count": 153
        }
      ]
    },
    {
      "cell_type": "markdown",
      "metadata": {
        "id": "YVGg2msh7WxA",
        "colab_type": "text"
      },
      "source": [
        "# Other Stuff"
      ]
    },
    {
      "cell_type": "code",
      "metadata": {
        "id": "15aSQaUeNLII",
        "colab_type": "code",
        "colab": {}
      },
      "source": [
        ""
      ],
      "execution_count": 0,
      "outputs": []
    }
  ]
}