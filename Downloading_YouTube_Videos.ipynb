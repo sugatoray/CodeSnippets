{
  "nbformat": 4,
  "nbformat_minor": 0,
  "metadata": {
    "colab": {
      "name": "Downloading_YouTube_Videos.ipynb",
      "provenance": [],
      "collapsed_sections": [
        "xrmOG0skICR5"
      ],
      "toc_visible": true,
      "include_colab_link": true
    },
    "kernelspec": {
      "name": "python3",
      "display_name": "Python 3"
    }
  },
  "cells": [
    {
      "cell_type": "markdown",
      "metadata": {
        "id": "view-in-github",
        "colab_type": "text"
      },
      "source": [
        "<a href=\"https://colab.research.google.com/github/sugatoray/CodeSnippets/blob/master/Downloading_YouTube_Videos.ipynb\" target=\"_parent\"><img src=\"https://colab.research.google.com/assets/colab-badge.svg\" alt=\"Open In Colab\"/></a>"
      ]
    },
    {
      "cell_type": "markdown",
      "metadata": {
        "id": "0q2_q54ZHP9f",
        "colab_type": "text"
      },
      "source": [
        "# Downloading YouTube Videos\n",
        "\n",
        "We will use [`pytube`]() library for downloading YouTube videos. \n",
        "\n",
        "+ [GitHub](https://github.com/nficano/pytube)\n",
        "+ [Readthedocs](https://python-pytube.readthedocs.io/en/latest/)"
      ]
    },
    {
      "cell_type": "markdown",
      "metadata": {
        "id": "0pV1GfrgIQel",
        "colab_type": "text"
      },
      "source": [
        "## Examples:\n",
        "1. List all `'.mp4'` videos.\n",
        "```python\n",
        "from pytube import YouTube, Playlist\n",
        "yt = YouTube('https://www.youtube.com/watch?v=TGfLBtB44Hw')\n",
        "videos_list = yt.streams.filter(subtype='mp4', progressive=True).all()\n",
        "```"
      ]
    },
    {
      "cell_type": "markdown",
      "metadata": {
        "id": "5iO1TG4SIbm9",
        "colab_type": "text"
      },
      "source": [
        "### Downloading a Video\n",
        "\n",
        "```python\n",
        "from pytube import YouTube\n",
        "yt = YouTube('https://www.youtube.com/watch?v=TGfLBtB44Hw')\n",
        "```"
      ]
    },
    {
      "cell_type": "markdown",
      "metadata": {
        "id": "NCS6p1daIdHF",
        "colab_type": "text"
      },
      "source": [
        "### Downloading a List of Videos from A YouTube Playlist\n",
        "\n",
        "```python\n",
        "from pytube import YouTube, Playlist\n",
        "\n",
        "pl = Playlist(\"https://www.youtube.com/watch?v=Edpy1szoG80&list=PL153hDY-y1E00uQtCVCVC8xJ25TYX8yPU\")\n",
        "# download to current working directory\n",
        "pl.download_all()\n",
        "# or if you want to download in a specific directory\n",
        "pl.download_all('/path/to/directory/')\n",
        "\n",
        "```"
      ]
    },
    {
      "cell_type": "markdown",
      "metadata": {
        "id": "xrmOG0skICR5",
        "colab_type": "text"
      },
      "source": [
        "# Installation"
      ]
    },
    {
      "cell_type": "code",
      "metadata": {
        "id": "1QLCo_unHsBD",
        "colab_type": "code",
        "colab": {
          "base_uri": "https://localhost:8080/",
          "height": 107
        },
        "outputId": "d1f0d395-1804-4468-892a-c718ed37388a"
      },
      "source": [
        "!pip install pytube"
      ],
      "execution_count": 1,
      "outputs": [
        {
          "output_type": "stream",
          "text": [
            "Collecting pytube\n",
            "  Downloading https://files.pythonhosted.org/packages/1b/ba/9ef6d885d48e7a4305772471f41dc74cae080487e99aa617f27ec9e4f3d7/pytube-9.5.2-py3-none-any.whl\n",
            "Installing collected packages: pytube\n",
            "Successfully installed pytube-9.5.2\n"
          ],
          "name": "stdout"
        }
      ]
    },
    {
      "cell_type": "markdown",
      "metadata": {
        "id": "BHLkOPZsIFaZ",
        "colab_type": "text"
      },
      "source": [
        "# Querying at Command Line"
      ]
    },
    {
      "cell_type": "code",
      "metadata": {
        "id": "1X1GsVOOHKvf",
        "colab_type": "code",
        "colab": {
          "base_uri": "https://localhost:8080/",
          "height": 404
        },
        "outputId": "baccbd0e-62f2-4e81-88df-d05c6493f607"
      },
      "source": [
        "!pytube http://youtube.com/watch?v=9bZkp7q19f0 --list"
      ],
      "execution_count": 3,
      "outputs": [
        {
          "output_type": "stream",
          "text": [
            "<Stream: itag=\"18\" mime_type=\"video/mp4\" res=\"360p\" fps=\"30fps\" vcodec=\"avc1.42001E\" acodec=\"mp4a.40.2\">\n",
            "<Stream: itag=\"137\" mime_type=\"video/mp4\" res=\"1080p\" fps=\"30fps\" vcodec=\"avc1.640028\">\n",
            "<Stream: itag=\"248\" mime_type=\"video/webm\" res=\"1080p\" fps=\"30fps\" vcodec=\"vp9\">\n",
            "<Stream: itag=\"136\" mime_type=\"video/mp4\" res=\"720p\" fps=\"30fps\" vcodec=\"avc1.4d401f\">\n",
            "<Stream: itag=\"247\" mime_type=\"video/webm\" res=\"720p\" fps=\"30fps\" vcodec=\"vp9\">\n",
            "<Stream: itag=\"398\" mime_type=\"video/mp4\" res=\"None\" fps=\"30fps\" vcodec=\"av01.0.05M.08\">\n",
            "<Stream: itag=\"135\" mime_type=\"video/mp4\" res=\"480p\" fps=\"30fps\" vcodec=\"avc1.4d401e\">\n",
            "<Stream: itag=\"244\" mime_type=\"video/webm\" res=\"480p\" fps=\"30fps\" vcodec=\"vp9\">\n",
            "<Stream: itag=\"397\" mime_type=\"video/mp4\" res=\"None\" fps=\"30fps\" vcodec=\"av01.0.04M.08\">\n",
            "<Stream: itag=\"134\" mime_type=\"video/mp4\" res=\"360p\" fps=\"30fps\" vcodec=\"avc1.4d401e\">\n",
            "<Stream: itag=\"243\" mime_type=\"video/webm\" res=\"360p\" fps=\"30fps\" vcodec=\"vp9\">\n",
            "<Stream: itag=\"396\" mime_type=\"video/mp4\" res=\"None\" fps=\"30fps\" vcodec=\"av01.0.01M.08\">\n",
            "<Stream: itag=\"133\" mime_type=\"video/mp4\" res=\"240p\" fps=\"30fps\" vcodec=\"avc1.4d4015\">\n",
            "<Stream: itag=\"242\" mime_type=\"video/webm\" res=\"240p\" fps=\"30fps\" vcodec=\"vp9\">\n",
            "<Stream: itag=\"395\" mime_type=\"video/mp4\" res=\"None\" fps=\"30fps\" vcodec=\"av01.0.00M.08\">\n",
            "<Stream: itag=\"160\" mime_type=\"video/mp4\" res=\"144p\" fps=\"30fps\" vcodec=\"avc1.4d400c\">\n",
            "<Stream: itag=\"278\" mime_type=\"video/webm\" res=\"144p\" fps=\"30fps\" vcodec=\"vp9\">\n",
            "<Stream: itag=\"394\" mime_type=\"video/mp4\" res=\"None\" fps=\"30fps\" vcodec=\"av01.0.00M.08\">\n",
            "<Stream: itag=\"140\" mime_type=\"audio/mp4\" abr=\"128kbps\" acodec=\"mp4a.40.2\">\n",
            "<Stream: itag=\"249\" mime_type=\"audio/webm\" abr=\"50kbps\" acodec=\"opus\">\n",
            "<Stream: itag=\"250\" mime_type=\"audio/webm\" abr=\"70kbps\" acodec=\"opus\">\n",
            "<Stream: itag=\"251\" mime_type=\"audio/webm\" abr=\"160kbps\" acodec=\"opus\">\n"
          ],
          "name": "stdout"
        }
      ]
    },
    {
      "cell_type": "markdown",
      "metadata": {
        "id": "LjlGERcaRGOk",
        "colab_type": "text"
      },
      "source": [
        "# Custom Functions\n",
        "\n",
        "+ `get_timestamp()`"
      ]
    },
    {
      "cell_type": "code",
      "metadata": {
        "id": "Z0c49NrRMs-V",
        "colab_type": "code",
        "colab": {},
        "cellView": "form"
      },
      "source": [
        "#@title Run this cell for custom function(s)\n",
        "import os, datetime\n",
        "\n",
        "def get_timestamp(out_type = None):\n",
        "    \"\"\"\n",
        "    out_type = 'date', 'timestamp_short', 'timestamp_long', None (default)\n",
        "    'date': YYYY-MM-DD\n",
        "    'timestamp_short': YYYY-MM-DD_hh:mm:ss\n",
        "    'timestamp_long': YYYY-MM-DD_hh:mm:ss.fff\n",
        "    None: YYYY-MM-DD hh:mm:ss.fff (as-is)\n",
        "    \"\"\"\n",
        "    t = datetime.datetime.now()\n",
        "    ts = str(t)\n",
        "    if out_type is not None:\n",
        "        if out_type=='date':\n",
        "            ts = ts.split(' ')[0]\n",
        "        elif out_type.startswith('timestamp'):\n",
        "            ts = ts.replace(':','-').replace(' ', '_')\n",
        "            if out_type=='timestamp_short':\n",
        "                ts = ts.split('.')[0]\n",
        "    \n",
        "    return (ts, t)\n",
        "\n",
        "#downloads_date, _ =get_timestamp(out_type = 'date')"
      ],
      "execution_count": 0,
      "outputs": []
    },
    {
      "cell_type": "markdown",
      "metadata": {
        "id": "a92GWkVFRipX",
        "colab_type": "text"
      },
      "source": [
        "# Downloads Date\n",
        "We get the current date as follows:  \n",
        "```python\n",
        "downloads_date, _ = get_timestamp(out_type = 'date')\n",
        "```"
      ]
    },
    {
      "cell_type": "code",
      "metadata": {
        "id": "d5fP8sLKQY-8",
        "colab_type": "code",
        "colab": {
          "base_uri": "https://localhost:8080/",
          "height": 35
        },
        "outputId": "e9dc6341-d0b0-4a00-e4da-da733ca705d1"
      },
      "source": [
        "downloads_date, _ = get_timestamp(out_type = 'date')\n",
        "print(downloads_date)"
      ],
      "execution_count": 31,
      "outputs": [
        {
          "output_type": "stream",
          "text": [
            "2019-10-18\n"
          ],
          "name": "stdout"
        }
      ]
    },
    {
      "cell_type": "markdown",
      "metadata": {
        "id": "X7dpgODGRqT_",
        "colab_type": "text"
      },
      "source": [
        "# Downloads Path\n",
        "We set the downloads directory format as follows:  \n",
        "```python\n",
        "#downloads_path = './current_working_dir/YouTubeDownloads/YYYY-MM-DD/'\n",
        "downloads_path = os.path.join(os.getcwd(), 'YouTubeDownloads', downloads_date)\n",
        "```"
      ]
    },
    {
      "cell_type": "code",
      "metadata": {
        "id": "jTP8wxbsMRy7",
        "colab_type": "code",
        "colab": {}
      },
      "source": [
        "downloads_path = os.path.join(os.getcwd(), 'YouTubeDownloads', downloads_date)\n",
        "if not os.path.exists(downloads_path):\n",
        "    os.makedirs(downloads_path)"
      ],
      "execution_count": 0,
      "outputs": []
    },
    {
      "cell_type": "markdown",
      "metadata": {
        "id": "8PILXDYxKIGA",
        "colab_type": "text"
      },
      "source": [
        "# Downloading a Single Video"
      ]
    },
    {
      "cell_type": "code",
      "metadata": {
        "id": "xA9Q0zpGLVKW",
        "colab_type": "code",
        "colab": {
          "base_uri": "https://localhost:8080/",
          "height": 35
        },
        "outputId": "708aae5f-8d02-42f6-dd4d-87222faf976d"
      },
      "source": [
        "from pytube import YouTube, Playlist\n",
        "\n",
        "yt = YouTube(\"https://www.youtube.com/watch?v=TGfLBtB44Hw\")\n",
        "\n",
        "videos_list = yt.streams.filter(subtype='mp4', progressive=True).order_by('resolution').desc().all()\n",
        "print(videos_list)\n",
        "\n",
        "# Pick the first result from the list (highest resolution video)\n",
        "v = videos_list[0]"
      ],
      "execution_count": 32,
      "outputs": [
        {
          "output_type": "stream",
          "text": [
            "[<Stream: itag=\"18\" mime_type=\"video/mp4\" res=\"360p\" fps=\"30fps\" vcodec=\"avc1.42001E\" acodec=\"mp4a.40.2\">]\n"
          ],
          "name": "stdout"
        }
      ]
    },
    {
      "cell_type": "markdown",
      "metadata": {
        "id": "tpBbeCtqSkHq",
        "colab_type": "text"
      },
      "source": [
        "## Initiate Downloading"
      ]
    },
    {
      "cell_type": "code",
      "metadata": {
        "id": "3ntL5SwnMCeW",
        "colab_type": "code",
        "colab": {}
      },
      "source": [
        "v.download(downloads_path)"
      ],
      "execution_count": 0,
      "outputs": []
    },
    {
      "cell_type": "code",
      "metadata": {
        "id": "Ue6kybqEQw9f",
        "colab_type": "code",
        "colab": {}
      },
      "source": [
        ""
      ],
      "execution_count": 0,
      "outputs": []
    }
  ]
}