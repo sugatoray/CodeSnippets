{
  "nbformat": 4,
  "nbformat_minor": 0,
  "metadata": {
    "colab": {
      "name": "Generating_Random_Numbers_with_Numpy.ipynb",
      "version": "0.3.2",
      "provenance": [],
      "collapsed_sections": [],
      "toc_visible": true,
      "include_colab_link": true
    },
    "kernelspec": {
      "name": "python3",
      "display_name": "Python 3"
    }
  },
  "cells": [
    {
      "cell_type": "markdown",
      "metadata": {
        "id": "view-in-github",
        "colab_type": "text"
      },
      "source": [
        "<a href=\"https://colab.research.google.com/github/sugatoray/CodeSnippets/blob/master/Generating_Random_Numbers_with_Numpy.ipynb\" target=\"_parent\"><img src=\"https://colab.research.google.com/assets/colab-badge.svg\" alt=\"Open In Colab\"/></a>"
      ]
    },
    {
      "metadata": {
        "id": "nucsgZ18AKul",
        "colab_type": "text"
      },
      "cell_type": "markdown",
      "source": [
        "# Mounting GDrive in Colab VM:\n",
        "\n",
        "See [External data: Drive, Sheets, and Cloud Storage](https://colab.research.google.com/notebooks/io.ipynb#scrollTo=RWSJpsyKqHjH) for more details."
      ]
    },
    {
      "metadata": {
        "id": "jCHQu_MdAjup",
        "colab_type": "text"
      },
      "cell_type": "markdown",
      "source": [
        "## Loading Files from GDrive\n",
        "\n"
      ]
    },
    {
      "metadata": {
        "id": "SZ57En6jAKXN",
        "colab_type": "code",
        "outputId": "b9225e35-1853-4b8b-e73c-6c832c50322d",
        "colab": {
          "base_uri": "https://localhost:8080/",
          "height": 125
        }
      },
      "cell_type": "code",
      "source": [
        "if not os.path.exists('/content/gdrive'):\n",
        "  print(\"Mounting GDrive on Colab VM...\\n\")\n",
        "  from google.colab import drive\n",
        "  drive.mount('/content/gdrive')\n",
        "else:\n",
        "  print(\"GDrive already mounted on Colab VM.\")"
      ],
      "execution_count": 0,
      "outputs": [
        {
          "output_type": "stream",
          "text": [
            "Go to this URL in a browser: https://accounts.google.com/o/oauth2/auth?client_id=947318989803-6bn6qk8qdgf4n4g3pfee6491hc0brc4i.apps.googleusercontent.com&redirect_uri=urn%3Aietf%3Awg%3Aoauth%3A2.0%3Aoob&scope=email%20https%3A%2F%2Fwww.googleapis.com%2Fauth%2Fdocs.test%20https%3A%2F%2Fwww.googleapis.com%2Fauth%2Fdrive%20https%3A%2F%2Fwww.googleapis.com%2Fauth%2Fdrive.photos.readonly%20https%3A%2F%2Fwww.googleapis.com%2Fauth%2Fpeopleapi.readonly&response_type=code\n",
            "\n",
            "Enter your authorization code:\n",
            "··········\n",
            "Mounted at /content/gdrive\n"
          ],
          "name": "stdout"
        }
      ]
    },
    {
      "metadata": {
        "id": "0iU3mFrJAEKA",
        "colab_type": "code",
        "colab": {}
      },
      "cell_type": "code",
      "source": [
        ""
      ],
      "execution_count": 0,
      "outputs": []
    },
    {
      "metadata": {
        "id": "s5E6ymV4CMlN",
        "colab_type": "text"
      },
      "cell_type": "markdown",
      "source": [
        "# Import Numpy and Generate Random Numbers\n",
        "\n",
        "Random numbers (or, pseudo random numbers) are generated using random number generators (RNG). RNGs could of various types, such as:  \n",
        "+ Uniform Distribution\n",
        "+ Normal Distribution\n",
        "+ Binomial Distribution\n",
        "+ Poissson Distribution, to name a few.\n",
        "\n",
        "You could generate: \n",
        "+ integers\n",
        "+ real numbers\n",
        "\n",
        "Also, you could specify the minimum and maximum values of all the generated random numbers (for integers). For further details on random numbers see Wikipedia articles:  \n",
        "+ https://en.wikipedia.org/wiki/Random_number_generation\n",
        "+ https://en.wikipedia.org/wiki/List_of_random_number_generators\n",
        "+ https://en.wikipedia.org/wiki/Pseudorandom_number_generator\n",
        "\n",
        "Numpy uses Pseudo Random Number Generarator (PRNG) and therefore, if we set the state of the PRNG, then later on the generated random numbers can be reproduced."
      ]
    },
    {
      "metadata": {
        "id": "Bv-Q3FbIbdCW",
        "colab_type": "text"
      },
      "cell_type": "markdown",
      "source": [
        "# Import Packages\n",
        "\n",
        "**You only need NumPy package for generating random munbers**. Other packages are here for the most obvious possible/anticipated necessities later on."
      ]
    },
    {
      "metadata": {
        "id": "wPikfIibIzoW",
        "colab_type": "code",
        "colab": {}
      },
      "cell_type": "code",
      "source": [
        "import numpy as np      # **You only need this for random number generation**\n",
        "import pandas as pd\n",
        "import os\n",
        "from IPython.display import display"
      ],
      "execution_count": 0,
      "outputs": []
    },
    {
      "metadata": {
        "id": "R2dogQjjZOwn",
        "colab_type": "text"
      },
      "cell_type": "markdown",
      "source": [
        "# Making Random Number Generation Reproducible\n",
        "\n",
        "There are two options:  \n",
        "\n",
        "1. Define: `np.random.RandomState(seed_value)` and then use it for PRNG. This method allows you to define multiple PRNGs and use them concurrently.\n",
        "1. Define `np.random.seed(seed_value)`. This means you will only control the initial state of the PRNG, but there will be only one PRNG.\n",
        "\n",
        "For more details see [this stackexchange discussion](https://stackoverflow.com/questions/22994423/difference-between-np-random-seed-and-np-random-randomstate).\n"
      ]
    },
    {
      "metadata": {
        "id": "8SBVWGcfm0sD",
        "colab_type": "code",
        "colab": {
          "base_uri": "https://localhost:8080/",
          "height": 110
        },
        "outputId": "7d6d73dd-ef52-4760-97bc-82989535ccf5"
      },
      "cell_type": "code",
      "source": [
        "#@title Define a RandomState \n",
        "# In this case:\n",
        "#   you can define multiple Pseudo RNGs this way and then \n",
        "#   use them concurrently to generate separate streams of \n",
        "#   random numbers.\n",
        "seed_values = [0, 1]\n",
        "rng0 = np.random.RandomState(seed_values[0])\n",
        "rng1 = np.random.RandomState(seed_values[1])\n",
        "\n",
        "# Make an array of 10 random numbers\n",
        "#   for each generator: rng0, rng1\n",
        "N =10\n",
        "r0 = rng0.randn(N)\n",
        "r1 = rng1.randn(N)\n",
        "\n",
        "# Show the generated random numbers in a tabular form\n",
        "pd.DataFrame({'Generator_0': r0, 'Generator_1': r1}).T"
      ],
      "execution_count": 50,
      "outputs": [
        {
          "output_type": "execute_result",
          "data": {
            "text/html": [
              "<div>\n",
              "<style scoped>\n",
              "    .dataframe tbody tr th:only-of-type {\n",
              "        vertical-align: middle;\n",
              "    }\n",
              "\n",
              "    .dataframe tbody tr th {\n",
              "        vertical-align: top;\n",
              "    }\n",
              "\n",
              "    .dataframe thead th {\n",
              "        text-align: right;\n",
              "    }\n",
              "</style>\n",
              "<table border=\"1\" class=\"dataframe\">\n",
              "  <thead>\n",
              "    <tr style=\"text-align: right;\">\n",
              "      <th></th>\n",
              "      <th>0</th>\n",
              "      <th>1</th>\n",
              "      <th>2</th>\n",
              "      <th>3</th>\n",
              "      <th>4</th>\n",
              "      <th>5</th>\n",
              "      <th>6</th>\n",
              "      <th>7</th>\n",
              "      <th>8</th>\n",
              "      <th>9</th>\n",
              "    </tr>\n",
              "  </thead>\n",
              "  <tbody>\n",
              "    <tr>\n",
              "      <th>Generator_0</th>\n",
              "      <td>1.764052</td>\n",
              "      <td>0.400157</td>\n",
              "      <td>0.978738</td>\n",
              "      <td>2.240893</td>\n",
              "      <td>1.867558</td>\n",
              "      <td>-0.977278</td>\n",
              "      <td>0.950088</td>\n",
              "      <td>-0.151357</td>\n",
              "      <td>-0.103219</td>\n",
              "      <td>0.410599</td>\n",
              "    </tr>\n",
              "    <tr>\n",
              "      <th>Generator_1</th>\n",
              "      <td>1.624345</td>\n",
              "      <td>-0.611756</td>\n",
              "      <td>-0.528172</td>\n",
              "      <td>-1.072969</td>\n",
              "      <td>0.865408</td>\n",
              "      <td>-2.301539</td>\n",
              "      <td>1.744812</td>\n",
              "      <td>-0.761207</td>\n",
              "      <td>0.319039</td>\n",
              "      <td>-0.249370</td>\n",
              "    </tr>\n",
              "  </tbody>\n",
              "</table>\n",
              "</div>"
            ],
            "text/plain": [
              "                    0         1         2         3         4         5  \\\n",
              "Generator_0  1.764052  0.400157  0.978738  2.240893  1.867558 -0.977278   \n",
              "Generator_1  1.624345 -0.611756 -0.528172 -1.072969  0.865408 -2.301539   \n",
              "\n",
              "                    6         7         8         9  \n",
              "Generator_0  0.950088 -0.151357 -0.103219  0.410599  \n",
              "Generator_1  1.744812 -0.761207  0.319039 -0.249370  "
            ]
          },
          "metadata": {
            "tags": []
          },
          "execution_count": 50
        }
      ]
    },
    {
      "metadata": {
        "id": "k5CzStVnZxv5",
        "colab_type": "code",
        "colab": {
          "base_uri": "https://localhost:8080/",
          "height": 79
        },
        "outputId": "13d4a12e-4a06-489b-e7c5-6bc51e782bb2"
      },
      "cell_type": "code",
      "source": [
        "#@title Define the state with a Seed\n",
        "seed_value = 0\n",
        "np.random.seed(seed_value)\n",
        "r3 = np.random.randn(N)\n",
        "pd.DataFrame({'Generator_2': r3}).T"
      ],
      "execution_count": 52,
      "outputs": [
        {
          "output_type": "execute_result",
          "data": {
            "text/html": [
              "<div>\n",
              "<style scoped>\n",
              "    .dataframe tbody tr th:only-of-type {\n",
              "        vertical-align: middle;\n",
              "    }\n",
              "\n",
              "    .dataframe tbody tr th {\n",
              "        vertical-align: top;\n",
              "    }\n",
              "\n",
              "    .dataframe thead th {\n",
              "        text-align: right;\n",
              "    }\n",
              "</style>\n",
              "<table border=\"1\" class=\"dataframe\">\n",
              "  <thead>\n",
              "    <tr style=\"text-align: right;\">\n",
              "      <th></th>\n",
              "      <th>0</th>\n",
              "      <th>1</th>\n",
              "      <th>2</th>\n",
              "      <th>3</th>\n",
              "      <th>4</th>\n",
              "      <th>5</th>\n",
              "      <th>6</th>\n",
              "      <th>7</th>\n",
              "      <th>8</th>\n",
              "      <th>9</th>\n",
              "    </tr>\n",
              "  </thead>\n",
              "  <tbody>\n",
              "    <tr>\n",
              "      <th>Generator_2</th>\n",
              "      <td>1.764052</td>\n",
              "      <td>0.400157</td>\n",
              "      <td>0.978738</td>\n",
              "      <td>2.240893</td>\n",
              "      <td>1.867558</td>\n",
              "      <td>-0.977278</td>\n",
              "      <td>0.950088</td>\n",
              "      <td>-0.151357</td>\n",
              "      <td>-0.103219</td>\n",
              "      <td>0.410599</td>\n",
              "    </tr>\n",
              "  </tbody>\n",
              "</table>\n",
              "</div>"
            ],
            "text/plain": [
              "                    0         1         2         3         4         5  \\\n",
              "Generator_2  1.764052  0.400157  0.978738  2.240893  1.867558 -0.977278   \n",
              "\n",
              "                    6         7         8         9  \n",
              "Generator_2  0.950088 -0.151357 -0.103219  0.410599  "
            ]
          },
          "metadata": {
            "tags": []
          },
          "execution_count": 52
        }
      ]
    },
    {
      "metadata": {
        "id": "dpKMV9qld8wh",
        "colab_type": "text"
      },
      "cell_type": "markdown",
      "source": [
        "Observe that since we defined the states of both **`Generator_0`** and **`Generator_2`** with the _same_ `seed_value = 0`, they both spit out the _same sequence of random numbers_. This is a very helpful feature for generating reproducible pseudo random numbers that enables us to carry out reproducible data-analysis."
      ]
    },
    {
      "metadata": {
        "id": "j8tIa0FQqkOy",
        "colab_type": "text"
      },
      "cell_type": "markdown",
      "source": [
        "## Generating Random Integeres\n",
        "\n",
        "+ To generate integer random numbers raning between $[0, 100]$ as an array of shape $(10, 10)$ use this:  \n",
        ">`numpy.random.randint(low=0, high=100, size=(10,10))`"
      ]
    },
    {
      "metadata": {
        "id": "pq0wFdIfm-EV",
        "colab_type": "code",
        "outputId": "ed13997d-f655-4702-896e-071104a2ac24",
        "colab": {
          "base_uri": "https://localhost:8080/",
          "height": 193
        }
      },
      "cell_type": "code",
      "source": [
        "np.random.randint(low=0, high=100, size=(10,10))"
      ],
      "execution_count": 0,
      "outputs": [
        {
          "output_type": "execute_result",
          "data": {
            "text/plain": [
              "array([[13, 68, 33, 70, 34, 14, 72, 95, 56, 69],\n",
              "       [43, 78, 99, 21, 79, 86,  6, 81,  4, 68],\n",
              "       [38, 72, 55, 84, 70, 22,  7, 96, 34, 26],\n",
              "       [49, 50, 54,  9, 79, 72, 75, 85, 89, 69],\n",
              "       [92, 69, 56, 22, 42, 37, 91, 17, 86, 32],\n",
              "       [71, 68, 47, 23, 64, 28, 58, 68, 45, 93],\n",
              "       [37, 38, 86, 90, 96, 23, 30, 34, 46, 67],\n",
              "       [25, 82, 86, 68, 86, 45, 25, 98, 98, 17],\n",
              "       [28, 43, 97, 92,  2, 99, 91, 99, 31, 43],\n",
              "       [89, 51, 74, 38, 27, 64, 34, 33, 30, 57]])"
            ]
          },
          "metadata": {
            "tags": []
          },
          "execution_count": 4
        }
      ]
    },
    {
      "metadata": {
        "id": "8-Qx0ojc7IHq",
        "colab_type": "text"
      },
      "cell_type": "markdown",
      "source": [
        "## Generating Random Numbers from a Uniform Distribution"
      ]
    },
    {
      "metadata": {
        "id": "gqFgqfagr-CA",
        "colab_type": "code",
        "colab": {
          "base_uri": "https://localhost:8080/",
          "height": 70
        },
        "outputId": "8c8b1873-ec00-41f1-dfd8-ce8715a6ee09"
      },
      "cell_type": "code",
      "source": [
        "#@title Input is NOT a shape tuple\n",
        "np.random.rand(3,2)"
      ],
      "execution_count": 19,
      "outputs": [
        {
          "output_type": "execute_result",
          "data": {
            "text/plain": [
              "array([[0.05466239, 0.71639996],\n",
              "       [0.54349749, 0.45238923],\n",
              "       [0.08507691, 0.76606102]])"
            ]
          },
          "metadata": {
            "tags": []
          },
          "execution_count": 19
        }
      ]
    },
    {
      "metadata": {
        "id": "7PlfxOpl7cUH",
        "colab_type": "code",
        "colab": {
          "base_uri": "https://localhost:8080/",
          "height": 70
        },
        "outputId": "d27f9a2f-24b9-42af-bf1a-3673f11079e5"
      },
      "cell_type": "code",
      "source": [
        "#@title Input is a shape tuple _`(m,n)`_\n",
        "np.random.random_sample((3,2))"
      ],
      "execution_count": 18,
      "outputs": [
        {
          "output_type": "execute_result",
          "data": {
            "text/plain": [
              "array([[0.87697026, 0.5399644 ],\n",
              "       [0.53268524, 0.29059101],\n",
              "       [0.2861429 , 0.85485712]])"
            ]
          },
          "metadata": {
            "tags": []
          },
          "execution_count": 18
        }
      ]
    },
    {
      "metadata": {
        "id": "yzjzkKwD2nRC",
        "colab_type": "text"
      },
      "cell_type": "markdown",
      "source": [
        "## Generating Random Numbers from a Binomial Distribution\n",
        "\n",
        "The probability density for the binomial distribution is\n",
        "\n",
        "$$P(N) = \\binom{n}{N}p^N(1-p)^{n-N}$$\n",
        "\n",
        "where $n$ is the number of trials, $p$ is the probability\n",
        "of success, and $N$ is the number of successes.\n",
        "\n",
        "**Use:**  \n",
        ">`numpy.random.binomial(n, p, [size])`\n",
        "\n",
        "**Returns**\n",
        "\n",
        "out : ndarray or scalar\n",
        "    Drawn samples from the parameterized binomial distribution, where\n",
        "    each sample is equal to the number of successes over the n trials.\n",
        "\n",
        "**See Also**\n",
        "\n",
        "scipy.stats.binom : probability density function, distribution \n",
        "or cumulative density function, etc."
      ]
    },
    {
      "metadata": {
        "id": "HnF8a1DT2m51",
        "colab_type": "code",
        "colab": {
          "base_uri": "https://localhost:8080/",
          "height": 193
        },
        "outputId": "7b92983a-e18d-4efb-d03d-1fbc8dae552a"
      },
      "cell_type": "code",
      "source": [
        "np.random.binomial(n=10, p=0.5, size=(10,10))"
      ],
      "execution_count": 12,
      "outputs": [
        {
          "output_type": "execute_result",
          "data": {
            "text/plain": [
              "array([[7, 5, 6, 4, 4, 8, 3, 3, 5, 3],\n",
              "       [6, 4, 5, 7, 5, 3, 8, 4, 5, 4],\n",
              "       [6, 6, 6, 4, 4, 8, 3, 3, 4, 3],\n",
              "       [0, 3, 4, 5, 8, 5, 6, 3, 3, 7],\n",
              "       [5, 6, 3, 3, 4, 6, 4, 5, 1, 7],\n",
              "       [5, 7, 3, 3, 6, 7, 8, 6, 6, 3],\n",
              "       [5, 4, 8, 2, 5, 4, 4, 7, 2, 1],\n",
              "       [5, 4, 6, 6, 3, 6, 5, 2, 5, 5],\n",
              "       [4, 7, 3, 7, 6, 4, 3, 6, 5, 6],\n",
              "       [5, 5, 3, 8, 4, 7, 7, 4, 6, 4]])"
            ]
          },
          "metadata": {
            "tags": []
          },
          "execution_count": 12
        }
      ]
    },
    {
      "metadata": {
        "id": "8i4GfqLe0sYE",
        "colab_type": "text"
      },
      "cell_type": "markdown",
      "source": [
        "## Generating Random Numbers from a Normal Distribution\n",
        "\n",
        "+ To generate a standard normal distribution $N(\\mu=0, \\sigma=1)$ use this:  \n",
        ">`np.random.randn(...)`\n",
        "+ For any normal distribution $N(\\mu, \\sigma)$:  \n",
        ">`sigma * np.random.randn(...) + mu`"
      ]
    },
    {
      "metadata": {
        "id": "50a7cJLDnEAD",
        "colab_type": "code",
        "outputId": "0ef37322-f06a-4108-e0cb-11b9b65b2c07",
        "colab": {
          "base_uri": "https://localhost:8080/",
          "height": 70
        }
      },
      "cell_type": "code",
      "source": [
        "np.random.randn(3,3)"
      ],
      "execution_count": 0,
      "outputs": [
        {
          "output_type": "execute_result",
          "data": {
            "text/plain": [
              "array([[ 0.52908205,  0.38536167,  0.67553959],\n",
              "       [ 0.87218801,  0.9788416 ,  2.82980297],\n",
              "       [ 1.15838015,  0.20949592, -0.257208  ]])"
            ]
          },
          "metadata": {
            "tags": []
          },
          "execution_count": 7
        }
      ]
    },
    {
      "metadata": {
        "id": "Lz7QQTm1o9eW",
        "colab_type": "text"
      },
      "cell_type": "markdown",
      "source": [
        "## Generating Random Numbers from a Poisson distribution\n",
        "\n",
        "$$ f(k; \\lambda)=\\frac{\\lambda^k e^{-\\lambda}}{k!}$$\n",
        "\n",
        "For events with an expected separation $\\lambda$ the Poisson\n",
        "distribution $f(k; \\lambda)$ describes the probability of\n",
        "$k$ events occurring within the observed\n",
        "interval $\\lambda$.\n",
        "\n",
        "**Examples**\n",
        "\n",
        "Draw samples from the distribution:\n",
        "\n",
        ">>> import numpy as np\n",
        ">>> s = np.random.poisson(5, 10000)\n",
        "\n",
        "Display histogram of the sample:\n",
        "\n",
        ">>> import matplotlib.pyplot as plt  \n",
        ">>> count, bins, ignored = plt.hist(s, 14, normed=True)  \n",
        ">>> plt.show()  \n",
        "\n",
        "Draw each 100 values for lambda 100 and 500:\n",
        "\n",
        ">>> s = np.random.poisson(lam=(100., 500.), size=(100, 2))"
      ]
    },
    {
      "metadata": {
        "id": "aJo2-8R3nixu",
        "colab_type": "code",
        "outputId": "668ca12f-684a-4fc8-c0a4-27e47b5801fc",
        "colab": {
          "base_uri": "https://localhost:8080/",
          "height": 123
        }
      },
      "cell_type": "code",
      "source": [
        "#print(np.random.poisson.__doc__)\n",
        "np.random.poisson(5, 100)"
      ],
      "execution_count": 14,
      "outputs": [
        {
          "output_type": "execute_result",
          "data": {
            "text/plain": [
              "array([ 3,  3,  5,  3,  4,  3,  9,  6,  7,  4,  4,  4,  4, 12,  5,  5,  8,\n",
              "        3,  3,  2,  7,  4,  8,  7,  5,  5,  9,  5,  5,  8,  7,  3,  4,  6,\n",
              "        4,  5,  3,  3,  7,  9,  6,  6,  4,  6,  6,  6,  6,  2,  4,  0,  6,\n",
              "        3,  2,  4,  3,  4,  7,  4,  8,  3,  5,  5,  4,  3,  5,  2,  2,  3,\n",
              "        4,  8,  9,  7,  9,  2,  7,  1,  5,  6,  5,  8,  7,  1,  5,  4,  3,\n",
              "        6,  3,  4,  2,  4,  4,  6, 10,  3,  3,  4,  7,  4,  6,  3])"
            ]
          },
          "metadata": {
            "tags": []
          },
          "execution_count": 14
        }
      ]
    },
    {
      "metadata": {
        "id": "oACeFOVb5r_h",
        "colab_type": "code",
        "colab": {}
      },
      "cell_type": "code",
      "source": [
        ""
      ],
      "execution_count": 0,
      "outputs": []
    }
  ]
}