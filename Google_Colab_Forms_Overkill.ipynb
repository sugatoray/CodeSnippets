{
  "nbformat": 4,
  "nbformat_minor": 0,
  "metadata": {
    "colab": {
      "name": "Google_Colab_Forms_Overkill.ipynb",
      "version": "0.3.2",
      "provenance": [],
      "collapsed_sections": [],
      "include_colab_link": true
    },
    "kernelspec": {
      "name": "python3",
      "display_name": "Python 3"
    }
  },
  "cells": [
    {
      "cell_type": "markdown",
      "metadata": {
        "id": "view-in-github",
        "colab_type": "text"
      },
      "source": [
        "<a href=\"https://colab.research.google.com/github/sugatoray/CodeSnippets/blob/master/Google_Colab_Forms_Overkill.ipynb\" target=\"_parent\"><img src=\"https://colab.research.google.com/assets/colab-badge.svg\" alt=\"Open In Colab\"/></a>"
      ]
    },
    {
      "metadata": {
        "id": "SmFasxfrYujz",
        "colab_type": "text"
      },
      "cell_type": "markdown",
      "source": [
        "# Why all this?\n",
        "\n",
        "The official example shows how to use Form Fields in Google Colaboratory: https://colab.research.google.com/notebooks/forms.ipynb.\n",
        "\n",
        "Let's say we have a list: \n",
        "`fruit_list = ['apples', 'bananas', 'mangoes']`\n",
        "\n",
        "Now I would like to add the elements of this list as a dropdown in the Form: \n",
        "```\n",
        "#@title # Select Your Choice of Fruit\n",
        "fruit_selected = 'apples' #@params fruit_list {input: string}\n",
        "```\n",
        "\n",
        "As of now I can think of some hacks like this one: \n",
        "```\n",
        "#@title Boolean fields { run: \"auto\", vertical-output: true }\n",
        "this_list = [\"False\", \"True\"]\n",
        "boolean_checkbox = False #@param {type:\"boolean\"}\n",
        "boolean_dropdown_asis = False #@param [\"False\", \"True\"] {type:\"raw\"}\n",
        "boolean_dropdown_var = this_list[1] #@param {type:\"raw\"}\n",
        "\n",
        "print(boolean_checkbox)\n",
        "print(boolean_dropdown_asis)\n",
        "print(boolean_dropdown_var)\n",
        "```\n",
        "\n",
        "But I would prefer to have another type of input: variable instead of just raw/string. The final implementation could be like this: \n",
        "\n",
        "```\n",
        "#@title # Select Your Choice of Fruit\n",
        "fruit_list = ['apples', 'bananas', 'mangoes']\n",
        "fruit_selected = 'apples' #@params fruit_list {input: variable}\n",
        "```"
      ]
    },
    {
      "metadata": {
        "id": "YJr4Htf_ZJSN",
        "colab_type": "text"
      },
      "cell_type": "markdown",
      "source": [
        "## So, I wanted to see if I can make an interactive form that will allow the user to directly feed information from a variable.\n",
        "\n",
        "> `fruit_list = ['apples', 'bananas', 'mangoes']`\n",
        "\n",
        "**Quite obviously it's an overkill**. I hope the colaboratory team comes up with something as simple as like this: \n",
        "\n",
        "```\n",
        "#@title # Select Your Choice of Fruit\n",
        "fruit_list = ['apples', 'bananas', 'mangoes']\n",
        "fruit_selected = 'apples' #@params fruit_list {input: variable}\n",
        "```"
      ]
    },
    {
      "metadata": {
        "id": "A-r9GDneYnHx",
        "colab_type": "code",
        "colab": {
          "base_uri": "https://localhost:8080/",
          "height": 211
        },
        "outputId": "c2ef0e95-bb91-4d17-8edc-f32a3286ce75"
      },
      "cell_type": "code",
      "source": [
        "#@title # Select Your Choice of Fruit { run: \"auto\", vertical-output: true }\n",
        "import pandas as pd\n",
        "from IPython.display import display\n",
        "\n",
        "fruit_list = ['apples', 'bananas', 'mangoes']\n",
        "run_all_sections = True #@param {type:\"boolean\"}\n",
        "active_sections = list()\n",
        "active_sections.append(run_all_sections)\n",
        "#@markdown ---\n",
        "#@markdown ## Section-01\n",
        "run_section_01 = True #@param {type:\"boolean\"}\n",
        "#@markdown ### Select Dropdown List Variable:\n",
        "drop_down_list = fruit_list #@param [\"fruit_list\"] {type:\"raw\", allow-input: true}\n",
        "##@markdown ### Available Options:\n",
        "run_this_section = run_section_01\n",
        "active_sections.append(run_this_section)\n",
        "if run_this_section | run_all_sections:\n",
        "  display(pd.DataFrame({'Fruit_Name': drop_down_list}))\n",
        "#@markdown ---\n",
        "\n",
        "#@markdown ## Section-02\n",
        "run_section_02 = False #@param {type:\"boolean\"}\n",
        "#@markdown ### Select the n-th option: \n",
        "n = 0 #@param {type:\"number\"}\n",
        "run_this_section = run_section_02\n",
        "active_sections.append(run_this_section)\n",
        "fruit_selected = None\n",
        "if run_this_section | run_all_sections:\n",
        "  if n<len(drop_down_list):\n",
        "    fruit_selected = drop_down_list[n]\n",
        "  else:\n",
        "    fruit_selected = None\n",
        "  \n",
        "#@markdown ## Current Output\n",
        "active_sections_index = [i for i, active_section in enumerate(active_sections) if active_section is True]\n",
        "print(\"\\n Your Selection: {}\".format(fruit_selected))\n",
        "if active_sections[0]: \n",
        "  active_sections_label = 'ALL'\n",
        "else:\n",
        "  active_sections_label = \", \".join(active_sections_index[1:])\n",
        "print(\"\\n Active Sections: {}\".format(active_sections_label))"
      ],
      "execution_count": 1,
      "outputs": [
        {
          "output_type": "display_data",
          "data": {
            "text/html": [
              "<div>\n",
              "<style scoped>\n",
              "    .dataframe tbody tr th:only-of-type {\n",
              "        vertical-align: middle;\n",
              "    }\n",
              "\n",
              "    .dataframe tbody tr th {\n",
              "        vertical-align: top;\n",
              "    }\n",
              "\n",
              "    .dataframe thead th {\n",
              "        text-align: right;\n",
              "    }\n",
              "</style>\n",
              "<table border=\"1\" class=\"dataframe\">\n",
              "  <thead>\n",
              "    <tr style=\"text-align: right;\">\n",
              "      <th></th>\n",
              "      <th>Fruit_Name</th>\n",
              "    </tr>\n",
              "  </thead>\n",
              "  <tbody>\n",
              "    <tr>\n",
              "      <th>0</th>\n",
              "      <td>apples</td>\n",
              "    </tr>\n",
              "    <tr>\n",
              "      <th>1</th>\n",
              "      <td>bananas</td>\n",
              "    </tr>\n",
              "    <tr>\n",
              "      <th>2</th>\n",
              "      <td>mangoes</td>\n",
              "    </tr>\n",
              "  </tbody>\n",
              "</table>\n",
              "</div>"
            ],
            "text/plain": [
              "  Fruit_Name\n",
              "0     apples\n",
              "1    bananas\n",
              "2    mangoes"
            ]
          },
          "metadata": {
            "tags": []
          }
        },
        {
          "output_type": "stream",
          "text": [
            "\n",
            " Your Selection: apples\n",
            "\n",
            " Active Sections: ALL\n"
          ],
          "name": "stdout"
        }
      ]
    }
  ]
}