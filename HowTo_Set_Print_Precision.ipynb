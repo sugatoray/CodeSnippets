{
  "nbformat": 4,
  "nbformat_minor": 0,
  "metadata": {
    "colab": {
      "name": "HowTo_Set_Print_Precision.ipynb",
      "provenance": [],
      "collapsed_sections": [
        "HKCMI9jFESwG"
      ],
      "include_colab_link": true
    },
    "kernelspec": {
      "name": "python3",
      "display_name": "Python 3"
    }
  },
  "cells": [
    {
      "cell_type": "markdown",
      "metadata": {
        "id": "view-in-github",
        "colab_type": "text"
      },
      "source": [
        "<a href=\"https://colab.research.google.com/github/sugatoray/CodeSnippets/blob/master/HowTo_Set_Print_Precision.ipynb\" target=\"_parent\"><img src=\"https://colab.research.google.com/assets/colab-badge.svg\" alt=\"Open In Colab\"/></a>"
      ]
    },
    {
      "cell_type": "markdown",
      "metadata": {
        "id": "krGCv42zAqDo",
        "colab_type": "text"
      },
      "source": [
        "# Set Printoptions using Numpy\n",
        "\n",
        "https://docs.scipy.org/doc/numpy/reference/generated/numpy.set_printoptions.html"
      ]
    },
    {
      "cell_type": "code",
      "metadata": {
        "id": "zvSoGdTAA-Xr",
        "colab_type": "code",
        "colab": {}
      },
      "source": [
        "import numpy as np"
      ],
      "execution_count": 0,
      "outputs": []
    },
    {
      "cell_type": "markdown",
      "metadata": {
        "id": "HKCMI9jFESwG",
        "colab_type": "text"
      },
      "source": [
        "# Refer to Documentation\n",
        "\n",
        "+ `numpy.set_printoptions()`\n",
        "+ `numpy.get_printoptions()`"
      ]
    },
    {
      "cell_type": "code",
      "metadata": {
        "id": "alcKO2r8BC0i",
        "colab_type": "code",
        "colab": {
          "base_uri": "https://localhost:8080/",
          "height": 1000
        },
        "cellView": "form",
        "outputId": "18b20de9-8886-420a-f4c8-45739d7e8b64"
      },
      "source": [
        "#@title See Documentation for `numpy.set_printoptions()`\n",
        "print(np.set_printoptions.__doc__)"
      ],
      "execution_count": 3,
      "outputs": [
        {
          "output_type": "stream",
          "text": [
            "\n",
            "    Set printing options.\n",
            "\n",
            "    These options determine the way floating point numbers, arrays and\n",
            "    other NumPy objects are displayed.\n",
            "\n",
            "    Parameters\n",
            "    ----------\n",
            "    precision : int or None, optional\n",
            "        Number of digits of precision for floating point output (default 8).\n",
            "        May be `None` if `floatmode` is not `fixed`, to print as many digits as\n",
            "        necessary to uniquely specify the value.\n",
            "    threshold : int, optional\n",
            "        Total number of array elements which trigger summarization\n",
            "        rather than full repr (default 1000).\n",
            "    edgeitems : int, optional\n",
            "        Number of array items in summary at beginning and end of\n",
            "        each dimension (default 3).\n",
            "    linewidth : int, optional\n",
            "        The number of characters per line for the purpose of inserting\n",
            "        line breaks (default 75).\n",
            "    suppress : bool, optional\n",
            "        If True, always print floating point numbers using fixed point\n",
            "        notation, in which case numbers equal to zero in the current precision\n",
            "        will print as zero.  If False, then scientific notation is used when\n",
            "        absolute value of the smallest number is < 1e-4 or the ratio of the\n",
            "        maximum absolute value to the minimum is > 1e3. The default is False.\n",
            "    nanstr : str, optional\n",
            "        String representation of floating point not-a-number (default nan).\n",
            "    infstr : str, optional\n",
            "        String representation of floating point infinity (default inf).\n",
            "    sign : string, either '-', '+', or ' ', optional\n",
            "        Controls printing of the sign of floating-point types. If '+', always\n",
            "        print the sign of positive values. If ' ', always prints a space\n",
            "        (whitespace character) in the sign position of positive values.  If\n",
            "        '-', omit the sign character of positive values. (default '-')\n",
            "    formatter : dict of callables, optional\n",
            "        If not None, the keys should indicate the type(s) that the respective\n",
            "        formatting function applies to.  Callables should return a string.\n",
            "        Types that are not specified (by their corresponding keys) are handled\n",
            "        by the default formatters.  Individual types for which a formatter\n",
            "        can be set are:\n",
            "\n",
            "        - 'bool'\n",
            "        - 'int'\n",
            "        - 'timedelta' : a `numpy.timedelta64`\n",
            "        - 'datetime' : a `numpy.datetime64`\n",
            "        - 'float'\n",
            "        - 'longfloat' : 128-bit floats\n",
            "        - 'complexfloat'\n",
            "        - 'longcomplexfloat' : composed of two 128-bit floats\n",
            "        - 'numpystr' : types `numpy.string_` and `numpy.unicode_`\n",
            "        - 'object' : `np.object_` arrays\n",
            "        - 'str' : all other strings\n",
            "\n",
            "        Other keys that can be used to set a group of types at once are:\n",
            "\n",
            "        - 'all' : sets all types\n",
            "        - 'int_kind' : sets 'int'\n",
            "        - 'float_kind' : sets 'float' and 'longfloat'\n",
            "        - 'complex_kind' : sets 'complexfloat' and 'longcomplexfloat'\n",
            "        - 'str_kind' : sets 'str' and 'numpystr'\n",
            "    floatmode : str, optional\n",
            "        Controls the interpretation of the `precision` option for\n",
            "        floating-point types. Can take the following values\n",
            "        (default maxprec_equal):\n",
            "\n",
            "        * 'fixed': Always print exactly `precision` fractional digits,\n",
            "                even if this would print more or fewer digits than\n",
            "                necessary to specify the value uniquely.\n",
            "        * 'unique': Print the minimum number of fractional digits necessary\n",
            "                to represent each value uniquely. Different elements may\n",
            "                have a different number of digits. The value of the\n",
            "                `precision` option is ignored.\n",
            "        * 'maxprec': Print at most `precision` fractional digits, but if\n",
            "                an element can be uniquely represented with fewer digits\n",
            "                only print it with that many.\n",
            "        * 'maxprec_equal': Print at most `precision` fractional digits,\n",
            "                but if every element in the array can be uniquely\n",
            "                represented with an equal number of fewer digits, use that\n",
            "                many digits for all elements.\n",
            "    legacy : string or `False`, optional\n",
            "        If set to the string `'1.13'` enables 1.13 legacy printing mode. This\n",
            "        approximates numpy 1.13 print output by including a space in the sign\n",
            "        position of floats and different behavior for 0d arrays. If set to\n",
            "        `False`, disables legacy mode. Unrecognized strings will be ignored\n",
            "        with a warning for forward compatibility.\n",
            "\n",
            "        .. versionadded:: 1.14.0\n",
            "\n",
            "    See Also\n",
            "    --------\n",
            "    get_printoptions, set_string_function, array2string\n",
            "\n",
            "    Notes\n",
            "    -----\n",
            "    `formatter` is always reset with a call to `set_printoptions`.\n",
            "\n",
            "    Examples\n",
            "    --------\n",
            "    Floating point precision can be set:\n",
            "\n",
            "    >>> np.set_printoptions(precision=4)\n",
            "    >>> np.array([1.123456789])\n",
            "    [1.1235]\n",
            "\n",
            "    Long arrays can be summarised:\n",
            "\n",
            "    >>> np.set_printoptions(threshold=5)\n",
            "    >>> np.arange(10)\n",
            "    array([0, 1, 2, ..., 7, 8, 9])\n",
            "\n",
            "    Small results can be suppressed:\n",
            "\n",
            "    >>> eps = np.finfo(float).eps\n",
            "    >>> x = np.arange(4.)\n",
            "    >>> x**2 - (x + eps)**2\n",
            "    array([-4.9304e-32, -4.4409e-16,  0.0000e+00,  0.0000e+00])\n",
            "    >>> np.set_printoptions(suppress=True)\n",
            "    >>> x**2 - (x + eps)**2\n",
            "    array([-0., -0.,  0.,  0.])\n",
            "\n",
            "    A custom formatter can be used to display array elements as desired:\n",
            "\n",
            "    >>> np.set_printoptions(formatter={'all':lambda x: 'int: '+str(-x)})\n",
            "    >>> x = np.arange(3)\n",
            "    >>> x\n",
            "    array([int: 0, int: -1, int: -2])\n",
            "    >>> np.set_printoptions()  # formatter gets reset\n",
            "    >>> x\n",
            "    array([0, 1, 2])\n",
            "\n",
            "    To put back the default options, you can use:\n",
            "\n",
            "    >>> np.set_printoptions(edgeitems=3,infstr='inf',\n",
            "    ... linewidth=75, nanstr='nan', precision=8,\n",
            "    ... suppress=False, threshold=1000, formatter=None)\n",
            "    \n"
          ],
          "name": "stdout"
        }
      ]
    },
    {
      "cell_type": "markdown",
      "metadata": {
        "id": "U7DTfDiLDKJD",
        "colab_type": "text"
      },
      "source": [
        "# Read-in Default Print Options"
      ]
    },
    {
      "cell_type": "code",
      "metadata": {
        "id": "94_70GqpAeOw",
        "colab_type": "code",
        "colab": {
          "base_uri": "https://localhost:8080/",
          "height": 211
        },
        "outputId": "968304e0-53f5-4d42-930b-fdb079246d60"
      },
      "source": [
        "default_printoptions = np.get_printoptions()\n",
        "default_printoptions"
      ],
      "execution_count": 5,
      "outputs": [
        {
          "output_type": "execute_result",
          "data": {
            "text/plain": [
              "{'edgeitems': 3,\n",
              " 'floatmode': 'maxprec',\n",
              " 'formatter': None,\n",
              " 'infstr': 'inf',\n",
              " 'legacy': False,\n",
              " 'linewidth': 75,\n",
              " 'nanstr': 'nan',\n",
              " 'precision': 8,\n",
              " 'sign': '-',\n",
              " 'suppress': False,\n",
              " 'threshold': 1000}"
            ]
          },
          "metadata": {
            "tags": []
          },
          "execution_count": 5
        }
      ]
    },
    {
      "cell_type": "markdown",
      "metadata": {
        "id": "UK0EfBiZDRRr",
        "colab_type": "text"
      },
      "source": [
        "# Enforce Default Print Options\n",
        "\n",
        "And check the effect with **`np.get_printoptions()`**."
      ]
    },
    {
      "cell_type": "code",
      "metadata": {
        "id": "lzOYSINbB0Ke",
        "colab_type": "code",
        "colab": {
          "base_uri": "https://localhost:8080/",
          "height": 211
        },
        "outputId": "9295d304-ba6e-4e6a-d9f9-432b5ef145eb"
      },
      "source": [
        "np.set_printoptions(**default_printoptions)\n",
        "np.get_printoptions()"
      ],
      "execution_count": 16,
      "outputs": [
        {
          "output_type": "execute_result",
          "data": {
            "text/plain": [
              "{'edgeitems': 3,\n",
              " 'floatmode': 'maxprec',\n",
              " 'formatter': None,\n",
              " 'infstr': 'inf',\n",
              " 'legacy': False,\n",
              " 'linewidth': 75,\n",
              " 'nanstr': 'nan',\n",
              " 'precision': 8,\n",
              " 'sign': '-',\n",
              " 'suppress': False,\n",
              " 'threshold': 1000}"
            ]
          },
          "metadata": {
            "tags": []
          },
          "execution_count": 16
        }
      ]
    },
    {
      "cell_type": "markdown",
      "metadata": {
        "id": "WclA9qb-DoXw",
        "colab_type": "text"
      },
      "source": [
        "# Change Precision Only\n",
        "\n",
        "We set the `printoption` precision to 2. "
      ]
    },
    {
      "cell_type": "code",
      "metadata": {
        "id": "jPyWMURPCksv",
        "colab_type": "code",
        "colab": {
          "base_uri": "https://localhost:8080/",
          "height": 52
        },
        "outputId": "1fb26890-d624-4156-be9d-fba89fa21682"
      },
      "source": [
        "np.set_printoptions(precision=2)\n",
        "np.arange(-1, 1, 0.2)"
      ],
      "execution_count": 19,
      "outputs": [
        {
          "output_type": "execute_result",
          "data": {
            "text/plain": [
              "array([-1.00e+00, -8.00e-01, -6.00e-01, -4.00e-01, -2.00e-01, -2.22e-16,\n",
              "        2.00e-01,  4.00e-01,  6.00e-01,  8.00e-01])"
            ]
          },
          "metadata": {
            "tags": []
          },
          "execution_count": 19
        }
      ]
    },
    {
      "cell_type": "code",
      "metadata": {
        "id": "Chsi13XrC6xC",
        "colab_type": "code",
        "colab": {}
      },
      "source": [
        ""
      ],
      "execution_count": 0,
      "outputs": []
    }
  ]
}