{
  "nbformat": 4,
  "nbformat_minor": 0,
  "metadata": {
    "colab": {
      "name": "Make_HTML_Table_from_Data.ipynb",
      "version": "0.3.2",
      "provenance": [],
      "collapsed_sections": [],
      "include_colab_link": true
    },
    "kernelspec": {
      "name": "python3",
      "display_name": "Python 3"
    }
  },
  "cells": [
    {
      "cell_type": "markdown",
      "metadata": {
        "id": "view-in-github",
        "colab_type": "text"
      },
      "source": [
        "[View in Colaboratory](https://colab.research.google.com/github/sugatoray/CodeSnippets/blob/master/Make_HTML_Table_from_Data.ipynb)"
      ]
    },
    {
      "metadata": {
        "id": "T1oc_C0CKkC5",
        "colab_type": "text"
      },
      "cell_type": "markdown",
      "source": [
        "# Description\n",
        "I made this code snippet to create a table in html and as a pandas.DataFrame object when the data is provided in the form of a list.   \n",
        "\n",
        "The inspiration for making this came from the [**stackoverflow.com question:** Easiest way to turn a list into an HTML table in python?](https://stackoverflow.com/questions/1475123/easiest-way-to-turn-a-list-into-an-html-table-in-python)"
      ]
    },
    {
      "metadata": {
        "id": "etKTgXn6JX2h",
        "colab_type": "code",
        "colab": {}
      },
      "cell_type": "code",
      "source": [
        "import numpy as np\n",
        "import pandas as pd\n",
        "\n",
        "def generate_html_with_table(data, columns = 1, column_name_prefix = 'Column', showOutput = True):\n",
        "    \"\"\"\n",
        "    This function returns a pandas.DataFrame object and a \n",
        "    generated html from the data based on user specifications.\n",
        "    \n",
        "    #Example:\n",
        "      data_html, data_df = generate_html_with_table(data, columns, column_name_prefix, showOutput)\n",
        "      # To suppress output and skip the DataFrame:\n",
        "      data_html, _ = generate_html_with_table(data, columns, column_name_prefix, False)      \n",
        "      \n",
        "    # Inputs: \n",
        "        1. data:               Data\n",
        "           (dtype: list)\n",
        "        2. columns:            Number of Columns\n",
        "           (dtype: int)\n",
        "        3. column_name_prefix: The Prefix for Column headers\n",
        "           (dtype: string)\n",
        "        4. showOutput:         (True/False) Whether to show output or not. Use \n",
        "           (dtype: boolean)                   False to suppress printing output.\n",
        "                                                              \n",
        "    # Outputs:\n",
        "        data_html: generated html\n",
        "        data_df:   generated pandas.DataFrame object\n",
        "        \n",
        "    # Author: Sugato Ray \n",
        "    Github: https://github.com/sugatoray\n",
        "    Repository/Project: CodeSnippets\n",
        "    \n",
        "    \"\"\"\n",
        "    # Calculate number of elements in the list: data\n",
        "    elements = len(data)\n",
        "    # Calculate the number of rows needed\n",
        "    rows = int(np.ceil(elements/columns))    \n",
        "    # Generate Column Names\n",
        "    column_names = [column_name_prefix + '_{}'.format(i) \\\n",
        "                    for i in np.arange(columns)]    \n",
        "    # Convert the data into a numpy array\n",
        "    data_array = np.array(data + ['']*(columns*rows - elements)).\\\n",
        "                                                          reshape(rows,columns)\n",
        "    # Convert the numpy array into a pandas DataFrame\n",
        "    data_df = pd.DataFrame(data_array, columns = column_names)    \n",
        "    # Create HTML from the DataFrame\n",
        "    data_html = data_df.to_html()\n",
        "    if showOutput:\n",
        "        print('Elements: {}\\nColumns: {}\\nRows: {}'.format(elements, \\\n",
        "                                                           columns, \\\n",
        "                                                           rows))\n",
        "        print('Column Names: {}'.format(column_names))\n",
        "        print('\\nPandas DataFrame: ')\n",
        "        display(data_df)\n",
        "        print('\\nHTML Generated: \\n\\n' + data_html)\n",
        "        \n",
        "    return (data_html, data_df)\n",
        "\n",
        "\n",
        "  \n",
        "#data_html, data_df = generate_html_with_table(data, columns, column_name_prefix, showOutput)"
      ],
      "execution_count": 0,
      "outputs": []
    },
    {
      "metadata": {
        "id": "zELn7TVZMGsn",
        "colab_type": "code",
        "colab": {
          "base_uri": "https://localhost:8080/",
          "height": 898
        },
        "outputId": "64507117-cf56-4284-962b-183562055ec9"
      },
      "cell_type": "code",
      "source": [
        "#@title Specify Input Parameters and Generate HTML\n",
        "data = ['one','two','three','four','five','six','seven','eight','nine']\n",
        "columns = 4                   # Number of Columns\n",
        "column_name_prefix = 'Column' # Prefix for Column headers\n",
        "showOutput = True             # Use False to suppress printing output\n",
        "\n",
        "# Generate HTML\n",
        "data_html, data_df = generate_html_with_table(data, columns, column_name_prefix, showOutput)"
      ],
      "execution_count": 3,
      "outputs": [
        {
          "output_type": "stream",
          "text": [
            "Elements: 9\n",
            "Columns: 4\n",
            "Rows: 3\n",
            "Column Names: ['Column_0', 'Column_1', 'Column_2', 'Column_3']\n",
            "\n",
            "Pandas DataFrame: \n"
          ],
          "name": "stdout"
        },
        {
          "output_type": "display_data",
          "data": {
            "text/html": [
              "<div>\n",
              "<style scoped>\n",
              "    .dataframe tbody tr th:only-of-type {\n",
              "        vertical-align: middle;\n",
              "    }\n",
              "\n",
              "    .dataframe tbody tr th {\n",
              "        vertical-align: top;\n",
              "    }\n",
              "\n",
              "    .dataframe thead th {\n",
              "        text-align: right;\n",
              "    }\n",
              "</style>\n",
              "<table border=\"1\" class=\"dataframe\">\n",
              "  <thead>\n",
              "    <tr style=\"text-align: right;\">\n",
              "      <th></th>\n",
              "      <th>Column_0</th>\n",
              "      <th>Column_1</th>\n",
              "      <th>Column_2</th>\n",
              "      <th>Column_3</th>\n",
              "    </tr>\n",
              "  </thead>\n",
              "  <tbody>\n",
              "    <tr>\n",
              "      <th>0</th>\n",
              "      <td>one</td>\n",
              "      <td>two</td>\n",
              "      <td>three</td>\n",
              "      <td>four</td>\n",
              "    </tr>\n",
              "    <tr>\n",
              "      <th>1</th>\n",
              "      <td>five</td>\n",
              "      <td>six</td>\n",
              "      <td>seven</td>\n",
              "      <td>eight</td>\n",
              "    </tr>\n",
              "    <tr>\n",
              "      <th>2</th>\n",
              "      <td>nine</td>\n",
              "      <td></td>\n",
              "      <td></td>\n",
              "      <td></td>\n",
              "    </tr>\n",
              "  </tbody>\n",
              "</table>\n",
              "</div>"
            ],
            "text/plain": [
              "  Column_0 Column_1 Column_2 Column_3\n",
              "0      one      two    three     four\n",
              "1     five      six    seven    eight\n",
              "2     nine                           "
            ]
          },
          "metadata": {
            "tags": []
          }
        },
        {
          "output_type": "stream",
          "text": [
            "\n",
            "HTML Generated: \n",
            "\n",
            "<table border=\"1\" class=\"dataframe\">\n",
            "  <thead>\n",
            "    <tr style=\"text-align: right;\">\n",
            "      <th></th>\n",
            "      <th>Column_0</th>\n",
            "      <th>Column_1</th>\n",
            "      <th>Column_2</th>\n",
            "      <th>Column_3</th>\n",
            "    </tr>\n",
            "  </thead>\n",
            "  <tbody>\n",
            "    <tr>\n",
            "      <th>0</th>\n",
            "      <td>one</td>\n",
            "      <td>two</td>\n",
            "      <td>three</td>\n",
            "      <td>four</td>\n",
            "    </tr>\n",
            "    <tr>\n",
            "      <th>1</th>\n",
            "      <td>five</td>\n",
            "      <td>six</td>\n",
            "      <td>seven</td>\n",
            "      <td>eight</td>\n",
            "    </tr>\n",
            "    <tr>\n",
            "      <th>2</th>\n",
            "      <td>nine</td>\n",
            "      <td></td>\n",
            "      <td></td>\n",
            "      <td></td>\n",
            "    </tr>\n",
            "  </tbody>\n",
            "</table>\n"
          ],
          "name": "stdout"
        }
      ]
    },
    {
      "metadata": {
        "id": "odyrQVzxNW53",
        "colab_type": "code",
        "colab": {}
      },
      "cell_type": "code",
      "source": [
        ""
      ],
      "execution_count": 0,
      "outputs": []
    }
  ]
}