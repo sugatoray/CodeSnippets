{
 "cells": [
  {
   "cell_type": "markdown",
   "metadata": {},
   "source": [
    "# Opening a YouTube Link\n",
    "\n",
    "There are two methods: \n",
    "1. Use package `webbrowser` to open the link in the default web-browser.\n",
    "1. Use package `selenium` to open a browser (here we will use Mozilla-Firefox)."
   ]
  },
  {
   "cell_type": "code",
   "execution_count": 7,
   "metadata": {
    "ExecuteTime": {
     "end_time": "2019-06-26T22:20:16.056516Z",
     "start_time": "2019-06-26T22:20:14.724665Z"
    }
   },
   "outputs": [],
   "source": [
    "import webbrowser as wb\n",
    "import numpy as np\n",
    "import pandas as pd\n",
    "import matplotlib.pyplot as plt\n",
    "\n",
    "import os, sys, glob\n",
    "import re, time\n",
    "from IPython.display import display, clear_output, YouTubeVideo\n",
    "from shutil import copyfile # copyfile(src, dst)\n",
    "\n",
    "import errno\n",
    "import requests\n",
    "from bs4 import BeautifulSoup as bsp\n",
    "import urllib.parse as urlparse\n",
    "\n",
    "from tqdm import tqdm, tnrange, tqdm_notebook\n",
    "\n",
    "%matplotlib inline\n",
    "%config InlineBackend.figure_format = 'svg' # 'svg', 'retina'\n",
    "plt.style.use('seaborn-white')"
   ]
  },
  {
   "cell_type": "markdown",
   "metadata": {},
   "source": [
    "# Open Link with python's `webbrowser` package"
   ]
  },
  {
   "cell_type": "code",
   "execution_count": 22,
   "metadata": {
    "ExecuteTime": {
     "end_time": "2019-06-26T22:41:57.869177Z",
     "start_time": "2019-06-26T22:41:57.824297Z"
    }
   },
   "outputs": [],
   "source": [
    "target_url = \"https://www.youtube.com/watch?v=RJ8PPwv-tEE\"\n",
    "tab = wb.open_new_tab(target_url)"
   ]
  },
  {
   "cell_type": "code",
   "execution_count": 41,
   "metadata": {
    "ExecuteTime": {
     "end_time": "2019-06-26T23:32:20.281795Z",
     "start_time": "2019-06-26T23:32:20.244888Z"
    }
   },
   "outputs": [
    {
     "data": {
      "text/plain": [
       "True"
      ]
     },
     "execution_count": 41,
     "metadata": {},
     "output_type": "execute_result"
    }
   ],
   "source": [
    "wb.open(target_url, new=1)"
   ]
  },
  {
   "cell_type": "code",
   "execution_count": 42,
   "metadata": {
    "ExecuteTime": {
     "end_time": "2019-06-26T23:32:51.223607Z",
     "start_time": "2019-06-26T23:32:33.953956Z"
    },
    "collapsed": true
   },
   "outputs": [],
   "source": [
    "wb.open(target_url, new=1, autoraise=True)\n",
    "time.sleep(1.5)\n",
    "for i in range(10):\n",
    "    wb.open_new_tab(target_url)\n",
    "    time.sleep(1.5)"
   ]
  },
  {
   "cell_type": "markdown",
   "metadata": {},
   "source": [
    "# Open Link with `selenium` package"
   ]
  },
  {
   "cell_type": "markdown",
   "metadata": {},
   "source": [
    "### Note: Download and Point To the Path of the Browser Driver\n",
    "\n",
    "+ For first time use download GECKODRIVER from [here](https://github.com/mozilla/geckodriver/releases)\n",
    "+ Follow the instructions given [here]() to point to the downloaded driver.\n",
    "\n",
    "```\n",
    "from selenium import webdriver\n",
    "driver_location = r'your\\path\\geckodriver.exe'\n",
    "target_url = 'http://inventwithpython.com'\n",
    "driver = webdriver.Firefox(executable_path = driver_location)\n",
    "driver.get(target_url)\n",
    "\n",
    "```"
   ]
  },
  {
   "cell_type": "markdown",
   "metadata": {},
   "source": [
    "## Import Packages and Define Custom Function"
   ]
  },
  {
   "cell_type": "code",
   "execution_count": 60,
   "metadata": {
    "ExecuteTime": {
     "end_time": "2019-06-27T00:04:05.739607Z",
     "start_time": "2019-06-27T00:04:05.732660Z"
    }
   },
   "outputs": [],
   "source": [
    "from selenium import webdriver\n",
    "from selenium.webdriver.common.keys import Keys\n",
    "from selenium.webdriver.support.ui import WebDriverWait\n",
    "from selenium.webdriver.common.action_chains import ActionChains"
   ]
  },
  {
   "cell_type": "code",
   "execution_count": null,
   "metadata": {
    "ExecuteTime": {
     "end_time": "2019-06-26T22:29:07.765380Z",
     "start_time": "2019-06-26T22:28:39.911Z"
    },
    "collapsed": true
   },
   "outputs": [],
   "source": [
    "def getWebDriver(browser_name=\"firfox\", target_url=\"\"):\n",
    "    \n",
    "    default_browser_name = \"firefox\"\n",
    "    supported_browsers_list = [\"firefox\",\"chrome\"]\n",
    "    \n",
    "    if browser_name not in supported_browsers_list:\n",
    "        browser_name = default_browser_name\n",
    "    \n",
    "    if (browser_name == \"firefox\"):\n",
    "        driver_path = r'C:\\Users\\raysu\\Anaconda3\\selenium\\webdriver\\firefox'\n",
    "        driver_name = \"geckodriver.exe\"\n",
    "    elif (browser_name == \"chrome\"):\n",
    "        driver_path = r'C:\\Users\\raysu\\Anaconda3\\selenium\\webdriver\\chrome'\n",
    "        driver_name = \"chromedriver.exe\"\n",
    "    \n",
    "    driver_executable_path = os.path.join(driver_path,driver_name)\n",
    "    \n",
    "    print(driver_executable_path)\n",
    "    if (browser_name == \"firefox\"):\n",
    "        driver = webdriver.Firefox(executable_path = driver_executable_path)\n",
    "    if (browser_name == \"chrome\"):\n",
    "        driver = webdriver.Chrome(executable_path = driver_executable_path)\n",
    "    \n",
    "    if not (target_url.strip() == \"\"):\n",
    "        driver.get(target_url)\n",
    "    \n",
    "    return driver\n",
    "    "
   ]
  },
  {
   "cell_type": "markdown",
   "metadata": {},
   "source": [
    "## Open New Tab and Load URL\n",
    "\n",
    "The most prescribed method for this is using ActionChains: \n",
    "```python\n",
    "ActionChains(driver).key_down(Keys.CONTROL).send_keys('t').key_up(Keys.CONTROL).perform()\n",
    "```\n",
    "However, this did not work for me. Instead, the following method ([source](https://gist.github.com/lrhache/7686903)) worked in opening a new tab:  \n",
    "```python\n",
    "driver.execute_script('''window.open(\"about:blank\", \"_blank\");''')\n",
    "```\n",
    "**Refernces**:  \n",
    "+ https://stackoverflow.com/questions/10629815/how-to-switch-to-new-window-in-selenium-for-python\n",
    "+ https://stackoverflow.com/questions/5859119/has-anyone-used-actionchains-of-webdriverpython-binding\n",
    "+ https://selenium-python.readthedocs.io/api.html#module-selenium.webdriver.common.action_chains\n",
    "+ https://seleniumhq.github.io/selenium/docs/api/py/webdriver/selenium.webdriver.common.action_chains.html\n",
    "\n"
   ]
  },
  {
   "cell_type": "markdown",
   "metadata": {},
   "source": [
    "## Complete code block:  "
   ]
  },
  {
   "cell_type": "markdown",
   "metadata": {},
   "source": [
    "```python\n",
    "# import statements\n",
    "from selenium import webdriver\n",
    "from selenium.webdriver.common.keys import Keys\n",
    "from selenium.webdriver.support.ui import WebDriverWait\n",
    "from selenium.webdriver.common.action_chains import ActionChains\n",
    "\n",
    "from tqdm import tqdm, tnrange, tqdm_notebook\n",
    "import time, os\n",
    "\n",
    "# define custom browser creation function\n",
    "def getWebDriver(browser_name=\"firfox\", target_url=\"\"):\n",
    "    \n",
    "    default_browser_name = \"firefox\"\n",
    "    supported_browsers_list = [\"firefox\",\"chrome\"]\n",
    "    \n",
    "    if browser_name not in supported_browsers_list:\n",
    "        browser_name = default_browser_name\n",
    "    \n",
    "    if (browser_name == \"firefox\"):\n",
    "        driver_path = r'C:\\Users\\raysu\\Anaconda3\\selenium\\webdriver\\firefox'\n",
    "        driver_name = \"geckodriver.exe\"\n",
    "    elif (browser_name == \"chrome\"):\n",
    "        driver_path = r'C:\\Users\\raysu\\Anaconda3\\selenium\\webdriver\\chrome'\n",
    "        driver_name = \"chromedriver.exe\"\n",
    "    \n",
    "    driver_executable_path = os.path.join(driver_path,driver_name)\n",
    "    \n",
    "    print(driver_executable_path)\n",
    "    if (browser_name == \"firefox\"):\n",
    "        driver = webdriver.Firefox(executable_path = driver_executable_path)\n",
    "    if (browser_name == \"chrome\"):\n",
    "        driver = webdriver.Chrome(executable_path = driver_executable_path)\n",
    "    \n",
    "    if not (target_url.strip() == \"\"):\n",
    "        driver.get(target_url)\n",
    "    \n",
    "    return driver\n",
    "    \n",
    "    \n",
    "# define target_url and create webdriver for firefox browser\n",
    "target_url = r\"https://www.youtube.com/watch?v=RJ8PPwv-tEE\"\n",
    "driver = getWebDriver('firefox', target_url='')\n",
    "\n",
    "# Switch to first window_handle, open target_url and \n",
    "#    then recursively: \n",
    "#    1. open new tabs, \n",
    "#    2. switch to that tab's window_handle, \n",
    "#    3. open target_url\n",
    "driver.switch_to.window(driver.window_handles[0])\n",
    "driver.get(target_url)\n",
    "for i in tqdm_notebook(range(1,10), desc='Mozilla Loop'):\n",
    "    # open new tab\n",
    "    driver.execute_script('''window.open(\"about:blank\", \"_blank\");''')\n",
    "    # switch to new tab\n",
    "    driver.switch_to.window(driver.window_handles[i])\n",
    "    driver.get(target_url)\n",
    "    \n",
    "# close all the open tabs (one by one)\n",
    "print('Open Tabs: {}'.format(len(driver.window_handles)))\n",
    "for i, window_handle in tqdm_notebook(enumerate(driver.window_handles), desc='Close Tabs'):\n",
    "    driver.switch_to.window(window_handle)\n",
    "    driver.close()\n",
    "    try:\n",
    "        open_tabs_left = len(driver.window_handles)\n",
    "    except:\n",
    "        open_tabs_left = 0\n",
    "    print('{}. Open Tabs: {} | Closed: {}'.format(i, open_tabs_left, window_handle))\n",
    "    time.sleep(0.5)\n",
    "```"
   ]
  },
  {
   "cell_type": "markdown",
   "metadata": {},
   "source": [
    "## Create a Browser Driver"
   ]
  },
  {
   "cell_type": "code",
   "execution_count": 20,
   "metadata": {
    "ExecuteTime": {
     "end_time": "2019-06-26T22:37:56.662936Z",
     "start_time": "2019-06-26T22:37:50.320278Z"
    }
   },
   "outputs": [
    {
     "name": "stdout",
     "output_type": "stream",
     "text": [
      "C:\\Users\\raysu\\Anaconda3\\selenium\\webdriver\\firefox\\geckodriver.exe\n"
     ]
    }
   ],
   "source": [
    "target_url = r\"https://www.youtube.com/watch?v=RJ8PPwv-tEE\"\n",
    "driver = getWebDriver('firefox', target_url='')"
   ]
  },
  {
   "cell_type": "markdown",
   "metadata": {},
   "source": [
    "Print the window handles. If there are multiple windows, or tabs open, this would return multiple window handles (as a list of strings)."
   ]
  },
  {
   "cell_type": "code",
   "execution_count": 78,
   "metadata": {
    "ExecuteTime": {
     "end_time": "2019-06-27T00:39:56.865379Z",
     "start_time": "2019-06-27T00:39:56.855409Z"
    }
   },
   "outputs": [
    {
     "name": "stdout",
     "output_type": "stream",
     "text": [
      "['6442450945']\n"
     ]
    }
   ],
   "source": [
    "window_handles = driver.window_handles\n",
    "print(window_handles)"
   ]
  },
  {
   "cell_type": "markdown",
   "metadata": {},
   "source": [
    "## Implementation"
   ]
  },
  {
   "cell_type": "markdown",
   "metadata": {},
   "source": [
    "### Open multiple browser tabs and then load URL in each of them"
   ]
  },
  {
   "cell_type": "code",
   "execution_count": 85,
   "metadata": {
    "ExecuteTime": {
     "end_time": "2019-06-27T01:14:03.975620Z",
     "start_time": "2019-06-27T01:13:41.644532Z"
    }
   },
   "outputs": [
    {
     "name": "stdout",
     "output_type": "stream",
     "text": [
      "C:\\Users\\raysu\\Anaconda3\\selenium\\webdriver\\firefox\\geckodriver.exe\n"
     ]
    },
    {
     "data": {
      "application/vnd.jupyter.widget-view+json": {
       "model_id": "0a81614b81314194bad916dd241c4f2b",
       "version_major": 2,
       "version_minor": 0
      },
      "text/plain": [
       "A Jupyter Widget"
      ]
     },
     "metadata": {},
     "output_type": "display_data"
    },
    {
     "name": "stdout",
     "output_type": "stream",
     "text": [
      "\n"
     ]
    }
   ],
   "source": [
    "# define target_url and create webdriver for firefox browser\n",
    "target_url = r\"https://www.youtube.com/watch?v=RJ8PPwv-tEE\"\n",
    "driver = getWebDriver('firefox', target_url='')\n",
    "\n",
    "# Switch to first window_handle, open target_url and \n",
    "#    then recursively: \n",
    "#    1. open new tabs, \n",
    "#    2. switch to that tab's window_handle, \n",
    "#    3. open target_url\n",
    "driver.switch_to.window(driver.window_handles[0])\n",
    "driver.get(target_url)\n",
    "for i in tqdm_notebook(range(1,10), desc='Mozilla Loop'):\n",
    "    # open new tab\n",
    "    driver.execute_script('''window.open(\"about:blank\", \"_blank\");''')\n",
    "    # switch to new tab\n",
    "    driver.switch_to.window(driver.window_handles[i])\n",
    "    driver.get(target_url)"
   ]
  },
  {
   "cell_type": "markdown",
   "metadata": {},
   "source": [
    "### Check if the following opens a new tab\n",
    "\n",
    "When tested on a Windows 10 machine, the following code did not create any new tab."
   ]
  },
  {
   "cell_type": "code",
   "execution_count": 87,
   "metadata": {
    "ExecuteTime": {
     "end_time": "2019-06-27T01:57:40.479472Z",
     "start_time": "2019-06-27T01:57:40.467504Z"
    },
    "collapsed": true
   },
   "outputs": [],
   "source": [
    "try:\n",
    "    print('Open Tabs (Before): {}'.format(len(driver.window_handles)))\n",
    "    ActionChains(driver).key_down(Keys.CONTROL).send_keys('T').key_up(Keys.CONTROL).perform()\n",
    "    print('Open Tabs (After): {}'.format(len(driver.window_handles)))\n",
    "except:\n",
    "    pass"
   ]
  },
  {
   "cell_type": "markdown",
   "metadata": {},
   "source": [
    "### Close All Tabs One by One"
   ]
  },
  {
   "cell_type": "code",
   "execution_count": 86,
   "metadata": {
    "ExecuteTime": {
     "end_time": "2019-06-27T01:15:02.700745Z",
     "start_time": "2019-06-27T01:14:54.537126Z"
    }
   },
   "outputs": [
    {
     "name": "stdout",
     "output_type": "stream",
     "text": [
      "Open Tabs: 10\n"
     ]
    },
    {
     "data": {
      "application/vnd.jupyter.widget-view+json": {
       "model_id": "e4faf6b283734385bc966ad449f0bba2",
       "version_major": 2,
       "version_minor": 0
      },
      "text/plain": [
       "A Jupyter Widget"
      ]
     },
     "metadata": {},
     "output_type": "display_data"
    },
    {
     "name": "stdout",
     "output_type": "stream",
     "text": [
      "0. Open Tabs: 9 | Closed: 6442450945\n",
      "1. Open Tabs: 8 | Closed: 6442450953\n",
      "2. Open Tabs: 7 | Closed: 6442450957\n",
      "3. Open Tabs: 6 | Closed: 6442450961\n",
      "4. Open Tabs: 5 | Closed: 6442450965\n",
      "5. Open Tabs: 4 | Closed: 6442450969\n",
      "6. Open Tabs: 3 | Closed: 6442450973\n",
      "7. Open Tabs: 2 | Closed: 6442450977\n",
      "8. Open Tabs: 1 | Closed: 6442450981\n",
      "9. Open Tabs: 0 | Closed: 6442450985\n",
      "\n"
     ]
    }
   ],
   "source": [
    "print('Open Tabs: {}'.format(len(driver.window_handles)))\n",
    "for i, window_handle in tqdm_notebook(enumerate(driver.window_handles), desc='Close Tabs'):\n",
    "    driver.switch_to.window(window_handle)\n",
    "    driver.close()\n",
    "    try:\n",
    "        open_tabs_left = len(driver.window_handles)\n",
    "    except:\n",
    "        open_tabs_left = 0\n",
    "    print('{}. Open Tabs: {} | Closed: {}'.format(i, open_tabs_left, window_handle))\n",
    "    time.sleep(0.5)"
   ]
  },
  {
   "cell_type": "code",
   "execution_count": null,
   "metadata": {
    "collapsed": true
   },
   "outputs": [],
   "source": []
  }
 ],
 "metadata": {
  "kernelspec": {
   "display_name": "Python 3",
   "language": "python",
   "name": "python3"
  },
  "language_info": {
   "codemirror_mode": {
    "name": "ipython",
    "version": 3
   },
   "file_extension": ".py",
   "mimetype": "text/x-python",
   "name": "python",
   "nbconvert_exporter": "python",
   "pygments_lexer": "ipython3",
   "version": "3.6.2"
  },
  "nbTranslate": {
   "displayLangs": [
    "*"
   ],
   "hotkey": "alt-t",
   "langInMainMenu": true,
   "sourceLang": "en",
   "targetLang": "fr",
   "useGoogleTranslate": true
  },
  "toc": {
   "base_numbering": 1,
   "nav_menu": {},
   "number_sections": true,
   "sideBar": true,
   "skip_h1_title": false,
   "title_cell": "Table of Contents",
   "title_sidebar": "Contents",
   "toc_cell": false,
   "toc_position": {},
   "toc_section_display": true,
   "toc_window_display": false
  },
  "varInspector": {
   "cols": {
    "lenName": 16,
    "lenType": 16,
    "lenVar": 40
   },
   "kernels_config": {
    "python": {
     "delete_cmd_postfix": "",
     "delete_cmd_prefix": "del ",
     "library": "var_list.py",
     "varRefreshCmd": "print(var_dic_list())"
    },
    "r": {
     "delete_cmd_postfix": ") ",
     "delete_cmd_prefix": "rm(",
     "library": "var_list.r",
     "varRefreshCmd": "cat(var_dic_list()) "
    }
   },
   "types_to_exclude": [
    "module",
    "function",
    "builtin_function_or_method",
    "instance",
    "_Feature"
   ],
   "window_display": false
  }
 },
 "nbformat": 4,
 "nbformat_minor": 2
}
