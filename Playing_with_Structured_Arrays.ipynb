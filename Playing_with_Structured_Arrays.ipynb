{
  "nbformat": 4,
  "nbformat_minor": 0,
  "metadata": {
    "colab": {
      "name": "Playing_with_Structured_Arrays.ipynb",
      "provenance": [],
      "collapsed_sections": [],
      "toc_visible": true,
      "include_colab_link": true
    },
    "kernelspec": {
      "name": "python3",
      "display_name": "Python 3"
    }
  },
  "cells": [
    {
      "cell_type": "markdown",
      "metadata": {
        "id": "view-in-github",
        "colab_type": "text"
      },
      "source": [
        "<a href=\"https://colab.research.google.com/github/sugatoray/CodeSnippets/blob/master/Playing_with_Structured_Arrays.ipynb\" target=\"_parent\"><img src=\"https://colab.research.google.com/assets/colab-badge.svg\" alt=\"Open In Colab\"/></a>"
      ]
    },
    {
      "cell_type": "markdown",
      "metadata": {
        "id": "UyJvpaYfIvNq",
        "colab_type": "text"
      },
      "source": [
        "# Structured Arrays\n",
        "\n",
        "https://docs.scipy.org/doc/numpy/user/basics.rec.html"
      ]
    },
    {
      "cell_type": "code",
      "metadata": {
        "id": "bdI4_isIGWMw",
        "colab_type": "code",
        "colab": {}
      },
      "source": [
        "import numpy as np"
      ],
      "execution_count": 0,
      "outputs": []
    },
    {
      "cell_type": "code",
      "metadata": {
        "id": "v4WAgiAYGdkG",
        "colab_type": "code",
        "colab": {}
      },
      "source": [
        "x = np.array([('Rex', 9, 81.0), ('Fido', 3, 27.0)],\n",
        "                dtype=[('name', 'U10'), ('age', 'i4'), ('weight', 'f4')])"
      ],
      "execution_count": 0,
      "outputs": []
    },
    {
      "cell_type": "code",
      "metadata": {
        "id": "tz1T_Vh0GkPZ",
        "colab_type": "code",
        "colab": {
          "base_uri": "https://localhost:8080/",
          "height": 35
        },
        "outputId": "cd1b0b39-22a3-4420-cd8f-a4ac5a189e1b"
      },
      "source": [
        "x['age'], x.shape, x[0]"
      ],
      "execution_count": 6,
      "outputs": [
        {
          "output_type": "execute_result",
          "data": {
            "text/plain": [
              "(array([9, 3], dtype=int32), (2,), ('Rex', 9, 81.))"
            ]
          },
          "metadata": {
            "tags": []
          },
          "execution_count": 6
        }
      ]
    },
    {
      "cell_type": "code",
      "metadata": {
        "id": "Esk2xBxAP9ZN",
        "colab_type": "code",
        "colab": {}
      },
      "source": [
        ""
      ],
      "execution_count": 0,
      "outputs": []
    }
  ]
}