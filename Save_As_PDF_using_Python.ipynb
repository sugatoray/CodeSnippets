{
 "cells": [
  {
   "cell_type": "markdown",
   "metadata": {},
   "source": [
    "# Save Web Page as PDF\n",
    "\n",
    "We will use [pdfkit](https://github.com/JazzCore/python-pdfkit) to print web-pages as PDF files. You can also print a file as PDF using pdfkit package. Please see the [GitHub Page for pdfkit](https://github.com/JazzCore/python-pdfkit) for more details.\n",
    "\n",
    "This notebook helps you setup the installers for the first time and then mostly run just **Step-3** every other time. Remember to **update the URL**.\n",
    "<hr>\n",
    "\n",
    "### It is as easy as just as **3-step process: <font color = 'red'>1-2-3</font>**"
   ]
  },
  {
   "cell_type": "markdown",
   "metadata": {},
   "source": [
    "## Step-1\n",
    "\n",
    "### Check which environment is active using `conda`"
   ]
  },
  {
   "cell_type": "code",
   "execution_count": 71,
   "metadata": {},
   "outputs": [
    {
     "name": "stdout",
     "output_type": "stream",
     "text": [
      "# conda environments:\n",
      "#\n",
      "base                  *  C:\\Program Files (x86)\\Microsoft Visual Studio\\Shared\\Anaconda3_64\n",
      "astra_env                C:\\Program Files (x86)\\Microsoft Visual Studio\\Shared\\Anaconda3_64\\envs\\astra_env\n",
      "                         C:\\Users\\raysu\\Anaconda3\n",
      "                         C:\\Users\\raysu\\Anaconda3\\envs\\pyforge\n",
      "test_env                 C:\\Users\\raysu\\AppData\\Local\\conda\\conda\\envs\\test_env\n",
      "\n"
     ]
    }
   ],
   "source": [
    "!conda env list"
   ]
  },
  {
   "cell_type": "markdown",
   "metadata": {},
   "source": [
    "### Install `pdfkit` with `pip`"
   ]
  },
  {
   "cell_type": "code",
   "execution_count": 72,
   "metadata": {},
   "outputs": [
    {
     "name": "stdout",
     "output_type": "stream",
     "text": [
      "Requirement already up-to-date: pdfkit in c:\\users\\raysu\\appdata\\roaming\\python\\python36\\site-packages (0.6.1)\n"
     ]
    }
   ],
   "source": [
    "!pip install -U --user pdfkit"
   ]
  },
  {
   "cell_type": "markdown",
   "metadata": {},
   "source": [
    "### Download and Install `wkhtmltopdf` (Just the first time)\n",
    "You will also need to download and install [wkhtmltopdf](https://github.com/JazzCore/python-pdfkit/wiki/Installing-wkhtmltopdf) as per the instructions.\n",
    "\n",
    "### Windows Users:\n",
    "Download the installer from the [wkhtmltopdf downloads list](http://wkhtmltopdf.org/downloads.html) and add folder with wkhtmltopdf binary to PATH.\n",
    "\n",
    "For Windows 10 the typical path for the installation directory will be:  \n",
    "> **`C:\\Program Files\\wkhtmltopdf\\bin`**\n",
    "\n",
    "You will need to add this to your System Environment Variable: Path"
   ]
  },
  {
   "cell_type": "markdown",
   "metadata": {},
   "source": [
    "## Step-2\n",
    "\n",
    "### Define Printing Options\n",
    "\n",
    "+ Do not change the parameters inside function: **`get_default_options()`**  \n",
    "+ If you need to update options, change the variable: **`options`** instead."
   ]
  },
  {
   "cell_type": "code",
   "execution_count": 75,
   "metadata": {},
   "outputs": [
    {
     "data": {
      "text/plain": [
       "{'cookie': [('cookie-name1', 'cookie-value1'),\n",
       "  ('cookie-name2', 'cookie-value2')],\n",
       " 'custom-header': [('Accept-Encoding', 'gzip')],\n",
       " 'encoding': 'UTF-8',\n",
       " 'margin-bottom': '0.75in',\n",
       " 'margin-left': '0.75in',\n",
       " 'margin-right': '0.75in',\n",
       " 'margin-top': '0.75in',\n",
       " 'no-outline': None,\n",
       " 'page-size': 'Letter'}"
      ]
     },
     "execution_count": 75,
     "metadata": {},
     "output_type": "execute_result"
    }
   ],
   "source": [
    "# Set Printing Options\n",
    "def get_default_options():\n",
    "    default_options = {\n",
    "        'page-size': 'Letter',\n",
    "        'margin-top': '0.75in',\n",
    "        'margin-right': '0.75in',\n",
    "        'margin-bottom': '0.75in',\n",
    "        'margin-left': '0.75in',\n",
    "        'encoding': \"UTF-8\",\n",
    "        'custom-header' : [\n",
    "            ('Accept-Encoding', 'gzip')\n",
    "        ],\n",
    "        'cookie': [\n",
    "            ('cookie-name1', 'cookie-value1'),\n",
    "            ('cookie-name2', 'cookie-value2'),\n",
    "        ],\n",
    "        'no-outline': None\n",
    "    }\n",
    "    \n",
    "    return default_options\n",
    "\n",
    "default_options = get_default_options()\n",
    "options = default_options\n",
    "options"
   ]
  },
  {
   "cell_type": "markdown",
   "metadata": {},
   "source": [
    "### Define Custom Printing Options (dict)"
   ]
  },
  {
   "cell_type": "code",
   "execution_count": 76,
   "metadata": {
    "scrolled": true
   },
   "outputs": [],
   "source": [
    "options = {\n",
    "    'page-size': 'Letter',\n",
    "    'margin-top': '1.75in',\n",
    "    'margin-right': '0.75in',\n",
    "    'margin-bottom': '0.75in',\n",
    "    'margin-left': '0.75in',\n",
    "    'encoding': \"UTF-8\",\n",
    "    'custom-header' : [\n",
    "        ('Accept-Encoding', 'gzip')\n",
    "    ],\n",
    "    'cookie': [\n",
    "        ('cookie-name1', 'cookie-value1'),\n",
    "        ('cookie-name2', 'cookie-value2'),\n",
    "    ],\n",
    "    'no-outline': None\n",
    "}"
   ]
  },
  {
   "cell_type": "markdown",
   "metadata": {},
   "source": [
    "## Step-3\n",
    "\n",
    "### Generate PDF from URL(s)\n",
    "\n",
    "You can pass a list of URLs instead of just one URL to be printed into a single PDF file."
   ]
  },
  {
   "cell_type": "code",
   "execution_count": 69,
   "metadata": {},
   "outputs": [
    {
     "name": "stdout",
     "output_type": "stream",
     "text": [
      "Loading pages (1/6)\r\n",
      "[>                                                           ] 0%\r",
      "[======>                                                     ] 10%\r",
      "[===============>                                            ] 26%\r",
      "[======================>                                     ] 38%\r",
      "[=========================>                                  ] 42%\r",
      "[===========================>                                ] 45%\r",
      "[============================>                               ] 48%\r",
      "[==============================>                             ] 50%\r",
      "[==============================>                             ] 50%\r",
      "[===============================>                            ] 52%\r",
      "[==================================>                         ] 57%\r",
      "[===================================>                        ] 59%\r",
      "[====================================>                       ] 60%\r",
      "[==========================================>                 ] 71%\r",
      "[===========================================>                ] 73%\r",
      "[=============================================>              ] 75%\r",
      "[==============================================>             ] 77%\r",
      "[===============================================>            ] 79%\r",
      "[================================================>           ] 81%\r",
      "[=================================================>          ] 83%\r",
      "[===================================================>        ] 85%\r",
      "[====================================================>       ] 88%\r",
      "[=====================================================>      ] 89%\r",
      "[======================================================>     ] 90%\r",
      "[======================================================>     ] 90%\r",
      "[======================================================>     ] 90%\r",
      "[======================================================>     ] 90%\r",
      "[============================================================] 100%\r",
      "Counting pages (2/6)                                               \r\n",
      "[============================================================] Object 1 of 1\r",
      "Resolving links (4/6)                                                       \r\n",
      "[============================================================] Object 1 of 1\r",
      "Loading headers and footers (5/6)                                           \r\n",
      "Printing pages (6/6)\r\n",
      "[>                                                           ] Preparing\r",
      "[====>                                                       ] Page 1 of 12\r",
      "[=========>                                                  ] Page 2 of 12\r",
      "[===============>                                            ] Page 3 of 12\r",
      "[===================>                                        ] Page 4 of 12\r",
      "[========================>                                   ] Page 5 of 12\r",
      "[==============================>                             ] Page 6 of 12\r",
      "[==================================>                         ] Page 7 of 12\r",
      "[=======================================>                    ] Page 8 of 12\r",
      "[=============================================>              ] Page 9 of 12\r",
      "[=================================================>          ] Page 10 of 12\r",
      "[======================================================>     ] Page 11 of 12\r",
      "[============================================================] Page 12 of 12\r",
      "Done                                                                        \r\n"
     ]
    }
   ],
   "source": [
    "import pdfkit\n",
    "url = r\"https://medium.com/@jonathan_hui/gan-why-it-is-so-hard-to-train-generative-advisory-networks-819a86b3750b\"\n",
    "file_name = './gen_pdf_out_3.pdf'\n",
    "use_default_options = True # Note: At present custom format is not working (2018-09-12)\n",
    "generate_pdf = True\n",
    "\n",
    "# This if block takes care of suppressing pdf-generation when \n",
    "#        generate_pdf = False\n",
    "# OR,\n",
    "#        file_name = False\n",
    "# AND,\n",
    "# Uses custom printing options through variable: options, when\n",
    "#        use_default_options = False\n",
    "if (file_name==False) | (not(generate_pdf == True)):\n",
    "    file_name = False\n",
    "if use_default_options:\n",
    "    pdf_file = pdfkit.from_url(url, file_name)\n",
    "else:\n",
    "    pdf_file = pdfkit.from_url(url, file_name, options = options)"
   ]
  },
  {
   "cell_type": "markdown",
   "metadata": {},
   "source": [
    "### Open The PDF File"
   ]
  },
  {
   "cell_type": "code",
   "execution_count": 70,
   "metadata": {},
   "outputs": [
    {
     "name": "stdout",
     "output_type": "stream",
     "text": [
      "Opening File: ./gen_pdf_out_3.pdf\n",
      "\n"
     ]
    },
    {
     "data": {
      "text/html": [
       "\n",
       "        <iframe\n",
       "            width=\"800\"\n",
       "            height=\"300\"\n",
       "            src=\"./gen_pdf_out_3.pdf\"\n",
       "            frameborder=\"0\"\n",
       "            allowfullscreen\n",
       "        ></iframe>\n",
       "        "
      ],
      "text/plain": [
       "<IPython.lib.display.IFrame at 0x23dcc8d7278>"
      ]
     },
     "metadata": {},
     "output_type": "display_data"
    }
   ],
   "source": [
    "from IPython.display import IFrame, display\n",
    "if not(file_name==False):\n",
    "    print('Opening File: {}\\n'.format(file_name))\n",
    "    display(IFrame(file_name, width = 800, height = 300))"
   ]
  },
  {
   "cell_type": "code",
   "execution_count": null,
   "metadata": {
    "collapsed": true
   },
   "outputs": [],
   "source": []
  }
 ],
 "metadata": {
  "kernelspec": {
   "display_name": "Python 3",
   "language": "python",
   "name": "python3"
  },
  "language_info": {
   "codemirror_mode": {
    "name": "ipython",
    "version": 3
   },
   "file_extension": ".py",
   "mimetype": "text/x-python",
   "name": "python",
   "nbconvert_exporter": "python",
   "pygments_lexer": "ipython3",
   "version": "3.6.2"
  }
 },
 "nbformat": 4,
 "nbformat_minor": 2
}
