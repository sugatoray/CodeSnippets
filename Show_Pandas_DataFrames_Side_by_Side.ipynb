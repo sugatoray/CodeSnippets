{
 "cells": [
  {
   "cell_type": "markdown",
   "metadata": {},
   "source": [
    "# Show DataFrames Side by Side"
   ]
  },
  {
   "cell_type": "code",
   "execution_count": 1,
   "metadata": {},
   "outputs": [],
   "source": [
    "import numpy as np\n",
    "import pandas as pd"
   ]
  },
  {
   "cell_type": "code",
   "execution_count": 2,
   "metadata": {},
   "outputs": [],
   "source": [
    "from IPython.display import display_html\n",
    "\n",
    "def show_dataframe_sidebyside(dfs:list, df_captions:list=None, sep_length:int=10):\n",
    "    \"\"\"\n",
    "    Declaration:\n",
    "        Inspiration from solution on stackoverflow by gibbone: \n",
    "            https://stackoverflow.com/questions/38783027/jupyter-notebook-display-two-pandas-tables-side-by-side\n",
    "    \"\"\"\n",
    "    if sep_length is None:\n",
    "        sep_length = 10\n",
    "    sep = ''.join([\"&nbsp\"]*sep_length)\n",
    "    if df_captions is None:\n",
    "        df_captions = ['Table-{}'.format(str(i)) for i in range(len(dfs))]\n",
    "    df_stylers = [df.style.set_table_attributes(\"style='display:inline'\").set_caption(df_caption) \\\n",
    "                  for df, df_caption in zip(dfs, df_captions)]\n",
    "    \n",
    "    display_html(sep.join([df_styler._repr_html_() for df_styler in df_stylers]), raw=True)"
   ]
  },
  {
   "cell_type": "code",
   "execution_count": 3,
   "metadata": {},
   "outputs": [
    {
     "data": {
      "text/html": [
       "<style  type=\"text/css\" >\n",
       "</style><table id=\"T_66f13324_0026_11ea_af23_34f39a372a20\" style='display:inline'><caption>Boys</caption><thead>    <tr>        <th class=\"blank level0\" ></th>        <th class=\"col_heading level0 col0\" >Name</th>        <th class=\"col_heading level0 col1\" >Age</th>        <th class=\"col_heading level0 col2\" >Weight</th>    </tr></thead><tbody>\n",
       "                <tr>\n",
       "                        <th id=\"T_66f13324_0026_11ea_af23_34f39a372a20level0_row0\" class=\"row_heading level0 row0\" >0</th>\n",
       "                        <td id=\"T_66f13324_0026_11ea_af23_34f39a372a20row0_col0\" class=\"data row0 col0\" >Tom</td>\n",
       "                        <td id=\"T_66f13324_0026_11ea_af23_34f39a372a20row0_col1\" class=\"data row0 col1\" >10</td>\n",
       "                        <td id=\"T_66f13324_0026_11ea_af23_34f39a372a20row0_col2\" class=\"data row0 col2\" >40</td>\n",
       "            </tr>\n",
       "            <tr>\n",
       "                        <th id=\"T_66f13324_0026_11ea_af23_34f39a372a20level0_row1\" class=\"row_heading level0 row1\" >1</th>\n",
       "                        <td id=\"T_66f13324_0026_11ea_af23_34f39a372a20row1_col0\" class=\"data row1 col0\" >Dick</td>\n",
       "                        <td id=\"T_66f13324_0026_11ea_af23_34f39a372a20row1_col1\" class=\"data row1 col1\" >12</td>\n",
       "                        <td id=\"T_66f13324_0026_11ea_af23_34f39a372a20row1_col2\" class=\"data row1 col2\" >45</td>\n",
       "            </tr>\n",
       "            <tr>\n",
       "                        <th id=\"T_66f13324_0026_11ea_af23_34f39a372a20level0_row2\" class=\"row_heading level0 row2\" >2</th>\n",
       "                        <td id=\"T_66f13324_0026_11ea_af23_34f39a372a20row2_col0\" class=\"data row2 col0\" >Harry</td>\n",
       "                        <td id=\"T_66f13324_0026_11ea_af23_34f39a372a20row2_col1\" class=\"data row2 col1\" >13</td>\n",
       "                        <td id=\"T_66f13324_0026_11ea_af23_34f39a372a20row2_col2\" class=\"data row2 col2\" >53</td>\n",
       "            </tr>\n",
       "    </tbody></table>&nbsp&nbsp&nbsp&nbsp&nbsp&nbsp&nbsp&nbsp&nbsp&nbsp<style  type=\"text/css\" >\n",
       "</style><table id=\"T_66f15a1c_0026_11ea_afe9_34f39a372a20\" style='display:inline'><caption>Girls</caption><thead>    <tr>        <th class=\"blank level0\" ></th>        <th class=\"col_heading level0 col0\" >Name</th>        <th class=\"col_heading level0 col1\" >Age</th>        <th class=\"col_heading level0 col2\" >Weight</th>    </tr></thead><tbody>\n",
       "                <tr>\n",
       "                        <th id=\"T_66f15a1c_0026_11ea_afe9_34f39a372a20level0_row0\" class=\"row_heading level0 row0\" >0</th>\n",
       "                        <td id=\"T_66f15a1c_0026_11ea_afe9_34f39a372a20row0_col0\" class=\"data row0 col0\" >Jenna</td>\n",
       "                        <td id=\"T_66f15a1c_0026_11ea_afe9_34f39a372a20row0_col1\" class=\"data row0 col1\" >11</td>\n",
       "                        <td id=\"T_66f15a1c_0026_11ea_afe9_34f39a372a20row0_col2\" class=\"data row0 col2\" >40</td>\n",
       "            </tr>\n",
       "            <tr>\n",
       "                        <th id=\"T_66f15a1c_0026_11ea_afe9_34f39a372a20level0_row1\" class=\"row_heading level0 row1\" >1</th>\n",
       "                        <td id=\"T_66f15a1c_0026_11ea_afe9_34f39a372a20row1_col0\" class=\"data row1 col0\" >Stacy</td>\n",
       "                        <td id=\"T_66f15a1c_0026_11ea_afe9_34f39a372a20row1_col1\" class=\"data row1 col1\" >13</td>\n",
       "                        <td id=\"T_66f15a1c_0026_11ea_afe9_34f39a372a20row1_col2\" class=\"data row1 col2\" >45</td>\n",
       "            </tr>\n",
       "            <tr>\n",
       "                        <th id=\"T_66f15a1c_0026_11ea_afe9_34f39a372a20level0_row2\" class=\"row_heading level0 row2\" >2</th>\n",
       "                        <td id=\"T_66f15a1c_0026_11ea_afe9_34f39a372a20row2_col0\" class=\"data row2 col0\" >Gina</td>\n",
       "                        <td id=\"T_66f15a1c_0026_11ea_afe9_34f39a372a20row2_col1\" class=\"data row2 col1\" >14</td>\n",
       "                        <td id=\"T_66f15a1c_0026_11ea_afe9_34f39a372a20row2_col2\" class=\"data row2 col2\" >49</td>\n",
       "            </tr>\n",
       "    </tbody></table>"
      ]
     },
     "metadata": {},
     "output_type": "display_data"
    }
   ],
   "source": [
    "df1 = pd.DataFrame({'Name': ['Tom', 'Dick', 'Harry'], 'Age': [10, 12, 13], 'Weight': [40, 45, 53]})\n",
    "df2 = pd.DataFrame({'Name': ['Jenna', 'Stacy', 'Gina'], 'Age': [11, 13, 14], 'Weight': [40, 45, 49]})\n",
    "\n",
    "show_dataframe_sidebyside(dfs=[df1, df2], df_captions=['Boys', 'Girls'], sep_length=10)"
   ]
  },
  {
   "cell_type": "code",
   "execution_count": null,
   "metadata": {},
   "outputs": [],
   "source": []
  }
 ],
 "metadata": {
  "kernelspec": {
   "display_name": "Python 3",
   "language": "python",
   "name": "python3"
  },
  "language_info": {
   "codemirror_mode": {
    "name": "ipython",
    "version": 3
   },
   "file_extension": ".py",
   "mimetype": "text/x-python",
   "name": "python",
   "nbconvert_exporter": "python",
   "pygments_lexer": "ipython3",
   "version": "3.7.1"
  }
 },
 "nbformat": 4,
 "nbformat_minor": 4
}
