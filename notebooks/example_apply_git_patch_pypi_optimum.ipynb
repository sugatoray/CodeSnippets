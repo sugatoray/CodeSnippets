{
  "cells": [
    {
      "cell_type": "markdown",
      "metadata": {
        "id": "view-in-github",
        "colab_type": "text"
      },
      "source": [
        "<a href=\"https://colab.research.google.com/github/sugatoray/CodeSnippets/blob/master/notebooks/example_apply_git_patch_pypi_optimum.ipynb\" target=\"_parent\"><img src=\"https://colab.research.google.com/assets/colab-badge.svg\" alt=\"Open In Colab\"/></a>"
      ]
    },
    {
      "cell_type": "markdown",
      "source": [
        "# Applying a git-patch to a `setup.py` file from a PyPI package source"
      ],
      "metadata": {
        "id": "7ZJR2Z070WZS"
      }
    },
    {
      "cell_type": "markdown",
      "source": [
        "## Special Note\n",
        "\n",
        "The `setup.py` file had a problem of non-existing (invalid) `entry_points`. \n",
        "An issue [`#95`](https://github.com/huggingface/optimum/issues/95) was opened \n",
        "for the same and the fix was implemented through \n",
        "PR [`#96`](https://github.com/huggingface/optimum/pull/96)\n",
        "in [optimum's repository](https://github.com/huggingface/omptimum).\n",
        "\n",
        "The conda-forge recipe earlier (in its making) had used a jinja2 workaround to \n",
        "circumvent the conflict in question. But since, the fix was already implemented, \n",
        "as suggested in the review the git patch for PR `#96` was used to mitigate the \n",
        "issue with the `setup.py` file in `v1.0.0` of `optimum` package, hosted on PyPI.\n",
        "\n",
        "However, there was a problem: the `setup.py` file used in PR `#96` was different \n",
        "from that found in the package source of `v1.0.0` on PyPI.\n",
        "\n",
        "As a workaround for this, the patch for PR `#96` (file: `assets/pr_96.patch`) was \n",
        "modified (file: `adapted_pr_96.patch`) to match the `setup.py` file for `v1.0.0`.\n",
        "\n",
        "This fixed the build failure with the patch."
      ],
      "metadata": {
        "id": "j2R94ehL59Ba"
      }
    },
    {
      "cell_type": "code",
      "source": [
        "%%capture\n",
        "! sudo apt install tree"
      ],
      "metadata": {
        "id": "kK-A_8o76QNO"
      },
      "execution_count": 1,
      "outputs": []
    },
    {
      "cell_type": "code",
      "source": [
        "! tree ."
      ],
      "metadata": {
        "colab": {
          "base_uri": "https://localhost:8080/"
        },
        "id": "G0eHzKf46e5F",
        "outputId": "6f3e0b15-e861-41eb-bb45-e880c68ca22c"
      },
      "execution_count": 2,
      "outputs": [
        {
          "output_type": "stream",
          "name": "stdout",
          "text": [
            ".\n",
            "└── sample_data\n",
            "    ├── anscombe.json\n",
            "    ├── california_housing_test.csv\n",
            "    ├── california_housing_train.csv\n",
            "    ├── mnist_test.csv\n",
            "    ├── mnist_train_small.csv\n",
            "    └── README.md\n",
            "\n",
            "1 directory, 6 files\n"
          ]
        }
      ]
    },
    {
      "cell_type": "markdown",
      "source": [
        "## **A. Create a Git Patch and Write to the Disk**"
      ],
      "metadata": {
        "id": "Q2HXShmr5am4"
      }
    },
    {
      "cell_type": "code",
      "source": [
        "%%writefile adapted_pr_96.patch\n",
        "\n",
        "From 9dd33c51b86905ffd745d537a68d617cc320c252 Mon Sep 17 00:00:00 2001\n",
        "From: Ella Charlaix <ella@huggingface.co>\n",
        "Date: Mon, 14 Mar 2022 09:39:06 +0100\n",
        "Subject: [PATCH] Remove unexisting entry points\n",
        "\n",
        "---\n",
        " setup.py | 7 -------\n",
        " 1 file changed, 7 deletions(-)\n",
        "\n",
        "diff --git a/setup.py b/setup.py\n",
        "index 103c1ec..9721fda 100644\n",
        "--- a/setup.py\n",
        "+++ b/setup.py\n",
        "@@ -52,13 +52,6 @@\n",
        "     packages=find_namespace_packages(include=[\"optimum*\"]),\n",
        "     install_requires=install_requires,\n",
        "     extras_require=extras,\n",
        "-    entry_points={\n",
        "-        \"console_scripts\": [\n",
        "-            \"optimum_export=optimum.onnxruntime.convert:main\",\n",
        "-            \"optimum_optimize=optimum.onnxruntime.optimize_model:main\",\n",
        "-            \"optimum_export_optimize=optimum.onnxruntime.convert_and_optimize:main\",\n",
        "-        ],\n",
        "-    },\n",
        "     include_package_data=True,\n",
        "     zip_safe=False,\n",
        " )\n"
      ],
      "metadata": {
        "id": "oOw9t96B0XaL",
        "outputId": "8b0f7f10-3af1-4c65-950d-ba8ccd1dd4c5",
        "colab": {
          "base_uri": "https://localhost:8080/"
        }
      },
      "execution_count": 3,
      "outputs": [
        {
          "output_type": "stream",
          "name": "stdout",
          "text": [
            "Writing adapted_pr_96.patch\n"
          ]
        }
      ]
    },
    {
      "cell_type": "code",
      "source": [
        "! tree ."
      ],
      "metadata": {
        "colab": {
          "base_uri": "https://localhost:8080/"
        },
        "id": "8ZmxUNGc6mz5",
        "outputId": "8fc471b7-b372-41b0-f6e3-68012b7a210e"
      },
      "execution_count": 4,
      "outputs": [
        {
          "output_type": "stream",
          "name": "stdout",
          "text": [
            ".\n",
            "├── adapted_pr_96.patch\n",
            "└── sample_data\n",
            "    ├── anscombe.json\n",
            "    ├── california_housing_test.csv\n",
            "    ├── california_housing_train.csv\n",
            "    ├── mnist_test.csv\n",
            "    ├── mnist_train_small.csv\n",
            "    └── README.md\n",
            "\n",
            "1 directory, 7 files\n"
          ]
        }
      ]
    },
    {
      "cell_type": "markdown",
      "source": [
        "## **B. Download and Rename the Git Patch**"
      ],
      "metadata": {
        "id": "wTY_C6R25S7M"
      }
    },
    {
      "cell_type": "code",
      "execution_count": 5,
      "metadata": {
        "colab": {
          "base_uri": "https://localhost:8080/"
        },
        "id": "lIYdn1woOS1n",
        "outputId": "a984763f-5aee-4faa-c4b2-72a170fcd527"
      },
      "outputs": [
        {
          "output_type": "stream",
          "name": "stdout",
          "text": [
            "  % Total    % Received % Xferd  Average Speed   Time    Time     Time  Current\n",
            "                                 Dload  Upload   Total   Spent    Left  Speed\n",
            "\r  0     0    0     0    0     0      0      0 --:--:-- --:--:-- --:--:--     0\r100   854    0   854    0     0   4692      0 --:--:-- --:--:-- --:--:--  4692\n"
          ]
        }
      ],
      "source": [
        "# Download Patch\n",
        "! curl -OL https://patch-diff.githubusercontent.com/raw/huggingface/optimum/pull/96.patch"
      ]
    },
    {
      "cell_type": "code",
      "source": [
        "# Rename Patch\n",
        "! mv 96.patch pr_96.patch"
      ],
      "metadata": {
        "id": "ULlIzGSV5eUa"
      },
      "execution_count": 6,
      "outputs": []
    },
    {
      "cell_type": "code",
      "source": [
        "! tree ."
      ],
      "metadata": {
        "colab": {
          "base_uri": "https://localhost:8080/"
        },
        "id": "jk1OMD4w6sgU",
        "outputId": "ca830fcf-79d2-4672-c0b7-e08e95f2c647"
      },
      "execution_count": 7,
      "outputs": [
        {
          "output_type": "stream",
          "name": "stdout",
          "text": [
            ".\n",
            "├── adapted_pr_96.patch\n",
            "├── pr_96.patch\n",
            "└── sample_data\n",
            "    ├── anscombe.json\n",
            "    ├── california_housing_test.csv\n",
            "    ├── california_housing_train.csv\n",
            "    ├── mnist_test.csv\n",
            "    ├── mnist_train_small.csv\n",
            "    └── README.md\n",
            "\n",
            "1 directory, 8 files\n"
          ]
        }
      ]
    },
    {
      "cell_type": "code",
      "source": [
        "# Visualize Patch\n",
        "! cat pr_96.patch"
      ],
      "metadata": {
        "id": "gFywFmhgwgWJ",
        "outputId": "80d0aedb-4492-4124-9536-dc887cd3a077",
        "colab": {
          "base_uri": "https://localhost:8080/"
        }
      },
      "execution_count": 8,
      "outputs": [
        {
          "output_type": "stream",
          "name": "stdout",
          "text": [
            "From 9dd33c51b86905ffd745d537a68d617cc320c252 Mon Sep 17 00:00:00 2001\n",
            "From: Ella Charlaix <ella@huggingface.co>\n",
            "Date: Mon, 14 Mar 2022 09:39:06 +0100\n",
            "Subject: [PATCH] Remove unexisting entry points\n",
            "\n",
            "---\n",
            " setup.py | 7 -------\n",
            " 1 file changed, 7 deletions(-)\n",
            "\n",
            "diff --git a/setup.py b/setup.py\n",
            "index 103c1ec..9721fda 100644\n",
            "--- a/setup.py\n",
            "+++ b/setup.py\n",
            "@@ -65,13 +65,6 @@\n",
            "     packages=find_namespace_packages(include=[\"optimum*\"]),\n",
            "     install_requires=REQUIRED_PKGS,\n",
            "     extras_require=EXTRAS_REQUIRE,\n",
            "-    entry_points={\n",
            "-        \"console_scripts\": [\n",
            "-            \"optimum_export=optimum.onnxruntime.convert:main\",\n",
            "-            \"optimum_optimize=optimum.onnxruntime.optimize_model:main\",\n",
            "-            \"optimum_export_optimize=optimum.onnxruntime.convert_and_optimize:main\",\n",
            "-        ],\n",
            "-    },\n",
            "     include_package_data=True,\n",
            "     zip_safe=False,\n",
            " )\n"
          ]
        }
      ]
    },
    {
      "cell_type": "markdown",
      "source": [
        "## **C. Download and Unzip the Source Package from PyPI**"
      ],
      "metadata": {
        "id": "I2MzJ9e-5LFZ"
      }
    },
    {
      "cell_type": "code",
      "source": [
        "# Download the Package Source from PyPI\n",
        "! pip download \"optimum==1.0.0\" --no-deps --no-binary :all:"
      ],
      "metadata": {
        "id": "qcfljwNSwmB5",
        "outputId": "95bf9ab6-31b1-4f2f-9444-a5a13a37f59e",
        "colab": {
          "base_uri": "https://localhost:8080/"
        }
      },
      "execution_count": 9,
      "outputs": [
        {
          "output_type": "stream",
          "name": "stdout",
          "text": [
            "Collecting optimum==1.0.0\n",
            "  Downloading optimum-1.0.0.tar.gz (46 kB)\n",
            "\u001b[?25l\r\u001b[K     |███████                         | 10 kB 18.5 MB/s eta 0:00:01\r\u001b[K     |██████████████                  | 20 kB 23.8 MB/s eta 0:00:01\r\u001b[K     |█████████████████████           | 30 kB 19.4 MB/s eta 0:00:01\r\u001b[K     |████████████████████████████    | 40 kB 6.9 MB/s eta 0:00:01\r\u001b[K     |████████████████████████████████| 46 kB 2.5 MB/s \n",
            "\u001b[?25h  Installing build dependencies ... \u001b[?25l\u001b[?25hdone\n",
            "  Getting requirements to build wheel ... \u001b[?25l\u001b[?25hdone\n",
            "    Preparing wheel metadata ... \u001b[?25l\u001b[?25hdone\n",
            "Saved ./optimum-1.0.0.tar.gz\n",
            "Successfully downloaded optimum\n"
          ]
        }
      ]
    },
    {
      "cell_type": "code",
      "source": [
        "# Unzip and Extract the Package Source\n",
        "! tar -xvf optimum-*.tar.gz"
      ],
      "metadata": {
        "id": "4jopgexQ7Bq4",
        "outputId": "2a93116f-1abe-4227-931f-9cb6f3722223",
        "colab": {
          "base_uri": "https://localhost:8080/"
        }
      },
      "execution_count": 10,
      "outputs": [
        {
          "output_type": "stream",
          "name": "stdout",
          "text": [
            "optimum-1.0.0/\n",
            "optimum-1.0.0/LICENSE\n",
            "optimum-1.0.0/MANIFEST.in\n",
            "optimum-1.0.0/PKG-INFO\n",
            "optimum-1.0.0/README.md\n",
            "optimum-1.0.0/optimum/\n",
            "optimum-1.0.0/optimum/configuration_utils.py\n",
            "optimum-1.0.0/optimum/intel/\n",
            "optimum-1.0.0/optimum/intel/__init__.py\n",
            "optimum-1.0.0/optimum/intel/neural_compressor/\n",
            "optimum-1.0.0/optimum/intel/neural_compressor/__init__.py\n",
            "optimum-1.0.0/optimum/intel/neural_compressor/config.py\n",
            "optimum-1.0.0/optimum/intel/neural_compressor/optimizer.py\n",
            "optimum-1.0.0/optimum/intel/neural_compressor/pruning.py\n",
            "optimum-1.0.0/optimum/intel/neural_compressor/quantization.py\n",
            "optimum-1.0.0/optimum/intel/neural_compressor/trainer_inc.py\n",
            "optimum-1.0.0/optimum/intel/neural_compressor/trainer_inc_test.py\n",
            "optimum-1.0.0/optimum/intel/neural_compressor/utils.py\n",
            "optimum-1.0.0/optimum/onnxruntime/\n",
            "optimum-1.0.0/optimum/onnxruntime/__init__.py\n",
            "optimum-1.0.0/optimum/onnxruntime/compare_two_onnx_model.py\n",
            "optimum-1.0.0/optimum/onnxruntime/configuration.py\n",
            "optimum-1.0.0/optimum/onnxruntime/model.py\n",
            "optimum-1.0.0/optimum/onnxruntime/old_scripts/\n",
            "optimum-1.0.0/optimum/onnxruntime/old_scripts/convert.py\n",
            "optimum-1.0.0/optimum/onnxruntime/old_scripts/convert_and_optimize.py\n",
            "optimum-1.0.0/optimum/onnxruntime/old_scripts/optimize_model.py\n",
            "optimum-1.0.0/optimum/onnxruntime/optimization.py\n",
            "optimum-1.0.0/optimum/onnxruntime/quantization.py\n",
            "optimum-1.0.0/optimum/onnxruntime/quantization_old.py\n",
            "optimum-1.0.0/optimum/onnxruntime/quantization_with_opti.py\n",
            "optimum-1.0.0/optimum/onnxruntime/utils.py\n",
            "optimum-1.0.0/optimum/utils/\n",
            "optimum-1.0.0/optimum/utils/__init__.py\n",
            "optimum-1.0.0/optimum/utils/logging.py\n",
            "optimum-1.0.0/optimum/version.py\n",
            "optimum-1.0.0/optimum.egg-info/\n",
            "optimum-1.0.0/optimum.egg-info/PKG-INFO\n",
            "optimum-1.0.0/optimum.egg-info/SOURCES.txt\n",
            "optimum-1.0.0/optimum.egg-info/dependency_links.txt\n",
            "optimum-1.0.0/optimum.egg-info/entry_points.txt\n",
            "optimum-1.0.0/optimum.egg-info/not-zip-safe\n",
            "optimum-1.0.0/optimum.egg-info/requires.txt\n",
            "optimum-1.0.0/optimum.egg-info/top_level.txt\n",
            "optimum-1.0.0/pyproject.toml\n",
            "optimum-1.0.0/setup.cfg\n",
            "optimum-1.0.0/setup.py\n"
          ]
        }
      ]
    },
    {
      "cell_type": "code",
      "source": [
        "! cp optimum-*/setup.py setup.py.bkp"
      ],
      "metadata": {
        "id": "DzKx2jk5_KHU"
      },
      "execution_count": 11,
      "outputs": []
    },
    {
      "cell_type": "code",
      "source": [
        "! tree ."
      ],
      "metadata": {
        "colab": {
          "base_uri": "https://localhost:8080/"
        },
        "id": "VBaeQHYs65bv",
        "outputId": "a0850fc2-fce8-43eb-f29c-de01a188cc30"
      },
      "execution_count": 12,
      "outputs": [
        {
          "output_type": "stream",
          "name": "stdout",
          "text": [
            ".\n",
            "├── adapted_pr_96.patch\n",
            "├── optimum-1.0.0\n",
            "│   ├── LICENSE\n",
            "│   ├── MANIFEST.in\n",
            "│   ├── optimum\n",
            "│   │   ├── configuration_utils.py\n",
            "│   │   ├── intel\n",
            "│   │   │   ├── __init__.py\n",
            "│   │   │   └── neural_compressor\n",
            "│   │   │       ├── config.py\n",
            "│   │   │       ├── __init__.py\n",
            "│   │   │       ├── optimizer.py\n",
            "│   │   │       ├── pruning.py\n",
            "│   │   │       ├── quantization.py\n",
            "│   │   │       ├── trainer_inc.py\n",
            "│   │   │       ├── trainer_inc_test.py\n",
            "│   │   │       └── utils.py\n",
            "│   │   ├── onnxruntime\n",
            "│   │   │   ├── compare_two_onnx_model.py\n",
            "│   │   │   ├── configuration.py\n",
            "│   │   │   ├── __init__.py\n",
            "│   │   │   ├── model.py\n",
            "│   │   │   ├── old_scripts\n",
            "│   │   │   │   ├── convert_and_optimize.py\n",
            "│   │   │   │   ├── convert.py\n",
            "│   │   │   │   └── optimize_model.py\n",
            "│   │   │   ├── optimization.py\n",
            "│   │   │   ├── quantization_old.py\n",
            "│   │   │   ├── quantization.py\n",
            "│   │   │   ├── quantization_with_opti.py\n",
            "│   │   │   └── utils.py\n",
            "│   │   ├── utils\n",
            "│   │   │   ├── __init__.py\n",
            "│   │   │   └── logging.py\n",
            "│   │   └── version.py\n",
            "│   ├── optimum.egg-info\n",
            "│   │   ├── dependency_links.txt\n",
            "│   │   ├── entry_points.txt\n",
            "│   │   ├── not-zip-safe\n",
            "│   │   ├── PKG-INFO\n",
            "│   │   ├── requires.txt\n",
            "│   │   ├── SOURCES.txt\n",
            "│   │   └── top_level.txt\n",
            "│   ├── PKG-INFO\n",
            "│   ├── pyproject.toml\n",
            "│   ├── README.md\n",
            "│   ├── setup.cfg\n",
            "│   └── setup.py\n",
            "├── optimum-1.0.0.tar.gz\n",
            "├── pr_96.patch\n",
            "├── sample_data\n",
            "│   ├── anscombe.json\n",
            "│   ├── california_housing_test.csv\n",
            "│   ├── california_housing_train.csv\n",
            "│   ├── mnist_test.csv\n",
            "│   ├── mnist_train_small.csv\n",
            "│   └── README.md\n",
            "└── setup.py.bkp\n",
            "\n",
            "9 directories, 49 files\n"
          ]
        }
      ]
    },
    {
      "cell_type": "markdown",
      "source": [
        "## **D. Apply git patch**"
      ],
      "metadata": {
        "id": "VHNnYJbO4z7K"
      }
    },
    {
      "cell_type": "code",
      "source": [
        "# Check the path of the patch command\n",
        "! which patch"
      ],
      "metadata": {
        "id": "YR5Jppsf9AAV",
        "outputId": "a8031581-8f75-4d64-e1e6-47407db5b211",
        "colab": {
          "base_uri": "https://localhost:8080/"
        }
      },
      "execution_count": 13,
      "outputs": [
        {
          "output_type": "stream",
          "name": "stdout",
          "text": [
            "/usr/bin/patch\n"
          ]
        }
      ]
    },
    {
      "cell_type": "code",
      "source": [
        "# Apply dry-run\n",
        "! patch \"optimum-1.0.0/setup.py\" --no-backup-if-mismatch --batch -Np1 -i \"adapted_pr_96.patch\" --binary --dry-run"
      ],
      "metadata": {
        "id": "kLH8E6jO-C66",
        "outputId": "59fff289-9659-4908-a900-26b918661e56",
        "colab": {
          "base_uri": "https://localhost:8080/"
        }
      },
      "execution_count": 14,
      "outputs": [
        {
          "output_type": "stream",
          "name": "stdout",
          "text": [
            "checking file optimum-1.0.0/setup.py\n",
            "patch unexpectedly ends in middle of line\n",
            "Hunk #1 succeeded at 52 with fuzz 1.\n"
          ]
        }
      ]
    },
    {
      "cell_type": "code",
      "source": [
        "# Create modified version: mod_setup.py\n",
        "! patch \"optimum-1.0.0/setup.py\" --no-backup-if-mismatch --batch -Np1 -i \"adapted_pr_96.patch\" --binary -o mod_setup.py"
      ],
      "metadata": {
        "colab": {
          "base_uri": "https://localhost:8080/"
        },
        "id": "zT6PQdau33sr",
        "outputId": "c3f636bd-63a1-4bed-d7ac-a6e168ae6b18"
      },
      "execution_count": 15,
      "outputs": [
        {
          "output_type": "stream",
          "name": "stdout",
          "text": [
            "patching file mod_setup.py (read from optimum-1.0.0/setup.py)\n",
            "patch unexpectedly ends in middle of line\n",
            "Hunk #1 succeeded at 52 with fuzz 1.\n"
          ]
        }
      ]
    },
    {
      "cell_type": "code",
      "source": [
        "! tree ."
      ],
      "metadata": {
        "colab": {
          "base_uri": "https://localhost:8080/"
        },
        "id": "ETmBLyV-7DvY",
        "outputId": "987678dc-c795-4eee-ede2-b9f96e60ea87"
      },
      "execution_count": 16,
      "outputs": [
        {
          "output_type": "stream",
          "name": "stdout",
          "text": [
            ".\n",
            "├── adapted_pr_96.patch\n",
            "├── mod_setup.py\n",
            "├── optimum-1.0.0\n",
            "│   ├── LICENSE\n",
            "│   ├── MANIFEST.in\n",
            "│   ├── optimum\n",
            "│   │   ├── configuration_utils.py\n",
            "│   │   ├── intel\n",
            "│   │   │   ├── __init__.py\n",
            "│   │   │   └── neural_compressor\n",
            "│   │   │       ├── config.py\n",
            "│   │   │       ├── __init__.py\n",
            "│   │   │       ├── optimizer.py\n",
            "│   │   │       ├── pruning.py\n",
            "│   │   │       ├── quantization.py\n",
            "│   │   │       ├── trainer_inc.py\n",
            "│   │   │       ├── trainer_inc_test.py\n",
            "│   │   │       └── utils.py\n",
            "│   │   ├── onnxruntime\n",
            "│   │   │   ├── compare_two_onnx_model.py\n",
            "│   │   │   ├── configuration.py\n",
            "│   │   │   ├── __init__.py\n",
            "│   │   │   ├── model.py\n",
            "│   │   │   ├── old_scripts\n",
            "│   │   │   │   ├── convert_and_optimize.py\n",
            "│   │   │   │   ├── convert.py\n",
            "│   │   │   │   └── optimize_model.py\n",
            "│   │   │   ├── optimization.py\n",
            "│   │   │   ├── quantization_old.py\n",
            "│   │   │   ├── quantization.py\n",
            "│   │   │   ├── quantization_with_opti.py\n",
            "│   │   │   └── utils.py\n",
            "│   │   ├── utils\n",
            "│   │   │   ├── __init__.py\n",
            "│   │   │   └── logging.py\n",
            "│   │   └── version.py\n",
            "│   ├── optimum.egg-info\n",
            "│   │   ├── dependency_links.txt\n",
            "│   │   ├── entry_points.txt\n",
            "│   │   ├── not-zip-safe\n",
            "│   │   ├── PKG-INFO\n",
            "│   │   ├── requires.txt\n",
            "│   │   ├── SOURCES.txt\n",
            "│   │   └── top_level.txt\n",
            "│   ├── PKG-INFO\n",
            "│   ├── pyproject.toml\n",
            "│   ├── README.md\n",
            "│   ├── setup.cfg\n",
            "│   └── setup.py\n",
            "├── optimum-1.0.0.tar.gz\n",
            "├── pr_96.patch\n",
            "├── sample_data\n",
            "│   ├── anscombe.json\n",
            "│   ├── california_housing_test.csv\n",
            "│   ├── california_housing_train.csv\n",
            "│   ├── mnist_test.csv\n",
            "│   ├── mnist_train_small.csv\n",
            "│   └── README.md\n",
            "└── setup.py.bkp\n",
            "\n",
            "9 directories, 50 files\n"
          ]
        }
      ]
    },
    {
      "cell_type": "markdown",
      "source": [
        "## **E. Visualize Original and Modified Files**"
      ],
      "metadata": {
        "id": "UildDTr04XP_"
      }
    },
    {
      "cell_type": "markdown",
      "source": [
        "### **E.1. Show the modified file contents**"
      ],
      "metadata": {
        "id": "IPSwVxSY4mIo"
      }
    },
    {
      "cell_type": "code",
      "source": [
        "! cat mod_setup.py"
      ],
      "metadata": {
        "colab": {
          "base_uri": "https://localhost:8080/"
        },
        "id": "HusimqiR33X_",
        "outputId": "4523d594-646a-4ee3-ee79-a142b9c50496"
      },
      "execution_count": 17,
      "outputs": [
        {
          "output_type": "stream",
          "name": "stdout",
          "text": [
            "import re\n",
            "\n",
            "from setuptools import find_namespace_packages, setup\n",
            "\n",
            "\n",
            "# Ensure we match the version set in src/optimum/version.py\n",
            "try:\n",
            "    filepath = \"optimum/version.py\"\n",
            "    with open(filepath) as version_file:\n",
            "        (__version__,) = re.findall('__version__ = \"(.*)\"', version_file.read())\n",
            "except Exception as error:\n",
            "    assert False, \"Error: Could not open '%s' due %s\\n\" % (filepath, error)\n",
            "\n",
            "\n",
            "install_requires = [\n",
            "    \"coloredlogs\",\n",
            "    \"sympy\",\n",
            "    \"transformers>=4.15.0\",\n",
            "    \"torch>=1.9\",\n",
            "]\n",
            "\n",
            "extras = {\n",
            "    \"onnxruntime\": [\"onnx\", \"onnxruntime\", \"datasets>=1.2.1\"],\n",
            "    \"intel\": [\"pycocotools\", \"neural_compressor>=1.9\", \"datasets>=1.2.1\", \"pandas<1.4.0\"],\n",
            "    \"graphcore\": \"optimum-graphcore\",\n",
            "}\n",
            "\n",
            "setup(\n",
            "    name=\"optimum\",\n",
            "    version=__version__,\n",
            "    description=\"Optimum Library is an extension of the Hugging Face Transformers library, providing a framework to \"\n",
            "    \"integrate third-party libraries from Hardware Partners and interface with their specific \"\n",
            "    \"functionality.\",\n",
            "    long_description=open(\"README.md\", \"r\", encoding=\"utf-8\").read(),\n",
            "    long_description_content_type=\"text/markdown\",\n",
            "    classifiers=[\n",
            "        \"Development Status :: 3 - Alpha\",\n",
            "        \"License :: OSI Approved :: Apache Software License\",\n",
            "        \"Intended Audience :: Developers\",\n",
            "        \"Intended Audience :: Education\",\n",
            "        \"Intended Audience :: Science/Research\",\n",
            "        \"Operating System :: OS Independent\",\n",
            "        \"Programming Language :: Python :: 3.8\",\n",
            "        \"Programming Language :: Python :: 3.9\",\n",
            "        \"Topic :: Scientific/Engineering :: Artificial Intelligence\",\n",
            "    ],\n",
            "    keywords=\"transformers, quantization, pruning, training, ipu\",\n",
            "    url=\"https://huggingface.co/hardware\",\n",
            "    author=\"HuggingFace Inc. Special Ops Team\",\n",
            "    author_email=\"hardware@huggingface.co\",\n",
            "    license=\"Apache\",\n",
            "    packages=find_namespace_packages(include=[\"optimum*\"]),\n",
            "    install_requires=install_requires,\n",
            "    extras_require=extras,\n",
            "    include_package_data=True,\n",
            "    zip_safe=False,\n",
            ")\n"
          ]
        }
      ]
    },
    {
      "cell_type": "markdown",
      "source": [
        "### **E.2. Show the original file contents**"
      ],
      "metadata": {
        "id": "5BSEirUg4s1f"
      }
    },
    {
      "cell_type": "code",
      "source": [
        "! cat \"optimum-1.0.0/setup.py\""
      ],
      "metadata": {
        "colab": {
          "base_uri": "https://localhost:8080/"
        },
        "id": "q4G14qHd33JX",
        "outputId": "aa97eb14-2c2a-4a44-fb56-1141261cf2cd"
      },
      "execution_count": 18,
      "outputs": [
        {
          "output_type": "stream",
          "name": "stdout",
          "text": [
            "import re\n",
            "\n",
            "from setuptools import find_namespace_packages, setup\n",
            "\n",
            "\n",
            "# Ensure we match the version set in src/optimum/version.py\n",
            "try:\n",
            "    filepath = \"optimum/version.py\"\n",
            "    with open(filepath) as version_file:\n",
            "        (__version__,) = re.findall('__version__ = \"(.*)\"', version_file.read())\n",
            "except Exception as error:\n",
            "    assert False, \"Error: Could not open '%s' due %s\\n\" % (filepath, error)\n",
            "\n",
            "\n",
            "install_requires = [\n",
            "    \"coloredlogs\",\n",
            "    \"sympy\",\n",
            "    \"transformers>=4.15.0\",\n",
            "    \"torch>=1.9\",\n",
            "]\n",
            "\n",
            "extras = {\n",
            "    \"onnxruntime\": [\"onnx\", \"onnxruntime\", \"datasets>=1.2.1\"],\n",
            "    \"intel\": [\"pycocotools\", \"neural_compressor>=1.9\", \"datasets>=1.2.1\", \"pandas<1.4.0\"],\n",
            "    \"graphcore\": \"optimum-graphcore\",\n",
            "}\n",
            "\n",
            "setup(\n",
            "    name=\"optimum\",\n",
            "    version=__version__,\n",
            "    description=\"Optimum Library is an extension of the Hugging Face Transformers library, providing a framework to \"\n",
            "    \"integrate third-party libraries from Hardware Partners and interface with their specific \"\n",
            "    \"functionality.\",\n",
            "    long_description=open(\"README.md\", \"r\", encoding=\"utf-8\").read(),\n",
            "    long_description_content_type=\"text/markdown\",\n",
            "    classifiers=[\n",
            "        \"Development Status :: 3 - Alpha\",\n",
            "        \"License :: OSI Approved :: Apache Software License\",\n",
            "        \"Intended Audience :: Developers\",\n",
            "        \"Intended Audience :: Education\",\n",
            "        \"Intended Audience :: Science/Research\",\n",
            "        \"Operating System :: OS Independent\",\n",
            "        \"Programming Language :: Python :: 3.8\",\n",
            "        \"Programming Language :: Python :: 3.9\",\n",
            "        \"Topic :: Scientific/Engineering :: Artificial Intelligence\",\n",
            "    ],\n",
            "    keywords=\"transformers, quantization, pruning, training, ipu\",\n",
            "    url=\"https://huggingface.co/hardware\",\n",
            "    author=\"HuggingFace Inc. Special Ops Team\",\n",
            "    author_email=\"hardware@huggingface.co\",\n",
            "    license=\"Apache\",\n",
            "    packages=find_namespace_packages(include=[\"optimum*\"]),\n",
            "    install_requires=install_requires,\n",
            "    extras_require=extras,\n",
            "    entry_points={\n",
            "        \"console_scripts\": [\n",
            "            \"optimum_export=optimum.onnxruntime.convert:main\",\n",
            "            \"optimum_optimize=optimum.onnxruntime.optimize_model:main\",\n",
            "            \"optimum_export_optimize=optimum.onnxruntime.convert_and_optimize:main\",\n",
            "        ],\n",
            "    },\n",
            "    include_package_data=True,\n",
            "    zip_safe=False,\n",
            ")\n"
          ]
        }
      ]
    },
    {
      "cell_type": "markdown",
      "source": [
        "## **F. Validate the difference between original and modified files**"
      ],
      "metadata": {
        "id": "xRFLzfzL4JSa"
      }
    },
    {
      "cell_type": "code",
      "source": [
        "! git diff \"optimum-1.0.0/setup.py\" mod_setup.py"
      ],
      "metadata": {
        "colab": {
          "base_uri": "https://localhost:8080/"
        },
        "id": "-gRt6NLM32fA",
        "outputId": "f1e9477c-34c1-4d59-87cb-17f0b4a75dbc"
      },
      "execution_count": 19,
      "outputs": [
        {
          "output_type": "stream",
          "name": "stdout",
          "text": [
            "\u001b[1mdiff --git a/optimum-1.0.0/setup.py b/mod_setup.py\u001b[m\n",
            "\u001b[1mindex 6660a3a..33141fd 100644\u001b[m\n",
            "\u001b[1m--- a/optimum-1.0.0/setup.py\u001b[m\n",
            "\u001b[1m+++ b/mod_setup.py\u001b[m\n",
            "\u001b[36m@@ -52,13 +52,6 @@\u001b[m \u001b[msetup(\u001b[m\n",
            "     packages=find_namespace_packages(include=[\"optimum*\"]),\u001b[m\n",
            "     install_requires=install_requires,\u001b[m\n",
            "     extras_require=extras,\u001b[m\n",
            "\u001b[31m-    entry_points={\u001b[m\n",
            "\u001b[31m-        \"console_scripts\": [\u001b[m\n",
            "\u001b[31m-            \"optimum_export=optimum.onnxruntime.convert:main\",\u001b[m\n",
            "\u001b[31m-            \"optimum_optimize=optimum.onnxruntime.optimize_model:main\",\u001b[m\n",
            "\u001b[31m-            \"optimum_export_optimize=optimum.onnxruntime.convert_and_optimize:main\",\u001b[m\n",
            "\u001b[31m-        ],\u001b[m\n",
            "\u001b[31m-    },\u001b[m\n",
            "     include_package_data=True,\u001b[m\n",
            "     zip_safe=False,\u001b[m\n",
            " )\u001b[m\n"
          ]
        }
      ]
    },
    {
      "cell_type": "markdown",
      "source": [
        "## **G. Lookup the help for `patch` command**"
      ],
      "metadata": {
        "id": "lnvuWGr44Qu3"
      }
    },
    {
      "cell_type": "code",
      "source": [
        "! patch --help"
      ],
      "metadata": {
        "id": "ovnjvjlG-k3k",
        "outputId": "1378d48c-b612-4309-df40-0e718627a66c",
        "colab": {
          "base_uri": "https://localhost:8080/"
        }
      },
      "execution_count": 20,
      "outputs": [
        {
          "output_type": "stream",
          "name": "stdout",
          "text": [
            "Usage: patch [OPTION]... [ORIGFILE [PATCHFILE]]\n",
            "\n",
            "Input options:\n",
            "\n",
            "  -p NUM  --strip=NUM  Strip NUM leading components from file names.\n",
            "  -F LINES  --fuzz LINES  Set the fuzz factor to LINES for inexact matching.\n",
            "  -l  --ignore-whitespace  Ignore white space changes between patch and input.\n",
            "\n",
            "  -c  --context  Interpret the patch as a context difference.\n",
            "  -e  --ed  Interpret the patch as an ed script.\n",
            "  -n  --normal  Interpret the patch as a normal difference.\n",
            "  -u  --unified  Interpret the patch as a unified difference.\n",
            "\n",
            "  -N  --forward  Ignore patches that appear to be reversed or already applied.\n",
            "  -R  --reverse  Assume patches were created with old and new files swapped.\n",
            "\n",
            "  -i PATCHFILE  --input=PATCHFILE  Read patch from PATCHFILE instead of stdin.\n",
            "\n",
            "Output options:\n",
            "\n",
            "  -o FILE  --output=FILE  Output patched files to FILE.\n",
            "  -r FILE  --reject-file=FILE  Output rejects to FILE.\n",
            "\n",
            "  -D NAME  --ifdef=NAME  Make merged if-then-else output using NAME.\n",
            "  --merge  Merge using conflict markers instead of creating reject files.\n",
            "  -E  --remove-empty-files  Remove output files that are empty after patching.\n",
            "\n",
            "  -Z  --set-utc  Set times of patched files, assuming diff uses UTC (GMT).\n",
            "  -T  --set-time  Likewise, assuming local time.\n",
            "\n",
            "  --quoting-style=WORD   output file names using quoting style WORD.\n",
            "    Valid WORDs are: literal, shell, shell-always, c, escape.\n",
            "    Default is taken from QUOTING_STYLE env variable, or 'shell' if unset.\n",
            "\n",
            "Backup and version control options:\n",
            "\n",
            "  -b  --backup  Back up the original contents of each file.\n",
            "  --backup-if-mismatch  Back up if the patch does not match exactly.\n",
            "  --no-backup-if-mismatch  Back up mismatches only if otherwise requested.\n",
            "\n",
            "  -V STYLE  --version-control=STYLE  Use STYLE version control.\n",
            "\tSTYLE is either 'simple', 'numbered', or 'existing'.\n",
            "  -B PREFIX  --prefix=PREFIX  Prepend PREFIX to backup file names.\n",
            "  -Y PREFIX  --basename-prefix=PREFIX  Prepend PREFIX to backup file basenames.\n",
            "  -z SUFFIX  --suffix=SUFFIX  Append SUFFIX to backup file names.\n",
            "\n",
            "  -g NUM  --get=NUM  Get files from RCS etc. if positive; ask if negative.\n",
            "\n",
            "Miscellaneous options:\n",
            "\n",
            "  -t  --batch  Ask no questions; skip bad-Prereq patches; assume reversed.\n",
            "  -f  --force  Like -t, but ignore bad-Prereq patches, and assume unreversed.\n",
            "  -s  --quiet  --silent  Work silently unless an error occurs.\n",
            "  --verbose  Output extra information about the work being done.\n",
            "  --dry-run  Do not actually change any files; just print what would happen.\n",
            "  --posix  Conform to the POSIX standard.\n",
            "\n",
            "  -d DIR  --directory=DIR  Change the working directory to DIR first.\n",
            "  --reject-format=FORMAT  Create 'context' or 'unified' rejects.\n",
            "  --binary  Read and write data in binary mode.\n",
            "  --read-only=BEHAVIOR  How to handle read-only input files: 'ignore' that they\n",
            "                        are read-only, 'warn' (default), or 'fail'.\n",
            "\n",
            "  -v  --version  Output version info.\n",
            "  --help  Output this help.\n",
            "\n",
            "Report bugs to <bug-patch@gnu.org>.\n"
          ]
        }
      ]
    },
    {
      "cell_type": "code",
      "source": [
        ""
      ],
      "metadata": {
        "id": "KwQuL4zuDADp"
      },
      "execution_count": null,
      "outputs": []
    }
  ],
  "metadata": {
    "colab": {
      "name": "example_apply_git_patch_optimum",
      "provenance": [],
      "collapsed_sections": [],
      "toc_visible": true,
      "include_colab_link": true
    },
    "kernelspec": {
      "display_name": "Python 3",
      "name": "python3"
    }
  },
  "nbformat": 4,
  "nbformat_minor": 0
}