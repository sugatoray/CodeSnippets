{
  "nbformat": 4,
  "nbformat_minor": 0,
  "metadata": {
    "colab": {
      "name": "example_tikzplotlib.ipynb",
      "provenance": [],
      "collapsed_sections": [],
      "authorship_tag": "ABX9TyO5/LujgBaXilNYqvUFgZEK",
      "include_colab_link": true
    },
    "kernelspec": {
      "name": "python3",
      "display_name": "Python 3"
    },
    "language_info": {
      "name": "python"
    }
  },
  "cells": [
    {
      "cell_type": "markdown",
      "metadata": {
        "id": "view-in-github",
        "colab_type": "text"
      },
      "source": [
        "<a href=\"https://colab.research.google.com/github/sugatoray/CodeSnippets/blob/master/notebooks/example_tikzplotlib_matplotlib-to-latex-tikz.ipynb\" target=\"_parent\"><img src=\"https://colab.research.google.com/assets/colab-badge.svg\" alt=\"Open In Colab\"/></a>"
      ]
    },
    {
      "cell_type": "markdown",
      "metadata": {
        "id": "4sMDSYGj9ibq"
      },
      "source": [
        "## **Summary**\n",
        "\n",
        "This is an attempt to show the use of [`tikzplotlib`](https://pypi.org/project/tikzplotlib/) library and use matplotlib code to make a plot and then convert the matplotlib (python) code into its PGFPlot (PGF/TikZ) equivalent form as valid LaTeX.\n",
        "\n",
        "### **Motivation** \n",
        "\n",
        "I came across a question on `tex.stackexchange.com` and wondered if matplotlib plots could be converted in TikZ (LaTeX). This notebook is an example showing how to do this with the help of `tikzplotlib`.\n",
        "\n",
        "  - [Pgfpolts on function composition problem](https://tex.stackexchange.com/questions/618605/pgfpolts-on-function-composition-problem)"
      ]
    },
    {
      "cell_type": "markdown",
      "metadata": {
        "id": "oAUl_Ce82l7O"
      },
      "source": [
        "## Installations\n",
        "\n",
        "This takes about 2-3 minutes. So, make be get yourself a cup of coffee! 🍵\n",
        "\n",
        "- `LaTeX`\n",
        "- `Tikzplotlib`"
      ]
    },
    {
      "cell_type": "code",
      "metadata": {
        "id": "_Huya0_XB6gR"
      },
      "source": [
        "#@title Install LaTeX\n",
        "%%capture\n",
        "# Takes about 2-3 minutes to install\n",
        "# source: https://learnsharewithdp.wordpress.com/2020/05/08/latex-matplotlib-google-colab/\n",
        "! sudo apt-get install texlive-latex-recommended \n",
        "! sudo apt-get install dvipng texlive-latex-extra texlive-fonts-recommended  \n",
        "! wget http://mirrors.ctan.org/macros/latex/contrib/type1cm.zip \n",
        "! unzip type1cm.zip -d /tmp/type1cm \n",
        "! cd /tmp/type1cm/type1cm/ && sudo latex type1cm.ins\n",
        "! sudo mkdir /usr/share/texmf/tex/latex/type1cm \n",
        "! sudo cp /tmp/type1cm/type1cm/type1cm.sty /usr/share/texmf/tex/latex/type1cm \n",
        "! sudo texhash \n",
        "\n",
        "!apt install cm-super"
      ],
      "execution_count": 26,
      "outputs": []
    },
    {
      "cell_type": "code",
      "metadata": {
        "id": "_sjU0vISFQWU"
      },
      "source": [
        "#@title Install Tikzplotlib\n",
        "%%capture\n",
        "# source: https://pypi.org/project/tikzplotlib/\n",
        "! pip install -U tikzplotlib"
      ],
      "execution_count": 42,
      "outputs": []
    },
    {
      "cell_type": "markdown",
      "metadata": {
        "id": "hXiDDxEPDcQ2"
      },
      "source": [
        "## Setting up Matplotlib Backend and Options\n",
        "\n",
        "Source: https://matplotlib.org/stable/tutorials/text/usetex.html\n",
        "\n",
        "```\n",
        "font.family        : serif\n",
        "font.serif         : Times, Palatino, New Century Schoolbook, Bookman, Computer Modern Roman\n",
        "font.sans-serif    : Helvetica, Avant Garde, Computer Modern Sans Serif\n",
        "font.cursive       : Zapf Chancery\n",
        "font.monospace     : Courier, Computer Modern Typewriter\n",
        "\n",
        "text.usetex        : true\n",
        "```"
      ]
    },
    {
      "cell_type": "code",
      "metadata": {
        "id": "JYf9SzQr9aIh"
      },
      "source": [
        "import numpy as np\n",
        "import matplotlib.pylab as plt\n",
        "import tikzplotlib\n",
        "\n",
        "%matplotlib inline \n",
        "%config InlineBackend.figure_format = 'svg' # 'svg', 'retina' \n",
        "plt.style.use('seaborn-white')\n",
        "\n",
        "# Use LaTeX for Plot-Labels\n",
        "# source: https://matplotlib.org/stable/tutorials/text/usetex.html\n",
        "plt.rcParams.update(\n",
        "    {\n",
        "        \"text.usetex\": True,\n",
        "        \"font.family\": \"sans-serif\",\n",
        "        \"font.sans-serif\": [\"Helvetica\"],\n",
        "    },\n",
        ")"
      ],
      "execution_count": 43,
      "outputs": []
    },
    {
      "cell_type": "markdown",
      "metadata": {
        "id": "FM7CUZ5TDwDw"
      },
      "source": [
        "## Create Data to Plot"
      ]
    },
    {
      "cell_type": "code",
      "metadata": {
        "id": "ZJ4-URnm9dZH"
      },
      "source": [
        "def f(x: np.ndarray) -> np.ndarray:\n",
        "    # This is your function: y = sin(2*x - 5/3)\n",
        "    return np.sin(2*x - 5/3)"
      ],
      "execution_count": 28,
      "outputs": []
    },
    {
      "cell_type": "code",
      "metadata": {
        "id": "qPNSZOHo-jIb"
      },
      "source": [
        "x = np.linspace(-np.pi*2, np.pi*2, 1000)\n",
        "y = f(x)"
      ],
      "execution_count": 35,
      "outputs": []
    },
    {
      "cell_type": "markdown",
      "metadata": {
        "id": "LXJM4ATpD2eX"
      },
      "source": [
        "## Create Plot"
      ]
    },
    {
      "cell_type": "code",
      "metadata": {
        "colab": {
          "base_uri": "https://localhost:8080/",
          "height": 384
        },
        "id": "l3wCoViK_A_p",
        "outputId": "a65450d0-5bec-4441-a719-0dcc61eeeb71"
      },
      "source": [
        "fig, ax = plt.subplots()\n",
        "plt.sca(ax)\n",
        "plt.plot(x, y)\n",
        "#ax.set_aspect('equal')\n",
        "#ax.grid(True, which='both')\n",
        "\n",
        "ax.axhline(y=0, color='k', lw=0.5)\n",
        "ax.axvline(x=0, color='k', lw=0.5)\n",
        "\n",
        "plt.xlabel('$x$')\n",
        "plt.ylabel('$f(x)$')\n",
        "plt.title('$\\\\textbf{Plot Title}$')\n",
        "#plt.show()\n",
        "tikzplotlib.clean_figure(target_resolution=600)\n",
        "tikzplotlib.save(\"test.tex\", flavor=\"context\")\n",
        "plt.show()"
      ],
      "execution_count": 45,
      "outputs": [
        {
          "output_type": "display_data",
          "data": {
            "text/plain": [
              "<Figure size 432x288 with 1 Axes>"
            ],
            "image/svg+xml": "<?xml version=\"1.0\" encoding=\"utf-8\" standalone=\"no\"?>\n<!DOCTYPE svg PUBLIC \"-//W3C//DTD SVG 1.1//EN\"\n  \"http://www.w3.org/Graphics/SVG/1.1/DTD/svg11.dtd\">\n<!-- Created with matplotlib (https://matplotlib.org/) -->\n<svg height=\"272.298598pt\" version=\"1.1\" viewBox=\"0 0 392.122798 272.298598\" width=\"392.122798pt\" xmlns=\"http://www.w3.org/2000/svg\" xmlns:xlink=\"http://www.w3.org/1999/xlink\">\n <defs>\n  <style type=\"text/css\">\n*{stroke-linecap:butt;stroke-linejoin:round;}\n  </style>\n </defs>\n <g id=\"figure_1\">\n  <g id=\"patch_1\">\n   <path d=\"M 0 272.298598 \nL 392.122798 272.298598 \nL 392.122798 0 \nL 0 0 \nz\n\" style=\"fill:#ffffff;\"/>\n  </g>\n  <g id=\"axes_1\">\n   <g id=\"patch_2\">\n    <path d=\"M 50.122798 239.157984 \nL 384.922798 239.157984 \nL 384.922798 21.717984 \nL 50.122798 21.717984 \nz\n\" style=\"fill:#ffffff;\"/>\n   </g>\n   <g id=\"matplotlib.axis_1\">\n    <g id=\"xtick_1\">\n     <g id=\"line2d_1\"/>\n     <g id=\"text_1\">\n      <!-- $\\mathdefault{-6}$ -->\n      <defs>\n       <path d=\"M 65.90625 23 \nC 67.59375 23 69.40625 23 69.40625 25 \nC 69.40625 27 67.59375 27 65.90625 27 \nL 11.796875 27 \nC 10.09375 27 8.296875 27 8.296875 25 \nC 8.296875 23 10.09375 23 11.796875 23 \nz\n\" id=\"CMSY10-0\"/>\n       <path d=\"M 10.59375 34 \nC 10.59375 57.65625 21.796875 63 28.296875 63 \nC 30.40625 63 35.5 62.640625 37.5 59 \nC 35.90625 59 32.90625 59 32.90625 55.515625 \nC 32.90625 52.828125 35.09375 51.921875 36.5 51.921875 \nC 37.40625 51.921875 40.09375 52.3125 40.09375 55.625 \nC 40.09375 61.78125 35.09375 65.296875 28.203125 65.296875 \nC 16.296875 65.296875 3.796875 52.96875 3.796875 31 \nC 3.796875 3.953125 15.09375 -2 23.09375 -2 \nC 32.796875 -2 42 6.671875 42 20.046875 \nC 42 32.515625 33.90625 41.59375 23.703125 41.59375 \nC 17.59375 41.59375 13.09375 37.609375 10.59375 30.625 \nz\nM 23.09375 0.390625 \nC 10.796875 0.390625 10.796875 18.75 10.796875 22.4375 \nC 10.796875 29.625 14.203125 40 23.5 40 \nC 25.203125 40 30.09375 40 33.40625 33.125 \nC 35.203125 29.21875 35.203125 25.140625 35.203125 20.140625 \nC 35.203125 14.75 35.203125 10.78125 33.09375 6.78125 \nC 30.90625 2.671875 27.703125 0.390625 23.09375 0.390625 \nz\n\" id=\"CMR17-54\"/>\n      </defs>\n      <g style=\"fill:#262626;\" transform=\"translate(65.834827 249.756305)scale(0.1 -0.1)\">\n       <use transform=\"scale(0.996264)\" xlink:href=\"#CMSY10-0\"/>\n       <use transform=\"translate(77.487468 0)scale(0.996264)\" xlink:href=\"#CMR17-54\"/>\n      </g>\n     </g>\n    </g>\n    <g id=\"xtick_2\">\n     <g id=\"line2d_2\"/>\n     <g id=\"text_2\">\n      <!-- $\\mathdefault{-4}$ -->\n      <defs>\n       <path d=\"M 33.59375 64.40625 \nC 33.59375 66.5 33.5 66.5 31.703125 66.5 \nL 2 19.59375 \nL 2 17 \nL 27.796875 17 \nL 27.796875 7.140625 \nC 27.796875 3.5 27.59375 2.5 20.59375 2.5 \nL 18.703125 2.5 \nL 18.703125 0 \nC 21.90625 0 27.296875 0 30.703125 0 \nC 34.09375 0 39.5 0 42.703125 0 \nL 42.703125 2.5 \nL 40.796875 2.5 \nC 33.796875 2.5 33.59375 3.5 33.59375 7.140625 \nL 33.59375 17 \nL 43.796875 17 \nL 43.796875 19.59375 \nL 33.59375 19.59375 \nz\nM 28.09375 57.859375 \nL 28.09375 19.59375 \nL 4 19.59375 \nz\n\" id=\"CMR17-52\"/>\n      </defs>\n      <g style=\"fill:#262626;\" transform=\"translate(114.275804 249.756305)scale(0.1 -0.1)\">\n       <use transform=\"scale(0.996264)\" xlink:href=\"#CMSY10-0\"/>\n       <use transform=\"translate(77.487468 0)scale(0.996264)\" xlink:href=\"#CMR17-52\"/>\n      </g>\n     </g>\n    </g>\n    <g id=\"xtick_3\">\n     <g id=\"line2d_3\"/>\n     <g id=\"text_3\">\n      <!-- $\\mathdefault{-2}$ -->\n      <defs>\n       <path d=\"M 41.703125 15.453125 \nL 39.90625 15.453125 \nC 38.90625 8.375 38.09375 7.171875 37.703125 6.5625 \nC 37.203125 5.765625 30 5.765625 28.59375 5.765625 \nL 9.40625 5.765625 \nC 13 9.671875 20 16.75 28.5 24.953125 \nC 34.59375 30.734375 41.703125 37.53125 41.703125 47.421875 \nC 41.703125 59.21875 32.296875 66 21.796875 66 \nC 10.796875 66 4.09375 56.3125 4.09375 47.34375 \nC 4.09375 43.4375 7 42.9375 8.203125 42.9375 \nC 9.203125 42.9375 12.203125 43.546875 12.203125 47.03125 \nC 12.203125 50.109375 9.59375 51 8.203125 51 \nC 7.59375 51 7 50.90625 6.59375 50.703125 \nC 8.5 59.21875 14.296875 63.40625 20.40625 63.40625 \nC 29.09375 63.40625 34.796875 56.515625 34.796875 47.421875 \nC 34.796875 38.734375 29.703125 31.25 24 24.75 \nL 4.09375 2.28125 \nL 4.09375 0 \nL 39.296875 0 \nz\n\" id=\"CMR17-50\"/>\n      </defs>\n      <g style=\"fill:#262626;\" transform=\"translate(162.716781 249.756305)scale(0.1 -0.1)\">\n       <use transform=\"scale(0.996264)\" xlink:href=\"#CMSY10-0\"/>\n       <use transform=\"translate(77.487468 0)scale(0.996264)\" xlink:href=\"#CMR17-50\"/>\n      </g>\n     </g>\n    </g>\n    <g id=\"xtick_4\">\n     <g id=\"line2d_4\"/>\n     <g id=\"text_4\">\n      <!-- $\\mathdefault{0}$ -->\n      <defs>\n       <path d=\"M 42 31.640625 \nC 42 37.75 41.90625 48.125 37.703125 56.109375 \nC 34 63.109375 28.09375 65.59375 22.90625 65.59375 \nC 18.09375 65.59375 12 63.40625 8.203125 56.203125 \nC 4.203125 48.71875 3.796875 39.4375 3.796875 31.640625 \nC 3.796875 25.953125 3.90625 17.28125 7 9.671875 \nC 11.296875 -0.609375 19 -2 22.90625 -2 \nC 27.5 -2 34.5 -0.109375 38.59375 9.375 \nC 41.59375 16.28125 42 24.359375 42 31.640625 \nz\nM 22.90625 -0.40625 \nC 16.5 -0.40625 12.703125 5.078125 11.296875 12.6875 \nC 10.203125 18.5625 10.203125 27.15625 10.203125 32.75 \nC 10.203125 40.4375 10.203125 46.828125 11.5 52.921875 \nC 13.40625 61.390625 19 64 22.90625 64 \nC 27 64 32.296875 61.296875 34.203125 53.125 \nC 35.5 47.4375 35.59375 40.734375 35.59375 32.75 \nC 35.59375 26.25 35.59375 18.265625 34.40625 12.375 \nC 32.296875 1.484375 26.40625 -0.40625 22.90625 -0.40625 \nz\n\" id=\"CMR17-48\"/>\n      </defs>\n      <g style=\"fill:#262626;\" transform=\"translate(215.03213 249.756305)scale(0.1 -0.1)\">\n       <use transform=\"scale(0.996264)\" xlink:href=\"#CMR17-48\"/>\n      </g>\n     </g>\n    </g>\n    <g id=\"xtick_5\">\n     <g id=\"line2d_5\"/>\n     <g id=\"text_5\">\n      <!-- $\\mathdefault{2}$ -->\n      <g style=\"fill:#262626;\" transform=\"translate(263.473108 249.756305)scale(0.1 -0.1)\">\n       <use transform=\"scale(0.996264)\" xlink:href=\"#CMR17-50\"/>\n      </g>\n     </g>\n    </g>\n    <g id=\"xtick_6\">\n     <g id=\"line2d_6\"/>\n     <g id=\"text_6\">\n      <!-- $\\mathdefault{4}$ -->\n      <g style=\"fill:#262626;\" transform=\"translate(311.914085 249.756305)scale(0.1 -0.1)\">\n       <use transform=\"scale(0.996264)\" xlink:href=\"#CMR17-52\"/>\n      </g>\n     </g>\n    </g>\n    <g id=\"xtick_7\">\n     <g id=\"line2d_7\"/>\n     <g id=\"text_7\">\n      <!-- $\\mathdefault{6}$ -->\n      <g style=\"fill:#262626;\" transform=\"translate(360.355062 249.756305)scale(0.1 -0.1)\">\n       <use transform=\"scale(0.996264)\" xlink:href=\"#CMR17-54\"/>\n      </g>\n     </g>\n    </g>\n    <g id=\"text_8\">\n     <!-- $x$ -->\n     <defs>\n      <path d=\"M 47.40625 40.71875 \nC 44.203125 40.109375 43 37.71875 43 35.828125 \nC 43 33.421875 44.90625 32.625 46.296875 32.625 \nC 49.296875 32.625 51.40625 35.21875 51.40625 37.921875 \nC 51.40625 42.109375 46.59375 44 42.40625 44 \nC 36.296875 44 32.90625 38.015625 32 36.125 \nC 29.703125 44 23.5 44 21.703125 44 \nC 11.5 44 6.09375 30.9375 6.09375 28.734375 \nC 6.09375 28.34375 6.5 27.84375 7.203125 27.84375 \nC 8 27.84375 8.203125 28.4375 8.40625 28.84375 \nC 11.796875 39.921875 18.5 42.015625 21.40625 42.015625 \nC 25.90625 42.015625 26.796875 37.8125 26.796875 35.421875 \nC 26.796875 33.234375 26.203125 30.9375 25 26.140625 \nL 21.59375 12.46875 \nC 20.09375 6.484375 17.203125 1 11.90625 1 \nC 11.40625 1 8.90625 1 6.796875 2.296875 \nC 10.40625 3 11.203125 5.984375 11.203125 7.1875 \nC 11.203125 9.1875 9.703125 10.375 7.796875 10.375 \nC 5.40625 10.375 2.796875 8.28125 2.796875 5.09375 \nC 2.796875 0.890625 7.5 -1 11.796875 -1 \nC 16.59375 -1 20 2.796875 22.09375 6.890625 \nC 23.703125 1 28.703125 -1 32.40625 -1 \nC 42.59375 -1 48 12.078125 48 14.265625 \nC 48 14.765625 47.59375 15.171875 47 15.171875 \nC 46.09375 15.171875 46 14.671875 45.703125 13.875 \nC 43 5.09375 37.203125 1 32.703125 1 \nC 29.203125 1 27.296875 3.59375 27.296875 7.6875 \nC 27.296875 9.875 27.703125 11.46875 29.296875 18.0625 \nL 32.796875 31.625 \nC 34.296875 37.625 37.703125 42.015625 42.296875 42.015625 \nC 42.5 42.015625 45.296875 42.015625 47.40625 40.71875 \nz\n\" id=\"CMMI12-120\"/>\n     </defs>\n     <g style=\"fill:#262626;\" transform=\"translate(214.675839 262.976611)scale(0.1 -0.1)\">\n      <use transform=\"scale(0.996264)\" xlink:href=\"#CMMI12-120\"/>\n     </g>\n    </g>\n   </g>\n   <g id=\"matplotlib.axis_2\">\n    <g id=\"ytick_1\">\n     <g id=\"line2d_8\"/>\n     <g id=\"text_9\">\n      <!-- $\\mathdefault{-1.00}$ -->\n      <defs>\n       <path d=\"M 26.59375 63.40625 \nC 26.59375 65.5 26.5 65.5 25.09375 65.5 \nC 21.203125 61.1875 15.296875 59.796875 9.703125 59.796875 \nC 9.40625 59.796875 8.90625 59.796875 8.796875 59.5 \nC 8.703125 59.296875 8.703125 59.09375 8.703125 57 \nC 11.796875 57 17 57.59375 21 59.984375 \nL 21 7.203125 \nC 21 3.6875 20.796875 2.5 12.203125 2.5 \nL 9.203125 2.5 \nL 9.203125 0 \nC 14 0 19 0 23.796875 0 \nC 28.59375 0 33.59375 0 38.40625 0 \nL 38.40625 2.5 \nL 35.40625 2.5 \nC 26.796875 2.5 26.59375 3.59375 26.59375 7.15625 \nz\n\" id=\"CMR17-49\"/>\n       <path d=\"M 18.40625 4.796875 \nC 18.40625 7.6875 16 9.671875 13.59375 9.671875 \nC 10.703125 9.671875 8.703125 7.28125 8.703125 4.890625 \nC 8.703125 2 11.09375 0 13.5 0 \nC 16.40625 0 18.40625 2.390625 18.40625 4.796875 \nz\n\" id=\"CMMI12-58\"/>\n      </defs>\n      <g style=\"fill:#262626;\" transform=\"translate(21.16264 232.823623)scale(0.1 -0.1)\">\n       <use transform=\"scale(0.996264)\" xlink:href=\"#CMSY10-0\"/>\n       <use transform=\"translate(77.487468 0)scale(0.996264)\" xlink:href=\"#CMR17-49\"/>\n       <use transform=\"translate(123.177945 0)scale(0.996264)\" xlink:href=\"#CMMI12-58\"/>\n       <use transform=\"translate(150.275122 0)scale(0.996264)\" xlink:href=\"#CMR17-48\"/>\n       <use transform=\"translate(195.965599 0)scale(0.996264)\" xlink:href=\"#CMR17-48\"/>\n      </g>\n     </g>\n    </g>\n    <g id=\"ytick_2\">\n     <g id=\"line2d_9\"/>\n     <g id=\"text_10\">\n      <!-- $\\mathdefault{-0.75}$ -->\n      <defs>\n       <path d=\"M 45.09375 61.578125 \nL 45.09375 63.765625 \nL 21.59375 63.765625 \nC 9.90625 63.765625 9.703125 65.078125 9.296875 67 \nL 7.5 67 \nL 4.59375 48.34375 \nL 6.40625 48.34375 \nC 6.703125 50.234375 7.40625 55.3125 8.59375 57.203125 \nC 9.203125 58 16.59375 58 18.296875 58 \nL 40.296875 58 \nL 29.203125 41.578125 \nC 21.796875 30.53125 16.703125 15.609375 16.703125 2.578125 \nC 16.703125 1.390625 16.703125 -2 20.296875 -2 \nC 23.90625 -2 23.90625 1.390625 23.90625 2.671875 \nL 23.90625 7.265625 \nC 23.90625 23.5625 26.703125 34.3125 31.296875 41.1875 \nz\n\" id=\"CMR17-55\"/>\n       <path d=\"M 11.40625 57.6875 \nC 12.40625 57.28125 16.5 56 20.703125 56 \nC 30 56 35.09375 61.109375 38 64.0625 \nC 38 64.953125 38 65.5 37.40625 65.5 \nC 37.296875 65.5 37.09375 65.5 36.296875 65.046875 \nC 32.796875 63.40625 28.703125 62.078125 23.703125 62.078125 \nC 20.703125 62.078125 16.203125 62.484375 11.296875 64.671875 \nC 10.203125 65.171875 10 65.171875 9.90625 65.171875 \nC 9.40625 65.171875 9.296875 65.0625 9.296875 63.078125 \nL 9.296875 34.421875 \nC 9.296875 32.640625 9.296875 32.140625 10.296875 32.140625 \nC 10.796875 32.140625 11 32.34375 11.5 33.03125 \nC 14.703125 37.515625 19.09375 39.40625 24.09375 39.40625 \nC 27.59375 39.40625 35.09375 37.21875 35.09375 20.140625 \nC 35.09375 16.953125 35.09375 11.171875 32.09375 6.578125 \nC 29.59375 2.484375 25.703125 0.390625 21.40625 0.390625 \nC 14.796875 0.390625 8.09375 5 6.296875 12.71875 \nC 6.703125 12.609375 7.5 12.421875 7.90625 12.421875 \nC 9.203125 12.421875 11.703125 13.125 11.703125 16.21875 \nC 11.703125 18.90625 9.796875 20 7.90625 20 \nC 5.59375 20 4.09375 18.59375 4.09375 15.796875 \nC 4.09375 7.09375 11 -2 21.59375 -2 \nC 31.90625 -2 41.703125 6.875 41.703125 19.75 \nC 41.703125 31.71875 33.90625 41 24.203125 41 \nC 19.09375 41 14.796875 39.109375 11.40625 35.53125 \nz\n\" id=\"CMR17-53\"/>\n      </defs>\n      <g style=\"fill:#262626;\" transform=\"translate(21.16264 208.114502)scale(0.1 -0.1)\">\n       <use transform=\"scale(0.996264)\" xlink:href=\"#CMSY10-0\"/>\n       <use transform=\"translate(77.487468 0)scale(0.996264)\" xlink:href=\"#CMR17-48\"/>\n       <use transform=\"translate(123.177945 0)scale(0.996264)\" xlink:href=\"#CMMI12-58\"/>\n       <use transform=\"translate(150.275122 0)scale(0.996264)\" xlink:href=\"#CMR17-55\"/>\n       <use transform=\"translate(195.965599 0)scale(0.996264)\" xlink:href=\"#CMR17-53\"/>\n      </g>\n     </g>\n    </g>\n    <g id=\"ytick_3\">\n     <g id=\"line2d_10\"/>\n     <g id=\"text_11\">\n      <!-- $\\mathdefault{-0.50}$ -->\n      <g style=\"fill:#262626;\" transform=\"translate(21.16264 183.405381)scale(0.1 -0.1)\">\n       <use transform=\"scale(0.996264)\" xlink:href=\"#CMSY10-0\"/>\n       <use transform=\"translate(77.487468 0)scale(0.996264)\" xlink:href=\"#CMR17-48\"/>\n       <use transform=\"translate(123.177945 0)scale(0.996264)\" xlink:href=\"#CMMI12-58\"/>\n       <use transform=\"translate(150.275122 0)scale(0.996264)\" xlink:href=\"#CMR17-53\"/>\n       <use transform=\"translate(195.965599 0)scale(0.996264)\" xlink:href=\"#CMR17-48\"/>\n      </g>\n     </g>\n    </g>\n    <g id=\"ytick_4\">\n     <g id=\"line2d_11\"/>\n     <g id=\"text_12\">\n      <!-- $\\mathdefault{-0.25}$ -->\n      <g style=\"fill:#262626;\" transform=\"translate(21.16264 158.696259)scale(0.1 -0.1)\">\n       <use transform=\"scale(0.996264)\" xlink:href=\"#CMSY10-0\"/>\n       <use transform=\"translate(77.487468 0)scale(0.996264)\" xlink:href=\"#CMR17-48\"/>\n       <use transform=\"translate(123.177945 0)scale(0.996264)\" xlink:href=\"#CMMI12-58\"/>\n       <use transform=\"translate(150.275122 0)scale(0.996264)\" xlink:href=\"#CMR17-50\"/>\n       <use transform=\"translate(195.965599 0)scale(0.996264)\" xlink:href=\"#CMR17-53\"/>\n      </g>\n     </g>\n    </g>\n    <g id=\"ytick_5\">\n     <g id=\"line2d_12\"/>\n     <g id=\"text_13\">\n      <!-- $\\mathdefault{0.00}$ -->\n      <g style=\"fill:#262626;\" transform=\"translate(28.911384 133.987138)scale(0.1 -0.1)\">\n       <use transform=\"scale(0.996264)\" xlink:href=\"#CMR17-48\"/>\n       <use transform=\"translate(45.690477 0)scale(0.996264)\" xlink:href=\"#CMMI12-58\"/>\n       <use transform=\"translate(72.787654 0)scale(0.996264)\" xlink:href=\"#CMR17-48\"/>\n       <use transform=\"translate(118.478131 0)scale(0.996264)\" xlink:href=\"#CMR17-48\"/>\n      </g>\n     </g>\n    </g>\n    <g id=\"ytick_6\">\n     <g id=\"line2d_13\"/>\n     <g id=\"text_14\">\n      <!-- $\\mathdefault{0.25}$ -->\n      <g style=\"fill:#262626;\" transform=\"translate(28.911384 109.278016)scale(0.1 -0.1)\">\n       <use transform=\"scale(0.996264)\" xlink:href=\"#CMR17-48\"/>\n       <use transform=\"translate(45.690477 0)scale(0.996264)\" xlink:href=\"#CMMI12-58\"/>\n       <use transform=\"translate(72.787654 0)scale(0.996264)\" xlink:href=\"#CMR17-50\"/>\n       <use transform=\"translate(118.478131 0)scale(0.996264)\" xlink:href=\"#CMR17-53\"/>\n      </g>\n     </g>\n    </g>\n    <g id=\"ytick_7\">\n     <g id=\"line2d_14\"/>\n     <g id=\"text_15\">\n      <!-- $\\mathdefault{0.50}$ -->\n      <g style=\"fill:#262626;\" transform=\"translate(28.911384 84.568895)scale(0.1 -0.1)\">\n       <use transform=\"scale(0.996264)\" xlink:href=\"#CMR17-48\"/>\n       <use transform=\"translate(45.690477 0)scale(0.996264)\" xlink:href=\"#CMMI12-58\"/>\n       <use transform=\"translate(72.787654 0)scale(0.996264)\" xlink:href=\"#CMR17-53\"/>\n       <use transform=\"translate(118.478131 0)scale(0.996264)\" xlink:href=\"#CMR17-48\"/>\n      </g>\n     </g>\n    </g>\n    <g id=\"ytick_8\">\n     <g id=\"line2d_15\"/>\n     <g id=\"text_16\">\n      <!-- $\\mathdefault{0.75}$ -->\n      <g style=\"fill:#262626;\" transform=\"translate(28.911384 59.859773)scale(0.1 -0.1)\">\n       <use transform=\"scale(0.996264)\" xlink:href=\"#CMR17-48\"/>\n       <use transform=\"translate(45.690477 0)scale(0.996264)\" xlink:href=\"#CMMI12-58\"/>\n       <use transform=\"translate(72.787654 0)scale(0.996264)\" xlink:href=\"#CMR17-55\"/>\n       <use transform=\"translate(118.478131 0)scale(0.996264)\" xlink:href=\"#CMR17-53\"/>\n      </g>\n     </g>\n    </g>\n    <g id=\"ytick_9\">\n     <g id=\"line2d_16\"/>\n     <g id=\"text_17\">\n      <!-- $\\mathdefault{1.00}$ -->\n      <g style=\"fill:#262626;\" transform=\"translate(28.911384 35.150652)scale(0.1 -0.1)\">\n       <use transform=\"scale(0.996264)\" xlink:href=\"#CMR17-49\"/>\n       <use transform=\"translate(45.690477 0)scale(0.996264)\" xlink:href=\"#CMMI12-58\"/>\n       <use transform=\"translate(72.787654 0)scale(0.996264)\" xlink:href=\"#CMR17-48\"/>\n       <use transform=\"translate(118.478131 0)scale(0.996264)\" xlink:href=\"#CMR17-48\"/>\n      </g>\n     </g>\n    </g>\n    <g id=\"text_18\">\n     <!-- $f(x)$ -->\n     <defs>\n      <path d=\"M 44.59375 40.09375 \nC 46.59375 40.09375 47.40625 40.09375 47.40625 42 \nC 47.40625 43 46.59375 43 44.796875 43 \nL 36.703125 43 \nC 38.59375 53.578125 40 60.890625 40.796875 64.171875 \nC 41.40625 66.640625 43.5 69 46.09375 69 \nC 48.203125 69 50.296875 68.09375 51.296875 67.15625 \nC 47.40625 66.75 46.203125 63.78125 46.203125 62.015625 \nC 46.203125 59.953125 47.703125 58.734375 49.59375 58.734375 \nC 51.59375 58.734375 54.59375 60.46875 54.59375 64.359375 \nC 54.59375 68.640625 50.40625 71 46 71 \nC 41.703125 71 37.5 67.71875 35.5 63.71875 \nC 33.703125 60.125 32.703125 56.421875 30.40625 43 \nL 23.703125 43 \nC 21.796875 43 20.796875 43 20.796875 41.203125 \nC 20.796875 40.09375 21.40625 40.09375 23.40625 40.09375 \nL 29.796875 40.09375 \nC 28 30.875 23.90625 8.46875 21.59375 -2.140625 \nC 19.90625 -10.765625 18.40625 -18 13.40625 -18 \nC 13.09375 -18 10.203125 -18 8.40625 -16.109375 \nC 13.5 -15.703125 13.5 -11.34375 13.5 -11.25 \nC 13.5 -9.265625 12 -8.078125 10.09375 -8.078125 \nC 8.09375 -8.078125 5.09375 -9.765625 5.09375 -13.546875 \nC 5.09375 -17.8125 9.5 -20 13.40625 -20 \nC 23.59375 -20 27.796875 -1.84375 28.90625 3.109375 \nC 30.703125 10.75 35.59375 37.125 36.09375 40.09375 \nz\n\" id=\"CMMI12-102\"/>\n      <path d=\"M 30.59375 -24.390625 \nC 30.59375 -24.296875 30.59375 -24.09375 30.296875 -23.796875 \nC 25.703125 -19.125 13.40625 -6.359375 13.40625 24.703125 \nC 13.40625 55.765625 25.5 68.421875 30.40625 73.390625 \nC 30.40625 73.5 30.59375 73.703125 30.59375 74 \nC 30.59375 74.296875 30.296875 74.5 29.90625 74.5 \nC 28.796875 74.5 20.296875 67.125 15.40625 56.15625 \nC 10.40625 45.109375 9 34.359375 9 24.8125 \nC 9 17.625 9.703125 5.484375 15.703125 -7.359375 \nC 20.5 -17.734375 28.703125 -25 29.90625 -25 \nC 30.40625 -25 30.59375 -24.796875 30.59375 -24.390625 \nz\n\" id=\"CMR17-40\"/>\n      <path d=\"M 26.296875 24.703125 \nC 26.296875 31.875 25.59375 44.015625 19.59375 56.859375 \nC 14.796875 67.234375 6.59375 74.5 5.40625 74.5 \nC 5.09375 74.5 4.703125 74.390625 4.703125 73.890625 \nC 4.703125 73.703125 4.796875 73.59375 4.90625 73.390625 \nC 9.703125 68.40625 21.90625 55.75 21.90625 24.75 \nC 21.90625 -6.359375 9.796875 -19.015625 4.90625 -24.015625 \nC 4.796875 -24.203125 4.703125 -24.3125 4.703125 -24.5 \nC 4.703125 -25 5.09375 -25 5.40625 -25 \nC 6.5 -25 15 -17.625 19.90625 -6.65625 \nC 24.90625 4.390625 26.296875 15.140625 26.296875 24.703125 \nz\n\" id=\"CMR17-41\"/>\n     </defs>\n     <g style=\"fill:#262626;\" transform=\"translate(14.67198 140.134289)rotate(-90)scale(0.1 -0.1)\">\n      <use transform=\"scale(0.996264)\" xlink:href=\"#CMMI12-102\"/>\n      <use transform=\"translate(58.720305 0)scale(0.996264)\" xlink:href=\"#CMR17-40\"/>\n      <use transform=\"translate(94.001073 0)scale(0.996264)\" xlink:href=\"#CMMI12-120\"/>\n      <use transform=\"translate(149.435132 0)scale(0.996264)\" xlink:href=\"#CMR17-41\"/>\n     </g>\n    </g>\n   </g>\n   <g id=\"line2d_17\">\n    <path clip-path=\"url(#p832736c5f6)\" d=\"M 65.340976 228.8206 \nL 65.950313 229.171934 \nL 66.55965 229.273344 \nL 67.168988 229.124593 \nL 67.778325 228.726048 \nL 68.387662 228.078732 \nL 68.997 227.184261 \nL 69.606337 226.04492 \nL 70.825012 223.043739 \nL 72.043686 219.105553 \nL 73.262361 214.270221 \nL 74.481024 208.586663 \nL 76.309036 198.598893 \nL 78.137048 187.061005 \nL 80.269728 171.992738 \nL 83.011746 150.800517 \nL 89.714445 96.922042 \nL 92.151795 79.011136 \nL 93.979795 66.903766 \nL 95.807807 56.241286 \nL 97.33115 48.63567 \nL 98.549825 43.476798 \nL 99.7685 39.197812 \nL 100.987174 35.842009 \nL 102.205849 33.443336 \nL 102.815186 32.61091 \nL 103.424523 32.026088 \nL 104.033849 31.690353 \nL 104.643187 31.604578 \nL 105.252524 31.768964 \nL 105.861861 32.183086 \nL 106.471199 32.845907 \nL 107.080536 33.755754 \nL 107.689873 34.910318 \nL 108.908548 37.941284 \nL 110.127222 41.90816 \nL 111.345897 46.770779 \nL 112.564572 52.479964 \nL 114.392572 62.50248 \nL 116.220584 74.069976 \nL 118.353265 89.165436 \nL 121.095277 110.379678 \nL 127.797982 164.246148 \nL 130.235331 182.12999 \nL 132.063337 194.209966 \nL 133.891349 204.839644 \nL 135.414692 212.41432 \nL 136.633361 217.546446 \nL 137.852036 221.797191 \nL 139.070711 225.123538 \nL 140.289385 227.49186 \nL 140.898717 228.308863 \nL 141.508054 228.878156 \nL 142.117391 229.198279 \nL 142.726729 229.268431 \nL 143.336066 229.088422 \nL 143.945403 228.658712 \nL 144.554741 227.980398 \nL 145.164078 227.055187 \nL 145.773409 225.885424 \nL 146.992084 222.824684 \nL 148.210759 218.829165 \nL 149.429433 213.939305 \nL 150.648108 208.204542 \nL 152.476114 198.147386 \nL 154.304126 186.550387 \nL 156.436801 171.427898 \nL 159.178819 150.191824 \nL 165.881518 96.337914 \nL 168.318867 78.481301 \nL 170.146876 66.428848 \nL 171.974885 55.832078 \nL 173.498229 48.288401 \nL 174.7169 43.183091 \nL 175.935575 38.960624 \nL 177.154247 35.663744 \nL 178.372921 33.325821 \nL 178.982259 32.524228 \nL 179.591593 31.970476 \nL 180.200931 31.665964 \nL 180.810268 31.611448 \nL 181.419605 31.807091 \nL 182.02894 32.252365 \nL 182.638277 32.946174 \nL 183.247614 33.886749 \nL 184.466286 36.498044 \nL 185.684961 40.059846 \nL 186.903632 44.536115 \nL 188.122307 49.881546 \nL 189.645647 57.702412 \nL 191.473659 68.592454 \nL 193.301668 80.888987 \nL 195.739015 98.985063 \nL 199.395036 128.266808 \nL 203.96506 164.829604 \nL 206.402404 182.658788 \nL 208.230415 194.683611 \nL 210.058425 205.247368 \nL 211.581765 212.759963 \nL 212.80044 217.838422 \nL 214.019111 222.032565 \nL 215.237786 225.299929 \nL 216.456458 227.607467 \nL 217.065795 228.393624 \nL 217.675132 228.931824 \nL 218.28447 229.220736 \nL 218.893804 229.259606 \nL 219.503141 229.048339 \nL 220.112479 228.587489 \nL 220.721816 227.878199 \nL 221.331151 226.922283 \nL 222.549825 224.280826 \nL 223.7685 220.689862 \nL 224.987172 216.185705 \nL 226.205843 210.813928 \nL 227.729187 202.962747 \nL 229.557196 192.04074 \nL 231.385205 179.717791 \nL 233.822554 161.596077 \nL 237.478572 132.298391 \nL 241.743928 98.094255 \nL 244.181274 80.076885 \nL 246.009283 67.861131 \nL 247.837295 57.068481 \nL 249.360635 49.339894 \nL 250.57931 44.074523 \nL 251.797982 39.682992 \nL 253.016657 36.209744 \nL 254.235328 33.689915 \nL 254.844666 32.795879 \nL 255.454003 32.148988 \nL 256.063337 31.75089 \nL 256.672675 31.602576 \nL 257.282012 31.704421 \nL 257.891349 32.056191 \nL 258.500684 32.656967 \nL 259.110021 33.505252 \nL 259.719358 34.59889 \nL 260.93803 37.510514 \nL 262.156705 41.362395 \nL 263.375377 46.115558 \nL 264.594051 51.721907 \nL 266.117392 59.842453 \nL 267.945404 71.047092 \nL 269.77341 83.602399 \nL 272.210759 101.94669 \nL 281.350807 174.52164 \nL 283.483488 189.337803 \nL 285.311494 200.603191 \nL 287.139506 210.272865 \nL 288.358181 215.722593 \nL 289.57685 220.309378 \nL 290.795524 223.986835 \nL 292.014199 226.717744 \nL 292.623536 227.719233 \nL 293.232873 228.474485 \nL 293.842211 228.981593 \nL 294.451542 229.23927 \nL 295.06088 229.246869 \nL 295.670217 229.004368 \nL 296.279554 228.512389 \nL 296.888892 227.772159 \nL 297.498229 226.785562 \nL 298.716904 224.083874 \nL 299.935572 220.434671 \nL 301.154247 215.874866 \nL 302.372922 210.450588 \nL 303.896265 202.538987 \nL 305.724271 191.553415 \nL 307.552283 179.177965 \nL 309.989627 161.00554 \nL 313.950319 129.190393 \nL 317.911006 97.507501 \nL 320.348355 79.542997 \nL 322.176356 67.381194 \nL 324.004368 56.653429 \nL 325.527711 48.986168 \nL 326.746386 43.773946 \nL 327.96506 39.438605 \nL 329.183735 36.024009 \nL 330.40241 33.564717 \nL 331.011747 32.701457 \nL 331.621073 32.0856 \nL 332.23041 31.718678 \nL 332.839747 31.601621 \nL 333.449085 31.734749 \nL 334.058422 32.117694 \nL 334.667759 32.749505 \nL 335.277097 33.628588 \nL 335.886434 34.752707 \nL 337.105108 37.724055 \nL 338.323783 41.633516 \nL 339.542458 46.441513 \nL 340.761132 52.099386 \nL 342.284464 60.278914 \nL 344.112476 71.545151 \nL 345.940488 84.15072 \nL 348.377837 102.542494 \nL 357.517886 175.077137 \nL 359.650566 189.835838 \nL 361.478567 201.039605 \nL 363.00191 209.159315 \nL 364.220585 214.764945 \nL 365.439259 219.517342 \nL 366.657934 223.36841 \nL 367.876609 226.279209 \nL 368.485946 227.372411 \nL 369.095283 228.22026 \nL 369.70462 228.8206 \nL 369.70462 228.8206 \n\" style=\"fill:none;stroke:#1f77b4;stroke-linecap:round;stroke-width:1.5;\"/>\n   </g>\n   <g id=\"line2d_18\">\n    <path clip-path=\"url(#p832736c5f6)\" d=\"M 50.122798 130.437977 \nL 384.922798 130.437977 \n\" style=\"fill:none;stroke:#000000;stroke-linecap:round;stroke-width:0.5;\"/>\n   </g>\n   <g id=\"line2d_19\">\n    <path clip-path=\"url(#p832736c5f6)\" d=\"M 217.522798 239.157984 \nL 217.522798 21.717984 \n\" style=\"fill:none;stroke:#000000;stroke-linecap:round;stroke-width:0.5;\"/>\n   </g>\n   <g id=\"patch_3\">\n    <path d=\"M 50.122798 239.157984 \nL 50.122798 21.717984 \n\" style=\"fill:none;stroke:#262626;stroke-linecap:square;stroke-linejoin:miter;stroke-width:1.25;\"/>\n   </g>\n   <g id=\"patch_4\">\n    <path d=\"M 384.922798 239.157984 \nL 384.922798 21.717984 \n\" style=\"fill:none;stroke:#262626;stroke-linecap:square;stroke-linejoin:miter;stroke-width:1.25;\"/>\n   </g>\n   <g id=\"patch_5\">\n    <path d=\"M 50.122798 239.157984 \nL 384.922798 239.157984 \n\" style=\"fill:none;stroke:#262626;stroke-linecap:square;stroke-linejoin:miter;stroke-width:1.25;\"/>\n   </g>\n   <g id=\"patch_6\">\n    <path d=\"M 50.122798 21.717984 \nL 384.922798 21.717984 \n\" style=\"fill:none;stroke:#262626;stroke-linecap:square;stroke-linejoin:miter;stroke-width:1.25;\"/>\n   </g>\n   <g id=\"text_19\">\n    <!-- $\\textbf{Plot Title}$ -->\n    <defs>\n     <path d=\"M 22.59375 26 \nL 41.296875 26 \nC 54.703125 26 63.296875 35.515625 63.296875 50.359375 \nC 63.296875 64.984375 55 73 39.796875 73 \nL 7.59375 73 \nL 7.59375 -0.03125 \nL 22.59375 -0.03125 \nz\nM 22.59375 38.515625 \nL 22.59375 60.46875 \nL 36.59375 60.46875 \nC 44.59375 60.46875 48.296875 56.96875 48.296875 49.453125 \nC 48.296875 42.03125 44.59375 38.515625 36.59375 38.515625 \nz\n\" id=\"Nimbus_Sans_L_Bold-80\"/>\n     <path d=\"M 20.703125 73 \nL 6.703125 73 \nL 6.703125 -0.03125 \nL 20.703125 -0.03125 \nz\n\" id=\"Nimbus_Sans_L_Bold-108\"/>\n     <path d=\"M 30.09375 55.328125 \nC 13.59375 55.328125 3.5 44.40625 3.5 26.65625 \nC 3.5 8.8125 13.59375 -2 30.203125 -2 \nC 46.59375 -2 56.90625 8.90625 56.90625 26.25 \nC 56.90625 44.609375 47 55.328125 30.09375 55.328125 \nz\nM 30.203125 44 \nC 37.90625 44 42.90625 37.09375 42.90625 26.453125 \nC 42.90625 16.328125 37.703125 9.3125 30.203125 9.3125 \nC 22.59375 9.3125 17.5 16.328125 17.5 26.65625 \nC 17.5 36.984375 22.59375 44 30.203125 44 \nz\n\" id=\"Nimbus_Sans_L_Bold-111\"/>\n     <path d=\"M 30.09375 53.3125 \nL 22.296875 53.3125 \nL 22.296875 68 \nL 8.296875 68 \nL 8.296875 53.3125 \nL 1.40625 53.3125 \nL 1.40625 44 \nL 8.296875 44 \nL 8.296875 10.734375 \nC 8.296875 2.203125 12.796875 -2 22 -2 \nC 25.09375 -2 27.59375 -1.703125 30.09375 -0.90625 \nL 30.09375 8.90625 \nC 28.703125 8.71875 27.90625 8.609375 26.90625 8.609375 \nC 23.203125 8.609375 22.296875 9.71875 22.296875 14.515625 \nL 22.296875 44 \nL 30.09375 44 \nz\n\" id=\"Nimbus_Sans_L_Bold-116\"/>\n     <path d=\"M 38.5 60.46875 \nL 59.796875 60.46875 \nL 59.796875 73 \nL 1.40625 73 \nL 1.40625 60.46875 \nL 23.5 60.46875 \nL 23.5 -0.03125 \nL 38.5 -0.03125 \nz\n\" id=\"Nimbus_Sans_L_Bold-84\"/>\n     <path d=\"M 20.703125 54.09375 \nL 6.703125 54.09375 \nL 6.703125 0 \nL 20.703125 0 \nz\nM 20.703125 73 \nL 6.703125 73 \nL 6.703125 60.46875 \nL 20.703125 60.46875 \nz\n\" id=\"Nimbus_Sans_L_Bold-105\"/>\n     <path d=\"M 52.40625 23 \nC 52.5 24.1875 52.5 24.6875 52.5 25.375 \nC 52.5 30.71875 51.703125 35.671875 50.40625 39.4375 \nC 46.796875 49.140625 38.09375 55 27.203125 55 \nC 11.703125 55 2.203125 43.84375 2.203125 25.796875 \nC 2.203125 8.546875 11.59375 -2 26.90625 -2 \nC 39 -2 48.796875 4.921875 51.90625 15.546875 \nL 38.09375 15.546875 \nC 36.40625 11.234375 32.5 8.71875 27.40625 8.71875 \nC 23.40625 8.71875 20.203125 10.421875 18.203125 13.4375 \nC 16.90625 15.453125 16.40625 17.875 16.203125 23 \nz\nM 16.40625 32.3125 \nC 17.296875 40.296875 20.796875 44.28125 27 44.28125 \nC 30.5 44.28125 33.703125 42.625 35.703125 39.890625 \nC 37 37.953125 37.59375 35.90625 37.90625 32.3125 \nz\n\" id=\"Nimbus_Sans_L_Bold-101\"/>\n    </defs>\n    <g style=\"fill:#262626;\" transform=\"translate(192.279851 15.717984)scale(0.12 -0.12)\">\n     <use transform=\"scale(0.996264)\" xlink:href=\"#Nimbus_Sans_L_Bold-80\"/>\n     <use transform=\"translate(66.450031 0)scale(0.996264)\" xlink:href=\"#Nimbus_Sans_L_Bold-108\"/>\n     <use transform=\"translate(94.145201 0)scale(0.996264)\" xlink:href=\"#Nimbus_Sans_L_Bold-111\"/>\n     <use transform=\"translate(155.016831 0)scale(0.996264)\" xlink:href=\"#Nimbus_Sans_L_Bold-116\"/>\n     <use transform=\"translate(215.887231 0)scale(0.996264)\" xlink:href=\"#Nimbus_Sans_L_Bold-84\"/>\n     <use transform=\"translate(276.758861 0)scale(0.996264)\" xlink:href=\"#Nimbus_Sans_L_Bold-105\"/>\n     <use transform=\"translate(304.454031 0)scale(0.996264)\" xlink:href=\"#Nimbus_Sans_L_Bold-116\"/>\n     <use transform=\"translate(337.629261 0)scale(0.996264)\" xlink:href=\"#Nimbus_Sans_L_Bold-108\"/>\n     <use transform=\"translate(365.32443 0)scale(0.996264)\" xlink:href=\"#Nimbus_Sans_L_Bold-101\"/>\n    </g>\n   </g>\n  </g>\n </g>\n <defs>\n  <clipPath id=\"p832736c5f6\">\n   <rect height=\"217.44\" width=\"334.8\" x=\"50.122798\" y=\"21.717984\"/>\n  </clipPath>\n </defs>\n</svg>\n"
          },
          "metadata": {}
        }
      ]
    },
    {
      "cell_type": "markdown",
      "metadata": {
        "id": "u_ZzGCju3oZT"
      },
      "source": [
        "## Grab (download) the generated `.tex` file\n",
        "\n",
        "- We have saved the file as `test.tex`. If you run the following code block (after uncommenting it), you will be able to see the contents of the `.tex` file. \n",
        "\n",
        "- Click the folder icon 📂 on the left control-bar in colab and then you can find the `test.tex` file. \n",
        "\n",
        "- Right click on the file and download it."
      ]
    },
    {
      "cell_type": "code",
      "metadata": {
        "id": "6LLAjfYy_Cky"
      },
      "source": [
        "#! cat test.tex"
      ],
      "execution_count": 49,
      "outputs": []
    }
  ]
}