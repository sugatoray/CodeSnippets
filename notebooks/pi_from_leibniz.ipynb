{
  "nbformat": 4,
  "nbformat_minor": 0,
  "metadata": {
    "colab": {
      "name": "pi_from_leibniz.ipynb",
      "provenance": [],
      "collapsed_sections": [],
      "authorship_tag": "ABX9TyPNnnnjvCvo+r/HfZ9XjnGc",
      "include_colab_link": true
    },
    "kernelspec": {
      "name": "python3",
      "display_name": "Python 3"
    },
    "language_info": {
      "name": "python"
    }
  },
  "cells": [
    {
      "cell_type": "markdown",
      "metadata": {
        "id": "view-in-github",
        "colab_type": "text"
      },
      "source": [
        "<a href=\"https://colab.research.google.com/github/sugatoray/CodeSnippets/blob/master/notebooks/pi_from_leibniz.ipynb\" target=\"_parent\"><img src=\"https://colab.research.google.com/assets/colab-badge.svg\" alt=\"Open In Colab\"/></a>"
      ]
    },
    {
      "cell_type": "markdown",
      "source": [
        "# Estimating Pi ($\\pi$) from Leibniz Formula\n",
        "\n",
        "- https://en.wikipedia.org/wiki/Leibniz_formula_for_%CF%80\n",
        "\n",
        "$$ 1 - \\frac{1}{3} + \\frac{1}{5} - \\frac{1}{7} + \\frac{1}{9} - \\cdots = \\frac{\\pi}{4} $$\n",
        "\n",
        "$$ \\sum_{k=0} ^{n} {\\frac{\\left(-1\\right)^k}{2k + 1}} = \\frac{\\pi}{4} $$"
      ],
      "metadata": {
        "id": "Vz5GE0DxpGM3"
      }
    },
    {
      "cell_type": "code",
      "execution_count": 12,
      "metadata": {
        "id": "QCASft9notUB"
      },
      "outputs": [],
      "source": [
        "import numpy as np\n",
        "import numba"
      ]
    },
    {
      "cell_type": "code",
      "source": [
        "@numba.jit\n",
        "def f(k: int):\n",
        "    \"\"\"Returns the k-th term in Leibniz Formula.\"\"\"\n",
        "    return (-1)**(k % 2) / (2 * k + 1) "
      ],
      "metadata": {
        "id": "x_A8QmctrAbF"
      },
      "execution_count": 13,
      "outputs": []
    },
    {
      "cell_type": "code",
      "source": [
        "@numba.jit\n",
        "def leibniz(n: int, start=0, total=0.0):\n",
        "    for i in range(start, start + n):\n",
        "        total += f(i)\n",
        "    return total"
      ],
      "metadata": {
        "id": "9_jxK3ZSr-ex"
      },
      "execution_count": 18,
      "outputs": []
    },
    {
      "cell_type": "code",
      "source": [
        "N1 = leibniz(n=10**9)\n",
        "N1 * 4"
      ],
      "metadata": {
        "colab": {
          "base_uri": "https://localhost:8080/",
          "height": 0
        },
        "id": "iwL6OpJRtQA7",
        "outputId": "23c91f62-804f-4641-d1c3-66a68020d2c0"
      },
      "execution_count": 16,
      "outputs": [
        {
          "output_type": "execute_result",
          "data": {
            "text/plain": [
              "3.1415926525880504"
            ]
          },
          "metadata": {},
          "execution_count": 16
        }
      ]
    },
    {
      "cell_type": "code",
      "source": [
        "np.pi"
      ],
      "metadata": {
        "colab": {
          "base_uri": "https://localhost:8080/",
          "height": 0
        },
        "id": "bwganioltgYI",
        "outputId": "9bfe30f2-e713-4303-984d-f07ae47ad444"
      },
      "execution_count": 21,
      "outputs": [
        {
          "output_type": "execute_result",
          "data": {
            "text/plain": [
              "3.141592653589793"
            ]
          },
          "metadata": {},
          "execution_count": 21
        }
      ]
    },
    {
      "cell_type": "code",
      "source": [
        "num_steps = 10**(9)\n",
        "T = 0.0\n",
        "for i in range(20):\n",
        "    T = leibniz(n=num_steps, start=(i * num_steps), total=T)\n",
        "    pi = T * 4\n",
        "    print({'pi': pi, 'PI': np.pi, 'Delta': (pi / np.pi - 1.0)})"
      ],
      "metadata": {
        "colab": {
          "base_uri": "https://localhost:8080/",
          "height": 0
        },
        "id": "8-72D9Rkvs6T",
        "outputId": "fc9d3544-4203-44ac-e001-42e3d82d4940"
      },
      "execution_count": 25,
      "outputs": [
        {
          "output_type": "stream",
          "name": "stdout",
          "text": [
            "{'pi': 3.1415926525880504, 'PI': 3.141592653589793, 'Delta': -3.1886460138963457e-10}\n",
            "{'pi': 3.1415926530880767, 'PI': 3.141592653589793, 'Delta': -1.5970125222253273e-10}\n",
            "{'pi': 3.1415926532549254, 'PI': 3.141592653589793, 'Delta': -1.0659173543814404e-10}\n",
            "{'pi': 3.1415926533379395, 'PI': 3.141592653589793, 'Delta': -8.016753927364562e-11}\n",
            "{'pi': 3.141592653388201, 'PI': 3.141592653589793, 'Delta': -6.416878139958726e-11}\n",
            "{'pi': 3.141592653421575, 'PI': 3.141592653589793, 'Delta': -5.354561238846145e-11}\n",
            "{'pi': 3.1415926534453438, 'PI': 3.141592653589793, 'Delta': -4.597966452024593e-11}\n",
            "{'pi': 3.1415926534632597, 'PI': 3.141592653589793, 'Delta': -4.0276892931956354e-11}\n",
            "{'pi': 3.1415926534771974, 'PI': 3.141592653589793, 'Delta': -3.5840330703251766e-11}\n",
            "{'pi': 3.141592653488346, 'PI': 3.141592653589793, 'Delta': -3.229172484964238e-11}\n",
            "{'pi': 3.1415926534974092, 'PI': 3.141592653589793, 'Delta': -2.9406699297851446e-11}\n",
            "{'pi': 3.14159265350503, 'PI': 3.141592653589793, 'Delta': -2.6980973011347942e-11}\n",
            "{'pi': 3.1415926535114695, 'PI': 3.141592653589793, 'Delta': -2.4931168240982515e-11}\n",
            "{'pi': 3.1415926535169376, 'PI': 3.141592653589793, 'Delta': -2.3190671605277657e-11}\n",
            "{'pi': 3.1415926535216876, 'PI': 3.141592653589793, 'Delta': -2.1678658868040657e-11}\n",
            "{'pi': 3.141592653525827, 'PI': 3.141592653589793, 'Delta': -2.036104618241552e-11}\n",
            "{'pi': 3.141592653529473, 'PI': 3.141592653589793, 'Delta': -1.9200530054774845e-11}\n",
            "{'pi': 3.1415926535327663, 'PI': 3.141592653589793, 'Delta': -1.8152257474923772e-11}\n",
            "{'pi': 3.141592653535702, 'PI': 3.141592653589793, 'Delta': -1.7217671732794315e-11}\n",
            "{'pi': 3.1415926535383965, 'PI': 3.141592653589793, 'Delta': -1.6360024446271382e-11}\n"
          ]
        }
      ]
    },
    {
      "cell_type": "code",
      "source": [
        ""
      ],
      "metadata": {
        "id": "NiaQ-ZBuvOVN"
      },
      "execution_count": null,
      "outputs": []
    }
  ]
}