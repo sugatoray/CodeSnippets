{
  "nbformat": 4,
  "nbformat_minor": 0,
  "metadata": {
    "colab": {
      "name": "testdrive_sklearn_1.0.ipynb",
      "provenance": [],
      "collapsed_sections": [
        "gqBaQldsq2ee"
      ],
      "authorship_tag": "ABX9TyPrbaLmKyqSrSyUK+ni1NQa",
      "include_colab_link": true
    },
    "kernelspec": {
      "name": "python3",
      "display_name": "Python 3"
    },
    "language_info": {
      "name": "python"
    }
  },
  "cells": [
    {
      "cell_type": "markdown",
      "metadata": {
        "id": "view-in-github",
        "colab_type": "text"
      },
      "source": [
        "<a href=\"https://colab.research.google.com/github/sugatoray/CodeSnippets/blob/master/notebooks/testdrive_sklearn_(v1.0.rc1).ipynb\" target=\"_parent\"><img src=\"https://colab.research.google.com/assets/colab-badge.svg\" alt=\"Open In Colab\"/></a>"
      ]
    },
    {
      "cell_type": "markdown",
      "metadata": {
        "id": "c7eiW3ATcwRm"
      },
      "source": [
        "# Test Drive Scikit-learn `1.0.X`\n",
        "\n",
        "GitHub: https://github.com/scikit-learn/scikit-learn/tree/1.0.X\n",
        "\n",
        "Know more about python package versioning syntax:\n",
        "\n",
        "- [x] https://www.python.org/dev/peps/pep-0440/\n",
        "- [x] https://devguide.python.org/devcycle/#secbranch\n",
        "- [x] https://pythonpackaging.info/07-Package-Release.html\n",
        "\n",
        "A note on nightly builds:\n",
        "\n",
        "- [x] https://scikit-learn.org/stable/developers/advanced_installation.html#installing-nightly-builds\n",
        "\n",
        "```sh\n",
        "pip install --pre --extra-index https://pypi.anaconda.org/scipy-wheels-nightly/simple scikit-learn\n",
        "```"
      ]
    },
    {
      "cell_type": "markdown",
      "metadata": {
        "id": "UvdkjPeJqyO8"
      },
      "source": [
        "## Overview of Installation Steps"
      ]
    },
    {
      "cell_type": "markdown",
      "metadata": {
        "id": "N57hV2o7pgdV"
      },
      "source": [
        "### Step: 1\n",
        "\n",
        "Observe the latest stable version.\n",
        "\n",
        "![latest-stable-version][#image-lsv]\n",
        "\n",
        "### Step: 2 \n",
        "\n",
        "Select the correct branch.\n",
        "\n",
        "![barnch-1.0.X][#image-branch]\n",
        "\n",
        "### Step: 3\n",
        "\n",
        "Install with `pip` directly from the relevant branch on github.\n",
        "\n",
        "![command][#image-command]\n",
        "\n",
        "[#image-branch]: https://i.imgur.com/Gneuv0o.png\n",
        "[#image-lsv]: https://i.imgur.com/9V22jnT.png\n",
        "[#image-command]: https://i.imgur.com/I6ehGWD.png"
      ]
    },
    {
      "cell_type": "markdown",
      "metadata": {
        "id": "gqBaQldsq2ee"
      },
      "source": [
        "## Install Scikit-learn"
      ]
    },
    {
      "cell_type": "code",
      "metadata": {
        "colab": {
          "base_uri": "https://localhost:8080/",
          "height": 35
        },
        "id": "hnkmtpRDcftl",
        "outputId": "6c8aacf4-1ed0-4b46-e95d-e2f18ce78be3"
      },
      "source": [
        "REPO_URL = \"https://github.com/scikit-learn/scikit-learn\"\n",
        "BRANCH = \"1.0.X\"\n",
        "EGG_NAME = \"scikit-learn\"\n",
        "\n",
        "pip_from_git = f\"git+{ REPO_URL }\" + (f\"@{ BRANCH }\" if BRANCH else \"\") + (f\"#egg={ EGG_NAME }\" if EGG_NAME else \"\")\n",
        "pip_from_git"
      ],
      "execution_count": 1,
      "outputs": [
        {
          "output_type": "execute_result",
          "data": {
            "application/vnd.google.colaboratory.intrinsic+json": {
              "type": "string"
            },
            "text/plain": [
              "'git+https://github.com/scikit-learn/scikit-learn@1.0.X#egg=scikit-learn'"
            ]
          },
          "metadata": {},
          "execution_count": 1
        }
      ]
    },
    {
      "cell_type": "code",
      "metadata": {
        "colab": {
          "base_uri": "https://localhost:8080/"
        },
        "id": "UTYA_iuKeSIz",
        "outputId": "237ea8d7-88ac-476f-c506-d63c2eebf8b5"
      },
      "source": [
        "! echo { pip_from_git }"
      ],
      "execution_count": 2,
      "outputs": [
        {
          "output_type": "stream",
          "name": "stdout",
          "text": [
            "git+https://github.com/scikit-learn/scikit-learn@1.0.X#egg=scikit-learn\n"
          ]
        }
      ]
    },
    {
      "cell_type": "code",
      "metadata": {
        "colab": {
          "base_uri": "https://localhost:8080/"
        },
        "id": "dmP1hIQAed6Z",
        "outputId": "72c5b9f6-1ba8-48d7-f210-257898cc3acf"
      },
      "source": [
        "! pip install -U { pip_from_git }"
      ],
      "execution_count": 4,
      "outputs": [
        {
          "output_type": "stream",
          "name": "stdout",
          "text": [
            "Collecting scikit-learn\n",
            "  Cloning https://github.com/scikit-learn/scikit-learn (to revision 1.0.X) to /tmp/pip-install-394a9s5e/scikit-learn_c3b4d5bc59764c4194a59504eaa6cd0d\n",
            "  Running command git clone -q https://github.com/scikit-learn/scikit-learn /tmp/pip-install-394a9s5e/scikit-learn_c3b4d5bc59764c4194a59504eaa6cd0d\n",
            "  Running command git checkout -b 1.0.X --track origin/1.0.X\n",
            "  Switched to a new branch '1.0.X'\n",
            "  Branch '1.0.X' set up to track remote branch '1.0.X' from 'origin'.\n",
            "  Installing build dependencies ... \u001b[?25l\u001b[?25hdone\n",
            "  Getting requirements to build wheel ... \u001b[?25l\u001b[?25hdone\n",
            "    Preparing wheel metadata ... \u001b[?25l\u001b[?25hdone\n",
            "Requirement already satisfied: joblib>=0.11 in /usr/local/lib/python3.7/dist-packages (from scikit-learn) (1.0.1)\n",
            "Requirement already satisfied: numpy>=1.14.6 in /usr/local/lib/python3.7/dist-packages (from scikit-learn) (1.19.5)\n",
            "Collecting threadpoolctl>=2.0.0\n",
            "  Downloading threadpoolctl-2.2.0-py3-none-any.whl (12 kB)\n",
            "Requirement already satisfied: scipy>=1.1.0 in /usr/local/lib/python3.7/dist-packages (from scikit-learn) (1.4.1)\n",
            "Building wheels for collected packages: scikit-learn\n",
            "  Building wheel for scikit-learn (PEP 517) ... \u001b[?25l\u001b[?25hdone\n",
            "  Created wheel for scikit-learn: filename=scikit_learn-1.0rc1-cp37-cp37m-linux_x86_64.whl size=18674863 sha256=9561507f64aa78809167c51a17d9321738664536f53928aa9c0ab6ff6d7b1719\n",
            "  Stored in directory: /tmp/pip-ephem-wheel-cache-xum7nh99/wheels/04/30/e9/8be8b781d32cbd0b2797b87f05f81d301c6017671ccd4c5bd8\n",
            "Successfully built scikit-learn\n",
            "Installing collected packages: threadpoolctl, scikit-learn\n",
            "  Attempting uninstall: scikit-learn\n",
            "    Found existing installation: scikit-learn 0.22.2.post1\n",
            "    Uninstalling scikit-learn-0.22.2.post1:\n",
            "      Successfully uninstalled scikit-learn-0.22.2.post1\n",
            "Successfully installed scikit-learn-1.0rc1 threadpoolctl-2.2.0\n"
          ]
        }
      ]
    },
    {
      "cell_type": "markdown",
      "metadata": {
        "id": "6vZ-g3d_rHTT"
      },
      "source": [
        "## Import and Verify Version"
      ]
    },
    {
      "cell_type": "code",
      "metadata": {
        "colab": {
          "base_uri": "https://localhost:8080/",
          "height": 35
        },
        "id": "3gNI6l-_eisF",
        "outputId": "b0a07f39-2833-44e9-ce42-6d15d8e77420"
      },
      "source": [
        "import sklearn\n",
        "sklearn.__version__"
      ],
      "execution_count": 7,
      "outputs": [
        {
          "output_type": "execute_result",
          "data": {
            "application/vnd.google.colaboratory.intrinsic+json": {
              "type": "string"
            },
            "text/plain": [
              "'1.0.rc1'"
            ]
          },
          "metadata": {},
          "execution_count": 7
        }
      ]
    },
    {
      "cell_type": "code",
      "metadata": {
        "id": "IvGgSWg_hAbZ"
      },
      "source": [
        ""
      ],
      "execution_count": null,
      "outputs": []
    }
  ]
}