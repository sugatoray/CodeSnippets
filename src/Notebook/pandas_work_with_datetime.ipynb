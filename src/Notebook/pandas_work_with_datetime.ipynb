{
  "nbformat": 4,
  "nbformat_minor": 0,
  "metadata": {
    "colab": {
      "name": "pandas_work_with_datetime.ipynb",
      "provenance": [],
      "collapsed_sections": [],
      "toc_visible": true,
      "authorship_tag": "ABX9TyPpazUXx70Dp3dygy/p6WZh",
      "include_colab_link": true
    },
    "kernelspec": {
      "name": "python3",
      "display_name": "Python 3"
    }
  },
  "cells": [
    {
      "cell_type": "markdown",
      "metadata": {
        "id": "view-in-github",
        "colab_type": "text"
      },
      "source": [
        "<a href=\"https://colab.research.google.com/github/sugatoray/CodeSnippets/blob/master/src/Notebook/pandas_work_with_datetime.ipynb\" target=\"_parent\"><img src=\"https://colab.research.google.com/assets/colab-badge.svg\" alt=\"Open In Colab\"/></a>"
      ]
    },
    {
      "cell_type": "markdown",
      "metadata": {
        "id": "sfHooACsaXAS",
        "colab_type": "text"
      },
      "source": [
        "# Working with **`datetime`**\n",
        "\n",
        "Datetime objects can be created using three libraries in general:\n",
        "\n",
        "- `datetime`\n",
        "- `numpy`\n",
        "- `pandas`\n",
        "\n",
        "[Link to original colab-notebook][#original-colab-notebook]\n",
        "\n",
        "[#original-colab-notebook]: https://colab.research.google.com/drive/1U5cvbg6bUk__wJbBHzFb8szxAMMD1wwq#scrollTo=pl9pPstufeHZ"
      ]
    },
    {
      "cell_type": "code",
      "metadata": {
        "id": "-xyGRGEmym0E",
        "colab_type": "code",
        "colab": {}
      },
      "source": [
        "import numpy as np\n",
        "import pandas as pd\n",
        "import datetime"
      ],
      "execution_count": null,
      "outputs": []
    },
    {
      "cell_type": "markdown",
      "metadata": {
        "id": "8J9F0WncxE0y",
        "colab_type": "text"
      },
      "source": [
        ""
      ]
    },
    {
      "cell_type": "markdown",
      "metadata": {
        "id": "dsJCt4h2Z_xT",
        "colab_type": "text"
      },
      "source": [
        "## Timezones\n",
        "\n",
        "See [Documentation][#datetime-timezone-doc]\n",
        "\n",
        "[#datetime-timezone-doc]: https://pvlib-python.readthedocs.io/en/stable/timetimezones.html\n",
        "\n",
        "All the three libraries provide some timezone information and may allow you to set the timezone as well. \n",
        "\n",
        "For instance, the `pandas.Timestamp()` method accepts a timezone parameter as the `tz` keyword. \n",
        "\n",
        "```python\n",
        "pd.Timestamp('2020-03', tz='US/Central')\n",
        "```\n",
        "\n",
        "But how do you know what to set the `tz` keyword to? Well, the `pytz` library gives a list of all the valid timezones as follows:  \n",
        "\n",
        "```python\n",
        "import pytz\n",
        "pytz.all_timezones\n",
        "\n",
        "## Examples\n",
        "['Africa/Abidjan',\n",
        " 'Africa/Accra',\n",
        " 'Africa/Addis_Ababa',\n",
        " 'Africa/Algiers',\n",
        " 'Africa/Asmara',\n",
        " ...\n",
        " 'America/Montreal',\n",
        " 'America/Montserrat',\n",
        " 'America/Nassau',\n",
        " 'America/New_York',\n",
        " 'America/North_Dakota/Beulah',\n",
        " 'America/North_Dakota/Center',\n",
        " 'America/North_Dakota/New_Salem',\n",
        " 'America/Ojinaga',\n",
        " 'America/Panama',\n",
        " 'America/Phoenix',\n",
        " 'America/Winnipeg',\n",
        " ...\n",
        " 'Asia/Calcutta',\n",
        " 'Asia/Colombo',\n",
        " 'Asia/Dhaka',\n",
        " 'Asia/Kolkata',\n",
        " 'Asia/Krasnoyarsk',\n",
        " 'Asia/Kuala_Lumpur',\n",
        " ...\n",
        " 'US/Eastern',\n",
        " 'US/Central',\n",
        " 'US/Mountain',\n",
        " 'US/Pacific',\n",
        "```"
      ]
    },
    {
      "cell_type": "code",
      "metadata": {
        "id": "19er7MDuAbt7",
        "colab_type": "code",
        "colab": {}
      },
      "source": [
        "# import pytz\n",
        "# pytz.all_timezones"
      ],
      "execution_count": null,
      "outputs": []
    },
    {
      "cell_type": "markdown",
      "metadata": {
        "id": "DSQS4YZSb7Ct",
        "colab_type": "text"
      },
      "source": [
        "## Using `datetime` library"
      ]
    },
    {
      "cell_type": "markdown",
      "metadata": {
        "id": "cQyc6033cDsH",
        "colab_type": "text"
      },
      "source": [
        "See [documentation for `datetime`][#datetime-doc]. Also see [documentation for `timedelta`][#datetime-timedelta].\n",
        "\n",
        "[#datetime-doc]: https://docs.python.org/3/library/datetime.html#module-datetime\n",
        "[#datetime-timedelta]: https://docs.python.org/3/library/datetime.html#timedelta-objects\n",
        "\n",
        "The word *datetime* has two parts in it:\n",
        "\n",
        "- date: `2020-06-10` ➡️  10-Jun-2020.\n",
        "- time: `10:25:37` ➡️ 10 hours 25 minutes and 37 seconds (AM).\n",
        "\n",
        "Naturally, the library `datetime` offers you ways of working with `datetime`, `date` and `time`. In addition to that you can also work with the `timezone` (`tz`) information. Therefore we will focus on the following:\n",
        "\n",
        "```python\n",
        "datetime.date\n",
        "datetime.datetime\n",
        "datetime.time\n",
        "datetime.timedelta\n",
        "datetime.timezone\n",
        "datetime.tzinfo\n",
        "```"
      ]
    },
    {
      "cell_type": "markdown",
      "metadata": {
        "id": "pl9pPstufeHZ",
        "colab_type": "text"
      },
      "source": [
        "### Using `datetime.date`\n",
        "\n",
        "You could see people using this with one of the following methods of importing:\n",
        "\n",
        "- Method-1:\n",
        "  \n",
        "  ```python\n",
        "  from datetime import date\n",
        "  date(2020, 3, 17) # 2020-03-17\n",
        "  ```\n",
        "\n",
        "- Method-2:\n",
        "\n",
        "  ```python\n",
        "  import datetime\n",
        "  datetime.date(2020, 3, 17) # 2020-03-17\n",
        "  ```\n",
        "\n",
        "Note that the first method above claims the name `date` in the *namespace* and you would not be able to use `date` as a variable name for something else later on. "
      ]
    },
    {
      "cell_type": "markdown",
      "metadata": {
        "id": "vc69ft15hWLa",
        "colab_type": "text"
      },
      "source": [
        "Instead of providing an input as we did earlier to `datetime.date()`\n",
        "\n",
        "```python\n",
        "datetime.date(2020, 3, 17) # 2020-03-17\n",
        "```\n",
        "\n",
        "We could also pass a date string `2020-03-17` and pass the parsed output to `datetime.date()`.\n",
        "\n",
        "```python\n",
        "# method-1\n",
        "datetime.date(*list(map(int, '2020-03-17'.split('-'))))\n",
        "\n",
        "# method-2\n",
        "def date_from_datestring(datestr = '2020-03-17', sep='-'):\n",
        "    return datetime.date(*list(map(int, datestr.split(sep))))\n",
        "date_from_datestring(datestr = '2020-03-17')\n",
        "```"
      ]
    },
    {
      "cell_type": "code",
      "metadata": {
        "id": "GRKJen-Dvxud",
        "colab_type": "code",
        "colab": {
          "base_uri": "https://localhost:8080/",
          "height": 34
        },
        "outputId": "981414d5-c536-4244-e28d-864b75751250"
      },
      "source": [
        "datetime.date(2020, 3, 17) # 2020-03-17"
      ],
      "execution_count": null,
      "outputs": [
        {
          "output_type": "execute_result",
          "data": {
            "text/plain": [
              "datetime.date(2020, 3, 17)"
            ]
          },
          "metadata": {
            "tags": []
          },
          "execution_count": 10
        }
      ]
    },
    {
      "cell_type": "markdown",
      "metadata": {
        "id": "uIKgTsCawReE",
        "colab_type": "text"
      },
      "source": [
        "## Using `pandas` library"
      ]
    },
    {
      "cell_type": "markdown",
      "metadata": {
        "id": "TCwNigghHcDD",
        "colab_type": "text"
      },
      "source": [
        "### Prep Data"
      ]
    },
    {
      "cell_type": "code",
      "metadata": {
        "id": "Vl2KSOepyw5q",
        "colab_type": "code",
        "colab": {}
      },
      "source": [
        "dates = pd.date_range(start='2020-07-01', end='2020-07-20', freq='D')\n",
        "df = pd.DataFrame(dates, columns=['Dates'])\n",
        "ts = pd.Timestamp('2020-03-17 20:15:35.654')"
      ],
      "execution_count": null,
      "outputs": []
    },
    {
      "cell_type": "markdown",
      "metadata": {
        "id": "vlMNAOIyDTcI",
        "colab_type": "text"
      },
      "source": [
        "### Formatting Dates as `YYYYQ#` for Quarters\n",
        "\n",
        "```python\n",
        "df.Dates.dt.to_period('Q')\n",
        "## Example outputs\n",
        "# 2020-02-01 --> 2020Q1\n",
        "# 2019-05-01 --> 2019Q2\n",
        "# 2020-07-01 --> 2020Q3\n",
        "# 2010-10-01 --> 2010Q4\n",
        "```"
      ]
    },
    {
      "cell_type": "markdown",
      "metadata": {
        "id": "4cXY5MsAEihR",
        "colab_type": "text"
      },
      "source": [
        "### Change Output Format from `YYYYQ#` to `YYYY-Q#`\n",
        "\n",
        "For example to convert `2020Q3` to `2020-Q3`, do it as follows:\n",
        "\n",
        "```python\n",
        "quarters = df.Dates.dt.to_period('Q')\n",
        "quarters.apply(lambda x: str(x).replace('Q', '-Q'))\n",
        "\n",
        "## Example outputs\n",
        "# 2020-02-01 --> 2020Q1 --> 2020-Q1\n",
        "# 2019-05-01 --> 2019Q2 --> 2019-Q2\n",
        "# 2020-07-01 --> 2020Q3 --> 2020-Q3\n",
        "# 2010-10-01 --> 2010Q4 --> 2010-Q4\n",
        "```"
      ]
    },
    {
      "cell_type": "code",
      "metadata": {
        "id": "Qf4G8OCYCYWx",
        "colab_type": "code",
        "colab": {
          "base_uri": "https://localhost:8080/",
          "height": 122
        },
        "outputId": "73697fb5-9f0f-4b9e-a035-40533265bfe9"
      },
      "source": [
        "quarters = df.Dates.dt.to_period('Q')\n",
        "quarters.apply(lambda x: str(x).replace('Q', '-Q')).head()"
      ],
      "execution_count": null,
      "outputs": [
        {
          "output_type": "execute_result",
          "data": {
            "text/plain": [
              "0    2020-Q3\n",
              "1    2020-Q3\n",
              "2    2020-Q3\n",
              "3    2020-Q3\n",
              "4    2020-Q3\n",
              "Name: Dates, dtype: object"
            ]
          },
          "metadata": {
            "tags": []
          },
          "execution_count": 39
        }
      ]
    },
    {
      "cell_type": "markdown",
      "metadata": {
        "id": "HHCsv7XKF_J9",
        "colab_type": "text"
      },
      "source": [
        "### Show *year*, *month*, *day*, *hour*, *minute*, *second*, etc.\n",
        "\n",
        "See [help][#datetime-string-formatting] on datetime-string-formatting.\n",
        "\n",
        "[#datetime-string-formatting]: https://github.com/sugatoray/CodeSnippets/blob/master/src/HowTo/datetime_string_format_codes.md\n",
        "\n",
        "```python\n",
        "## <attribute>: year, quarter, month, week, day, hour, minute, second, etc.\n",
        "df.Dates.dt.<attribute>\n",
        "# Example: 2020-03-17 20:15:35.654\n",
        "ts = pd.Timestamp('2020-03-17 20:15:35.654') # a single timestamp\n",
        "\n",
        "## Some Notations Used\n",
        "# DataFrame/Series --> df.Dates\n",
        "# Timestamp --> ts\n",
        "\n",
        "## <attribute>: date, year, quarter, month, week, day, weekday\n",
        "df.Dates.dt.<attribute>\n",
        "\n",
        "# date\n",
        "df.Dates.dt.date \n",
        "ts.strftime('%Y-%m-%d') # 2020-03-17 --> **NOT** ts.date()\n",
        "ts.date() # datetime.date(2020, 3, 17)\n",
        "# year\n",
        "df.Dates.dt.year\n",
        "ts.year # 2020\n",
        "# quarter\n",
        "df.Dates.dt.quarter\n",
        "ts.quarter # 1\n",
        "# month\n",
        "df.Dates.dt.month\n",
        "ts.month # 3\n",
        "# quarter\n",
        "df.Dates.dt.week\n",
        "ts.week # 12\n",
        "# day\n",
        "df.Dates.dt.day \n",
        "ts.day # 17\n",
        "# weekday\n",
        "df.Dates.dt.weekday \n",
        "ts.weekday() # 1\n",
        "\n",
        "## <attribute>: time, hour, minute, second, microsecond, nanosecond\n",
        "df.Dates.dt.<attribute>\n",
        "\n",
        "# time\n",
        "df.Dates.dt.time \n",
        "ts.strftime('%H:%M:%S') # 20:15:35 --> **NOT** ts.time()\n",
        "ts.time() # datetime.time(20, 15, 35, 654000)\n",
        "# hour\n",
        "df.Dates.dt.hour \n",
        "ts.hour # 20\n",
        "# minute\n",
        "df.Dates.dt.minute \n",
        "ts.minute # 15\n",
        "# second\n",
        "df.Dates.dt.second \n",
        "ts.second # 35\n",
        "# microsecond\n",
        "df.Dates.dt.microsecond \n",
        "ts.microsecond # 654\n",
        "# nanosecond\n",
        "df.Dates.dt.nanosecond\n",
        "ts.nanosecond # 0\n",
        "\n",
        "```"
      ]
    },
    {
      "cell_type": "markdown",
      "metadata": {
        "id": "59e7jGKIvfPk",
        "colab_type": "text"
      },
      "source": [
        "### Some other methods\n",
        "\n",
        "Here are some more useful methods.\n",
        "\n",
        "```python\n",
        "# dayofweek\n",
        "df.Dates.dt.dayofweek\n",
        "ts.dayofweek # 1\n",
        "# dayofyear\n",
        "df.Dates.dt.dayofyear\n",
        "ts.dayofyear # 77\n",
        "# days_in_month (same as daysinmonth)\n",
        "df.Dates.dt.days_in_month\n",
        "df.Dates.dt.daysinmonth\n",
        "ts.days_in_month # 31\n",
        "ts.daysinmonth # 31\n",
        "\n",
        "# freq: frequency\n",
        "df.Dates.dt.freq # Q, Y, M, D, H, S\n",
        "ts.freq\n",
        "\n",
        "# timezone\n",
        "df.Dates.dt.timetz # datetime time with timezone info\n",
        "df.Dates.dt.tz # timezone info\n",
        "ts.tz\n",
        "\n",
        "## Conversion\n",
        "# convert to: pydatetime\n",
        "df.Dates.dt.to_pydatetime()\n",
        "# convert to: \n",
        "df.Dates.dt.to_period('Q') # quarter: Q     --> 2020Q1\n",
        "df.Dates.dt.to_period('Y') # year: Y        --> 2020\n",
        "df.Dates.dt.to_period('M') # month: m or M  --> 2020-03\n",
        "df.Dates.dt.to_period('D') # day: D         --> 2020-03-17 \n",
        "df.Dates.dt.to_period('H') # hour: H        --> 2020-03-17 20:15\n",
        "df.Dates.dt.to_period('S') # second: S      --> 2020-03-17 20:15:35\n",
        "```\n",
        "\n",
        "Methods for boolean (`True/False`) checks such as if a certain date is month/quarter/year start/end or if the year is a leap year.\n",
        "\n",
        "```python\n",
        "## Boolean checks with dates: \n",
        "#  --> date is month/quarter/year | start/end\n",
        "#  --> date is leap year\n",
        "#  boolean: True/False\n",
        "\n",
        "# Check if date is month start/end\n",
        "df.Dates.dt.is_month_start \n",
        "ts.is_month_start # False\n",
        "df.Dates.dt.is_month_end \n",
        "ts.is_month_end # False\n",
        "\n",
        "# Check if date is quarter start/end\n",
        "df.Dates.dt.is_quarter_start \n",
        "ts.is_quarter_start # False\n",
        "df.Dates.dt.is_quarter_end \n",
        "ts.is_quarter_end # False\n",
        "\n",
        "# Check if date is year start/end\n",
        "df.Dates.dt.is_year_start \n",
        "ts.is_year_start # False\n",
        "df.Dates.dt.is_year_end \n",
        "ts.is_year_end # False\n",
        "\n",
        "# Check if date is leap year\n",
        "df.Dates.dt.is_leap_year \n",
        "ts.is_leap_year # True \n",
        "```"
      ]
    },
    {
      "cell_type": "code",
      "metadata": {
        "id": "e7-WuqnqJjSO",
        "colab_type": "code",
        "colab": {}
      },
      "source": [
        "ts = pd.Timestamp('2020-03-17 20:15:35.654')"
      ],
      "execution_count": null,
      "outputs": []
    },
    {
      "cell_type": "code",
      "metadata": {
        "id": "MyzPkLehx_40",
        "colab_type": "code",
        "colab": {
          "base_uri": "https://localhost:8080/",
          "height": 34
        },
        "outputId": "70fb5a0c-2d18-4756-8446-7da1c40fc5ad"
      },
      "source": [
        "pd.Timestamp(year=2020, month=3, day=17, \n",
        "             hour=20, minute=15, second=35, \n",
        "             microsecond=654000)"
      ],
      "execution_count": null,
      "outputs": [
        {
          "output_type": "execute_result",
          "data": {
            "text/plain": [
              "Timestamp('2020-03-17 20:15:35.654000')"
            ]
          },
          "metadata": {
            "tags": []
          },
          "execution_count": 111
        }
      ]
    },
    {
      "cell_type": "code",
      "metadata": {
        "id": "_78oLL7q6zJV",
        "colab_type": "code",
        "colab": {
          "base_uri": "https://localhost:8080/",
          "height": 34
        },
        "outputId": "312856eb-6c44-490f-8859-cc6ce3293b46"
      },
      "source": [
        "pd.Timestamp('2020-03', tz='US/Central').tz"
      ],
      "execution_count": null,
      "outputs": [
        {
          "output_type": "execute_result",
          "data": {
            "text/plain": [
              "<DstTzInfo 'US/Central' CST-1 day, 18:00:00 STD>"
            ]
          },
          "metadata": {
            "tags": []
          },
          "execution_count": 115
        }
      ]
    },
    {
      "cell_type": "markdown",
      "metadata": {
        "id": "mG-Vq2XMwIRr",
        "colab_type": "text"
      },
      "source": [
        "### Using `pandas.Timestamp()`\n",
        "\n",
        "Ways to create a timestamp:\n",
        "\n",
        "```python\n",
        "## Option-1: with timestamp-string\n",
        "# Option 1.1\n",
        "ts = pd.Timestamp('2020-03-17 20:15:35.654') # Timestamp('2020-03-17 20:15:35.654')\n",
        "# Option 1.2\n",
        "ts = pd.Timestamp('2020-03-17 20:15:35') # Timestamp('2020-03-17 20:15:35')\n",
        "# Option 1.3\n",
        "ts = pd.Timestamp('2020-03-17 20:15') # Timestamp('2020-03-17 20:15:00')\n",
        "# Option 1.4\n",
        "ts = pd.Timestamp('2020-03-17 20') # Timestamp('2020-03-17 20:00:00')\n",
        "# Option 1.5\n",
        "ts = pd.Timestamp('2020-03-17') # Timestamp('2020-03-17 00:00:00')\n",
        "# Option 1.6\n",
        "ts = pd.Timestamp('2020-03') # Timestamp('2020-03-01 00:00:00')\n",
        "# Option 1.7\n",
        "ts = pd.Timestamp('2020') # Timestamp('2020-01-01 00:00:00')\n",
        "\n",
        "## Option-2: with timestamp-keywords\n",
        "ts = pd.Timestamp('2020-03') # Timestamp('2020-03-01 00:00:00')\n",
        "\n",
        "## Option-3: with timzone specification\n",
        "ts = pd.Timestamp('2020-03-17 20:15:35.654', tz='US/Central')\n",
        "```\n"
      ]
    },
    {
      "cell_type": "code",
      "metadata": {
        "id": "QLtpx6xr2iU8",
        "colab_type": "code",
        "colab": {
          "base_uri": "https://localhost:8080/",
          "height": 34
        },
        "outputId": "816c65b9-bae0-4ef7-fe13-a393b1d1bb4b"
      },
      "source": [
        "pd.Timestamp(year=2020, month=3, day=17)"
      ],
      "execution_count": null,
      "outputs": [
        {
          "output_type": "execute_result",
          "data": {
            "text/plain": [
              "Timestamp('2020-03-17 00:00:00')"
            ]
          },
          "metadata": {
            "tags": []
          },
          "execution_count": 20
        }
      ]
    },
    {
      "cell_type": "code",
      "metadata": {
        "id": "Pa3o9Xxn1_KE",
        "colab_type": "code",
        "colab": {}
      },
      "source": [
        "ts = pd.Timestamp(2020, 3, 17)"
      ],
      "execution_count": null,
      "outputs": []
    },
    {
      "cell_type": "markdown",
      "metadata": {
        "id": "SUWrgfT60FuN",
        "colab_type": "text"
      },
      "source": [
        "#### How to use/call various properties/methods of `pandas.Timestamp()`.\n",
        "\n",
        "```python\n",
        "# Eaxmple\n",
        "(\n",
        "    ts.strftime('%Y-%m-%d'), # '2020-03-17'\n",
        "    ts.date(),               # datetime.date(2020, 3, 17)\n",
        "    ts.year,                 # 2020\n",
        "    ts.quarter,              # 1\n",
        "    ts.month,                # 3\n",
        "    ts.week,                 # 12\n",
        "    ts.day,                  # 17\n",
        "    ts.weekday(),            # 1\n",
        "    ts.strftime('%H:%M:%S'), # 20:15:35\n",
        "    ts.time(),               # datetime.time(20, 15, 35, 654000)\n",
        "    ts.hour,                 # 20\n",
        "    ts.minute,               # 15\n",
        "    ts.second,               # 35\n",
        "    ts.microsecond,          # 654000\n",
        "    ts.nanosecond,           # 0\n",
        "    ts.tz,                   # <DstTzInfo 'US/Central' CDT-1 day, 19:00:00 DST>\n",
        "    ts.timetz()              # datetime.time(20, 15, 35, 654000, tzinfo=<DstTzInfo 'US/Central' CDT-1 day, 19:00:00 DST>))\n",
        ")\n",
        "```\n",
        "\n",
        "⭐ Note that effectively, `ts.timetz()` produces the combined results of `ts.time()` and `tz.tz`."
      ]
    },
    {
      "cell_type": "markdown",
      "metadata": {
        "id": "EaslhW0Iydrx",
        "colab_type": "text"
      },
      "source": [
        "#### Example"
      ]
    },
    {
      "cell_type": "code",
      "metadata": {
        "id": "uj_EuBbVypSq",
        "colab_type": "code",
        "colab": {}
      },
      "source": [
        "ts = pd.Timestamp('2020-03-17 20:15:35.654', tz='US/Central')"
      ],
      "execution_count": null,
      "outputs": []
    },
    {
      "cell_type": "code",
      "metadata": {
        "id": "n__RqQx8KH8b",
        "colab_type": "code",
        "colab": {
          "base_uri": "https://localhost:8080/",
          "height": 316
        },
        "outputId": "db52c9f4-e5c1-44d5-a263-09b0dfe0d4e3"
      },
      "source": [
        "# Eaxmple\n",
        "(\n",
        "    ts.strftime('%Y-%m-%d'), # '2020-03-17'\n",
        "    ts.date(),               # datetime.date(2020, 3, 17)\n",
        "    ts.year,                 # 2020\n",
        "    ts.quarter,              # 1\n",
        "    ts.month,                # 3\n",
        "    ts.week,                 # 12\n",
        "    ts.day,                  # 17\n",
        "    ts.weekday(),            # 1\n",
        "    ts.strftime('%H:%M:%S'), # 20:15:35\n",
        "    ts.time(),               # datetime.time(20, 15, 35, 654000)\n",
        "    ts.hour,                 # 20\n",
        "    ts.minute,               # 15\n",
        "    ts.second,               # 35\n",
        "    ts.microsecond,          # 654000\n",
        "    ts.nanosecond,           # 0\n",
        "    ts.tz,                   # <DstTzInfo 'US/Central' CDT-1 day, 19:00:00 DST>\n",
        "    ts.timetz()              # datetime.time(20, 15, 35, 654000, tzinfo=<DstTzInfo 'US/Central' CDT-1 day, 19:00:00 DST>))\n",
        ")"
      ],
      "execution_count": null,
      "outputs": [
        {
          "output_type": "execute_result",
          "data": {
            "text/plain": [
              "('2020-03-17',\n",
              " datetime.date(2020, 3, 17),\n",
              " 2020,\n",
              " 1,\n",
              " 3,\n",
              " 12,\n",
              " 17,\n",
              " 1,\n",
              " '20:15:35',\n",
              " datetime.time(20, 15, 35, 654000),\n",
              " 20,\n",
              " 15,\n",
              " 35,\n",
              " 654000,\n",
              " 0,\n",
              " <DstTzInfo 'US/Central' CDT-1 day, 19:00:00 DST>,\n",
              " datetime.time(20, 15, 35, 654000, tzinfo=<DstTzInfo 'US/Central' CDT-1 day, 19:00:00 DST>))"
            ]
          },
          "metadata": {
            "tags": []
          },
          "execution_count": 14
        }
      ]
    },
    {
      "cell_type": "markdown",
      "metadata": {
        "id": "vUijlIbuqsN2",
        "colab_type": "text"
      },
      "source": [
        "## Using `pandas.Timedelta()`\n",
        "\n",
        "When you want to add some amount of time (in terms of weeks, days, hours, mimutes, seconds, etc.) to a datetime object in pandas, you could use `pandas.Timedelta()`.\n",
        "\n",
        "For `pandas.Timedelta` allowed keywords are `[weeks, days, hours, minutes, seconds, milliseconds, microseconds, nanoseconds]`\n",
        "\n",
        "Here are a few examples.\n",
        "\n",
        "```python\n",
        "ts = pd.Timestamp('2020-03-17 20:15:35.654')\n",
        "ts + pd.Timedelta(days=10) # Timestamp('2020-03-27 20:15:35.654000')\n",
        "\n",
        "# various timedelta options\n",
        "(\n",
        "    pd.Timedelta(weeks=10),           # Timedelta('70 days 00:00:00')     \n",
        "    pd.Timedelta(days=10),            # Timedelta('10 days 00:00:00')\n",
        "    pd.Timedelta(hours=10),           # Timedelta('0 days 10:00:00')\n",
        "    pd.Timedelta(minutes=10),         # Timedelta('0 days 00:10:00')\n",
        "    pd.Timedelta(seconds=10),         # Timedelta('0 days 00:00:10')\n",
        "    pd.Timedelta(milliseconds=10),    # Timedelta('0 days 00:00:00.010000')\n",
        "    pd.Timedelta(nanoseconds=10),     # Timedelta('0 days 00:00:00.000000')\n",
        ")\n",
        "```"
      ]
    },
    {
      "cell_type": "code",
      "metadata": {
        "id": "lzlzZy5anc3f",
        "colab_type": "code",
        "colab": {
          "base_uri": "https://localhost:8080/",
          "height": 34
        },
        "outputId": "430ca8c8-7e3d-495d-e86e-4e3457ba08fc"
      },
      "source": [
        "ts = pd.Timestamp('2020-03-17 20:15:35.654')\n",
        "ts + pd.Timedelta(days=10)"
      ],
      "execution_count": null,
      "outputs": [
        {
          "output_type": "execute_result",
          "data": {
            "text/plain": [
              "Timestamp('2020-03-27 20:15:35.654000')"
            ]
          },
          "metadata": {
            "tags": []
          },
          "execution_count": 90
        }
      ]
    },
    {
      "cell_type": "code",
      "metadata": {
        "id": "iSbB4m-encw-",
        "colab_type": "code",
        "colab": {
          "base_uri": "https://localhost:8080/",
          "height": 140
        },
        "outputId": "10002189-35d8-4edd-9f1f-9afc06b8c95e"
      },
      "source": [
        "(\n",
        "    pd.Timedelta(weeks=10),           # Timedelta('70 days 00:00:00')     \n",
        "    pd.Timedelta(days=10),            # Timedelta('10 days 00:00:00')\n",
        "    pd.Timedelta(hours=10),           # Timedelta('0 days 10:00:00')\n",
        "    pd.Timedelta(minutes=10),         # Timedelta('0 days 00:10:00')\n",
        "    pd.Timedelta(seconds=10),         # Timedelta('0 days 00:00:10')\n",
        "    pd.Timedelta(milliseconds=10),    # Timedelta('0 days 00:00:00.010000')\n",
        "    pd.Timedelta(nanoseconds=10),     # Timedelta('0 days 00:00:00.000000')\n",
        ")"
      ],
      "execution_count": null,
      "outputs": [
        {
          "output_type": "execute_result",
          "data": {
            "text/plain": [
              "(Timedelta('70 days 00:00:00'),\n",
              " Timedelta('10 days 00:00:00'),\n",
              " Timedelta('0 days 10:00:00'),\n",
              " Timedelta('0 days 00:10:00'),\n",
              " Timedelta('0 days 00:00:10'),\n",
              " Timedelta('0 days 00:00:00.010000'),\n",
              " Timedelta('0 days 00:00:00.000000'))"
            ]
          },
          "metadata": {
            "tags": []
          },
          "execution_count": 95
        }
      ]
    },
    {
      "cell_type": "code",
      "metadata": {
        "id": "VMIKv-MdgFbp",
        "colab_type": "code",
        "colab": {
          "base_uri": "https://localhost:8080/",
          "height": 34
        },
        "outputId": "f7c9835c-656d-4c05-9e8a-6dd86577a0bb"
      },
      "source": [
        "ts"
      ],
      "execution_count": null,
      "outputs": [
        {
          "output_type": "execute_result",
          "data": {
            "text/plain": [
              "Timestamp('2020-03-17 20:15:35.654000')"
            ]
          },
          "metadata": {
            "tags": []
          },
          "execution_count": 83
        }
      ]
    },
    {
      "cell_type": "code",
      "metadata": {
        "id": "TRgKXunogHRV",
        "colab_type": "code",
        "colab": {
          "base_uri": "https://localhost:8080/",
          "height": 34
        },
        "outputId": "729e92f8-c9fa-47bf-e1ce-12731671d361"
      },
      "source": [
        "(ts + pd.Timedelta(days=14)).is_quarter_end"
      ],
      "execution_count": null,
      "outputs": [
        {
          "output_type": "execute_result",
          "data": {
            "text/plain": [
              "True"
            ]
          },
          "metadata": {
            "tags": []
          },
          "execution_count": 86
        }
      ]
    },
    {
      "cell_type": "code",
      "metadata": {
        "id": "ikSmxqxNbCR2",
        "colab_type": "code",
        "colab": {
          "base_uri": "https://localhost:8080/",
          "height": 122
        },
        "outputId": "60e94cf4-5561-4818-c8fd-4c15b5ace11c"
      },
      "source": [
        "df.Dates.dt.to_period('Q').head()"
      ],
      "execution_count": null,
      "outputs": [
        {
          "output_type": "execute_result",
          "data": {
            "text/plain": [
              "0    2020Q3\n",
              "1    2020Q3\n",
              "2    2020Q3\n",
              "3    2020Q3\n",
              "4    2020Q3\n",
              "Name: Dates, dtype: period[Q-DEC]"
            ]
          },
          "metadata": {
            "tags": []
          },
          "execution_count": 76
        }
      ]
    },
    {
      "cell_type": "code",
      "metadata": {
        "id": "abtzEIdF_Sv9",
        "colab_type": "code",
        "colab": {}
      },
      "source": [
        ""
      ],
      "execution_count": null,
      "outputs": []
    }
  ]
}