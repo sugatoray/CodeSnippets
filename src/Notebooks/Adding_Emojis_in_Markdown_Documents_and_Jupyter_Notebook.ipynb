{
  "nbformat": 4,
  "nbformat_minor": 0,
  "metadata": {
    "colab": {
      "name": "Adding Emojis in Markdown Documents and Jupyter Notebook.ipynb",
      "provenance": [],
      "collapsed_sections": [],
      "authorship_tag": "ABX9TyNNQCCVZUL9rihldWgyo1pi",
      "include_colab_link": true
    },
    "kernelspec": {
      "name": "python3",
      "display_name": "Python 3"
    }
  },
  "cells": [
    {
      "cell_type": "markdown",
      "metadata": {
        "id": "view-in-github",
        "colab_type": "text"
      },
      "source": [
        "<a href=\"https://colab.research.google.com/github/sugatoray/CodeSnippets/blob/master/src/Notebooks/Adding_Emojis_in_Markdown_Documents_and_Jupyter_Notebook.ipynb\" target=\"_parent\"><img src=\"https://colab.research.google.com/assets/colab-badge.svg\" alt=\"Open In Colab\"/></a>"
      ]
    },
    {
      "cell_type": "markdown",
      "metadata": {
        "id": "H_VmYj29dv4G",
        "colab_type": "text"
      },
      "source": [
        "# Adding Emojis in Markdown Documents and Jupyter Notebooks\n",
        "\n",
        "You can add emojis in a markdown document. And the syntax for that is also very simple: writing `:smiley:` in a mrkdown (`.md`) file will produce 😃. But the same does not work for markdown cells in Jupyter Notebooks. Such as the markdown (or, text) cell where I am writing this. The solution then is to copy and paste the iso-font equivalent character of the emoji. \n",
        "\n",
        "[Best emoji resource][#best-emoji-resource]\n",
        "\n",
        "[#best-emoji-resource]: https://github.com/ikatyang/emoji-cheat-sheet/blob/master/README.md"
      ]
    },
    {
      "cell_type": "markdown",
      "metadata": {
        "id": "H2kOF6-OdL04",
        "colab_type": "text"
      },
      "source": [
        "## Adding Emojis\n",
        "\n",
        "You can add emojis to markdown. See the following links on how.\n",
        "\n",
        "1. [List of github-supported emojis for markdown](https://gist.github.com/rxaviers/7360908).\n",
        "\n",
        "1. [Have fun with Emojis in Jupyter Notebook](https://medium.com/@sawanrai777/have-fun-with-emojis-in-jupyter-notebook-f74db7f45210). This shows how to add emojis in code-output.\n",
        "\n",
        "    ```python\n",
        "    # install emoji library\n",
        "    !pip install -U emoji\n",
        "    import emoji\n",
        "    print(emoji.emojize('Adding emojis is very easy!!! :thumbs_up:'))\n",
        "    ```\n",
        "    **Output**:  \n",
        "            |████████████████████████████████| 51kB 1.6MB/s \n",
        "        Building wheel for emoji (setup.py) ... done\n",
        "        Adding emojis is very easy!!! 👍\n",
        "\n",
        "1. Copy and Paste emojis: \n",
        "    + [Best emoji resource][#best-emoji-resource]\n",
        "    + [Adding emojis to matkdown in Jupyter Notebooks](http://getemoji.com/)\n",
        "\n",
        "[#best-emoji-resource]: https://github.com/ikatyang/emoji-cheat-sheet/blob/master/README.md"
      ]
    },
    {
      "cell_type": "markdown",
      "metadata": {
        "id": "D98qIxkqcUpi",
        "colab_type": "text"
      },
      "source": [
        "### Adding **emoji** to `code-output`"
      ]
    },
    {
      "cell_type": "code",
      "metadata": {
        "id": "X4JKoGm-T0RC",
        "colab_type": "code",
        "outputId": "96bb6262-5bc6-4dd4-ea8f-985caf07c573",
        "colab": {
          "base_uri": "https://localhost:8080/",
          "height": 72
        }
      },
      "source": [
        "# install emoji library\n",
        "!pip install -U -q emoji\n",
        "import emoji\n",
        "print(emoji.emojize('Adding emojis is very easy!!! :thumbs_up:'))"
      ],
      "execution_count": 0,
      "outputs": [
        {
          "output_type": "stream",
          "text": [
            "\u001b[?25l\r\u001b[K     |███████▌                        | 10kB 18.1MB/s eta 0:00:01\r\u001b[K     |███████████████                 | 20kB 1.7MB/s eta 0:00:01\r\u001b[K     |██████████████████████▋         | 30kB 2.2MB/s eta 0:00:01\r\u001b[K     |██████████████████████████████▏ | 40kB 2.5MB/s eta 0:00:01\r\u001b[K     |████████████████████████████████| 51kB 1.6MB/s \n",
            "\u001b[?25h  Building wheel for emoji (setup.py) ... \u001b[?25l\u001b[?25hdone\n",
            "Adding emojis is very easy!!! 👍\n"
          ],
          "name": "stdout"
        }
      ]
    }
  ]
}