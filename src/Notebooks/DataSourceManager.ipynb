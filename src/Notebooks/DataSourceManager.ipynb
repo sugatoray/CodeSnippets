{
  "nbformat": 4,
  "nbformat_minor": 0,
  "metadata": {
    "colab": {
      "name": "DataSourceManager.ipynb",
      "provenance": [],
      "collapsed_sections": [],
      "authorship_tag": "ABX9TyOvLVTviOJ7EaHHxMsi4YKL",
      "include_colab_link": true
    },
    "kernelspec": {
      "name": "python3",
      "display_name": "Python 3"
    }
  },
  "cells": [
    {
      "cell_type": "markdown",
      "metadata": {
        "id": "view-in-github",
        "colab_type": "text"
      },
      "source": [
        "<a href=\"https://colab.research.google.com/github/sugatoray/CodeSnippets/blob/master/src/Notebooks/DataSourceManager.ipynb\" target=\"_parent\"><img src=\"https://colab.research.google.com/assets/colab-badge.svg\" alt=\"Open In Colab\"/></a>"
      ]
    },
    {
      "cell_type": "markdown",
      "metadata": {
        "id": "OsRgDu-htq9N",
        "colab_type": "text"
      },
      "source": [
        "# DataSourceManager\n",
        "\n",
        "The class `DataSourceManager` is meant to provide a simple API for accessing different data-sources (`.csv` files) available at various locations by simply providing the url to the source. The data thus acquired is furnished as dataframes. \n",
        "\n",
        "For example, some of the following sources require some pruning while accessing the data from the urls. And you may not always remember, what exact transformation was necessary to access the data either. Now, consider adding 10-20 more data-sources and then the problem starts growing difficult for keeping track of what exactly is needed for each data-source (`.csv` file).\n",
        "```python\n",
        "drinks = pd.read_csv('http://bit.ly/drinksbycountry')\n",
        "movies = pd.read_csv('http://bit.ly/imdbratings')\n",
        "orders = pd.read_csv('http://bit.ly/chiporders', sep='\\t')\n",
        "orders['item_price'] = orders.item_price.str.replace('$', '').astype('float')\n",
        "stocks = pd.read_csv('http://bit.ly/smallstocks', parse_dates=['Date'])\n",
        "titanic = pd.read_csv('http://bit.ly/kaggletrain')\n",
        "ufo = pd.read_csv('http://bit.ly/uforeports', parse_dates=['Time'])\n",
        "```\n",
        "\n",
        "The objective of the class `DataSourceManager` is to relieve the user of any burden to recall the url(s) and the corresponding transformation(s), necessary to access a given data-source. Once the package is installed, the rest is designed to be intuitive and self explanatory. Although, for absolute clarity, we will have documentation available as well."
      ]
    },
    {
      "cell_type": "code",
      "metadata": {
        "id": "vyP7aUvQeN3n",
        "colab_type": "code",
        "colab": {
          "base_uri": "https://localhost:8080/",
          "height": 35
        },
        "cellView": "form",
        "outputId": "d07773d6-2c85-433b-c086-30520d29f8ad"
      },
      "source": [
        "#@title `class DataSourceManager` { vertical-output: true }\n",
        "import pandas as pd\n",
        "from abc import ABC, abstractmethod\n",
        "from functools import partial\n",
        "\n",
        "#@markdown ### Print Imported Library Info \n",
        "def print_lib_info(libs=None, sep='/', sep_length=1, include_package=False):\n",
        "    if libs is not None:\n",
        "        lib_info = []\n",
        "        separator = ''.join([sep]*sep_length)\n",
        "        for lib in libs:\n",
        "            #lib_name, lib_version = lib.__name__, lib.__version__\n",
        "            lib_package = getattr(lib,'__package__', None)\n",
        "            lib_name = getattr(lib,'__name__', None)\n",
        "            lib_version = getattr(lib,'__version__', None)\n",
        "            s = ''\n",
        "            if include_package:\n",
        "                s = '{}{}'.format(lib_package, separator)\n",
        "            s += '{}: {}'.format(lib_name, lib_version)\n",
        "            lib_info.append(s)\n",
        "        print('\\n'.join(lib_info))\n",
        "\n",
        "#@markdown ---\n",
        "\n",
        "libs = [pd]\n",
        "print_lib_info(libs = libs)\n",
        "\n",
        "#@markdown `class DataSourceManager`\n",
        "\n",
        "class DataSources(ABC):\n",
        "\n",
        "    def __init__(self):\n",
        "        self.urls = None # type: Dict\n",
        "\n",
        "    def fetch_all(): pass\n",
        "\n",
        "    def __repr__(self):\n",
        "        return '{} object.'.format(self.__class__.__name__)\n",
        "\n",
        "class DataSource(ABC):\n",
        "\n",
        "    def __init__(self):\n",
        "        self.name: str = None\n",
        "        self.url: str = None\n",
        "        self.data = None\n",
        "    \n",
        "    #@abstractmethod    \n",
        "    def fetch(self): pass\n",
        "\n",
        "    def __repr__(self):\n",
        "        #repr_data = 'None' if self.data is None else data.shape\n",
        "        #repr_data =  ', data.shape: {}'.format(repr_data)        \n",
        "        msg = '{}( name: {}, url: {} )' #+ f'{repr_data} )'\n",
        "        return msg.format(self.__class__.__name__, self.name, self.url)\n",
        "\n",
        "class DataSourceURLs(object):\n",
        "    dataurls = {\n",
        "        'drinks': 'http://bit.ly/drinksbycountry', \n",
        "        'movies': 'http://bit.ly/imdbratings', \n",
        "        'orders': 'http://bit.ly/chiporders', \n",
        "        'stocks': 'http://bit.ly/smallstocks', \n",
        "        'titanic': 'http://bit.ly/kaggletrain',\n",
        "        'ufo': 'http://bit.ly/uforeports', \n",
        "    }\n",
        "\n",
        "class DataSourceManager(DataSourceURLs):\n",
        "    _DEFAULT_DATAFRAME_NAME = 'titanic'\n",
        "\n",
        "    def __init__(self, fetch_all=False):\n",
        "        super().__init__()\n",
        "        self.ds = DataSources()\n",
        "        self.datasources = self.ds\n",
        "        self.ds.urls = self.dataurls.copy()\n",
        "        self.ds.fetch_all = partial(self.fetch_all) # functools.partial\n",
        "        for attr in self.ds.urls:          \n",
        "            self.add_datasource(name = attr)              \n",
        "        if fetch_all:\n",
        "            self.fetch_all(refresh=False)\n",
        "            \n",
        "    def __repr__(self):\n",
        "        s = '{}'.format(self.__class__.__name__)\n",
        "        msg = ''\n",
        "        for name, url in self.ds.urls.items():\n",
        "            msg += f'\\n {name}: {url}'\n",
        "        msg = s + '(datasources: {})'.format(len(self.ds.urls)) + msg\n",
        "        return msg\n",
        "\n",
        "    def add_datasource(self, name=None, url=None):\n",
        "        \"\"\"Add a data source with a name and url.\n",
        "\n",
        "        This adds another entry to self.df.urls and then makes downstream \n",
        "        updates. There is no change made to self.dataurls.\n",
        "        \"\"\"\n",
        "        if (name is not None): \n",
        "            if ((name not in self.ds.urls) and (url is not None)):\n",
        "                # add datasource to self.df.urls\n",
        "                self.ds.urls.update({name: url})\n",
        "            setattr(self.ds, name, SampleDataFrame())\n",
        "            obj = getattr(self.ds, name)            \n",
        "            obj.name = name\n",
        "            obj.url = self.ds.urls.get(name)\n",
        "            obj.fetch = partial(self.fetch, name = name) # functools.partial\n",
        "            ## Alternate way of updating the attributes/methods\n",
        "            # setattr(obj, 'name', name)\n",
        "            # setattr(obj, 'url', self.dataurls.get(name))\n",
        "            # setattr(obj, 'fetch', partial(self.fetch, name = name))\n",
        "\n",
        "            \n",
        "    def fetch_all(self, refresh=False):\n",
        "        \"\"\"Fetch all datasets.\n",
        "        \"\"\"\n",
        "        for attr in self.ds.urls:\n",
        "            #setattr(self.df, attr, self.fetch(name = attr))\n",
        "            self.fetch(name = attr, refresh=refresh)\n",
        "\n",
        "    def fetch(self, name=None, refresh=False): \n",
        "        \"\"\"Fetch a dataset by name.        \n",
        "        \"\"\"\n",
        "        if name is None: \n",
        "            name = self._DEFAULT_DATAFRAME_NAME \n",
        "        obj = getattr(self.ds, name)\n",
        "        if refresh or (obj.data is None):\n",
        "            setattr(obj,  \n",
        "                    'data', \n",
        "                    self._get_data(name = name))\n",
        "        #return self._get_data(name=name)\n",
        "\n",
        "    @staticmethod\n",
        "    def test_datasource(name=None, url=None):\n",
        "        \"\"\"Test if a datasource is accessible using \n",
        "        pandas.read_csv() method.\n",
        "        \"\"\"\n",
        "        if url is not None:\n",
        "            try:\n",
        "                data = pd.read_csv(url)\n",
        "                return data\n",
        "            except Exception as e:\n",
        "                print('Error: invalid url')\n",
        "                print(e)\n",
        "                \n",
        "        \n",
        "\n",
        "    def _get_data(self, name='titanic', url=None):\n",
        "        \"\"\"Fetches data for a datasource with known url or a new datsource from \n",
        "        a user-provided url.\n",
        "\n",
        "        When url=None, a dictionary search returns the url from self.dataurls. \n",
        "        This url is then used to return a pandas.DataFrame.\n",
        "        \"\"\"\n",
        "        if url is None:\n",
        "            url = self.ds.urls.get(name)\n",
        "        if name in ['drinks', 'movies', 'titanic']:\n",
        "            data = pd.read_csv(url)\n",
        "        elif name == 'orders':\n",
        "            data = pd.read_csv(url, sep='\\t')\n",
        "            data['item_price'] = (data\n",
        "                                    .item_price\n",
        "                                    .str.replace('$', '')\n",
        "                                    .astype('float'))\n",
        "        elif name == 'stocks':\n",
        "            data = pd.read_csv(url, parse_dates=['Date'])\n",
        "        elif name == 'ufo':\n",
        "            data = pd.read_csv(url, parse_dates=['Time'])\n",
        "        else:\n",
        "            data = pd.read_csv(url)\n",
        "        return data\n",
        "\n"
      ],
      "execution_count": 20,
      "outputs": [
        {
          "output_type": "stream",
          "text": [
            "pandas: 1.0.3\n"
          ],
          "name": "stdout"
        }
      ]
    },
    {
      "cell_type": "markdown",
      "metadata": {
        "id": "no8YlweXwpzl",
        "colab_type": "text"
      },
      "source": [
        "## Instantiating `DataSourceManager`\n",
        "\n",
        "Instantiate `DataSourceManager` and print the instance, `dsm`."
      ]
    },
    {
      "cell_type": "code",
      "metadata": {
        "id": "6hndTDcbtE9x",
        "colab_type": "code",
        "colab": {
          "base_uri": "https://localhost:8080/",
          "height": 140
        },
        "outputId": "6baaa662-f8ff-415f-f967-a9d45c00a2c0"
      },
      "source": [
        "dsm = DataSourceManager()\n",
        "print(dsm)"
      ],
      "execution_count": 15,
      "outputs": [
        {
          "output_type": "stream",
          "text": [
            "DataSourceManager(datasources: 6)\n",
            " drinks: http://bit.ly/drinksbycountry\n",
            " movies: http://bit.ly/imdbratings\n",
            " orders: http://bit.ly/chiporders\n",
            " stocks: http://bit.ly/smallstocks\n",
            " titanic: http://bit.ly/kaggletrain\n",
            " ufo: http://bit.ly/uforeports\n"
          ],
          "name": "stdout"
        }
      ]
    },
    {
      "cell_type": "markdown",
      "metadata": {
        "id": "F42Ik65lxCtj",
        "colab_type": "text"
      },
      "source": [
        "## Basic Structure of `DataSourceManager`\n",
        "\n",
        "The structure of `DataSourceManager` is as follows:  \n",
        "\n",
        "```python\n",
        "DataSourceManager (dsm)\n",
        "    |---DataSources (df)\n",
        "        |---List[DataSource]\n",
        "            - drinks\n",
        "            - movies\n",
        "            - orders\n",
        "            - stocks\n",
        "            - titanic\n",
        "                |---name # type: str\n",
        "                |---url # type: str\n",
        "                |---data # type: pandas.DataFrame\n",
        "                |---fetch() # method\n",
        "            - ufo\n",
        "        |---fetch_all() #method\n",
        "        |---urls # user-can-update | type: Dict\n",
        "    |---fetch() # method\n",
        "    |---fetch_all() # method\n",
        "    |---add_datasource() # method\n",
        "    |---test_datasource() # staticmethod\n",
        "    |---dataurls # user-CANNOT-update | type: Dict\n",
        "```\n"
      ]
    },
    {
      "cell_type": "markdown",
      "metadata": {
        "id": "t5kCfYoJ3KK2",
        "colab_type": "text"
      },
      "source": [
        "## Loading Data\n",
        "\n",
        "To load data (`dsm.ds.titanic.data`) for any data-source, for instance, _**titanic**_, you have the following options:  \n",
        "\n",
        "- `dsm.ds.titanic.fetch()`\n",
        "- `dsm.fetch(name='titanic')`\n",
        "\n",
        "To load all the data-sources (`dsm.dataurls`) to their respective locations (`dsm.df.<datasource-name>.data`), any of the following will work.  \n",
        "\n",
        "- `dsm.ds.fetch_all()`\n",
        "- `dsm.fetch_all()`\n",
        "\n",
        "If you want to reload a data-source (say, _titanic_), you could do it using any of the follwoing two methods.  \n",
        "\n",
        "- `dsm.ds.titanic.fetch(refresh = True)`\n",
        "- `dsm.fetch(name = 'titanic', refresh = True)`"
      ]
    },
    {
      "cell_type": "code",
      "metadata": {
        "id": "m4mahh3stkMY",
        "colab_type": "code",
        "colab": {
          "base_uri": "https://localhost:8080/",
          "height": 35
        },
        "outputId": "3480136c-d87b-45fe-d5a5-1c0b819e7361"
      },
      "source": [
        "# All DataSources, Attributes and Methods under dsm.ds\n",
        "[e for e in dir(dsm.ds) if not (e.startswith('__') or e.startswith('_'))]"
      ],
      "execution_count": 16,
      "outputs": [
        {
          "output_type": "execute_result",
          "data": {
            "text/plain": [
              "['drinks', 'fetch_all', 'movies', 'orders', 'stocks', 'titanic', 'ufo', 'urls']"
            ]
          },
          "metadata": {
            "tags": []
          },
          "execution_count": 16
        }
      ]
    },
    {
      "cell_type": "markdown",
      "metadata": {
        "id": "5EZZq84g8fxR",
        "colab_type": "text"
      },
      "source": [
        "## Example\n",
        "\n",
        "Here is an example of how to load data from data-source `titanic`."
      ]
    },
    {
      "cell_type": "code",
      "metadata": {
        "id": "5rOVcntHxAtK",
        "colab_type": "code",
        "colab": {
          "base_uri": "https://localhost:8080/",
          "height": 326
        },
        "outputId": "94e910c2-3465-41cf-c1ad-49e025435dc6"
      },
      "source": [
        "dsm = DataSourceManager()\n",
        "print(dsm)\n",
        "dsm.ds.titanic.fetch()  # or, dsm.fetch(name='titanic', refresh=False) \n",
        "                        # NOTE: refresh=True >>> enables fresh download\n",
        "dsm.ds.titanic.data.head()"
      ],
      "execution_count": 22,
      "outputs": [
        {
          "output_type": "stream",
          "text": [
            "DataSourceManager(datasources: 6)\n",
            " drinks: http://bit.ly/drinksbycountry\n",
            " movies: http://bit.ly/imdbratings\n",
            " orders: http://bit.ly/chiporders\n",
            " stocks: http://bit.ly/smallstocks\n",
            " titanic: http://bit.ly/kaggletrain\n",
            " ufo: http://bit.ly/uforeports\n"
          ],
          "name": "stdout"
        },
        {
          "output_type": "execute_result",
          "data": {
            "text/html": [
              "<div>\n",
              "<style scoped>\n",
              "    .dataframe tbody tr th:only-of-type {\n",
              "        vertical-align: middle;\n",
              "    }\n",
              "\n",
              "    .dataframe tbody tr th {\n",
              "        vertical-align: top;\n",
              "    }\n",
              "\n",
              "    .dataframe thead th {\n",
              "        text-align: right;\n",
              "    }\n",
              "</style>\n",
              "<table border=\"1\" class=\"dataframe\">\n",
              "  <thead>\n",
              "    <tr style=\"text-align: right;\">\n",
              "      <th></th>\n",
              "      <th>PassengerId</th>\n",
              "      <th>Survived</th>\n",
              "      <th>Pclass</th>\n",
              "      <th>Name</th>\n",
              "      <th>Sex</th>\n",
              "      <th>Age</th>\n",
              "      <th>SibSp</th>\n",
              "      <th>Parch</th>\n",
              "      <th>Ticket</th>\n",
              "      <th>Fare</th>\n",
              "      <th>Cabin</th>\n",
              "      <th>Embarked</th>\n",
              "    </tr>\n",
              "  </thead>\n",
              "  <tbody>\n",
              "    <tr>\n",
              "      <th>0</th>\n",
              "      <td>1</td>\n",
              "      <td>0</td>\n",
              "      <td>3</td>\n",
              "      <td>Braund, Mr. Owen Harris</td>\n",
              "      <td>male</td>\n",
              "      <td>22.0</td>\n",
              "      <td>1</td>\n",
              "      <td>0</td>\n",
              "      <td>A/5 21171</td>\n",
              "      <td>7.2500</td>\n",
              "      <td>NaN</td>\n",
              "      <td>S</td>\n",
              "    </tr>\n",
              "    <tr>\n",
              "      <th>1</th>\n",
              "      <td>2</td>\n",
              "      <td>1</td>\n",
              "      <td>1</td>\n",
              "      <td>Cumings, Mrs. John Bradley (Florence Briggs Th...</td>\n",
              "      <td>female</td>\n",
              "      <td>38.0</td>\n",
              "      <td>1</td>\n",
              "      <td>0</td>\n",
              "      <td>PC 17599</td>\n",
              "      <td>71.2833</td>\n",
              "      <td>C85</td>\n",
              "      <td>C</td>\n",
              "    </tr>\n",
              "    <tr>\n",
              "      <th>2</th>\n",
              "      <td>3</td>\n",
              "      <td>1</td>\n",
              "      <td>3</td>\n",
              "      <td>Heikkinen, Miss. Laina</td>\n",
              "      <td>female</td>\n",
              "      <td>26.0</td>\n",
              "      <td>0</td>\n",
              "      <td>0</td>\n",
              "      <td>STON/O2. 3101282</td>\n",
              "      <td>7.9250</td>\n",
              "      <td>NaN</td>\n",
              "      <td>S</td>\n",
              "    </tr>\n",
              "    <tr>\n",
              "      <th>3</th>\n",
              "      <td>4</td>\n",
              "      <td>1</td>\n",
              "      <td>1</td>\n",
              "      <td>Futrelle, Mrs. Jacques Heath (Lily May Peel)</td>\n",
              "      <td>female</td>\n",
              "      <td>35.0</td>\n",
              "      <td>1</td>\n",
              "      <td>0</td>\n",
              "      <td>113803</td>\n",
              "      <td>53.1000</td>\n",
              "      <td>C123</td>\n",
              "      <td>S</td>\n",
              "    </tr>\n",
              "    <tr>\n",
              "      <th>4</th>\n",
              "      <td>5</td>\n",
              "      <td>0</td>\n",
              "      <td>3</td>\n",
              "      <td>Allen, Mr. William Henry</td>\n",
              "      <td>male</td>\n",
              "      <td>35.0</td>\n",
              "      <td>0</td>\n",
              "      <td>0</td>\n",
              "      <td>373450</td>\n",
              "      <td>8.0500</td>\n",
              "      <td>NaN</td>\n",
              "      <td>S</td>\n",
              "    </tr>\n",
              "  </tbody>\n",
              "</table>\n",
              "</div>"
            ],
            "text/plain": [
              "   PassengerId  Survived  Pclass  ...     Fare Cabin  Embarked\n",
              "0            1         0       3  ...   7.2500   NaN         S\n",
              "1            2         1       1  ...  71.2833   C85         C\n",
              "2            3         1       3  ...   7.9250   NaN         S\n",
              "3            4         1       1  ...  53.1000  C123         S\n",
              "4            5         0       3  ...   8.0500   NaN         S\n",
              "\n",
              "[5 rows x 12 columns]"
            ]
          },
          "metadata": {
            "tags": []
          },
          "execution_count": 22
        }
      ]
    },
    {
      "cell_type": "markdown",
      "metadata": {
        "id": "i5OaL70-_4Ug",
        "colab_type": "text"
      },
      "source": [
        "## **Bonus Content**: Visualize Pandas Profile Report\n",
        "\n",
        "You can use the library [pandas_profiling][#pandas-prfiling-github] to quickly visualize a profile-report for a given `pandas.DataFrame`. Here is a [YouTube Video][#pandas-prfiling-youtube] on _**how to use pandas_profiling**_.\n",
        "\n",
        "[#pandas-prfiling-github]: https://github.com/pandas-profiling/pandas-profiling\n",
        "[#pandas-prfiling-youtube]: https://www.youtube.com/watch?v=RlIiVeig3hc&list=PL5-da3qGB5ICCsgW1MxlZ0Hq8LL5U3u9y&index=35&t=1574s\n",
        "\n",
        "\n",
        "```python\n",
        "# if not installed already\n",
        "#   PIP:    pip install pandas_profiling\n",
        "#   CONDA:  conda install -c anaconda pandas-profiling\n",
        "import pandas_profiling as pdp\n",
        "pdp.ProfileReport(df)\n",
        "```"
      ]
    },
    {
      "cell_type": "code",
      "metadata": {
        "id": "n0l_NUkR8bnj",
        "colab_type": "code",
        "colab": {}
      },
      "source": [
        ""
      ],
      "execution_count": 0,
      "outputs": []
    }
  ]
}