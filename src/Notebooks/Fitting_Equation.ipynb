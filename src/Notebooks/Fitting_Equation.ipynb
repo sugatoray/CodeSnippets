{
  "nbformat": 4,
  "nbformat_minor": 0,
  "metadata": {
    "colab": {
      "name": "Fitting_Equation.ipynb",
      "version": "0.3.2",
      "provenance": [],
      "collapsed_sections": [],
      "include_colab_link": true
    },
    "kernelspec": {
      "name": "python3",
      "display_name": "Python 3"
    }
  },
  "cells": [
    {
      "cell_type": "markdown",
      "metadata": {
        "id": "view-in-github",
        "colab_type": "text"
      },
      "source": [
        "[View in Colaboratory](https://colab.research.google.com/github/sugatoray/CodeSnippets/blob/master/Fitting_Equation.ipynb)"
      ]
    },
    {
      "metadata": {
        "id": "8x0SUJ27_Owb",
        "colab_type": "text"
      },
      "cell_type": "markdown",
      "source": [
        "# Fitting Data with custom equation:\n",
        "\n",
        "Source: https://scipy-cookbook.readthedocs.io/items/FittingData.html#fitting-data\n",
        "\n",
        "**The following code snippet has been taken from**:  \n",
        "https://scipy-cookbook.readthedocs.io/items/FittingData.html#Simplifying-the-syntax"
      ]
    },
    {
      "metadata": {
        "id": "RIFxNdmQ75Ev",
        "colab_type": "code",
        "colab": {}
      },
      "cell_type": "code",
      "source": [
        "import numpy as np\n",
        "from scipy import optimize\n",
        "\n",
        "class Parameter:\n",
        "    def __init__(self, value):\n",
        "            self.value = value\n",
        "\n",
        "    def set(self, value):\n",
        "            self.value = value\n",
        "\n",
        "    def __call__(self):\n",
        "            return self.value\n",
        "\n",
        "def fit_data(function, parameters, y, x = None):\n",
        "    def f(params):\n",
        "        i = 0\n",
        "        for p in parameters:\n",
        "            p.set(params[i])\n",
        "            i += 1\n",
        "        return y - function(x)\n",
        "\n",
        "    if x is None: x = np.arange(y.shape[0])\n",
        "    p = [param() for param in parameters]\n",
        "    return optimize.leastsq(f, p)"
      ],
      "execution_count": 0,
      "outputs": []
    },
    {
      "metadata": {
        "id": "s50fFR5W7_Vs",
        "colab_type": "code",
        "colab": {
          "base_uri": "https://localhost:8080/",
          "height": 35
        },
        "outputId": "8780bc49-3c48-40e1-d661-53b01868d33a"
      },
      "cell_type": "code",
      "source": [
        "# giving initial parameters\n",
        "mu = Parameter(7)\n",
        "sigma = Parameter(3)\n",
        "height = Parameter(5)\n",
        "\n",
        "# define your function:\n",
        "def f(x): return height() * np.exp(-((x-mu())/sigma())**2)\n",
        "\n",
        "# fit! (given that data is an array with the data to fit)\n",
        "data = 10*np.exp(-np.linspace(0, 10, 100)**2) + np.random.rand(100)\n",
        "fit_result = fit_data(f, [mu, sigma, height], data)\n",
        "fit_result"
      ],
      "execution_count": 2,
      "outputs": [
        {
          "output_type": "execute_result",
          "data": {
            "text/plain": [
              "(array([-0.39629903, 11.04325673, 10.76503581]), 1)"
            ]
          },
          "metadata": {
            "tags": []
          },
          "execution_count": 2
        }
      ]
    },
    {
      "metadata": {
        "id": "6KBeL_ix8E_7",
        "colab_type": "code",
        "colab": {
          "base_uri": "https://localhost:8080/",
          "height": 35
        },
        "outputId": "4894b469-9c44-4894-c820-e0c2d0eb4563"
      },
      "cell_type": "code",
      "source": [
        "[mu.value, sigma.value, height.value]"
      ],
      "execution_count": 3,
      "outputs": [
        {
          "output_type": "execute_result",
          "data": {
            "text/plain": [
              "[-0.39629902795218436, 11.04325672918748, 10.76503581162318]"
            ]
          },
          "metadata": {
            "tags": []
          },
          "execution_count": 3
        }
      ]
    },
    {
      "metadata": {
        "id": "QwwcJeYY9gOz",
        "colab_type": "code",
        "colab": {
          "base_uri": "https://localhost:8080/",
          "height": 35
        },
        "outputId": "0002e37e-a5d4-4a50-8c79-5a1822db91e2"
      },
      "cell_type": "code",
      "source": [
        "[mu(), sigma(), height()]"
      ],
      "execution_count": 4,
      "outputs": [
        {
          "output_type": "execute_result",
          "data": {
            "text/plain": [
              "[-0.39629902795218436, 11.04325672918748, 10.76503581162318]"
            ]
          },
          "metadata": {
            "tags": []
          },
          "execution_count": 4
        }
      ]
    },
    {
      "metadata": {
        "id": "HyXlTxP69h7i",
        "colab_type": "code",
        "colab": {}
      },
      "cell_type": "code",
      "source": [
        ""
      ],
      "execution_count": 0,
      "outputs": []
    }
  ]
}