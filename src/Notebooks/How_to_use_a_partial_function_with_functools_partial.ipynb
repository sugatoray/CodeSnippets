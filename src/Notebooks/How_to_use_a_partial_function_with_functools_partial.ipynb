{
  "nbformat": 4,
  "nbformat_minor": 0,
  "metadata": {
    "colab": {
      "name": "How to use a partial function with functools.partial.ipynb",
      "provenance": [],
      "collapsed_sections": [],
      "authorship_tag": "ABX9TyMWQ2yA/TqKbaaqPcPjVSMP",
      "include_colab_link": true
    },
    "kernelspec": {
      "name": "python3",
      "display_name": "Python 3"
    }
  },
  "cells": [
    {
      "cell_type": "markdown",
      "metadata": {
        "id": "view-in-github",
        "colab_type": "text"
      },
      "source": [
        "<a href=\"https://colab.research.google.com/github/sugatoray/CodeSnippets/blob/master/src/Notebooks/How_to_use_a_partial_function_with_functools_partial.ipynb\" target=\"_parent\"><img src=\"https://colab.research.google.com/assets/colab-badge.svg\" alt=\"Open In Colab\"/></a>"
      ]
    },
    {
      "cell_type": "markdown",
      "metadata": {
        "id": "rfLby-UhEx4n",
        "colab_type": "text"
      },
      "source": [
        "# Why you may need to use a partial function?\n",
        "\n",
        "If you want to define a function with some of the arguments/keyword-arguments of another function, you need to define this function as a partial function using [`functools.partial`][#functools-partial]. \n",
        "\n",
        "Some resources:  \n",
        "\n",
        "1. Python documentation for [functools.partial][#functools-partial]\n",
        "1. Stackoverflow question: [Python: How do I alias a function with specific parameters?][#stackoverflow-question]\n",
        "\n",
        "[#functools-partial]: https://docs.python.org/3/library/functools.html#functools.partial\n",
        "[#stackoverflow-question]: https://stackoverflow.com/questions/48217149/python-how-do-i-alias-a-function-with-specific-parameters\n",
        "\n",
        "Consider that you have a function as follows:  \n",
        "\n",
        "```python\n",
        "def func(*args, **kwargs):\n",
        "    # code here\n",
        "    ...\n",
        "    return returnval\n",
        "```\n",
        "\n",
        "Let us now make this a rather specific example:  \n",
        "\n",
        "```python\n",
        "def get_email(first_name=None, last_name=None, domain=None):\n",
        "    \"\"\"Returns the email given firstname, lastname and domain.\n",
        "    \"\"\"\n",
        "    if ((first_name is not None) and \n",
        "        (last_name is not None) and \n",
        "        (domain is not None)):\n",
        "        email = f'{first_name}.{last_name}@{domain}'\n",
        "        return email.lower()\n",
        "```\n",
        "\n",
        "Now you are interested in defining a function where some of the arguments of keyword-arguments are given already. Let's say that we want to create email addresses for the domain `gmail.com`. \n",
        "\n",
        "```python\n",
        "# you want to define it like this\n",
        "# create emails with domain gmail.com\n",
        "# foo = get_email(domain='gmail.com')\n",
        "\n",
        "from functools import partial\n",
        "\n",
        "get_gmail = partial(func, domain='gmail.com')\n",
        "get_gmail(first_name = 'John', last_name = 'Doe')\n",
        "```\n",
        "**Output**:  \n",
        "```\n",
        "john.doe@gmail.com\n",
        "```"
      ]
    },
    {
      "cell_type": "markdown",
      "metadata": {
        "id": "Mjz61OICK5ti",
        "colab_type": "text"
      },
      "source": [
        "## Example"
      ]
    },
    {
      "cell_type": "code",
      "metadata": {
        "id": "llLIWQcrEf_0",
        "colab_type": "code",
        "colab": {
          "base_uri": "https://localhost:8080/",
          "height": 35
        },
        "outputId": "dfd089ef-1ec6-4689-818e-48e0011c798e"
      },
      "source": [
        "from functools import partial\n",
        "\n",
        "def print_name(name='Joe'):\n",
        "    print(name)\n",
        "\n",
        "print_jim = partial(print_name, name='Jim')\n",
        "\n",
        "print_jim()"
      ],
      "execution_count": 1,
      "outputs": [
        {
          "output_type": "stream",
          "text": [
            "Jim\n"
          ],
          "name": "stdout"
        }
      ]
    },
    {
      "cell_type": "code",
      "metadata": {
        "id": "89erSlFSK148",
        "colab_type": "code",
        "colab": {}
      },
      "source": [
        ""
      ],
      "execution_count": 0,
      "outputs": []
    }
  ]
}