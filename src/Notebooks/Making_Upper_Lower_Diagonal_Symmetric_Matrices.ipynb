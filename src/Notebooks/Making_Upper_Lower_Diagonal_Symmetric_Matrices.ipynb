{
 "cells": [
  {
   "cell_type": "markdown",
   "metadata": {},
   "source": [
    "# Make Matrices\n",
    "\n",
    "1. [Upper Triangular](#Upper-Triangular-Matrix)\n",
    "1. [Lower Triangular](#Lower-Triangular-Matrix)\n",
    "1. [Diagonal](#Diagonal-Matrix)\n",
    "1. [Symmetric](#Symmetric-Matrix)\n",
    "1. [Anti-Symmetric](#Anti-Symmetric-Matrix)"
   ]
  },
  {
   "cell_type": "code",
   "execution_count": 1,
   "metadata": {},
   "outputs": [],
   "source": [
    "import numpy as np"
   ]
  },
  {
   "cell_type": "markdown",
   "metadata": {},
   "source": [
    "## Functions\n",
    "\n",
    "Note thet these functions return arrays (`numpy.ndarray`) and not `numpy.matrix`."
   ]
  },
  {
   "cell_type": "code",
   "execution_count": 2,
   "metadata": {},
   "outputs": [],
   "source": [
    "def make_symmetric_matrix(diagonal=None, off_diagonal=None, antisymmetric=False):\n",
    "    \"\"\"\n",
    "    Symmetric Matrix:      a[ij] = a[ji]\n",
    "    Anti-Symmetric Matrix: a[ij] = -a[ji]\n",
    "    For antisymmetric matrix, set: \n",
    "        antisymmetric = True\n",
    "    \"\"\"\n",
    "    if diagonal is None:\n",
    "        diagonal = (np.arange(5) + 1)*10\n",
    "    diagonal = diagonal.flatten()\n",
    "    if off_diagonal is None:\n",
    "        off_diagonal = np.arange(2*diagonal.size)\n",
    "    off_diagonal = off_diagonal.flatten()\n",
    "    symmetry_factor = -1 if antisymmetric else 1        \n",
    "    #assert 2*diagonal.size == off_diagonal.size\n",
    "    if 2*diagonal.size == off_diagonal.size:\n",
    "        shape = (diagonal.size, diagonal.size)\n",
    "        sym = np.zeros(shape)\n",
    "        # Fill up upper tringular section\n",
    "        sym[np.triu_indices(shape[0], 1)] = off_diagonal.copy()\n",
    "        # Fill up lower tringular section\n",
    "        sym[np.tril_indices(shape[0], -1)] = off_diagonal.copy()*symmetry_factor\n",
    "        # Fill the diagonal\n",
    "        sym[np.diag_indices(shape[0])] = diagonal.copy()\n",
    "        \n",
    "        return sym\n",
    "\n",
    "def make_diagonal_matrix(diagonal=None): \n",
    "    \"\"\"\n",
    "    Diagonal Matrix: all non-diagonal elements are zeros.\n",
    "    \"\"\"\n",
    "    if diagonal is None:\n",
    "        diagonal = (np.arange(5) + 1)*10\n",
    "    diagonal = diagonal.flatten()\n",
    "    shape = (diagonal.size, diagonal.size)\n",
    "    diag = np.zeros(shape)\n",
    "    # Fill the diagonal\n",
    "    diag[np.diag_indices(shape[0])] = diagonal.copy()\n",
    "    return diag\n",
    "    \n",
    "def make_triangular_matrix(diagonal=None, off_diagonal=None, matrix_type='upper'):\n",
    "    \"\"\"\n",
    "    Upper Triangular Matrix: all elements below the diagonal are zeros.\n",
    "    Lower Triangular Matrix: all elements above the diagonal are zeros.    \n",
    "    \"\"\"\n",
    "    if diagonal is None:\n",
    "        diagonal = (np.arange(5) + 1)*10\n",
    "    diagonal = diagonal.flatten()\n",
    "    if off_diagonal is None:\n",
    "        off_diagonal = np.arange(2*diagonal.size)\n",
    "    off_diagonal = off_diagonal.flatten()\n",
    "    if 2*diagonal.size == off_diagonal.size:\n",
    "        shape = (diagonal.size, diagonal.size)\n",
    "        tri = np.zeros(shape)\n",
    "        if matrix_type.lower() in ['upper', 'u']:\n",
    "            # Fill up upper tringular section\n",
    "            tri[np.triu_indices(shape[0], 1)] = off_diagonal.copy()\n",
    "        if matrix_type.lower() in ['lower', 'l']:    \n",
    "            # Fill up lower tringular section\n",
    "            tri[np.tril_indices(shape[0], -1)] = off_diagonal.copy()\n",
    "        # Fill the diagonal\n",
    "        tri[np.diag_indices(shape[0])] = diagonal.copy()\n",
    "        \n",
    "        return tri"
   ]
  },
  {
   "cell_type": "markdown",
   "metadata": {},
   "source": [
    "## Upper Triangular Matrix"
   ]
  },
  {
   "cell_type": "code",
   "execution_count": 3,
   "metadata": {},
   "outputs": [
    {
     "data": {
      "text/plain": [
       "array([[10., 10., 11., 12., 13.],\n",
       "       [ 0., 20., 14., 15., 16.],\n",
       "       [ 0.,  0., 30., 17., 18.],\n",
       "       [ 0.,  0.,  0., 40., 19.],\n",
       "       [ 0.,  0.,  0.,  0., 50.]])"
      ]
     },
     "execution_count": 3,
     "metadata": {},
     "output_type": "execute_result"
    }
   ],
   "source": [
    "make_triangular_matrix(diagonal=np.arange(1,6)*10, off_diagonal=np.arange(2*5)+10, matrix_type='upper')"
   ]
  },
  {
   "cell_type": "markdown",
   "metadata": {},
   "source": [
    "## Lower Triangular Matrix"
   ]
  },
  {
   "cell_type": "code",
   "execution_count": 4,
   "metadata": {},
   "outputs": [
    {
     "data": {
      "text/plain": [
       "array([[10.,  0.,  0.,  0.,  0.],\n",
       "       [10., 20.,  0.,  0.,  0.],\n",
       "       [11., 12., 30.,  0.,  0.],\n",
       "       [13., 14., 15., 40.,  0.],\n",
       "       [16., 17., 18., 19., 50.]])"
      ]
     },
     "execution_count": 4,
     "metadata": {},
     "output_type": "execute_result"
    }
   ],
   "source": [
    "make_triangular_matrix(diagonal=np.arange(1,6)*10, off_diagonal=np.arange(2*5)+10, matrix_type='lower')"
   ]
  },
  {
   "cell_type": "markdown",
   "metadata": {},
   "source": [
    "## Diagonal Matrix"
   ]
  },
  {
   "cell_type": "code",
   "execution_count": 5,
   "metadata": {},
   "outputs": [
    {
     "data": {
      "text/plain": [
       "array([[10.,  0.,  0.,  0.,  0.],\n",
       "       [ 0., 20.,  0.,  0.,  0.],\n",
       "       [ 0.,  0., 30.,  0.,  0.],\n",
       "       [ 0.,  0.,  0., 40.,  0.],\n",
       "       [ 0.,  0.,  0.,  0., 50.]])"
      ]
     },
     "execution_count": 5,
     "metadata": {},
     "output_type": "execute_result"
    }
   ],
   "source": [
    "make_diagonal_matrix(diagonal=np.arange(1,6)*10)"
   ]
  },
  {
   "cell_type": "markdown",
   "metadata": {},
   "source": [
    "## Symmetric Matrix"
   ]
  },
  {
   "cell_type": "code",
   "execution_count": 6,
   "metadata": {},
   "outputs": [
    {
     "data": {
      "text/plain": [
       "array([[10., 10., 11., 12., 13.],\n",
       "       [10., 20., 14., 15., 16.],\n",
       "       [11., 12., 30., 17., 18.],\n",
       "       [13., 14., 15., 40., 19.],\n",
       "       [16., 17., 18., 19., 50.]])"
      ]
     },
     "execution_count": 6,
     "metadata": {},
     "output_type": "execute_result"
    }
   ],
   "source": [
    "make_symmetric_matrix(diagonal=np.arange(1,6)*10, off_diagonal=np.arange(2*5)+10, antisymmetric=False)"
   ]
  },
  {
   "cell_type": "markdown",
   "metadata": {},
   "source": [
    "## Anti-Symmetric Matrix"
   ]
  },
  {
   "cell_type": "code",
   "execution_count": 7,
   "metadata": {},
   "outputs": [
    {
     "data": {
      "text/plain": [
       "array([[ 10.,  10.,  11.,  12.,  13.],\n",
       "       [-10.,  20.,  14.,  15.,  16.],\n",
       "       [-11., -12.,  30.,  17.,  18.],\n",
       "       [-13., -14., -15.,  40.,  19.],\n",
       "       [-16., -17., -18., -19.,  50.]])"
      ]
     },
     "execution_count": 7,
     "metadata": {},
     "output_type": "execute_result"
    }
   ],
   "source": [
    "make_symmetric_matrix(diagonal=np.arange(1,6)*10, off_diagonal=np.arange(2*5)+10, antisymmetric=True)"
   ]
  }
 ],
 "metadata": {
  "kernelspec": {
   "display_name": "Python 3",
   "language": "python",
   "name": "python3"
  },
  "language_info": {
   "codemirror_mode": {
    "name": "ipython",
    "version": 3
   },
   "file_extension": ".py",
   "mimetype": "text/x-python",
   "name": "python",
   "nbconvert_exporter": "python",
   "pygments_lexer": "ipython3",
   "version": "3.7.1"
  }
 },
 "nbformat": 4,
 "nbformat_minor": 4
}
