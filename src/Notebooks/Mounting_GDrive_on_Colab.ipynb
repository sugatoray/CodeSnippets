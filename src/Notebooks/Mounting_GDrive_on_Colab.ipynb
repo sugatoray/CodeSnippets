{
  "nbformat": 4,
  "nbformat_minor": 0,
  "metadata": {
    "colab": {
      "name": "Mounting GDrive on Colab",
      "provenance": [],
      "collapsed_sections": [],
      "authorship_tag": "ABX9TyO5m74o/nwPAAJJbp6bz+tV",
      "include_colab_link": true
    },
    "kernelspec": {
      "name": "python3",
      "display_name": "Python 3"
    }
  },
  "cells": [
    {
      "cell_type": "markdown",
      "metadata": {
        "id": "view-in-github",
        "colab_type": "text"
      },
      "source": [
        "<a href=\"https://colab.research.google.com/github/sugatoray/CodeSnippets/blob/master/src/Notebooks/Mounting_GDrive_on_Colab.ipynb\" target=\"_parent\"><img src=\"https://colab.research.google.com/assets/colab-badge.svg\" alt=\"Open In Colab\"/></a>"
      ]
    },
    {
      "cell_type": "markdown",
      "metadata": {
        "id": "PdkIMP1v3_B-",
        "colab_type": "text"
      },
      "source": [
        "# How to mount Google Drive on [Colab](https://colab.research.google.com/)?\n",
        "\n",
        "There are two ways:\n",
        "\n",
        "1. Click on the folder icon \n",
        "<img src=\"https://img.icons8.com/color/72/folder-invoices.png\" height=20 width=20 alt=\"Files\" style=\"vertical-align:middle; display:inline;\"></img> \n",
        "on the left pane and click on **Mount Drive**.  \n",
        "    > **Note**: This only lets you to mount the GDrive linked to your \n",
        "    currently logged-in gmail account.  \n",
        "\n",
        "    **This is how your Files pane will look like**:  \n",
        "    \n",
        "    ![option-1: Mounting GDrive in Colab](https://i.stack.imgur.com/PHy66.png)\n",
        "\n",
        "<!--- Folder image set as icon: Works on Colab. BUT does not render on GitHub.\n",
        "--->\n",
        "<img src=\"https://img.icons8.com/color/72/folder-invoices.png\" height=20 width=20 alt=\"Files\" style=\"vertical-align:bottom; display:inline;\"></img>\n",
        "--->\n",
        "\n",
        "1. If you want to mount any GDrive linked to an account you have access to but not necessarily the same gmail account that you are using colab with, this option will serve the purpose. Run the following script and select which gmail account's GDrive you want to mount.\n",
        "\n",
        "    ```python\n",
        "    import os.path\n",
        "    if not os.path.exists('/content/gdrive'):\n",
        "        print(\"Mounting GDrive on Colab VM...\\n\")\n",
        "        from google.colab import drive\n",
        "        drive.mount('/content/gdrive')\n",
        "    else:\n",
        "        print(\"GDrive already mounted on Colab VM.\")\n",
        "    ```\n",
        "    **This is how your Files pane will look like**:  \n",
        "\n",
        "    ![option-1: Mounting GDrive in Colab](https://i.stack.imgur.com/VMEQc.png)\n",
        "\n",
        "---\n",
        "\n",
        "## Sow what is the difference between the two methods' output?\n",
        "\n",
        "**_There is a path difference_** between `Option-1` and `Option-2`. In case of the first option, the Google Drive is mounted as a folder called `/content/drive`. In case of the latter, the path changes to **`/content/gdrive`**. \n",
        "\n",
        ">+ **option-1**: `/content/drive`\n",
        "+ **option-2**: `/content/gdrive`\n"
      ]
    },
    {
      "cell_type": "markdown",
      "metadata": {
        "id": "3UIkujmJUhLE",
        "colab_type": "text"
      },
      "source": [
        "## Mounting GDrive with `option-2`"
      ]
    },
    {
      "cell_type": "code",
      "metadata": {
        "id": "xFlYwhaq3px7",
        "colab_type": "code",
        "colab": {
          "base_uri": "https://localhost:8080/",
          "height": 34
        },
        "outputId": "b19e4591-5167-4f34-fee1-dbf1df365999"
      },
      "source": [
        "import os.path\n",
        "if not os.path.exists('/content/gdrive'):\n",
        "    print(\"Mounting GDrive on Colab VM...\\n\")\n",
        "    from google.colab import drive\n",
        "    drive.mount('/content/gdrive')\n",
        "else:\n",
        "    print(\"GDrive already mounted on Colab VM.\")"
      ],
      "execution_count": 2,
      "outputs": [
        {
          "output_type": "stream",
          "text": [
            "GDrive already mounted on Colab VM.\n"
          ],
          "name": "stdout"
        }
      ]
    },
    {
      "cell_type": "code",
      "metadata": {
        "id": "X4JKoGm-T0RC",
        "colab_type": "code",
        "colab": {}
      },
      "source": [
        ""
      ],
      "execution_count": 0,
      "outputs": []
    }
  ]
}