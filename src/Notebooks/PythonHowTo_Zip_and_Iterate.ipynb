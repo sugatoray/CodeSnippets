{
  "nbformat": 4,
  "nbformat_minor": 0,
  "metadata": {
    "colab": {
      "name": "PythonHowTo_Zip_and_Iterate.ipynb",
      "version": "0.3.2",
      "provenance": [],
      "include_colab_link": true
    },
    "kernelspec": {
      "name": "python3",
      "display_name": "Python 3"
    }
  },
  "cells": [
    {
      "cell_type": "markdown",
      "metadata": {
        "id": "view-in-github",
        "colab_type": "text"
      },
      "source": [
        "<a href=\"https://colab.research.google.com/github/sugatoray/CodeSnippets/blob/master/PythonHowTo_Zip_and_Iterate.ipynb\" target=\"_parent\"><img src=\"https://colab.research.google.com/assets/colab-badge.svg\" alt=\"Open In Colab\"/></a>"
      ]
    },
    {
      "metadata": {
        "id": "X8rA1k4h-wfQ",
        "colab_type": "text"
      },
      "cell_type": "markdown",
      "source": [
        "# Zip and Iterate in Python\n",
        "\n",
        "This shows how to `zip` multiple arrays and then iterate over them in a `for` loop."
      ]
    },
    {
      "metadata": {
        "id": "vb6kIZ0S-PJx",
        "colab_type": "code",
        "colab": {
          "base_uri": "https://localhost:8080/",
          "height": 193
        },
        "outputId": "d42e879e-eec9-40b7-aeb9-6389c1dcb315"
      },
      "cell_type": "code",
      "source": [
        "import numpy as np\n",
        "\n",
        "aaa = np.arange(10)\n",
        "bbb = np.random.randint(low=20, high=100, size=(10,))\n",
        "ccc = aaa + bbb\n",
        "\n",
        "for x, y, z in zip(aaa,bbb,ccc):\n",
        "  print('x: {} | y: {} | z: {}'.format(x,y,z))"
      ],
      "execution_count": 1,
      "outputs": [
        {
          "output_type": "stream",
          "text": [
            "x: 0 | y: 34 | z: 34\n",
            "x: 1 | y: 57 | z: 58\n",
            "x: 2 | y: 79 | z: 81\n",
            "x: 3 | y: 84 | z: 87\n",
            "x: 4 | y: 86 | z: 90\n",
            "x: 5 | y: 56 | z: 61\n",
            "x: 6 | y: 41 | z: 47\n",
            "x: 7 | y: 42 | z: 49\n",
            "x: 8 | y: 70 | z: 78\n",
            "x: 9 | y: 54 | z: 63\n"
          ],
          "name": "stdout"
        }
      ]
    },
    {
      "metadata": {
        "id": "DfVongSa_9rv",
        "colab_type": "text"
      },
      "cell_type": "markdown",
      "source": [
        "## Zip a list and three arrays and then iterate over them\n",
        "\n",
        "Now we will add a list and zip it with other arrays."
      ]
    },
    {
      "metadata": {
        "id": "ERrj8yxW-aQB",
        "colab_type": "code",
        "colab": {
          "base_uri": "https://localhost:8080/",
          "height": 246
        },
        "outputId": "6afa67ef-2a7a-4c2b-9fb1-66c2ff7ac826"
      },
      "cell_type": "code",
      "source": [
        "some_list = list('University')\n",
        "print('Now we will add a list: {} \\nand zip it with other arrays.\\n'.format(some_list))\n",
        "\n",
        "for x, y, z, a in zip(aaa,bbb,ccc, some_list):\n",
        "  print('x: {} | y: {} | z: {} | a: {}'.format(x,y,z,a))"
      ],
      "execution_count": 5,
      "outputs": [
        {
          "output_type": "stream",
          "text": [
            "Now we will add a list: ['U', 'n', 'i', 'v', 'e', 'r', 's', 'i', 't', 'y'] \n",
            "and zip it with other arrays.\n",
            "\n",
            "x: 0 | y: 34 | z: 34 | a: U\n",
            "x: 1 | y: 57 | z: 58 | a: n\n",
            "x: 2 | y: 79 | z: 81 | a: i\n",
            "x: 3 | y: 84 | z: 87 | a: v\n",
            "x: 4 | y: 86 | z: 90 | a: e\n",
            "x: 5 | y: 56 | z: 61 | a: r\n",
            "x: 6 | y: 41 | z: 47 | a: s\n",
            "x: 7 | y: 42 | z: 49 | a: i\n",
            "x: 8 | y: 70 | z: 78 | a: t\n",
            "x: 9 | y: 54 | z: 63 | a: y\n"
          ],
          "name": "stdout"
        }
      ]
    },
    {
      "metadata": {
        "id": "RJxvl_-h_S5E",
        "colab_type": "code",
        "colab": {}
      },
      "cell_type": "code",
      "source": [
        ""
      ],
      "execution_count": 0,
      "outputs": []
    }
  ]
}