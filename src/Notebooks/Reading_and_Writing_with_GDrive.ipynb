{
  "nbformat": 4,
  "nbformat_minor": 0,
  "metadata": {
    "colab": {
      "name": "Reading_and_Writing_with_GDrive.ipynb",
      "version": "0.3.2",
      "provenance": [],
      "collapsed_sections": [],
      "toc_visible": true,
      "include_colab_link": true
    },
    "kernelspec": {
      "name": "python3",
      "display_name": "Python 3"
    }
  },
  "cells": [
    {
      "cell_type": "markdown",
      "metadata": {
        "id": "view-in-github",
        "colab_type": "text"
      },
      "source": [
        "<a href=\"https://colab.research.google.com/github/sugatoray/CodeSnippets/blob/master/Reading_and_Writing_with_GDrive.ipynb\" target=\"_parent\"><img src=\"https://colab.research.google.com/assets/colab-badge.svg\" alt=\"Open In Colab\"/></a>"
      ]
    },
    {
      "metadata": {
        "id": "nucsgZ18AKul",
        "colab_type": "text"
      },
      "cell_type": "markdown",
      "source": [
        "# Mounting GDrive in Colab VM\n",
        "\n",
        "There are a couple of ways that you can access Google Drive (GDrive) from Colab. The simplest one is to mount your GDrive on Colab's Virtual Machine (VM) instance. \n",
        "\n",
        "### A word of caution:\n",
        "Please note that every VM instance (as of Jan-2019) lasts only for 12 hours and after that all the data and all variables (literally everything) is lost when the VM instance is destroyed. So, if your VM gets destroyed, just remount GDrive.\n",
        "\n",
        "### Want to know more?\n",
        "\n",
        "See [External data: Drive, Sheets, and Cloud Storage](https://colab.research.google.com/notebooks/io.ipynb#scrollTo=RWSJpsyKqHjH) for more details."
      ]
    },
    {
      "metadata": {
        "id": "mEiAlSPOhLHX",
        "colab_type": "code",
        "colab": {}
      },
      "cell_type": "code",
      "source": [
        "#@title Import Packages\n",
        "import os # Required majorly to access file/folder paths"
      ],
      "execution_count": 0,
      "outputs": []
    },
    {
      "metadata": {
        "id": "jCHQu_MdAjup",
        "colab_type": "text"
      },
      "cell_type": "markdown",
      "source": [
        "## Loading Files from GDrive\n",
        "\n",
        "The code here checks if your GDrive is already mounted. If yes, then it skips mounting, else mounts GDrive onto Colab VM."
      ]
    },
    {
      "metadata": {
        "id": "SZ57En6jAKXN",
        "colab_type": "code",
        "outputId": "a3b4334f-99d3-4cf6-bd63-a34df6056b60",
        "colab": {
          "base_uri": "https://localhost:8080/",
          "height": 35
        }
      },
      "cell_type": "code",
      "source": [
        "if not os.path.exists('/content/gdrive'):\n",
        "  print(\"Mounting GDrive on Colab VM...\\n\")\n",
        "  from google.colab import drive\n",
        "  drive.mount('/content/gdrive')\n",
        "else:\n",
        "  print(\"GDrive already mounted on Colab VM.\")"
      ],
      "execution_count": 2,
      "outputs": [
        {
          "output_type": "stream",
          "text": [
            "GDrive already mounted on Colab VM.\n"
          ],
          "name": "stdout"
        }
      ]
    },
    {
      "metadata": {
        "id": "s5E6ymV4CMlN",
        "colab_type": "text"
      },
      "cell_type": "markdown",
      "source": [
        "**$\\bullet$ Define** a `home_path` for convenient access to the directory location that you would often use."
      ]
    },
    {
      "metadata": {
        "ExecuteTime": {
          "end_time": "2019-01-22T21:36:44.984612Z",
          "start_time": "2019-01-22T21:36:44.978626Z"
        },
        "extensions": {
          "jupyter_dashboards": {
            "version": 1,
            "views": {
              "grid_default": {
                "col": 0,
                "height": 4,
                "hidden": false,
                "row": 69,
                "width": 4
              },
              "report_default": {
                "hidden": false
              }
            }
          }
        },
        "id": "H79-zRp9B1OW",
        "colab_type": "code",
        "outputId": "eca7127b-b047-4601-b288-6c5f3fa5bd6f",
        "colab": {
          "base_uri": "https://localhost:8080/",
          "height": 35
        }
      },
      "cell_type": "code",
      "source": [
        "home_path = r\"/content/gdrive\"\n",
        "print(\"home_path: {}\".format(home_path))"
      ],
      "execution_count": 3,
      "outputs": [
        {
          "output_type": "stream",
          "text": [
            "home_path: /content/gdrive\n"
          ],
          "name": "stdout"
        }
      ]
    },
    {
      "metadata": {
        "id": "V007FQtRiI88",
        "colab_type": "text"
      },
      "cell_type": "markdown",
      "source": [
        "**$\\bullet$ Check** the contents of this `home_path`."
      ]
    },
    {
      "metadata": {
        "id": "CX00c3KwunU2",
        "colab_type": "code",
        "colab": {
          "base_uri": "https://localhost:8080/",
          "height": 35
        },
        "outputId": "c977ccd1-42b4-4142-cb62-53b8baf10aa8"
      },
      "cell_type": "code",
      "source": [
        "os.listdir(home_path)"
      ],
      "execution_count": 4,
      "outputs": [
        {
          "output_type": "execute_result",
          "data": {
            "text/plain": [
              "['My Drive', '.Trash']"
            ]
          },
          "metadata": {
            "tags": []
          },
          "execution_count": 4
        }
      ]
    },
    {
      "metadata": {
        "id": "dmAWYMm7iE1s",
        "colab_type": "code",
        "colab": {}
      },
      "cell_type": "code",
      "source": [
        ""
      ],
      "execution_count": 0,
      "outputs": []
    }
  ]
}