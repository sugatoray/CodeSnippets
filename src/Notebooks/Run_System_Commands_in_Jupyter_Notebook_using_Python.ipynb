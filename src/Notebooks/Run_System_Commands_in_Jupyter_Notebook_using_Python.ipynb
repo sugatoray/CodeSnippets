{
  "nbformat": 4,
  "nbformat_minor": 0,
  "metadata": {
    "colab": {
      "name": "Run_System_Commands_in_Jupyter_Notebook_using_Python.ipynb",
      "version": "0.3.2",
      "provenance": [],
      "collapsed_sections": [],
      "include_colab_link": true
    },
    "kernelspec": {
      "name": "python3",
      "display_name": "Python 3"
    }
  },
  "cells": [
    {
      "cell_type": "markdown",
      "metadata": {
        "id": "view-in-github",
        "colab_type": "text"
      },
      "source": [
        "<a href=\"https://colab.research.google.com/github/sugatoray/CodeSnippets/blob/master/Run_System_Commands_in_Jupyter_Notebook_using_Python.ipynb\" target=\"_parent\"><img src=\"https://colab.research.google.com/assets/colab-badge.svg\" alt=\"Open In Colab\"/></a>"
      ]
    },
    {
      "metadata": {
        "id": "eRYwzsVwaC0i",
        "colab_type": "text"
      },
      "cell_type": "markdown",
      "source": [
        "# Run System Commands in Jupyter Notebook using Python\n",
        "\n",
        "Use `subprocess.check_output`. Here we will use this convenience function (as found in the [first resource](https://docs.python.org/3/library/subprocess.html) below).\n",
        "\n",
        "Other Resources: \n",
        "\n",
        "+ https://docs.python.org/3/library/subprocess.html\n",
        "+ https://www.pythonforbeginners.com/os/subprocess-for-system-administrators"
      ]
    },
    {
      "metadata": {
        "id": "isWXgg54Z-bJ",
        "colab_type": "code",
        "colab": {}
      },
      "cell_type": "code",
      "source": [
        "def run_command(command_line, print_output = True):\n",
        "  from subprocess import check_output\n",
        "  from shlex import split as command_split, quote as command_quote\n",
        "  # Using command_quote to safely print the command string\n",
        "  print(\"Executing Command: {}\\n\".format(command_quote(command_line)))\n",
        "  args_list = command_split(command_line)\n",
        "  s = check_output(args_list)\n",
        "  output = s.decode(\"utf-8\") \n",
        "  lines = output.split('\\n')\n",
        "  if print_output:\n",
        "    print(\"Printing output... \\n\")\n",
        "    for line in lines:\n",
        "        print(line)\n",
        "\n",
        "  return (output, lines)"
      ],
      "execution_count": 0,
      "outputs": []
    },
    {
      "metadata": {
        "id": "_6gqDBBTbyR1",
        "colab_type": "text"
      },
      "cell_type": "markdown",
      "source": [
        "# First use a system command directly: `ls`"
      ]
    },
    {
      "metadata": {
        "id": "e6vw4bcaauOP",
        "colab_type": "code",
        "colab": {
          "base_uri": "https://localhost:8080/",
          "height": 52
        },
        "outputId": "f7772ed0-e86c-422b-e9a0-503cc9fc14e1"
      },
      "cell_type": "code",
      "source": [
        "!ls"
      ],
      "execution_count": 2,
      "outputs": [
        {
          "output_type": "stream",
          "text": [
            "kaggle.json  sample_submission.csv  train.csv\n",
            "sample_data  test.zip\t\t    train.csv.zip\n"
          ],
          "name": "stdout"
        }
      ]
    },
    {
      "metadata": {
        "id": "xDW_hz-OcBGS",
        "colab_type": "text"
      },
      "cell_type": "markdown",
      "source": [
        "# Now use the _function_ to execute the system command\n",
        "\n",
        "We use the custom defined function **`run_command(command_line)`** and print the output as well."
      ]
    },
    {
      "metadata": {
        "id": "ioFx6KEKawcR",
        "colab_type": "code",
        "colab": {
          "base_uri": "https://localhost:8080/",
          "height": 211
        },
        "outputId": "07321dc0-7323-472e-8cb2-df7fa9f1c45d"
      },
      "cell_type": "code",
      "source": [
        "command_line = 'ls'\n",
        "output, lines = run_command(command_line, True);"
      ],
      "execution_count": 6,
      "outputs": [
        {
          "output_type": "stream",
          "text": [
            "Executing Command: ls\n",
            "\n",
            "Printing output... \n",
            "\n",
            "kaggle.json\n",
            "sample_data\n",
            "sample_submission.csv\n",
            "test.zip\n",
            "train.csv\n",
            "train.csv.zip\n",
            "\n"
          ],
          "name": "stdout"
        }
      ]
    },
    {
      "metadata": {
        "id": "tYsBT1o1bA-R",
        "colab_type": "code",
        "colab": {}
      },
      "cell_type": "code",
      "source": [
        ""
      ],
      "execution_count": 0,
      "outputs": []
    }
  ]
}