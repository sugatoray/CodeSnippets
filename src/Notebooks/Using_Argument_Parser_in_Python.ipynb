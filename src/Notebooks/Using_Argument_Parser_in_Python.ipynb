{
  "nbformat": 4,
  "nbformat_minor": 0,
  "metadata": {
    "colab": {
      "name": "Using_Argument_Parser_in_Python.ipynb",
      "provenance": [],
      "collapsed_sections": [],
      "authorship_tag": "ABX9TyPqUNLUKIjR0L/c1ynegiVo",
      "include_colab_link": true
    },
    "kernelspec": {
      "name": "python3",
      "display_name": "Python 3"
    }
  },
  "cells": [
    {
      "cell_type": "markdown",
      "metadata": {
        "id": "view-in-github",
        "colab_type": "text"
      },
      "source": [
        "<a href=\"https://colab.research.google.com/github/sugatoray/CodeSnippets/blob/master/src/Notebooks/Using_Argument_Parser_in_Python.ipynb\" target=\"_parent\"><img src=\"https://colab.research.google.com/assets/colab-badge.svg\" alt=\"Open In Colab\"/></a>"
      ]
    },
    {
      "cell_type": "markdown",
      "metadata": {
        "id": "PAMft1djDHBS",
        "colab_type": "text"
      },
      "source": [
        "# Argument Parser\n",
        "\n",
        "Argument Parsers allow a python program command-line-access. \n",
        "\n",
        "Sources:  \n",
        "\n",
        "1. Python Documentation \n",
        "   - [library - `argparse`](https://docs.python.org/3/library/argparse.html#module-argparse)\n",
        "   - [howto - `argparse`](https://docs.python.org/3/howto/argparse.html)\n",
        "1. Example: [PyTorch MNIST VAE](https://github.com/dragen1860/pytorch-mnist-vae/blob/master/run_main.py)\n",
        "1. Example: [PyImageSearch - Deep Learning with OpenCV](https://www.pyimagesearch.com/2017/08/21/deep-learning-with-opencv/)"
      ]
    },
    {
      "cell_type": "markdown",
      "metadata": {
        "id": "ScwXFF2efNMp",
        "colab_type": "text"
      },
      "source": [
        "## Common problem with using `argparse` in IPython notebooks\n",
        "\n",
        "\n",
        "Solution: [Ipython trick: How to use argparse in Ipython notebooks](https://medium.com/@data.scientist/ipython-trick-how-to-use-argparse-in-ipython-notebooks-a07423ab31fc)\n",
        "\n",
        "```python\n",
        "import argparse\n",
        "\n",
        "## Creating argument parser\n",
        "desc = \"Main description of the function.\"\n",
        "parser = argparse.ArgumentParser(description=desc)\n",
        "# Adding arguments\n",
        "parser.add_argument(\"-v\", \"--verbose\", \n",
        "                    help=\"increase output verbosity\",\n",
        "                    action=\"store_true\")\n",
        "parser.add_argument('--learning_rate', \n",
        "                    help='Learning rate for Adam optimizer', \n",
        "                    type=float, default=1e-3)\n",
        "\n",
        "## Accessing parsed arguments\n",
        "args = parser.parse_args(\"\") # for jupyter notebook --> SOLUTION\n",
        "# OR\n",
        "args = parser.parse_args() # for non-jupyter notebook\n",
        "```"
      ]
    },
    {
      "cell_type": "markdown",
      "metadata": {
        "id": "NrYfqVK6hHKg",
        "colab_type": "text"
      },
      "source": [
        "## Import packages"
      ]
    },
    {
      "cell_type": "code",
      "metadata": {
        "id": "lvLuK9DuCFQR",
        "colab_type": "code",
        "colab": {}
      },
      "source": [
        "import argparse"
      ],
      "execution_count": 0,
      "outputs": []
    },
    {
      "cell_type": "markdown",
      "metadata": {
        "id": "rv6Bx-WYg_-e",
        "colab_type": "text"
      },
      "source": [
        "## Example - 1"
      ]
    },
    {
      "cell_type": "code",
      "metadata": {
        "id": "9a5yjx-DbYtM",
        "colab_type": "code",
        "colab": {
          "base_uri": "https://localhost:8080/",
          "height": 52
        },
        "outputId": "5a756f8a-88e4-4b36-9a05-33c407028f40"
      },
      "source": [
        "ap = argparse.ArgumentParser(description=\"Something\")\n",
        "ap.add_argument(\"-v\", \"--verbose\", \n",
        "                help=\"increase output verbosity\",\n",
        "                action=\"store_true\")\n",
        "args = ap.parse_args(\"\")\n",
        "# print a single argument\n",
        "print(f'args.verbose: {args.verbose}')\n",
        "vars(args)"
      ],
      "execution_count": 33,
      "outputs": [
        {
          "output_type": "stream",
          "text": [
            "args.verbose: False\n"
          ],
          "name": "stdout"
        },
        {
          "output_type": "execute_result",
          "data": {
            "text/plain": [
              "{'verbose': False}"
            ]
          },
          "metadata": {
            "tags": []
          },
          "execution_count": 33
        }
      ]
    },
    {
      "cell_type": "markdown",
      "metadata": {
        "id": "7G7xYDxKg54l",
        "colab_type": "text"
      },
      "source": [
        "## Example - 2"
      ]
    },
    {
      "cell_type": "code",
      "metadata": {
        "id": "JUVReSgmCN80",
        "colab_type": "code",
        "colab": {
          "base_uri": "https://localhost:8080/",
          "height": 34
        },
        "outputId": "d3de0664-18d3-4d49-a7ea-fd7d53c4b56c"
      },
      "source": [
        "#%tb ## --> uncomment to see traceback\n",
        "## Creating argument parser\n",
        "desc = \"Main description of the function.\"\n",
        "parser = argparse.ArgumentParser(description=desc)\n",
        "# Adding arguments\n",
        "parser.add_argument(\"-v\", \"--verbose\", \n",
        "                    help=\"increase output verbosity\",\n",
        "                    action=\"store_true\")\n",
        "parser.add_argument('--learning_rate', \n",
        "                    help='Learning rate for Adam optimizer', \n",
        "                    type=float, default=1e-3)\n",
        "\n",
        "## Accessing parsed arguments\n",
        "args = parser.parse_args(\"\")\n",
        "vars(args)"
      ],
      "execution_count": 35,
      "outputs": [
        {
          "output_type": "execute_result",
          "data": {
            "text/plain": [
              "{'learning_rate': 0.001, 'verbose': False}"
            ]
          },
          "metadata": {
            "tags": []
          },
          "execution_count": 35
        }
      ]
    },
    {
      "cell_type": "code",
      "metadata": {
        "id": "nsosPcKwe0pp",
        "colab_type": "code",
        "colab": {}
      },
      "source": [
        ""
      ],
      "execution_count": 0,
      "outputs": []
    }
  ]
}