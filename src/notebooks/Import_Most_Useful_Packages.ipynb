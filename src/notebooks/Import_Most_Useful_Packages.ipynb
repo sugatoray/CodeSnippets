{
  "nbformat": 4,
  "nbformat_minor": 0,
  "metadata": {
    "colab": {
      "name": "Import_Most_Useful_Packages.ipynb",
      "version": "0.3.2",
      "provenance": [],
      "collapsed_sections": [],
      "include_colab_link": true
    },
    "kernelspec": {
      "name": "python3",
      "display_name": "Python 3"
    }
  },
  "cells": [
    {
      "cell_type": "markdown",
      "metadata": {
        "id": "view-in-github",
        "colab_type": "text"
      },
      "source": [
        "<a href=\"https://colab.research.google.com/github/sugatoray/CodeSnippets/blob/master/Import_Most_Useful_Packages.ipynb\" target=\"_parent\"><img src=\"https://colab.research.google.com/assets/colab-badge.svg\" alt=\"Open In Colab\"/></a>"
      ]
    },
    {
      "metadata": {
        "id": "X8rA1k4h-wfQ",
        "colab_type": "text"
      },
      "cell_type": "markdown",
      "source": [
        "# Import Packages/Python Libraries\n",
        "\n",
        "I will enlist the libraries/packages I found most often usefull for my work here along with the reasoning (what they are majorly used for)."
      ]
    },
    {
      "metadata": {
        "id": "vb6kIZ0S-PJx",
        "colab_type": "code",
        "colab": {}
      },
      "cell_type": "code",
      "source": [
        "#@title Preample: Import Packages\n",
        "\n",
        "# Minimally Required Packages\n",
        "import numpy as np                           # array handling\n",
        "import pandas as pd                          # dataframe and series support (excel-like capability)\n",
        "import seaborn as sns                        # plotting\n",
        "import matplotlib.pyplot as plt              # plotting\n",
        "import os                                    # for paths, directory-listing, etc.\n",
        "from IPython.display import display, IFrame  # displaying result, pdf, webpage, etc.\n",
        "\n",
        "# Packages for Image Processing\n",
        "import cv2                                   # for advanced image processing (less pythoninc)\n",
        "from PIL import Image                        # for images (I/O)\n",
        "from sklearn.preprocessing import binarize   # binarize an image\n",
        "import skimage.filters as image_filters      # image filters for image processing\n",
        "from scipy.ndimage.interpolation import shift as im_shift, rotate as im_rotate\n",
        "    \n",
        "# Packages for Curve Fitting and Error/Residual Calculation\n",
        "from scipy.optimize import curve_fit         # curve-fitting\n",
        "from sklearn.metrics import r2_score         # R-squared value for a fit\n",
        "\n",
        "# Packages for regular stuff\n",
        "from ast import literal_eval                 # strng-of-tuple to tuple\n",
        "import pprint                                # for pretty-printing\n",
        "import datetime                              # timestamp\n",
        "\n",
        "# Setup Plotting Environment\n",
        "%matplotlib inline\n",
        "%config InlineBackend.figure_format = 'retina' # 'svg', 'retina'\n",
        "plt.style.use('seaborn-white')\n",
        "#plt.rcParams['axes.titlesize'] = 16"
      ],
      "execution_count": 0,
      "outputs": []
    },
    {
      "metadata": {
        "id": "DfVongSa_9rv",
        "colab_type": "text"
      },
      "cell_type": "markdown",
      "source": [
        "##Set Plotting Environment: Advanced\n",
        "\n",
        "We use the `matplotlib.pyplot.rcParams` (or, alternatively `pylab.rcParams`). For more details see: [matplotlib-configuration-api: rcParams](https://matplotlib.org/api/matplotlib_configuration_api.html) and [Customising with rcParams](https://matplotlib.org/users/customizing.html)."
      ]
    },
    {
      "metadata": {
        "id": "EOIHXhiaBSRJ",
        "colab_type": "code",
        "colab": {}
      },
      "cell_type": "code",
      "source": [
        "plt.rcParams['axes.titlesize'] = 16\n",
        "plt.rcParams['axes.titleweight'] = 1"
      ],
      "execution_count": 0,
      "outputs": []
    },
    {
      "metadata": {
        "id": "RJxvl_-h_S5E",
        "colab_type": "code",
        "colab": {
          "base_uri": "https://localhost:8080/",
          "height": 521
        },
        "outputId": "bcc85d51-8dc3-4139-ab81-ec7aa190dcd0"
      },
      "cell_type": "code",
      "source": [
        "#@title Customizing matplotlib with rcParams\n",
        "IFrame(\"https://matplotlib.org/users/customizing.html\", width = 1200, height = 500)"
      ],
      "execution_count": 9,
      "outputs": [
        {
          "output_type": "execute_result",
          "data": {
            "text/html": [
              "\n",
              "        <iframe\n",
              "            width=\"1200\"\n",
              "            height=\"500\"\n",
              "            src=\"https://matplotlib.org/users/customizing.html\"\n",
              "            frameborder=\"0\"\n",
              "            allowfullscreen\n",
              "        ></iframe>\n",
              "        "
            ],
            "text/plain": [
              "<IPython.lib.display.IFrame at 0x7fa09066e6d8>"
            ]
          },
          "metadata": {
            "tags": []
          },
          "execution_count": 9
        }
      ]
    },
    {
      "metadata": {
        "id": "2niIdRxSIo4J",
        "colab_type": "code",
        "colab": {}
      },
      "cell_type": "code",
      "source": [
        ""
      ],
      "execution_count": 0,
      "outputs": []
    }
  ]
}