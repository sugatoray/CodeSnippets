{
 "cells": [
  {
   "cell_type": "markdown",
   "metadata": {},
   "source": [
    "# Opening a YouTube Link in a Browser using Python\n",
    "\n",
    "We would see how we can open a URL in a browser using python. I would like to mention that this is not the same as embedding a link of a YouTubeVideo using markdown; neither it is equivalent to using `IPython.display.YouTubeVideo()` to run a video inside the jupyter notebook.\n",
    "\n",
    "In other words we want to test browser-automation to access a YouTube video link.\n",
    "\n",
    "There are two methods: \n",
    "1. Use package `webbrowser` to open the link in the default web-browser.\n",
    "1. Use package `selenium` to open a browser (here we will use Mozilla-Firefox)."
   ]
  },
  {
   "cell_type": "code",
   "execution_count": 1,
   "metadata": {
    "ExecuteTime": {
     "end_time": "2019-06-27T23:33:25.543888Z",
     "start_time": "2019-06-27T23:33:23.812465Z"
    }
   },
   "outputs": [],
   "source": [
    "import webbrowser as wb\n",
    "import numpy as np\n",
    "import pandas as pd\n",
    "import matplotlib.pyplot as plt\n",
    "\n",
    "import os, sys, glob\n",
    "import re, time\n",
    "from IPython.display import display, clear_output, YouTubeVideo\n",
    "from shutil import copyfile # copyfile(src, dst)\n",
    "\n",
    "import errno\n",
    "import requests\n",
    "from bs4 import BeautifulSoup as bsp\n",
    "import urllib.parse as urlparse\n",
    "\n",
    "from tqdm import tqdm, tnrange, tqdm_notebook\n",
    "\n",
    "%matplotlib inline\n",
    "%config InlineBackend.figure_format = 'svg' # 'svg', 'retina'\n",
    "plt.style.use('seaborn-white')"
   ]
  },
  {
   "cell_type": "markdown",
   "metadata": {},
   "source": [
    "# Open Link with python's `webbrowser` package"
   ]
  },
  {
   "cell_type": "code",
   "execution_count": 22,
   "metadata": {
    "ExecuteTime": {
     "end_time": "2019-06-26T22:41:57.869177Z",
     "start_time": "2019-06-26T22:41:57.824297Z"
    }
   },
   "outputs": [],
   "source": [
    "target_url = \"https://www.youtube.com/watch?v=RJ8PPwv-tEE\"\n",
    "tab = wb.open_new_tab(target_url)"
   ]
  },
  {
   "cell_type": "code",
   "execution_count": 41,
   "metadata": {
    "ExecuteTime": {
     "end_time": "2019-06-26T23:32:20.281795Z",
     "start_time": "2019-06-26T23:32:20.244888Z"
    }
   },
   "outputs": [
    {
     "data": {
      "text/plain": [
       "True"
      ]
     },
     "execution_count": 41,
     "metadata": {},
     "output_type": "execute_result"
    }
   ],
   "source": [
    "wb.open(target_url, new=1)"
   ]
  },
  {
   "cell_type": "code",
   "execution_count": 42,
   "metadata": {
    "ExecuteTime": {
     "end_time": "2019-06-26T23:32:51.223607Z",
     "start_time": "2019-06-26T23:32:33.953956Z"
    },
    "collapsed": true
   },
   "outputs": [],
   "source": [
    "wb.open(target_url, new=1, autoraise=True)\n",
    "time.sleep(1.5)\n",
    "for i in range(10):\n",
    "    wb.open_new_tab(target_url)\n",
    "    time.sleep(1.5)"
   ]
  },
  {
   "cell_type": "markdown",
   "metadata": {},
   "source": [
    "# Open Link with `selenium` package"
   ]
  },
  {
   "cell_type": "markdown",
   "metadata": {},
   "source": [
    "### Note: Download and Point To the Path of the Browser Driver\n",
    "\n",
    "+ For first time use download GECKODRIVER from [here](https://github.com/mozilla/geckodriver/releases) and CHROME DRIVER from [here](https://sites.google.com/a/chromium.org/chromedriver/downloads).\n",
    "+ Follow the instructions given [here]() to point to the downloaded driver.\n",
    "+ Follow [this stackoverflow thread](https://stackoverflow.com/questions/42478591/python-selenium-chrome-webdriver) for instructions on how to use CHROME DRIVER with selenium.\n",
    "\n",
    "```\n",
    "from selenium import webdriver\n",
    "driver_location = r'your\\path\\geckodriver.exe'\n",
    "target_url = 'http://inventwithpython.com'\n",
    "driver = webdriver.Firefox(executable_path = driver_location)\n",
    "driver.get(target_url)\n",
    "\n",
    "```"
   ]
  },
  {
   "cell_type": "markdown",
   "metadata": {},
   "source": [
    "## Import Packages and Define Custom Function"
   ]
  },
  {
   "cell_type": "code",
   "execution_count": 56,
   "metadata": {
    "ExecuteTime": {
     "end_time": "2019-06-28T01:43:19.222404Z",
     "start_time": "2019-06-28T01:43:19.206810Z"
    }
   },
   "outputs": [],
   "source": [
    "# launch/initialise a browser\n",
    "from selenium import webdriver \n",
    "# control sending/typing keys from keyboard\n",
    "from selenium.webdriver.common.keys import Keys\n",
    "# wait for a page to load\n",
    "from selenium.webdriver.support.ui import WebDriverWait \n",
    "# send commands as chain-of-actions and execute ==> .perform()\n",
    "from selenium.webdriver.common.action_chains import ActionChains\n",
    "# search for something using specific parameters\n",
    "from selenium.webdriver.common.by import By \n",
    "# check if webpage has been loaded: specify what to look for\n",
    "from selenium.webdriver.support import expected_conditions as EC\n",
    "# handle a timeout situation\n",
    "from selenium.common.exceptions import TimeoutException"
   ]
  },
  {
   "cell_type": "code",
   "execution_count": 3,
   "metadata": {
    "ExecuteTime": {
     "end_time": "2019-06-27T23:33:30.360945Z",
     "start_time": "2019-06-27T23:33:30.315067Z"
    },
    "collapsed": true
   },
   "outputs": [],
   "source": [
    "def getWebDriver(browser_name=\"firfox\", target_url=\"\"):\n",
    "    \n",
    "    default_browser_name = \"firefox\"\n",
    "    supported_browsers_list = [\"firefox\",\"chrome\"]\n",
    "    \n",
    "    if browser_name not in supported_browsers_list:\n",
    "        browser_name = default_browser_name\n",
    "    \n",
    "    if (browser_name == \"firefox\"):\n",
    "        driver_path = r'C:\\Users\\raysu\\Anaconda3\\selenium\\webdriver\\firefox'\n",
    "        driver_name = \"geckodriver.exe\"\n",
    "    elif (browser_name == \"chrome\"):\n",
    "        driver_path = r'C:\\Users\\raysu\\Anaconda3\\selenium\\webdriver\\chrome'\n",
    "        driver_name = \"chromedriver.exe\"\n",
    "    \n",
    "    driver_executable_path = os.path.join(driver_path,driver_name)\n",
    "    \n",
    "    print(driver_executable_path)\n",
    "    if (browser_name == \"firefox\"):\n",
    "        driver = webdriver.Firefox(executable_path = driver_executable_path)\n",
    "    if (browser_name == \"chrome\"):\n",
    "        driver = webdriver.Chrome(executable_path = driver_executable_path)\n",
    "    \n",
    "    if not (target_url.strip() == \"\"):\n",
    "        driver.get(target_url)\n",
    "    \n",
    "    return driver\n",
    "    "
   ]
  },
  {
   "cell_type": "markdown",
   "metadata": {},
   "source": [
    "## Open New Tab and Load URL\n",
    "\n",
    "The most prescribed method for this is using ActionChains: \n",
    "```python\n",
    "ActionChains(driver).key_down(Keys.CONTROL).send_keys('t').key_up(Keys.CONTROL).perform()\n",
    "```\n",
    "However, this did not work for me. Instead, the following method ([source](https://gist.github.com/lrhache/7686903)) worked in opening a new tab:  \n",
    "```python\n",
    "driver.execute_script('''window.open(\"about:blank\", \"_blank\");''')\n",
    "```\n",
    "**Refernces**:  \n",
    "+ https://stackoverflow.com/questions/10629815/how-to-switch-to-new-window-in-selenium-for-python\n",
    "+ https://stackoverflow.com/questions/5859119/has-anyone-used-actionchains-of-webdriverpython-binding\n",
    "+ https://selenium-python.readthedocs.io/api.html#module-selenium.webdriver.common.action_chains\n",
    "+ https://seleniumhq.github.io/selenium/docs/api/py/webdriver/selenium.webdriver.common.action_chains.html\n",
    "+ https://seleniumhq.github.io/selenium/docs/api/py/webdriver_remote/selenium.webdriver.remote.webelement.html\n",
    "+ **[Medium.com Article on Selenium powered Webscraping](https://medium.com/the-andela-way/introduction-to-web-scraping-using-selenium-7ec377a8cf72)**\n",
    "\n"
   ]
  },
  {
   "cell_type": "markdown",
   "metadata": {},
   "source": [
    "## Complete code block:  "
   ]
  },
  {
   "cell_type": "markdown",
   "metadata": {},
   "source": [
    "```python\n",
    "### import statements\n",
    "\n",
    "# launch/initialise a browser\n",
    "from selenium import webdriver \n",
    "# control sending/typing keys from keyboard\n",
    "from selenium.webdriver.common.keys import Keys\n",
    "# wait for a page to load\n",
    "from selenium.webdriver.support.ui import WebDriverWait \n",
    "# send commands as chain-of-actions and execute ==> .perform()\n",
    "from selenium.webdriver.common.action_chains import ActionChains\n",
    "# search for something using specific parameters\n",
    "from selenium.webdriver.common.by import By \n",
    "# check if webpage has been loaded: specify what to look for\n",
    "from selenium.webdriver.support import expected_conditions as EC\n",
    "# handle a timeout situation\n",
    "from selenium.common.exceptions import TimeoutException\n",
    "\n",
    "# show progress bar\n",
    "from tqdm import tqdm, tnrange, tqdm_notebook\n",
    "# handle time and operating system (os)\n",
    "import time, os\n",
    "\n",
    "### define custom browser creation function\n",
    "def getWebDriver(browser_name=\"firfox\", target_url=\"\"):\n",
    "    \n",
    "    default_browser_name = \"firefox\"\n",
    "    supported_browsers_list = [\"firefox\",\"chrome\"]\n",
    "    \n",
    "    if browser_name not in supported_browsers_list:\n",
    "        browser_name = default_browser_name\n",
    "    \n",
    "    if (browser_name == \"firefox\"):\n",
    "        driver_path = r'C:\\Users\\raysu\\Anaconda3\\selenium\\webdriver\\firefox'\n",
    "        driver_name = \"geckodriver.exe\"\n",
    "    elif (browser_name == \"chrome\"):\n",
    "        driver_path = r'C:\\Users\\raysu\\Anaconda3\\selenium\\webdriver\\chrome'\n",
    "        driver_name = \"chromedriver.exe\"\n",
    "    \n",
    "    driver_executable_path = os.path.join(driver_path,driver_name)\n",
    "    \n",
    "    print(driver_executable_path)\n",
    "    if (browser_name == \"firefox\"):\n",
    "        driver = webdriver.Firefox(executable_path = driver_executable_path)\n",
    "    if (browser_name == \"chrome\"):\n",
    "        driver = webdriver.Chrome(executable_path = driver_executable_path)\n",
    "    \n",
    "    if not (target_url.strip() == \"\"):\n",
    "        driver.get(target_url)\n",
    "    \n",
    "    return driver\n",
    "    \n",
    "    \n",
    "### define target_url and create webdriver for firefox browser\n",
    "target_url = r\"https://www.youtube.com/watch?v=RJ8PPwv-tEE\"\n",
    "driver = getWebDriver('firefox', target_url='')\n",
    "\n",
    "### Switch to first window_handle, open target_url and \n",
    "#      then recursively: \n",
    "#      1. open new tabs, \n",
    "#      2. switch to that tab's window_handle, \n",
    "#      3. open target_url\n",
    "driver.switch_to.window(driver.window_handles[0])\n",
    "driver.get(target_url)\n",
    "for i in tqdm_notebook(range(1,10), desc='Mozilla Loop'):\n",
    "    # open new tab\n",
    "    driver.execute_script('''window.open(\"about:blank\", \"_blank\");''')\n",
    "    # switch to new tab\n",
    "    driver.switch_to.window(driver.window_handles[i])\n",
    "    driver.get(target_url)\n",
    "    \n",
    "### close all the open tabs (one by one)\n",
    "print('Open Tabs: {}'.format(len(driver.window_handles)))\n",
    "for i, window_handle in tqdm_notebook(enumerate(driver.window_handles), desc='Close Tabs'):\n",
    "    driver.switch_to.window(window_handle)\n",
    "    driver.close()\n",
    "    try:\n",
    "        open_tabs_left = len(driver.window_handles)\n",
    "    except:\n",
    "        open_tabs_left = 0\n",
    "    print('{}. Open Tabs: {} | Closed: {}'.format(i, open_tabs_left, window_handle))\n",
    "    time.sleep(0.5)\n",
    "```"
   ]
  },
  {
   "cell_type": "markdown",
   "metadata": {},
   "source": [
    "## Custom Functions for YouTube Video"
   ]
  },
  {
   "cell_type": "markdown",
   "metadata": {},
   "source": [
    "### Function To Get Random Sleep Time\n",
    "\n",
    "This is necessary to send random wait time between two successive similar actions on the website (YouTube) to emulate uncertainties associated with a human audience."
   ]
  },
  {
   "cell_type": "code",
   "execution_count": 12,
   "metadata": {
    "ExecuteTime": {
     "end_time": "2019-06-27T23:41:36.644612Z",
     "start_time": "2019-06-27T23:41:36.634651Z"
    }
   },
   "outputs": [
    {
     "data": {
      "text/plain": [
       "array([1.5665])"
      ]
     },
     "execution_count": 12,
     "metadata": {},
     "output_type": "execute_result"
    }
   ],
   "source": [
    "def get_random_sleeptime(sleep_time_mu = 1.5, how_many = 1, keep_decimal_digits = 4):\n",
    "    sleep_time = sleep_time_mu + np.round(0.1*np.random.rand(how_many), \n",
    "                                          keep_decimal_digits)\n",
    "    return sleep_time\n",
    "get_random_sleeptime()"
   ]
  },
  {
   "cell_type": "markdown",
   "metadata": {},
   "source": [
    "### Function To Decide Whether to Fast Forward or Not"
   ]
  },
  {
   "cell_type": "code",
   "execution_count": 13,
   "metadata": {
    "ExecuteTime": {
     "end_time": "2019-06-27T23:41:38.165537Z",
     "start_time": "2019-06-27T23:41:38.145592Z"
    }
   },
   "outputs": [],
   "source": [
    "def get_decision_fastforward(youtubevideo, debug = False):\n",
    "    \"\"\"\n",
    "    Example:\n",
    "        youtubevideo = driver.find_element_by_xpath('//*[@id=\"player-container-inner\"]')\n",
    "        decision = get_decision_fastforward(youtubevideo, debug = False)\n",
    "    \"\"\"\n",
    "    youtubevideo_timetext = youtubevideo.text\n",
    "    video_now, video_length = youtubevideo_timetext.replace(' ','').split('/')    \n",
    "    time_video_now, time_video_length = get_time_value(video_now), get_time_value(video_length)\n",
    "    decision = False\n",
    "    if (time_video_now is not None) and (time_video_length is not None):\n",
    "        if time_video_now + 5 < time_video_length:\n",
    "            decision = True\n",
    "        else:\n",
    "            decision = False\n",
    "    else:\n",
    "        decision = False\n",
    "    if debug:\n",
    "        print('Video time: {}'.format(youtubevideo_timetext))\n",
    "        print('Fast Forward Decision: {}'.format(decision))\n",
    "        \n",
    "    return decision"
   ]
  },
  {
   "cell_type": "markdown",
   "metadata": {},
   "source": [
    "### Function to Calculate Possible Number of Jumps for Scrubbing (Quick Fast Forwarding) The Video"
   ]
  },
  {
   "cell_type": "code",
   "execution_count": 18,
   "metadata": {
    "ExecuteTime": {
     "end_time": "2019-06-28T00:04:22.466320Z",
     "start_time": "2019-06-28T00:04:22.455352Z"
    },
    "collapsed": true
   },
   "outputs": [],
   "source": [
    "def get_number_of_jumps(youtubevideo, jump_length = 5):\n",
    "    \"\"\"\n",
    "    Returns total number of possible jumps (as int) each of \n",
    "    length (jump_length; default = 5 seconds). This \n",
    "    is useful to scrub the video (quickly fastforward it).\n",
    "    \n",
    "    Example:\n",
    "        youtubevideo = driver.find_element_by_xpath('//*[@id=\"player-container-inner\"]')\n",
    "        number_of_jumps = get_number_of_jumps(youtubevideo, jump_length = 5)\n",
    "    \"\"\"\n",
    "    video_now, video_length = youtubevideo.text.replace(' ','').split('/')\n",
    "    time_video_now, time_video_length = get_time_value(video_now), get_time_value(video_length)\n",
    "    # Each jump is equal to 5 seconds\n",
    "    number_of_jumps = int((time_video_length - time_video_now)/jump_length - 1)\n",
    "    \n",
    "    return number_of_jumps"
   ]
  },
  {
   "cell_type": "markdown",
   "metadata": {},
   "source": [
    "### Function To Read Time from a Time String (hh:mm:ss)"
   ]
  },
  {
   "cell_type": "code",
   "execution_count": 14,
   "metadata": {
    "ExecuteTime": {
     "end_time": "2019-06-27T23:41:39.344385Z",
     "start_time": "2019-06-27T23:41:39.294517Z"
    }
   },
   "outputs": [
    {
     "name": "stdout",
     "output_type": "stream",
     "text": [
      "time value: 5567 s \t | time string: 1:32:47\t\t | time parts: ['1*(3600)', '32*(60)', '47*(1)']\n"
     ]
    }
   ],
   "source": [
    "def get_time_value(time_string = '00:00:00', debug = False):\n",
    "    \"\"\"\n",
    "    Returns the equivalent time in seconds when the \n",
    "    time string resembles any of the following structures:\n",
    "        HH:MM:SS (hours:minute:second)\n",
    "        MM:SS (minute:second)       \n",
    "    \n",
    "    debug = True ==> this will print a diagnostic statement.\n",
    "    \n",
    "    Example: \n",
    "        time_value = get_time_value(time_string = '1:32:47', debug = True)\n",
    "        \n",
    "        Expected Result:\n",
    "            time_value = 5567\n",
    "        The \"debug = True\" will print out the following:\n",
    "            time value: 5567 s \t | time string: 1:32:47\t\t | time parts: ['1*(3600)', '32*(60)', '47*(1)']\n",
    "            \n",
    "    \"\"\"\n",
    "    time_parts = time_string.split(':')\n",
    "    # ensure only three time-parts at most\n",
    "    #    HH:MM:SS\n",
    "    if len(time_parts)>3:\n",
    "        time_parts = time_parts[:3]\n",
    "    time_parts.reverse()\n",
    "    time_value = 0\n",
    "    for i, time_part in enumerate(time_parts):\n",
    "        try:\n",
    "            time_part = int(time_part)\n",
    "        except:\n",
    "            time_part = None\n",
    "        if time_part is not None:\n",
    "            time_parts[i] = str(time_part) + '*(' + str(60**i) + ')'\n",
    "        else:\n",
    "            time_parts[i] = None\n",
    "            time_value = None\n",
    "    time_parts.reverse()\n",
    "    if time_value is not None:        \n",
    "        time_value = eval('+'.join(time_parts))\n",
    "    \n",
    "    if debug:\n",
    "        print_str = 'time value: {} s \\t | time string: {}\\t\\t | time parts: {}'\n",
    "        print(print_str.format(time_value, time_string, time_parts))\n",
    "        \n",
    "    return time_value\n",
    "\n",
    "#get_time_value(time_string=video_length, debug = True), \\\n",
    "#get_time_value(time_string=video_now, debug = True), \\\n",
    "time_string = '1:32:47'\n",
    "get_time_value(time_string=time_string, debug = True);"
   ]
  },
  {
   "cell_type": "markdown",
   "metadata": {},
   "source": [
    "### Function to Read Number of Video Views"
   ]
  },
  {
   "cell_type": "code",
   "execution_count": 54,
   "metadata": {
    "ExecuteTime": {
     "end_time": "2019-06-28T01:23:51.327013Z",
     "start_time": "2019-06-28T01:23:51.306069Z"
    },
    "collapsed": true
   },
   "outputs": [],
   "source": [
    "def get_video_views_num(driver, debug = False):\n",
    "    \"\"\"\n",
    "    Returns the number of views for a video on YouTube.\n",
    "    \n",
    "    Example:\n",
    "        video_views_num, video_views_text = get_video_views_num(driver, debug = True)\n",
    "    \"\"\"\n",
    "    video_views_text = driver.find_element_by_xpath('//*[@class=\"view-count style-scope yt-view-count-renderer\"]').text\n",
    "    try:\n",
    "        video_views_info = video_views_text.split(' ')\n",
    "        if video_views_info[1].strip().lower() in ['views','view']:\n",
    "            video_views_num = int(video_views_info[0].replace(',',''))\n",
    "    except:\n",
    "        video_views_num = None\n",
    "    if debug:\n",
    "        print(video_views_text)\n",
    "        \n",
    "    return (video_views_num, video_views_text)"
   ]
  },
  {
   "cell_type": "markdown",
   "metadata": {},
   "source": [
    "## Create a Browser Driver"
   ]
  },
  {
   "cell_type": "code",
   "execution_count": 91,
   "metadata": {
    "ExecuteTime": {
     "end_time": "2019-06-27T19:34:26.305681Z",
     "start_time": "2019-06-27T19:34:20.431394Z"
    }
   },
   "outputs": [
    {
     "name": "stdout",
     "output_type": "stream",
     "text": [
      "C:\\Users\\raysu\\Anaconda3\\selenium\\webdriver\\firefox\\geckodriver.exe\n"
     ]
    }
   ],
   "source": [
    "target_url = r\"https://www.youtube.com/watch?v=RJ8PPwv-tEE\"\n",
    "driver = getWebDriver('firefox', target_url='')"
   ]
  },
  {
   "cell_type": "markdown",
   "metadata": {},
   "source": [
    "Print the window handles. If there are multiple windows, or tabs open, this would return multiple window handles (as a list of strings)."
   ]
  },
  {
   "cell_type": "code",
   "execution_count": 92,
   "metadata": {
    "ExecuteTime": {
     "end_time": "2019-06-27T19:34:27.305008Z",
     "start_time": "2019-06-27T19:34:27.293040Z"
    }
   },
   "outputs": [
    {
     "name": "stdout",
     "output_type": "stream",
     "text": [
      "['6442450945']\n"
     ]
    }
   ],
   "source": [
    "window_handles = driver.window_handles\n",
    "print(window_handles)"
   ]
  },
  {
   "cell_type": "markdown",
   "metadata": {
    "heading_collapsed": true
   },
   "source": [
    "# Test Browser Driver Integration"
   ]
  },
  {
   "cell_type": "markdown",
   "metadata": {
    "hidden": true
   },
   "source": [
    "### Test Chrome Browser"
   ]
  },
  {
   "cell_type": "code",
   "execution_count": 29,
   "metadata": {
    "ExecuteTime": {
     "end_time": "2019-06-28T00:42:48.458323Z",
     "start_time": "2019-06-28T00:42:46.174397Z"
    },
    "hidden": true
   },
   "outputs": [
    {
     "name": "stdout",
     "output_type": "stream",
     "text": [
      "C:\\Users\\raysu\\Anaconda3\\selenium\\webdriver\\chrome\\chromedriver.exe\n"
     ]
    }
   ],
   "source": [
    "target_url = r\"https://www.youtube.com/watch?v=RJ8PPwv-tEE\"\n",
    "chromedriver = getWebDriver('chrome', target_url='')"
   ]
  },
  {
   "cell_type": "code",
   "execution_count": 69,
   "metadata": {
    "ExecuteTime": {
     "end_time": "2019-06-28T02:02:24.295683Z",
     "start_time": "2019-06-28T02:02:24.291696Z"
    },
    "collapsed": true,
    "hidden": true
   },
   "outputs": [],
   "source": [
    "browser = chromedriver"
   ]
  },
  {
   "cell_type": "markdown",
   "metadata": {
    "hidden": true
   },
   "source": [
    "**Open the `target_url`**."
   ]
  },
  {
   "cell_type": "code",
   "execution_count": 70,
   "metadata": {
    "ExecuteTime": {
     "end_time": "2019-06-28T02:02:27.568413Z",
     "start_time": "2019-06-28T02:02:26.360878Z"
    },
    "collapsed": true,
    "hidden": true
   },
   "outputs": [],
   "source": [
    "browser.switch_to.window(browser.window_handles[0])\n",
    "browser.get(target_url)"
   ]
  },
  {
   "cell_type": "markdown",
   "metadata": {
    "hidden": true
   },
   "source": [
    "**Open a New Tab and then Close it after 3 seconds**."
   ]
  },
  {
   "cell_type": "code",
   "execution_count": 71,
   "metadata": {
    "ExecuteTime": {
     "end_time": "2019-06-28T02:02:46.622503Z",
     "start_time": "2019-06-28T02:02:42.421396Z"
    },
    "hidden": true
   },
   "outputs": [
    {
     "name": "stdout",
     "output_type": "stream",
     "text": [
      "Open Tabs/Windows (BEFORE): \n",
      "['CDwindow-509468A504285E7824FA60F0E8A707AF']\n",
      "Open Tabs/Windows (AFTER New Tab): \n",
      "['CDwindow-509468A504285E7824FA60F0E8A707AF', 'CDwindow-980AD06A7BE663040B6558CD59D9DEDF']\n",
      "Open Tabs/Windows (AFTER Closing Tab): \n",
      "['CDwindow-509468A504285E7824FA60F0E8A707AF']\n"
     ]
    }
   ],
   "source": [
    "print('Open Tabs/Windows (BEFORE): \\n{}'.format(browser.window_handles))\n",
    "browser.execute_script('''window.open(\"about:blank\", \"_blank\");''')\n",
    "browser.switch_to.window(browser.window_handles[1])\n",
    "print('Open Tabs/Windows (AFTER New Tab): \\n{}'.format(browser.window_handles))\n",
    "time.sleep(3)\n",
    "browser.close()\n",
    "print('Open Tabs/Windows (AFTER Closing Tab): \\n{}'.format(browser.window_handles))\n",
    "browser.switch_to.window(browser.window_handles[0])"
   ]
  },
  {
   "cell_type": "markdown",
   "metadata": {
    "hidden": true
   },
   "source": [
    "**Show number of views for the video**."
   ]
  },
  {
   "cell_type": "code",
   "execution_count": 72,
   "metadata": {
    "ExecuteTime": {
     "end_time": "2019-06-28T02:02:55.231642Z",
     "start_time": "2019-06-28T02:02:55.184730Z"
    },
    "hidden": true
   },
   "outputs": [
    {
     "name": "stdout",
     "output_type": "stream",
     "text": [
      "180 views\n"
     ]
    }
   ],
   "source": [
    "get_video_views_num(driver = browser, debug = True);"
   ]
  },
  {
   "cell_type": "markdown",
   "metadata": {
    "hidden": true
   },
   "source": [
    "### Test Firefox (Mozilla) Browser"
   ]
  },
  {
   "cell_type": "code",
   "execution_count": 59,
   "metadata": {
    "ExecuteTime": {
     "end_time": "2019-06-28T01:55:01.883294Z",
     "start_time": "2019-06-28T01:54:54.789059Z"
    },
    "hidden": true
   },
   "outputs": [
    {
     "name": "stdout",
     "output_type": "stream",
     "text": [
      "C:\\Users\\raysu\\Anaconda3\\selenium\\webdriver\\firefox\\geckodriver.exe\n"
     ]
    }
   ],
   "source": [
    "target_url = r\"https://www.youtube.com/watch?v=RJ8PPwv-tEE\"\n",
    "firefoxdriver = getWebDriver('firefox', target_url='')"
   ]
  },
  {
   "cell_type": "code",
   "execution_count": null,
   "metadata": {
    "collapsed": true,
    "hidden": true
   },
   "outputs": [],
   "source": [
    "browser = firefoxdriver"
   ]
  },
  {
   "cell_type": "markdown",
   "metadata": {
    "hidden": true
   },
   "source": [
    "**Open the `target_url`**."
   ]
  },
  {
   "cell_type": "code",
   "execution_count": 66,
   "metadata": {
    "ExecuteTime": {
     "end_time": "2019-06-28T01:58:33.403099Z",
     "start_time": "2019-06-28T01:58:31.594855Z"
    },
    "collapsed": true,
    "hidden": true
   },
   "outputs": [],
   "source": [
    "browser.switch_to.window(browser.window_handles[0])\n",
    "browser.get(target_url)"
   ]
  },
  {
   "cell_type": "markdown",
   "metadata": {
    "hidden": true
   },
   "source": [
    "**Open a New Tab and then Close it after 3 seconds**."
   ]
  },
  {
   "cell_type": "code",
   "execution_count": 67,
   "metadata": {
    "ExecuteTime": {
     "end_time": "2019-06-28T01:58:51.842164Z",
     "start_time": "2019-06-28T01:58:48.557537Z"
    },
    "hidden": true
   },
   "outputs": [
    {
     "name": "stdout",
     "output_type": "stream",
     "text": [
      "Open Tabs/Windows (BEFORE): \n",
      "['6442450955']\n",
      "Open Tabs/Windows (AFTER New Tab): \n",
      "['6442450955', '6442450962']\n",
      "Open Tabs/Windows (AFTER Closing Tab): \n",
      "['6442450955']\n"
     ]
    }
   ],
   "source": [
    "print('Open Tabs/Windows (BEFORE): \\n{}'.format(browser.window_handles))\n",
    "browser.execute_script('''window.open(\"about:blank\", \"_blank\");''')\n",
    "browser.switch_to.window(browser.window_handles[1])\n",
    "print('Open Tabs/Windows (AFTER New Tab): \\n{}'.format(browser.window_handles))\n",
    "time.sleep(3)\n",
    "browser.close()\n",
    "print('Open Tabs/Windows (AFTER Closing Tab): \\n{}'.format(browser.window_handles))\n",
    "browser.switch_to.window(browser.window_handles[0])"
   ]
  },
  {
   "cell_type": "markdown",
   "metadata": {
    "hidden": true
   },
   "source": [
    "**Show number of views for the video**."
   ]
  },
  {
   "cell_type": "code",
   "execution_count": 68,
   "metadata": {
    "ExecuteTime": {
     "end_time": "2019-06-28T01:58:57.975855Z",
     "start_time": "2019-06-28T01:58:57.940946Z"
    },
    "hidden": true
   },
   "outputs": [
    {
     "name": "stdout",
     "output_type": "stream",
     "text": [
      "180 views\n"
     ]
    }
   ],
   "source": [
    "get_video_views_num(driver = browser, debug = True);"
   ]
  },
  {
   "cell_type": "markdown",
   "metadata": {},
   "source": [
    "# Implementation: Open a YouTube URL"
   ]
  },
  {
   "cell_type": "markdown",
   "metadata": {},
   "source": [
    "### Open multiple browser tabs and then load URL in each of them"
   ]
  },
  {
   "cell_type": "code",
   "execution_count": 85,
   "metadata": {
    "ExecuteTime": {
     "end_time": "2019-06-27T01:14:03.975620Z",
     "start_time": "2019-06-27T01:13:41.644532Z"
    }
   },
   "outputs": [
    {
     "name": "stdout",
     "output_type": "stream",
     "text": [
      "C:\\Users\\raysu\\Anaconda3\\selenium\\webdriver\\firefox\\geckodriver.exe\n"
     ]
    },
    {
     "data": {
      "application/vnd.jupyter.widget-view+json": {
       "model_id": "0a81614b81314194bad916dd241c4f2b",
       "version_major": 2,
       "version_minor": 0
      },
      "text/plain": [
       "A Jupyter Widget"
      ]
     },
     "metadata": {},
     "output_type": "display_data"
    },
    {
     "name": "stdout",
     "output_type": "stream",
     "text": [
      "\n"
     ]
    }
   ],
   "source": [
    "# define target_url and create webdriver for firefox browser\n",
    "target_url = r\"https://www.youtube.com/watch?v=RJ8PPwv-tEE\"\n",
    "driver = getWebDriver('firefox', target_url='')\n",
    "\n",
    "# Switch to first window_handle, open target_url and \n",
    "#    then recursively: \n",
    "#    1. open new tabs, \n",
    "#    2. switch to that tab's window_handle, \n",
    "#    3. open target_url\n",
    "driver.switch_to.window(driver.window_handles[0])\n",
    "driver.get(target_url)\n",
    "for i in tqdm_notebook(range(1,10), desc='Mozilla Loop'):\n",
    "    # open new tab\n",
    "    driver.execute_script('''window.open(\"about:blank\", \"_blank\");''')\n",
    "    # switch to new tab\n",
    "    driver.switch_to.window(driver.window_handles[i])\n",
    "    driver.get(target_url)"
   ]
  },
  {
   "cell_type": "markdown",
   "metadata": {},
   "source": [
    "### Check if the following opens a new tab\n",
    "\n",
    "When tested on a Windows 10 machine, the following code did not create any new tab."
   ]
  },
  {
   "cell_type": "code",
   "execution_count": 87,
   "metadata": {
    "ExecuteTime": {
     "end_time": "2019-06-27T01:57:40.479472Z",
     "start_time": "2019-06-27T01:57:40.467504Z"
    },
    "collapsed": true
   },
   "outputs": [],
   "source": [
    "try:\n",
    "    print('Open Tabs (Before): {}'.format(len(driver.window_handles)))\n",
    "    ActionChains(driver).key_down(Keys.CONTROL).send_keys('T').key_up(Keys.CONTROL).perform()\n",
    "    print('Open Tabs (After): {}'.format(len(driver.window_handles)))\n",
    "except:\n",
    "    pass"
   ]
  },
  {
   "cell_type": "markdown",
   "metadata": {},
   "source": [
    "### Close All Tabs One by One"
   ]
  },
  {
   "cell_type": "code",
   "execution_count": 86,
   "metadata": {
    "ExecuteTime": {
     "end_time": "2019-06-27T01:15:02.700745Z",
     "start_time": "2019-06-27T01:14:54.537126Z"
    }
   },
   "outputs": [
    {
     "name": "stdout",
     "output_type": "stream",
     "text": [
      "Open Tabs: 10\n"
     ]
    },
    {
     "data": {
      "application/vnd.jupyter.widget-view+json": {
       "model_id": "e4faf6b283734385bc966ad449f0bba2",
       "version_major": 2,
       "version_minor": 0
      },
      "text/plain": [
       "A Jupyter Widget"
      ]
     },
     "metadata": {},
     "output_type": "display_data"
    },
    {
     "name": "stdout",
     "output_type": "stream",
     "text": [
      "0. Open Tabs: 9 | Closed: 6442450945\n",
      "1. Open Tabs: 8 | Closed: 6442450953\n",
      "2. Open Tabs: 7 | Closed: 6442450957\n",
      "3. Open Tabs: 6 | Closed: 6442450961\n",
      "4. Open Tabs: 5 | Closed: 6442450965\n",
      "5. Open Tabs: 4 | Closed: 6442450969\n",
      "6. Open Tabs: 3 | Closed: 6442450973\n",
      "7. Open Tabs: 2 | Closed: 6442450977\n",
      "8. Open Tabs: 1 | Closed: 6442450981\n",
      "9. Open Tabs: 0 | Closed: 6442450985\n",
      "\n"
     ]
    }
   ],
   "source": [
    "print('Open Tabs: {}'.format(len(driver.window_handles)))\n",
    "for i, window_handle in tqdm_notebook(enumerate(driver.window_handles), desc='Close Tabs'):\n",
    "    driver.switch_to.window(window_handle)\n",
    "    driver.close()\n",
    "    try:\n",
    "        open_tabs_left = len(driver.window_handles)\n",
    "    except:\n",
    "        open_tabs_left = 0\n",
    "    print('{}. Open Tabs: {} | Closed: {}'.format(i, open_tabs_left, window_handle))\n",
    "    time.sleep(0.5)"
   ]
  },
  {
   "cell_type": "markdown",
   "metadata": {},
   "source": [
    "# Access Video Properties\n",
    "\n",
    "We will reload the `target_url` certain number of times. Each time we will first _**run**_ the video by pressing **SPACE** and then _**fast forward**_ it by 5 seconds using **RIGHT ARROW** key-press and finally _**pause**_ the video using **SPACE** key-press.\n",
    "\n",
    "I have written a few custom functions to do this. The custom functions are available [here](#Custom-Functions-for-YouTube-Video)."
   ]
  },
  {
   "cell_type": "markdown",
   "metadata": {},
   "source": [
    "**First create a webdriver for a browser** (_firefox_ or _chrome_)."
   ]
  },
  {
   "cell_type": "code",
   "execution_count": null,
   "metadata": {
    "collapsed": true
   },
   "outputs": [],
   "source": [
    "# define target_url and create webdriver for firefox browser\n",
    "target_url = r\"https://www.youtube.com/watch?v=RJ8PPwv-tEE\"\n",
    "driver = getWebDriver('firefox', target_url='') # firefox, chrome"
   ]
  },
  {
   "cell_type": "markdown",
   "metadata": {},
   "source": [
    "**Recursively load the same YouTube URL and fastforward the video each time**."
   ]
  },
  {
   "cell_type": "code",
   "execution_count": 55,
   "metadata": {
    "ExecuteTime": {
     "end_time": "2019-06-28T01:28:20.445061Z",
     "start_time": "2019-06-28T01:26:42.325886Z"
    },
    "scrolled": true
   },
   "outputs": [
    {
     "name": "stdout",
     "output_type": "stream",
     "text": [
      "This will reload the target-url 10 times.\n",
      "  target-url: https://www.youtube.com/watch?v=RJ8PPwv-tEE\n",
      "Scrubbing Enabled: True\n",
      "======================================================================\n",
      "\n"
     ]
    },
    {
     "data": {
      "application/vnd.jupyter.widget-view+json": {
       "model_id": "8c15abc62bde4637a0d8eea2bbc9011c",
       "version_major": 2,
       "version_minor": 0
      },
      "text/plain": [
       "A Jupyter Widget"
      ]
     },
     "metadata": {},
     "output_type": "display_data"
    },
    {
     "name": "stdout",
     "output_type": "stream",
     "text": [
      "Begin: 0\n",
      "Views: 180\n",
      "\t Video Time: 1:32 / 1:35\n",
      "\t Video Time: 1:32 / 1:35\n",
      "End: 0\n",
      "--------------------\n",
      "\n",
      "Begin: 1\n",
      "Views: 180\n",
      "\t Video Time: 1:32 / 1:35\n",
      "\t Video Time: 1:32 / 1:35\n",
      "End: 1\n",
      "--------------------\n",
      "\n",
      "Begin: 2\n",
      "Views: 180\n",
      "\t Video Time: 1:32 / 1:35\n",
      "\t Video Time: 1:32 / 1:35\n",
      "End: 2\n",
      "--------------------\n",
      "\n",
      "Begin: 3\n",
      "Views: 180\n",
      "\t Video Time: 1:32 / 1:35\n",
      "\t Video Time: 1:32 / 1:35\n",
      "End: 3\n",
      "--------------------\n",
      "\n",
      "Begin: 4\n",
      "Views: 180\n",
      "\t Video Time: 1:32 / 1:35\n",
      "\t Video Time: 1:32 / 1:35\n",
      "End: 4\n",
      "--------------------\n",
      "\n",
      "Begin: 5\n",
      "Views: 180\n",
      "\t Video Time: 1:32 / 1:35\n",
      "\t Video Time: 1:32 / 1:35\n",
      "End: 5\n",
      "--------------------\n",
      "\n",
      "Begin: 6\n",
      "Views: 180\n",
      "\t Video Time: 1:32 / 1:35\n",
      "\t Video Time: 1:32 / 1:35\n",
      "End: 6\n",
      "--------------------\n",
      "\n",
      "Begin: 7\n",
      "Views: 180\n",
      "\t Video Time: 1:32 / 1:35\n",
      "\t Video Time: 1:32 / 1:35\n",
      "End: 7\n",
      "--------------------\n",
      "\n",
      "Begin: 8\n",
      "Views: 180\n",
      "\t Video Time: 1:32 / 1:35\n",
      "\t Video Time: 1:32 / 1:35\n",
      "End: 8\n",
      "--------------------\n",
      "\n",
      "Begin: 9\n",
      "Views: 180\n",
      "\t Video Time: 1:32 / 1:35\n",
      "\t Video Time: 1:32 / 1:35\n",
      "End: 9\n",
      "--------------------\n",
      "\n",
      "\n"
     ]
    }
   ],
   "source": [
    "# set parameters\n",
    "total_page_reloads = 10 # times\n",
    "scrub_fast = True\n",
    "\n",
    "print_msg = 'This will reload the target-url {} times.\\n  target-url: {}'\n",
    "print(print_msg.format(total_page_reloads, target_url))\n",
    "print('Scrubbing Enabled: {}'.format(scrub_fast))\n",
    "print(''.join(['=']*70) + '\\n')\n",
    "\n",
    "for i in tqdm_notebook(range(total_page_reloads), desc='Main Loop'):\n",
    "    print('Begin: {}'.format(i))\n",
    "    if scrub_fast:\n",
    "        scrub_fast_once = True\n",
    "    else:\n",
    "        scrub_fast_once = False\n",
    "    # load video\n",
    "    driver.get(target_url)\n",
    "    time.sleep(2)\n",
    "    # access video element from the page\n",
    "    youtubevideo = driver.find_element_by_xpath('//*[@id=\"player-container-inner\"]')\n",
    "    # get number of views\n",
    "    video_views_num, video_views_text = get_video_views_num(driver, debug = False);\n",
    "    print('Views: {}'.format(video_views_num))\n",
    "    # calculate total number of possible jumps: useful for scrubbing the video\n",
    "    number_of_jumps = get_number_of_jumps(youtubevideo, jump_length = 5)\n",
    "    # run video by pressing SPACE\n",
    "    #    Youtube Videos can also be run or paused using button-press: k\n",
    "    ActionChains(driver).send_keys(Keys.SPACE).perform()\n",
    "    time.sleep(get_random_sleeptime()[0])\n",
    "    \n",
    "    decision = True\n",
    "    while decision:\n",
    "        # fastforward video (5 seconds) by pressing Arrow-Right\n",
    "        decision = get_decision_fastforward(youtubevideo, debug = False)    \n",
    "        if decision:\n",
    "            if scrub_fast_once:\n",
    "                for j in range(number_of_jumps-1):\n",
    "                    ActionChains(driver).send_keys(Keys.ARROW_RIGHT).perform()\n",
    "                scrub_fast_once = False\n",
    "            else:\n",
    "                ActionChains(driver).send_keys(Keys.ARROW_RIGHT).perform()\n",
    "            time.sleep(get_random_sleeptime()[0])\n",
    "        else:\n",
    "            print('\\t Video Time: {}'.format(youtubevideo.text))\n",
    "            break\n",
    "    # pause video by pressing SPACE\n",
    "    #    Youtube Videos can also be run or paused using button-press: k\n",
    "    ActionChains(driver).send_keys(Keys.SPACE).perform()\n",
    "    print('\\t Video Time: {}'.format(youtubevideo.text))\n",
    "    print('End: {}'.format(i))\n",
    "    print(''.join(['-']*20) + '\\n')\n",
    "\n",
    "# Button Associations for YouTube Videos\n",
    "#---------------------------------------------------\n",
    "#  Left Controls:\n",
    "#    Play: k / SPACE\n",
    "#    Mute: m\n",
    "#    Next: SHIFT + n\n",
    "#    FastForward: RIGHT ARROW (jumps by 5 seconds)\n",
    "#    FastRewind: LEFT ARROW (jumps by 5 seconds)\n",
    "#\n",
    "#  Right Controls:\n",
    "#    Mini Player: i\n",
    "#    Theatre Mode: t\n",
    "#    Full Screen: f\n",
    "#---------------------------------------------------    "
   ]
  },
  {
   "cell_type": "code",
   "execution_count": 99,
   "metadata": {
    "ExecuteTime": {
     "end_time": "2019-06-27T19:45:42.068405Z",
     "start_time": "2019-06-27T19:45:42.061461Z"
    }
   },
   "outputs": [
    {
     "data": {
      "text/plain": [
       "1.5553"
      ]
     },
     "execution_count": 99,
     "metadata": {},
     "output_type": "execute_result"
    }
   ],
   "source": [
    "get_random_sleeptime()[0]"
   ]
  },
  {
   "cell_type": "markdown",
   "metadata": {
    "heading_collapsed": true
   },
   "source": [
    "# Testing How to Access Various YouTube Controls"
   ]
  },
  {
   "cell_type": "code",
   "execution_count": 145,
   "metadata": {
    "ExecuteTime": {
     "end_time": "2019-06-27T21:55:49.518146Z",
     "start_time": "2019-06-27T21:55:49.488701Z"
    },
    "hidden": true
   },
   "outputs": [],
   "source": [
    "youtubevideo = driver.find_element_by_xpath('//*[@id=\"player-container-inner\"]')\n",
    "youtubevideo_left_controls = youtubevideo.find_element_by_class_name('ytp-left-controls')\n",
    "youtubevideo_right_controls = youtubevideo.find_element_by_class_name('ytp-right-controls')"
   ]
  },
  {
   "cell_type": "markdown",
   "metadata": {
    "hidden": true
   },
   "source": [
    "Show current time vs. total video-length"
   ]
  },
  {
   "cell_type": "code",
   "execution_count": 146,
   "metadata": {
    "ExecuteTime": {
     "end_time": "2019-06-27T21:55:55.906700Z",
     "start_time": "2019-06-27T21:55:55.321122Z"
    },
    "hidden": true
   },
   "outputs": [
    {
     "data": {
      "text/plain": [
       "'1:34 / 1:35'"
      ]
     },
     "execution_count": 146,
     "metadata": {},
     "output_type": "execute_result"
    }
   ],
   "source": [
    "youtubevideo.text"
   ]
  },
  {
   "cell_type": "markdown",
   "metadata": {
    "hidden": true
   },
   "source": [
    "## Best Methods for Accessing the YouTube Controls"
   ]
  },
  {
   "cell_type": "markdown",
   "metadata": {
    "hidden": true
   },
   "source": [
    "### Left Side Controls: _play_, _next_ and _mute_\n",
    "\n",
    "Since the display/webpage does not physically change for buttons: _play_, _next_ and _mute_, we could use any of the following alternatives. Having said that, I would still prefer to use the relatively simple implementation of sending key-strokes as a human-user would.\n",
    "```python\n",
    "# ----- An Optional Way -----\n",
    "# toggle play/pause video\n",
    "button_play = driver.find_element_by_xpath('//*[@class=\"ytp-play-button ytp-button\"]')\n",
    "button_play.click()\n",
    "\n",
    "# toggle mute/unmute audio\n",
    "button_mute = driver.find_element_by_xpath('//*[@class=\"ytp-mute-button ytp-button\"]')\n",
    "button_mute.click()\n",
    "\n",
    "# move to next video\n",
    "button_next = driver.find_element_by_xpath('//*[@class=\"ytp-next-button ytp-button\"]')\n",
    "button_next.click()\n",
    "```\n",
    "**Preferred Method**:\n",
    "```python\n",
    "# ----- Preferred Way -----\n",
    "ActionChains(driver).send_keys('k').perform() # toggle play/pause video\n",
    "ActionChains(driver).send_keys('m').perform() # toggle mute/unmute audio\n",
    "ActionChains(driver).send_keys(Keys.SHIFT + 'n').perform() # move to next video\n",
    "```"
   ]
  },
  {
   "cell_type": "markdown",
   "metadata": {
    "hidden": true
   },
   "source": [
    "### Right Side Controls: _Screen size manipulations_\n",
    "\n",
    "If we create a button_miniplayer as shown below, the problem is that once we execute `button_miniplayer.click()` the xpath element can no longer be found in the current page. **This results in an error**.  \n",
    "Instead, if we simulate key-press i, that would let us toggle the miniplayer and the standard player environments.\n",
    "So, the preferred way to toggle mini/standard player is as follows. For the same reasons, when the display changes it limits our ability to control toggling full/standard screen and theatre/standard mode. Hence, the following PREFERRED method should be used while controling these aspects of YouTube Videos:  \n",
    "```python\n",
    "# ----- DO NOT Use This -----\n",
    "# toggle mini/standard player\n",
    "button_miniplayer = driver.find_element_by_xpath('//*[@class=\"ytp-miniplayer-button ytp-button\"]')\n",
    "button_miniplayer.click()\n",
    "\n",
    "# toggle full/standard screen\n",
    "button_fullscreen = driver.find_element_by_xpath('//*[@class=\"ytp-fullscreen-button ytp-button\"]')\n",
    "button_fullscreen.click()\n",
    "\n",
    "# toggle theatre/standard mode\n",
    "button_theatremode = driver.find_element_by_xpath('//*[@class=\"ytp-size-button ytp-button\"]')\n",
    "button_theatremode.click()\n",
    "```\n",
    "**Preferred Method**:\n",
    "```python\n",
    "# ----- Preferred Way -----\n",
    "ActionChains(driver).send_keys('i').perform() # toggle mini/standard player\n",
    "ActionChains(driver).send_keys('f').perform() # toggle full/standard screen\n",
    "ActionChains(driver).send_keys('t').perform() # toggle theatre/standard mode\n",
    "```"
   ]
  },
  {
   "cell_type": "markdown",
   "metadata": {},
   "source": [
    "# Other Tests For Future"
   ]
  },
  {
   "cell_type": "code",
   "execution_count": null,
   "metadata": {
    "collapsed": true
   },
   "outputs": [],
   "source": []
  }
 ],
 "metadata": {
  "kernelspec": {
   "display_name": "Python 3",
   "language": "python",
   "name": "python3"
  },
  "language_info": {
   "codemirror_mode": {
    "name": "ipython",
    "version": 3
   },
   "file_extension": ".py",
   "mimetype": "text/x-python",
   "name": "python",
   "nbconvert_exporter": "python",
   "pygments_lexer": "ipython3",
   "version": "3.7.6"
  },
  "nbTranslate": {
   "displayLangs": [
    "*"
   ],
   "hotkey": "alt-t",
   "langInMainMenu": true,
   "sourceLang": "en",
   "targetLang": "fr",
   "useGoogleTranslate": true
  },
  "toc": {
   "base_numbering": 1,
   "nav_menu": {},
   "number_sections": true,
   "sideBar": true,
   "skip_h1_title": false,
   "title_cell": "Table of Contents",
   "title_sidebar": "Contents",
   "toc_cell": false,
   "toc_position": {},
   "toc_section_display": true,
   "toc_window_display": true
  },
  "varInspector": {
   "cols": {
    "lenName": 16,
    "lenType": 16,
    "lenVar": 40
   },
   "kernels_config": {
    "python": {
     "delete_cmd_postfix": "",
     "delete_cmd_prefix": "del ",
     "library": "var_list.py",
     "varRefreshCmd": "print(var_dic_list())"
    },
    "r": {
     "delete_cmd_postfix": ") ",
     "delete_cmd_prefix": "rm(",
     "library": "var_list.r",
     "varRefreshCmd": "cat(var_dic_list()) "
    }
   },
   "types_to_exclude": [
    "module",
    "function",
    "builtin_function_or_method",
    "instance",
    "_Feature"
   ],
   "window_display": false
  }
 },
 "nbformat": 4,
 "nbformat_minor": 2
}
