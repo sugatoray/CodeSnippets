{
  "nbformat": 4,
  "nbformat_minor": 0,
  "metadata": {
    "colab": {
      "name": "test_MultilabelStratifiedKFold.ipynb",
      "provenance": [],
      "toc_visible": true,
      "authorship_tag": "ABX9TyN5KLq1gLrRniCXX6/iveWz",
      "include_colab_link": true
    },
    "kernelspec": {
      "name": "python3",
      "display_name": "Python 3"
    }
  },
  "cells": [
    {
      "cell_type": "markdown",
      "metadata": {
        "id": "view-in-github",
        "colab_type": "text"
      },
      "source": [
        "<a href=\"https://colab.research.google.com/github/sugatoray/CodeSnippets/blob/master/src/Notebooks/example_MultilabelStratifiedKFoldCV.ipynb\" target=\"_parent\"><img src=\"https://colab.research.google.com/assets/colab-badge.svg\" alt=\"Open In Colab\"/></a>"
      ]
    },
    {
      "cell_type": "markdown",
      "metadata": {
        "id": "gequvdY_Dscb"
      },
      "source": [
        "## **MultilabelStratifiedKFold** Cross Validation\r\n",
        "\r\n",
        "- Source: https://tinyurl.com/MultilabelStratifiedKFoldCV"
      ]
    },
    {
      "cell_type": "markdown",
      "metadata": {
        "id": "woFL0FaMFuZx"
      },
      "source": [
        "[![image][#multilabel-skf]][#source]\r\n",
        "\r\n",
        "[#multilabel-skf]: https://i.imgur.com/AXOydfR.png\r\n",
        "[#source]: https://tinyurl.com/MultilabelStratifiedKFoldCV"
      ]
    },
    {
      "cell_type": "markdown",
      "metadata": {
        "id": "gJAS6jadGvvn"
      },
      "source": [
        "## Install Package: `iterative-stratification`\r\n",
        "\r\n",
        "- **GitHub**: https://github.com/trent-b/iterative-stratification\r\n",
        "\r\n",
        "- **PyPI**: https://pypi.org/project/iterative-stratification/\r\n",
        "\r\n",
        "- **Installation:**\r\n",
        "  - **`pip`**: `pip install iterative-stratification`\r\n",
        "  - **`conda`**: `conda install -c trent-b iterative-stratification`\r\n",
        "\r\n",
        "- **Main Attraction:**\r\n",
        "  - **`MultilabelStratifiedKFold`**\r\n",
        "  - `RepeatedMultilabelStratifiedKFold`\r\n",
        "  - `MultilabelStratifiedShuffleSplit`"
      ]
    },
    {
      "cell_type": "code",
      "metadata": {
        "id": "OmAF3TJIGEo0"
      },
      "source": [
        "! pip install iterative-stratification -Uq"
      ],
      "execution_count": 1,
      "outputs": []
    },
    {
      "cell_type": "markdown",
      "metadata": {
        "id": "8dnWZuszaj63"
      },
      "source": [
        "## Code Example"
      ]
    },
    {
      "cell_type": "code",
      "metadata": {
        "id": "UPd98iup7RPj"
      },
      "source": [
        "import pandas as pd\r\n",
        "# Stratified KFold for multi-label data\r\n",
        "# pip install iterative-stratification\r\n",
        "from iterstrat.ml_stratifiers import MultilabelStratifiedKFold"
      ],
      "execution_count": 2,
      "outputs": []
    },
    {
      "cell_type": "code",
      "metadata": {
        "id": "rox6xKpjF4zT"
      },
      "source": [
        "# Control creation of cross-validation folds \r\n",
        "CREATE_FOLDS = False\r\n",
        "\r\n",
        "if CREATE_FOLDS:\r\n",
        "    # Read data\r\n",
        "    df = pd.read_csv(\"train.csv\")\r\n",
        "    # Create reproducible kfold indices\r\n",
        "    df.loc[:, \"kfold\"] = -1\r\n",
        "    # Shuffle the data\r\n",
        "    df = df.sample(frac=1.0).reset_index(drop=True)\r\n",
        "    # Given there is an \"id\" column and \r\n",
        "    # others are the target columns\r\n",
        "    targets = df.drop(\"id\", axis=1).values\r\n",
        "    # Instantiate MultilabelStratifiedKFold\r\n",
        "    NUM_FOLDS = 5\r\n",
        "    mskf = MultilabelStratifiedKFold(n_splits=NUM_FOLDS)\r\n",
        "    # loop over the folds and\r\n",
        "    # assign the value of the validation fold to\r\n",
        "    # kfold column by validation index\r\n",
        "    for fold, (trn_, val_) in enumerate(mskf.split(X=df, y=targets)):\r\n",
        "        print(len(trn_), len(val_))\r\n",
        "        df.loc[val_, \"kfold\"] = fold\r\n",
        "\r\n",
        "    # save the modified data\r\n",
        "    df.to_csv(\"train_folds.csv\", index=False)"
      ],
      "execution_count": 3,
      "outputs": []
    },
    {
      "cell_type": "code",
      "metadata": {
        "id": "4vGAzQbNaR8i"
      },
      "source": [
        ""
      ],
      "execution_count": 3,
      "outputs": []
    }
  ]
}