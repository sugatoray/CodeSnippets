{
 "cells": [
  {
   "cell_type": "code",
   "execution_count": 2,
   "metadata": {},
   "outputs": [],
   "source": [
    "import tkinter as tk\n",
    "from tkinter import filedialog\n",
    "\n",
    "%gui tk\n",
    "\n",
    "def get_filepath_gui():\n",
    "    root = tk.Tk()   # create a root window\n",
    "    root.withdraw()  # hide the root window\n",
    "\n",
    "    file_path = filedialog.askopenfilename()\n",
    "    print(f'file_path: {file_path}')\n",
    "    root.destroy()\n",
    "    return file_path\n",
    "\n",
    "def get_dirpath_gui():\n",
    "    root = tk.Tk()   # create a root window\n",
    "    root.withdraw()  # hide the root window\n",
    "\n",
    "    dir_path = filedialog.askdirectory()\n",
    "    print(f'folder_path: {dir_path}')\n",
    "    root.destroy()\n",
    "    return dir_path"
   ]
  },
  {
   "cell_type": "code",
   "execution_count": null,
   "metadata": {},
   "outputs": [],
   "source": [
    "#if __name__ == '__main__':\n",
    "#    file_path = get_filepath_gui()\n",
    "#    dir_path = get_dirpath_gui()"
   ]
  },
  {
   "cell_type": "code",
   "execution_count": 4,
   "metadata": {},
   "outputs": [],
   "source": []
  },
  {
   "cell_type": "code",
   "execution_count": 5,
   "metadata": {},
   "outputs": [
    {
     "data": {
      "text/plain": [
       "''"
      ]
     },
     "execution_count": 5,
     "metadata": {},
     "output_type": "execute_result"
    }
   ],
   "source": [
    "root = tk.Tk() # Create Tk root\n",
    "root.withdraw() # Hide the main window\n",
    "root.call('wm', 'attributes', '.', '-topmost', True) # Keep Tk root on top \n",
    "#root.destroy()"
   ]
  },
  {
   "cell_type": "code",
   "execution_count": 14,
   "metadata": {},
   "outputs": [
    {
     "data": {
      "text/plain": [
       "('C:/Users/Sugato Ray/Documents/GitHub/VSCode_keyboard-shortcuts-windows.pdf',)"
      ]
     },
     "execution_count": 14,
     "metadata": {},
     "output_type": "execute_result"
    }
   ],
   "source": [
    "filedialog.askopenfilename(multiple=True)"
   ]
  },
  {
   "cell_type": "code",
   "execution_count": 10,
   "metadata": {},
   "outputs": [
    {
     "data": {
      "text/plain": [
       "''"
      ]
     },
     "execution_count": 10,
     "metadata": {},
     "output_type": "execute_result"
    }
   ],
   "source": [
    "root.tk.call('wm', 'attributes', '.', '-topmost', True)"
   ]
  },
  {
   "cell_type": "code",
   "execution_count": 13,
   "metadata": {},
   "outputs": [],
   "source": [
    "root.tkraise()"
   ]
  },
  {
   "cell_type": "code",
   "execution_count": null,
   "metadata": {},
   "outputs": [],
   "source": []
  }
 ],
 "metadata": {
  "kernelspec": {
   "display_name": "Python 3",
   "language": "python",
   "name": "python3"
  },
  "language_info": {
   "codemirror_mode": {
    "name": "ipython",
    "version": 3
   },
   "file_extension": ".py",
   "mimetype": "text/x-python",
   "name": "python",
   "nbconvert_exporter": "python",
   "pygments_lexer": "ipython3",
   "version": "3.7.6"
  }
 },
 "nbformat": 4,
 "nbformat_minor": 4
}
